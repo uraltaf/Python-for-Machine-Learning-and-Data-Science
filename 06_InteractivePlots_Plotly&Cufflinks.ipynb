{
 "cells": [
  {
   "cell_type": "markdown",
   "metadata": {},
   "source": [
    "___\n",
    "\n",
    "<a href='http://www.pieriandata.com'> <img src='../Pierian_Data_Logo.png' /></a>\n",
    "___\n",
    "# Plotly and Cufflinks"
   ]
  },
  {
   "cell_type": "markdown",
   "metadata": {},
   "source": [
    "Plotly is a library that allows you to create interactive plots that you can use in dashboards or websites (you can save them as html files or static images).\n",
    "\n",
    "## Installation\n",
    "\n",
    "In order for this all to work, you'll need to install plotly and cufflinks to call plots directly off of a pandas dataframe. These libraries are not currently available through **conda** but are available through **pip**. Install the libraries at your command line/terminal using:\n",
    "\n",
    "    pip install plotly\n",
    "    pip install cufflinks\n",
    "\n",
    "** NOTE: Make sure you only have one installation of Python on your computer when you do this, otherwise the installation may not work. **\n",
    "\n",
    "## Imports and Set-up"
   ]
  },
  {
   "cell_type": "code",
   "execution_count": 1,
   "metadata": {},
   "outputs": [],
   "source": [
    "import pandas as pd\n",
    "import numpy as np\n",
    "%matplotlib inline"
   ]
  },
  {
   "cell_type": "code",
   "execution_count": 3,
   "metadata": {
    "collapsed": false,
    "jupyter": {
     "outputs_hidden": false
    }
   },
   "outputs": [
    {
     "name": "stdout",
     "output_type": "stream",
     "text": [
      "5.18.0\n"
     ]
    }
   ],
   "source": [
    "from plotly import __version__\n",
    "from plotly.offline import download_plotlyjs, init_notebook_mode, plot, iplot\n",
    "\n",
    "print(__version__) # requires version >= 1.9.0"
   ]
  },
  {
   "cell_type": "code",
   "execution_count": 5,
   "metadata": {},
   "outputs": [
    {
     "name": "stderr",
     "output_type": "stream",
     "text": [
      "/usr/lib/python3/dist-packages/scipy/__init__.py:146: UserWarning:\n",
      "\n",
      "A NumPy version >=1.17.3 and <1.25.0 is required for this version of SciPy (detected version 1.26.1\n",
      "\n"
     ]
    }
   ],
   "source": [
    "import cufflinks as cf"
   ]
  },
  {
   "cell_type": "code",
   "execution_count": 6,
   "metadata": {
    "collapsed": false,
    "jupyter": {
     "outputs_hidden": false
    }
   },
   "outputs": [
    {
     "data": {
      "text/html": [
       "        <script type=\"text/javascript\">\n",
       "        window.PlotlyConfig = {MathJaxConfig: 'local'};\n",
       "        if (window.MathJax && window.MathJax.Hub && window.MathJax.Hub.Config) {window.MathJax.Hub.Config({SVG: {font: \"STIX-Web\"}});}\n",
       "        if (typeof require !== 'undefined') {\n",
       "        require.undef(\"plotly\");\n",
       "        requirejs.config({\n",
       "            paths: {\n",
       "                'plotly': ['https://cdn.plot.ly/plotly-2.27.0.min']\n",
       "            }\n",
       "        });\n",
       "        require(['plotly'], function(Plotly) {\n",
       "            window._Plotly = Plotly;\n",
       "        });\n",
       "        }\n",
       "        </script>\n",
       "        "
      ]
     },
     "metadata": {},
     "output_type": "display_data"
    }
   ],
   "source": [
    "# For Notebooks\n",
    "init_notebook_mode(connected=True)"
   ]
  },
  {
   "cell_type": "code",
   "execution_count": 7,
   "metadata": {
    "collapsed": false,
    "jupyter": {
     "outputs_hidden": false
    }
   },
   "outputs": [
    {
     "data": {
      "text/html": [
       "        <script type=\"text/javascript\">\n",
       "        window.PlotlyConfig = {MathJaxConfig: 'local'};\n",
       "        if (window.MathJax && window.MathJax.Hub && window.MathJax.Hub.Config) {window.MathJax.Hub.Config({SVG: {font: \"STIX-Web\"}});}\n",
       "        if (typeof require !== 'undefined') {\n",
       "        require.undef(\"plotly\");\n",
       "        requirejs.config({\n",
       "            paths: {\n",
       "                'plotly': ['https://cdn.plot.ly/plotly-2.27.0.min']\n",
       "            }\n",
       "        });\n",
       "        require(['plotly'], function(Plotly) {\n",
       "            window._Plotly = Plotly;\n",
       "        });\n",
       "        }\n",
       "        </script>\n",
       "        "
      ]
     },
     "metadata": {},
     "output_type": "display_data"
    }
   ],
   "source": [
    "# For offline use\n",
    "cf.go_offline()"
   ]
  },
  {
   "cell_type": "markdown",
   "metadata": {},
   "source": [
    "### Fake Data"
   ]
  },
  {
   "cell_type": "code",
   "execution_count": 8,
   "metadata": {
    "collapsed": false,
    "jupyter": {
     "outputs_hidden": false
    }
   },
   "outputs": [],
   "source": [
    "df = pd.DataFrame(np.random.randn(100,4),columns='A B C D'.split())"
   ]
  },
  {
   "cell_type": "code",
   "execution_count": 9,
   "metadata": {
    "collapsed": false,
    "jupyter": {
     "outputs_hidden": false
    }
   },
   "outputs": [
    {
     "data": {
      "text/html": [
       "<div>\n",
       "<style scoped>\n",
       "    .dataframe tbody tr th:only-of-type {\n",
       "        vertical-align: middle;\n",
       "    }\n",
       "\n",
       "    .dataframe tbody tr th {\n",
       "        vertical-align: top;\n",
       "    }\n",
       "\n",
       "    .dataframe thead th {\n",
       "        text-align: right;\n",
       "    }\n",
       "</style>\n",
       "<table border=\"1\" class=\"dataframe\">\n",
       "  <thead>\n",
       "    <tr style=\"text-align: right;\">\n",
       "      <th></th>\n",
       "      <th>A</th>\n",
       "      <th>B</th>\n",
       "      <th>C</th>\n",
       "      <th>D</th>\n",
       "    </tr>\n",
       "  </thead>\n",
       "  <tbody>\n",
       "    <tr>\n",
       "      <th>0</th>\n",
       "      <td>0.372250</td>\n",
       "      <td>-0.091804</td>\n",
       "      <td>0.072981</td>\n",
       "      <td>-0.101778</td>\n",
       "    </tr>\n",
       "    <tr>\n",
       "      <th>1</th>\n",
       "      <td>0.449624</td>\n",
       "      <td>1.017159</td>\n",
       "      <td>-1.018943</td>\n",
       "      <td>1.269238</td>\n",
       "    </tr>\n",
       "    <tr>\n",
       "      <th>2</th>\n",
       "      <td>-0.190087</td>\n",
       "      <td>-0.385336</td>\n",
       "      <td>-0.841623</td>\n",
       "      <td>-0.773799</td>\n",
       "    </tr>\n",
       "    <tr>\n",
       "      <th>3</th>\n",
       "      <td>0.350537</td>\n",
       "      <td>0.243392</td>\n",
       "      <td>-0.715804</td>\n",
       "      <td>-0.453485</td>\n",
       "    </tr>\n",
       "    <tr>\n",
       "      <th>4</th>\n",
       "      <td>0.047991</td>\n",
       "      <td>0.754676</td>\n",
       "      <td>1.108155</td>\n",
       "      <td>0.535250</td>\n",
       "    </tr>\n",
       "  </tbody>\n",
       "</table>\n",
       "</div>"
      ],
      "text/plain": [
       "          A         B         C         D\n",
       "0  0.372250 -0.091804  0.072981 -0.101778\n",
       "1  0.449624  1.017159 -1.018943  1.269238\n",
       "2 -0.190087 -0.385336 -0.841623 -0.773799\n",
       "3  0.350537  0.243392 -0.715804 -0.453485\n",
       "4  0.047991  0.754676  1.108155  0.535250"
      ]
     },
     "execution_count": 9,
     "metadata": {},
     "output_type": "execute_result"
    }
   ],
   "source": [
    "df.head()"
   ]
  },
  {
   "cell_type": "code",
   "execution_count": 10,
   "metadata": {},
   "outputs": [],
   "source": [
    "df2 = pd.DataFrame({'Category':['A','B','C'],'Values':[32,43,50]})"
   ]
  },
  {
   "cell_type": "code",
   "execution_count": 11,
   "metadata": {
    "collapsed": false,
    "jupyter": {
     "outputs_hidden": false
    }
   },
   "outputs": [
    {
     "data": {
      "text/html": [
       "<div>\n",
       "<style scoped>\n",
       "    .dataframe tbody tr th:only-of-type {\n",
       "        vertical-align: middle;\n",
       "    }\n",
       "\n",
       "    .dataframe tbody tr th {\n",
       "        vertical-align: top;\n",
       "    }\n",
       "\n",
       "    .dataframe thead th {\n",
       "        text-align: right;\n",
       "    }\n",
       "</style>\n",
       "<table border=\"1\" class=\"dataframe\">\n",
       "  <thead>\n",
       "    <tr style=\"text-align: right;\">\n",
       "      <th></th>\n",
       "      <th>Category</th>\n",
       "      <th>Values</th>\n",
       "    </tr>\n",
       "  </thead>\n",
       "  <tbody>\n",
       "    <tr>\n",
       "      <th>0</th>\n",
       "      <td>A</td>\n",
       "      <td>32</td>\n",
       "    </tr>\n",
       "    <tr>\n",
       "      <th>1</th>\n",
       "      <td>B</td>\n",
       "      <td>43</td>\n",
       "    </tr>\n",
       "    <tr>\n",
       "      <th>2</th>\n",
       "      <td>C</td>\n",
       "      <td>50</td>\n",
       "    </tr>\n",
       "  </tbody>\n",
       "</table>\n",
       "</div>"
      ],
      "text/plain": [
       "  Category  Values\n",
       "0        A      32\n",
       "1        B      43\n",
       "2        C      50"
      ]
     },
     "execution_count": 11,
     "metadata": {},
     "output_type": "execute_result"
    }
   ],
   "source": [
    "df2.head()"
   ]
  },
  {
   "cell_type": "markdown",
   "metadata": {},
   "source": [
    "## Using Cufflinks and iplot()\n",
    "\n",
    "* scatter\n",
    "* bar\n",
    "* box\n",
    "* spread\n",
    "* ratio\n",
    "* heatmap\n",
    "* surface\n",
    "* histogram\n",
    "* bubble"
   ]
  },
  {
   "cell_type": "markdown",
   "metadata": {},
   "source": [
    "## Scatter"
   ]
  },
  {
   "cell_type": "code",
   "execution_count": 14,
   "metadata": {
    "collapsed": false,
    "jupyter": {
     "outputs_hidden": false
    }
   },
   "outputs": [
    {
     "data": {
      "application/vnd.plotly.v1+json": {
       "config": {
        "linkText": "Export to plot.ly",
        "plotlyServerURL": "https://plot.ly",
        "showLink": true
       },
       "data": [
        {
         "line": {
          "color": "rgba(255, 153, 51, 1.0)",
          "dash": "solid",
          "shape": "linear",
          "width": 1.3
         },
         "marker": {
          "size": 10,
          "symbol": "circle"
         },
         "mode": "markers",
         "name": "B",
         "text": "",
         "type": "scatter",
         "x": [
          0.3722499513826081,
          0.44962418847711977,
          -0.19008686316152432,
          0.3505374987768143,
          0.04799058581538711,
          -1.0616808223649041,
          -0.34918097256812286,
          -0.48089881806101076,
          -0.4456760870273539,
          -0.7845441182194487,
          -2.6297966397985317,
          -1.077088111762941,
          -0.5992787254785886,
          2.4004564846490273,
          -1.174814343368501,
          0.792165893059011,
          -1.0125715408371985,
          2.07430622775241,
          0.7235617584236765,
          -0.3256957929742864,
          -0.47522205392682293,
          -2.319204187811456,
          2.1737543325926603,
          -0.06693863467014748,
          2.2224326606271494,
          -0.19668439507305474,
          -0.3905776033461921,
          0.3966405704473405,
          0.35048839239078095,
          -0.4701316366936247,
          1.3006606106658865,
          0.6893948544981483,
          -0.9615751084789473,
          -0.3942103001601378,
          0.7305791326959454,
          -1.9842578058766225,
          0.7443692825956367,
          0.12139364619153553,
          0.6598421360088613,
          -0.0010939429186482609,
          -1.5212483343645706,
          -0.5313954698653767,
          -0.23967668217356503,
          1.38321086057728,
          1.415251735754552,
          -0.29152155442876243,
          0.12324920714653177,
          0.9778606278917786,
          -0.4228000308238359,
          1.1261729051941902,
          1.6324138786501776,
          -1.3197027011686355,
          0.2587713361686644,
          1.4895474238654858,
          -0.5531892445255253,
          1.2888055363696294,
          0.4905527027203285,
          0.9653769455706748,
          -0.42048243053724127,
          1.1745572322932814,
          0.4616626277868517,
          -0.3071957752850886,
          0.2944507495820135,
          -0.9561406727260771,
          0.7419642857087567,
          -0.6027273570253878,
          -0.907942753288384,
          0.23518617948959306,
          -0.19438408200279772,
          -2.1692481246451747,
          0.6811137258559963,
          -0.028253873394904632,
          0.15740165722328445,
          2.132658000392043,
          -0.17172845377821724,
          0.2846300655354166,
          0.7570838467051156,
          -1.362548814735958,
          -0.8966092192548227,
          2.081062883727208,
          1.0010914743347552,
          -0.4834298995851756,
          0.556214916975121,
          0.9757849809919205,
          0.08069545621379347,
          0.06442180423172583,
          -1.1469175868178905,
          -0.85733066562819,
          0.36801353398388825,
          0.026557990871516213,
          -0.7864658073811868,
          -0.14078002328853012,
          0.4362032792494815,
          0.2903823392194604,
          1.1529028827983299,
          -0.35076613029742904,
          -1.1902510156607797,
          0.5240088945099852,
          -0.3172966435958289,
          1.8671430764855006
         ],
         "y": [
          -0.09180377812877474,
          1.017158998322427,
          -0.3853355087968358,
          0.24339186432477525,
          0.7546759797806506,
          1.223036267582837,
          -0.9898539898864169,
          0.27279192443264716,
          -0.8909293071765594,
          -1.158444382728826,
          -1.2002806993854744,
          -0.32187516483400946,
          0.400673103397483,
          -0.18441019777648796,
          0.40195163502360554,
          -0.6384845290372737,
          -0.04049291460883738,
          0.736370865957565,
          -1.631448818603992,
          1.051283279098394,
          -0.373777918905386,
          0.5994821282477318,
          -0.16634922846917122,
          1.1196984321287138,
          0.46997964753479254,
          0.7140414607202057,
          0.6368910237927567,
          -0.6979953455340064,
          -0.4831337592451188,
          -0.2887323208295246,
          0.13465965543144492,
          -1.0464943791740509,
          0.5124841158744543,
          -0.3914779293768162,
          -0.01422732365078468,
          1.6603749706051185,
          -0.6379808274717299,
          0.47598913698075374,
          -1.6150528006468738,
          -2.027018545263702,
          -0.994864868613433,
          -0.7571535613479601,
          0.4266814200301229,
          -1.270106146965642,
          0.9616856682221624,
          -2.2180658520491114,
          0.7955866556199922,
          0.470023689776372,
          1.1747149518740854,
          -0.9952283359579319,
          -0.1989586586254375,
          -1.1349526015637381,
          1.4582996352434068,
          0.02644627817215597,
          0.3940096517382582,
          -0.9690617472288557,
          0.805403066375695,
          -1.0097424588219854,
          -0.2388578695257928,
          -0.6485627395247976,
          -0.9620635692494018,
          1.0887688852464492,
          0.688833319261365,
          0.004793949062112339,
          0.7817335868054288,
          -0.1010644196091662,
          0.8353494616788536,
          0.797009754509465,
          0.8093966582698144,
          0.20598454826157453,
          0.3809861608095964,
          -1.021364394835668,
          0.44017507153935526,
          0.027732015936435796,
          2.0311865545276264,
          0.42392026045047293,
          1.3531599885915069,
          -1.0738880994976523,
          1.4709730597355388,
          0.01425321746821192,
          -0.5803052289255062,
          -0.7591045986389185,
          -0.8515039808941258,
          1.3928378698804906,
          0.5290842070612989,
          2.233071733935875,
          0.8202276875963499,
          0.44339921264695986,
          -1.403216254911634,
          -0.1606071797629106,
          -0.3027113922460089,
          1.352482790057738,
          0.2799354343111906,
          1.3924248548020295,
          -0.6272704706804231,
          -1.398862315632276,
          -0.7604376556221797,
          -1.308039606700251,
          0.8219893341478917,
          -0.08226606668768252
         ]
        }
       ],
       "layout": {
        "autosize": true,
        "legend": {
         "bgcolor": "#F5F6F9",
         "font": {
          "color": "#4D5663"
         }
        },
        "paper_bgcolor": "#F5F6F9",
        "plot_bgcolor": "#F5F6F9",
        "template": {
         "data": {
          "bar": [
           {
            "error_x": {
             "color": "#2a3f5f"
            },
            "error_y": {
             "color": "#2a3f5f"
            },
            "marker": {
             "line": {
              "color": "#E5ECF6",
              "width": 0.5
             },
             "pattern": {
              "fillmode": "overlay",
              "size": 10,
              "solidity": 0.2
             }
            },
            "type": "bar"
           }
          ],
          "barpolar": [
           {
            "marker": {
             "line": {
              "color": "#E5ECF6",
              "width": 0.5
             },
             "pattern": {
              "fillmode": "overlay",
              "size": 10,
              "solidity": 0.2
             }
            },
            "type": "barpolar"
           }
          ],
          "carpet": [
           {
            "aaxis": {
             "endlinecolor": "#2a3f5f",
             "gridcolor": "white",
             "linecolor": "white",
             "minorgridcolor": "white",
             "startlinecolor": "#2a3f5f"
            },
            "baxis": {
             "endlinecolor": "#2a3f5f",
             "gridcolor": "white",
             "linecolor": "white",
             "minorgridcolor": "white",
             "startlinecolor": "#2a3f5f"
            },
            "type": "carpet"
           }
          ],
          "choropleth": [
           {
            "colorbar": {
             "outlinewidth": 0,
             "ticks": ""
            },
            "type": "choropleth"
           }
          ],
          "contour": [
           {
            "colorbar": {
             "outlinewidth": 0,
             "ticks": ""
            },
            "colorscale": [
             [
              0,
              "#0d0887"
             ],
             [
              0.1111111111111111,
              "#46039f"
             ],
             [
              0.2222222222222222,
              "#7201a8"
             ],
             [
              0.3333333333333333,
              "#9c179e"
             ],
             [
              0.4444444444444444,
              "#bd3786"
             ],
             [
              0.5555555555555556,
              "#d8576b"
             ],
             [
              0.6666666666666666,
              "#ed7953"
             ],
             [
              0.7777777777777778,
              "#fb9f3a"
             ],
             [
              0.8888888888888888,
              "#fdca26"
             ],
             [
              1,
              "#f0f921"
             ]
            ],
            "type": "contour"
           }
          ],
          "contourcarpet": [
           {
            "colorbar": {
             "outlinewidth": 0,
             "ticks": ""
            },
            "type": "contourcarpet"
           }
          ],
          "heatmap": [
           {
            "colorbar": {
             "outlinewidth": 0,
             "ticks": ""
            },
            "colorscale": [
             [
              0,
              "#0d0887"
             ],
             [
              0.1111111111111111,
              "#46039f"
             ],
             [
              0.2222222222222222,
              "#7201a8"
             ],
             [
              0.3333333333333333,
              "#9c179e"
             ],
             [
              0.4444444444444444,
              "#bd3786"
             ],
             [
              0.5555555555555556,
              "#d8576b"
             ],
             [
              0.6666666666666666,
              "#ed7953"
             ],
             [
              0.7777777777777778,
              "#fb9f3a"
             ],
             [
              0.8888888888888888,
              "#fdca26"
             ],
             [
              1,
              "#f0f921"
             ]
            ],
            "type": "heatmap"
           }
          ],
          "heatmapgl": [
           {
            "colorbar": {
             "outlinewidth": 0,
             "ticks": ""
            },
            "colorscale": [
             [
              0,
              "#0d0887"
             ],
             [
              0.1111111111111111,
              "#46039f"
             ],
             [
              0.2222222222222222,
              "#7201a8"
             ],
             [
              0.3333333333333333,
              "#9c179e"
             ],
             [
              0.4444444444444444,
              "#bd3786"
             ],
             [
              0.5555555555555556,
              "#d8576b"
             ],
             [
              0.6666666666666666,
              "#ed7953"
             ],
             [
              0.7777777777777778,
              "#fb9f3a"
             ],
             [
              0.8888888888888888,
              "#fdca26"
             ],
             [
              1,
              "#f0f921"
             ]
            ],
            "type": "heatmapgl"
           }
          ],
          "histogram": [
           {
            "marker": {
             "pattern": {
              "fillmode": "overlay",
              "size": 10,
              "solidity": 0.2
             }
            },
            "type": "histogram"
           }
          ],
          "histogram2d": [
           {
            "colorbar": {
             "outlinewidth": 0,
             "ticks": ""
            },
            "colorscale": [
             [
              0,
              "#0d0887"
             ],
             [
              0.1111111111111111,
              "#46039f"
             ],
             [
              0.2222222222222222,
              "#7201a8"
             ],
             [
              0.3333333333333333,
              "#9c179e"
             ],
             [
              0.4444444444444444,
              "#bd3786"
             ],
             [
              0.5555555555555556,
              "#d8576b"
             ],
             [
              0.6666666666666666,
              "#ed7953"
             ],
             [
              0.7777777777777778,
              "#fb9f3a"
             ],
             [
              0.8888888888888888,
              "#fdca26"
             ],
             [
              1,
              "#f0f921"
             ]
            ],
            "type": "histogram2d"
           }
          ],
          "histogram2dcontour": [
           {
            "colorbar": {
             "outlinewidth": 0,
             "ticks": ""
            },
            "colorscale": [
             [
              0,
              "#0d0887"
             ],
             [
              0.1111111111111111,
              "#46039f"
             ],
             [
              0.2222222222222222,
              "#7201a8"
             ],
             [
              0.3333333333333333,
              "#9c179e"
             ],
             [
              0.4444444444444444,
              "#bd3786"
             ],
             [
              0.5555555555555556,
              "#d8576b"
             ],
             [
              0.6666666666666666,
              "#ed7953"
             ],
             [
              0.7777777777777778,
              "#fb9f3a"
             ],
             [
              0.8888888888888888,
              "#fdca26"
             ],
             [
              1,
              "#f0f921"
             ]
            ],
            "type": "histogram2dcontour"
           }
          ],
          "mesh3d": [
           {
            "colorbar": {
             "outlinewidth": 0,
             "ticks": ""
            },
            "type": "mesh3d"
           }
          ],
          "parcoords": [
           {
            "line": {
             "colorbar": {
              "outlinewidth": 0,
              "ticks": ""
             }
            },
            "type": "parcoords"
           }
          ],
          "pie": [
           {
            "automargin": true,
            "type": "pie"
           }
          ],
          "scatter": [
           {
            "fillpattern": {
             "fillmode": "overlay",
             "size": 10,
             "solidity": 0.2
            },
            "type": "scatter"
           }
          ],
          "scatter3d": [
           {
            "line": {
             "colorbar": {
              "outlinewidth": 0,
              "ticks": ""
             }
            },
            "marker": {
             "colorbar": {
              "outlinewidth": 0,
              "ticks": ""
             }
            },
            "type": "scatter3d"
           }
          ],
          "scattercarpet": [
           {
            "marker": {
             "colorbar": {
              "outlinewidth": 0,
              "ticks": ""
             }
            },
            "type": "scattercarpet"
           }
          ],
          "scattergeo": [
           {
            "marker": {
             "colorbar": {
              "outlinewidth": 0,
              "ticks": ""
             }
            },
            "type": "scattergeo"
           }
          ],
          "scattergl": [
           {
            "marker": {
             "colorbar": {
              "outlinewidth": 0,
              "ticks": ""
             }
            },
            "type": "scattergl"
           }
          ],
          "scattermapbox": [
           {
            "marker": {
             "colorbar": {
              "outlinewidth": 0,
              "ticks": ""
             }
            },
            "type": "scattermapbox"
           }
          ],
          "scatterpolar": [
           {
            "marker": {
             "colorbar": {
              "outlinewidth": 0,
              "ticks": ""
             }
            },
            "type": "scatterpolar"
           }
          ],
          "scatterpolargl": [
           {
            "marker": {
             "colorbar": {
              "outlinewidth": 0,
              "ticks": ""
             }
            },
            "type": "scatterpolargl"
           }
          ],
          "scatterternary": [
           {
            "marker": {
             "colorbar": {
              "outlinewidth": 0,
              "ticks": ""
             }
            },
            "type": "scatterternary"
           }
          ],
          "surface": [
           {
            "colorbar": {
             "outlinewidth": 0,
             "ticks": ""
            },
            "colorscale": [
             [
              0,
              "#0d0887"
             ],
             [
              0.1111111111111111,
              "#46039f"
             ],
             [
              0.2222222222222222,
              "#7201a8"
             ],
             [
              0.3333333333333333,
              "#9c179e"
             ],
             [
              0.4444444444444444,
              "#bd3786"
             ],
             [
              0.5555555555555556,
              "#d8576b"
             ],
             [
              0.6666666666666666,
              "#ed7953"
             ],
             [
              0.7777777777777778,
              "#fb9f3a"
             ],
             [
              0.8888888888888888,
              "#fdca26"
             ],
             [
              1,
              "#f0f921"
             ]
            ],
            "type": "surface"
           }
          ],
          "table": [
           {
            "cells": {
             "fill": {
              "color": "#EBF0F8"
             },
             "line": {
              "color": "white"
             }
            },
            "header": {
             "fill": {
              "color": "#C8D4E3"
             },
             "line": {
              "color": "white"
             }
            },
            "type": "table"
           }
          ]
         },
         "layout": {
          "annotationdefaults": {
           "arrowcolor": "#2a3f5f",
           "arrowhead": 0,
           "arrowwidth": 1
          },
          "autotypenumbers": "strict",
          "coloraxis": {
           "colorbar": {
            "outlinewidth": 0,
            "ticks": ""
           }
          },
          "colorscale": {
           "diverging": [
            [
             0,
             "#8e0152"
            ],
            [
             0.1,
             "#c51b7d"
            ],
            [
             0.2,
             "#de77ae"
            ],
            [
             0.3,
             "#f1b6da"
            ],
            [
             0.4,
             "#fde0ef"
            ],
            [
             0.5,
             "#f7f7f7"
            ],
            [
             0.6,
             "#e6f5d0"
            ],
            [
             0.7,
             "#b8e186"
            ],
            [
             0.8,
             "#7fbc41"
            ],
            [
             0.9,
             "#4d9221"
            ],
            [
             1,
             "#276419"
            ]
           ],
           "sequential": [
            [
             0,
             "#0d0887"
            ],
            [
             0.1111111111111111,
             "#46039f"
            ],
            [
             0.2222222222222222,
             "#7201a8"
            ],
            [
             0.3333333333333333,
             "#9c179e"
            ],
            [
             0.4444444444444444,
             "#bd3786"
            ],
            [
             0.5555555555555556,
             "#d8576b"
            ],
            [
             0.6666666666666666,
             "#ed7953"
            ],
            [
             0.7777777777777778,
             "#fb9f3a"
            ],
            [
             0.8888888888888888,
             "#fdca26"
            ],
            [
             1,
             "#f0f921"
            ]
           ],
           "sequentialminus": [
            [
             0,
             "#0d0887"
            ],
            [
             0.1111111111111111,
             "#46039f"
            ],
            [
             0.2222222222222222,
             "#7201a8"
            ],
            [
             0.3333333333333333,
             "#9c179e"
            ],
            [
             0.4444444444444444,
             "#bd3786"
            ],
            [
             0.5555555555555556,
             "#d8576b"
            ],
            [
             0.6666666666666666,
             "#ed7953"
            ],
            [
             0.7777777777777778,
             "#fb9f3a"
            ],
            [
             0.8888888888888888,
             "#fdca26"
            ],
            [
             1,
             "#f0f921"
            ]
           ]
          },
          "colorway": [
           "#636efa",
           "#EF553B",
           "#00cc96",
           "#ab63fa",
           "#FFA15A",
           "#19d3f3",
           "#FF6692",
           "#B6E880",
           "#FF97FF",
           "#FECB52"
          ],
          "font": {
           "color": "#2a3f5f"
          },
          "geo": {
           "bgcolor": "white",
           "lakecolor": "white",
           "landcolor": "#E5ECF6",
           "showlakes": true,
           "showland": true,
           "subunitcolor": "white"
          },
          "hoverlabel": {
           "align": "left"
          },
          "hovermode": "closest",
          "mapbox": {
           "style": "light"
          },
          "paper_bgcolor": "white",
          "plot_bgcolor": "#E5ECF6",
          "polar": {
           "angularaxis": {
            "gridcolor": "white",
            "linecolor": "white",
            "ticks": ""
           },
           "bgcolor": "#E5ECF6",
           "radialaxis": {
            "gridcolor": "white",
            "linecolor": "white",
            "ticks": ""
           }
          },
          "scene": {
           "xaxis": {
            "backgroundcolor": "#E5ECF6",
            "gridcolor": "white",
            "gridwidth": 2,
            "linecolor": "white",
            "showbackground": true,
            "ticks": "",
            "zerolinecolor": "white"
           },
           "yaxis": {
            "backgroundcolor": "#E5ECF6",
            "gridcolor": "white",
            "gridwidth": 2,
            "linecolor": "white",
            "showbackground": true,
            "ticks": "",
            "zerolinecolor": "white"
           },
           "zaxis": {
            "backgroundcolor": "#E5ECF6",
            "gridcolor": "white",
            "gridwidth": 2,
            "linecolor": "white",
            "showbackground": true,
            "ticks": "",
            "zerolinecolor": "white"
           }
          },
          "shapedefaults": {
           "line": {
            "color": "#2a3f5f"
           }
          },
          "ternary": {
           "aaxis": {
            "gridcolor": "white",
            "linecolor": "white",
            "ticks": ""
           },
           "baxis": {
            "gridcolor": "white",
            "linecolor": "white",
            "ticks": ""
           },
           "bgcolor": "#E5ECF6",
           "caxis": {
            "gridcolor": "white",
            "linecolor": "white",
            "ticks": ""
           }
          },
          "title": {
           "x": 0.05
          },
          "xaxis": {
           "automargin": true,
           "gridcolor": "white",
           "linecolor": "white",
           "ticks": "",
           "title": {
            "standoff": 15
           },
           "zerolinecolor": "white",
           "zerolinewidth": 2
          },
          "yaxis": {
           "automargin": true,
           "gridcolor": "white",
           "linecolor": "white",
           "ticks": "",
           "title": {
            "standoff": 15
           },
           "zerolinecolor": "white",
           "zerolinewidth": 2
          }
         }
        },
        "title": {
         "font": {
          "color": "#4D5663"
         }
        },
        "xaxis": {
         "autorange": true,
         "gridcolor": "#E1E5ED",
         "range": [
          -2.951301744406338,
          2.7219615892568334
         ],
         "showgrid": true,
         "tickfont": {
          "color": "#4D5663"
         },
         "title": {
          "font": {
           "color": "#4D5663"
          },
          "text": ""
         },
         "type": "linear",
         "zerolinecolor": "#E1E5ED"
        },
        "yaxis": {
         "autorange": true,
         "gridcolor": "#E1E5ED",
         "range": [
          -2.6721116593151386,
          2.687117541201902
         ],
         "showgrid": true,
         "tickfont": {
          "color": "#4D5663"
         },
         "title": {
          "font": {
           "color": "#4D5663"
          },
          "text": ""
         },
         "type": "linear",
         "zerolinecolor": "#E1E5ED"
        }
       }
      },
      "image/png": "[encoded data removed]",
      "text/html": [
       "<div>                            <div id=\"a13681c9-70c2-47f0-b822-09b1f355b759\" class=\"plotly-graph-div\" style=\"height:525px; width:100%;\"></div>            <script type=\"text/javascript\">                require([\"plotly\"], function(Plotly) {                    window.PLOTLYENV=window.PLOTLYENV || {};\n",
       "                    window.PLOTLYENV.BASE_URL='https://plot.ly';                                    if (document.getElementById(\"a13681c9-70c2-47f0-b822-09b1f355b759\")) {                    Plotly.newPlot(                        \"a13681c9-70c2-47f0-b822-09b1f355b759\",                        [{\"line\":{\"color\":\"rgba(255, 153, 51, 1.0)\",\"dash\":\"solid\",\"shape\":\"linear\",\"width\":1.3},\"marker\":{\"size\":10,\"symbol\":\"circle\"},\"mode\":\"markers\",\"name\":\"B\",\"text\":\"\",\"x\":[0.3722499513826081,0.44962418847711977,-0.19008686316152432,0.3505374987768143,0.04799058581538711,-1.0616808223649041,-0.34918097256812286,-0.48089881806101076,-0.4456760870273539,-0.7845441182194487,-2.6297966397985317,-1.077088111762941,-0.5992787254785886,2.4004564846490273,-1.174814343368501,0.792165893059011,-1.0125715408371985,2.07430622775241,0.7235617584236765,-0.3256957929742864,-0.47522205392682293,-2.319204187811456,2.1737543325926603,-0.06693863467014748,2.2224326606271494,-0.19668439507305474,-0.3905776033461921,0.3966405704473405,0.35048839239078095,-0.4701316366936247,1.3006606106658865,0.6893948544981483,-0.9615751084789473,-0.3942103001601378,0.7305791326959454,-1.9842578058766225,0.7443692825956367,0.12139364619153553,0.6598421360088613,-0.0010939429186482609,-1.5212483343645706,-0.5313954698653767,-0.23967668217356503,1.38321086057728,1.415251735754552,-0.29152155442876243,0.12324920714653177,0.9778606278917786,-0.4228000308238359,1.1261729051941902,1.6324138786501776,-1.3197027011686355,0.2587713361686644,1.4895474238654858,-0.5531892445255253,1.2888055363696294,0.4905527027203285,0.9653769455706748,-0.42048243053724127,1.1745572322932814,0.4616626277868517,-0.3071957752850886,0.2944507495820135,-0.9561406727260771,0.7419642857087567,-0.6027273570253878,-0.907942753288384,0.23518617948959306,-0.19438408200279772,-2.1692481246451747,0.6811137258559963,-0.028253873394904632,0.15740165722328445,2.132658000392043,-0.17172845377821724,0.2846300655354166,0.7570838467051156,-1.362548814735958,-0.8966092192548227,2.081062883727208,1.0010914743347552,-0.4834298995851756,0.556214916975121,0.9757849809919205,0.08069545621379347,0.06442180423172583,-1.1469175868178905,-0.85733066562819,0.36801353398388825,0.026557990871516213,-0.7864658073811868,-0.14078002328853012,0.4362032792494815,0.2903823392194604,1.1529028827983299,-0.35076613029742904,-1.1902510156607797,0.5240088945099852,-0.3172966435958289,1.8671430764855006],\"y\":[-0.09180377812877474,1.017158998322427,-0.3853355087968358,0.24339186432477525,0.7546759797806506,1.223036267582837,-0.9898539898864169,0.27279192443264716,-0.8909293071765594,-1.158444382728826,-1.2002806993854744,-0.32187516483400946,0.400673103397483,-0.18441019777648796,0.40195163502360554,-0.6384845290372737,-0.04049291460883738,0.736370865957565,-1.631448818603992,1.051283279098394,-0.373777918905386,0.5994821282477318,-0.16634922846917122,1.1196984321287138,0.46997964753479254,0.7140414607202057,0.6368910237927567,-0.6979953455340064,-0.4831337592451188,-0.2887323208295246,0.13465965543144492,-1.0464943791740509,0.5124841158744543,-0.3914779293768162,-0.01422732365078468,1.6603749706051185,-0.6379808274717299,0.47598913698075374,-1.6150528006468738,-2.027018545263702,-0.994864868613433,-0.7571535613479601,0.4266814200301229,-1.270106146965642,0.9616856682221624,-2.2180658520491114,0.7955866556199922,0.470023689776372,1.1747149518740854,-0.9952283359579319,-0.1989586586254375,-1.1349526015637381,1.4582996352434068,0.02644627817215597,0.3940096517382582,-0.9690617472288557,0.805403066375695,-1.0097424588219854,-0.2388578695257928,-0.6485627395247976,-0.9620635692494018,1.0887688852464492,0.688833319261365,0.004793949062112339,0.7817335868054288,-0.1010644196091662,0.8353494616788536,0.797009754509465,0.8093966582698144,0.20598454826157453,0.3809861608095964,-1.021364394835668,0.44017507153935526,0.027732015936435796,2.0311865545276264,0.42392026045047293,1.3531599885915069,-1.0738880994976523,1.4709730597355388,0.01425321746821192,-0.5803052289255062,-0.7591045986389185,-0.8515039808941258,1.3928378698804906,0.5290842070612989,2.233071733935875,0.8202276875963499,0.44339921264695986,-1.403216254911634,-0.1606071797629106,-0.3027113922460089,1.352482790057738,0.2799354343111906,1.3924248548020295,-0.6272704706804231,-1.398862315632276,-0.7604376556221797,-1.308039606700251,0.8219893341478917,-0.08226606668768252],\"type\":\"scatter\"}],                        {\"legend\":{\"bgcolor\":\"#F5F6F9\",\"font\":{\"color\":\"#4D5663\"}},\"paper_bgcolor\":\"#F5F6F9\",\"plot_bgcolor\":\"#F5F6F9\",\"template\":{\"data\":{\"barpolar\":[{\"marker\":{\"line\":{\"color\":\"#E5ECF6\",\"width\":0.5},\"pattern\":{\"fillmode\":\"overlay\",\"size\":10,\"solidity\":0.2}},\"type\":\"barpolar\"}],\"bar\":[{\"error_x\":{\"color\":\"#2a3f5f\"},\"error_y\":{\"color\":\"#2a3f5f\"},\"marker\":{\"line\":{\"color\":\"#E5ECF6\",\"width\":0.5},\"pattern\":{\"fillmode\":\"overlay\",\"size\":10,\"solidity\":0.2}},\"type\":\"bar\"}],\"carpet\":[{\"aaxis\":{\"endlinecolor\":\"#2a3f5f\",\"gridcolor\":\"white\",\"linecolor\":\"white\",\"minorgridcolor\":\"white\",\"startlinecolor\":\"#2a3f5f\"},\"baxis\":{\"endlinecolor\":\"#2a3f5f\",\"gridcolor\":\"white\",\"linecolor\":\"white\",\"minorgridcolor\":\"white\",\"startlinecolor\":\"#2a3f5f\"},\"type\":\"carpet\"}],\"choropleth\":[{\"colorbar\":{\"outlinewidth\":0,\"ticks\":\"\"},\"type\":\"choropleth\"}],\"contourcarpet\":[{\"colorbar\":{\"outlinewidth\":0,\"ticks\":\"\"},\"type\":\"contourcarpet\"}],\"contour\":[{\"colorbar\":{\"outlinewidth\":0,\"ticks\":\"\"},\"colorscale\":[[0.0,\"#0d0887\"],[0.1111111111111111,\"#46039f\"],[0.2222222222222222,\"#7201a8\"],[0.3333333333333333,\"#9c179e\"],[0.4444444444444444,\"#bd3786\"],[0.5555555555555556,\"#d8576b\"],[0.6666666666666666,\"#ed7953\"],[0.7777777777777778,\"#fb9f3a\"],[0.8888888888888888,\"#fdca26\"],[1.0,\"#f0f921\"]],\"type\":\"contour\"}],\"heatmapgl\":[{\"colorbar\":{\"outlinewidth\":0,\"ticks\":\"\"},\"colorscale\":[[0.0,\"#0d0887\"],[0.1111111111111111,\"#46039f\"],[0.2222222222222222,\"#7201a8\"],[0.3333333333333333,\"#9c179e\"],[0.4444444444444444,\"#bd3786\"],[0.5555555555555556,\"#d8576b\"],[0.6666666666666666,\"#ed7953\"],[0.7777777777777778,\"#fb9f3a\"],[0.8888888888888888,\"#fdca26\"],[1.0,\"#f0f921\"]],\"type\":\"heatmapgl\"}],\"heatmap\":[{\"colorbar\":{\"outlinewidth\":0,\"ticks\":\"\"},\"colorscale\":[[0.0,\"#0d0887\"],[0.1111111111111111,\"#46039f\"],[0.2222222222222222,\"#7201a8\"],[0.3333333333333333,\"#9c179e\"],[0.4444444444444444,\"#bd3786\"],[0.5555555555555556,\"#d8576b\"],[0.6666666666666666,\"#ed7953\"],[0.7777777777777778,\"#fb9f3a\"],[0.8888888888888888,\"#fdca26\"],[1.0,\"#f0f921\"]],\"type\":\"heatmap\"}],\"histogram2dcontour\":[{\"colorbar\":{\"outlinewidth\":0,\"ticks\":\"\"},\"colorscale\":[[0.0,\"#0d0887\"],[0.1111111111111111,\"#46039f\"],[0.2222222222222222,\"#7201a8\"],[0.3333333333333333,\"#9c179e\"],[0.4444444444444444,\"#bd3786\"],[0.5555555555555556,\"#d8576b\"],[0.6666666666666666,\"#ed7953\"],[0.7777777777777778,\"#fb9f3a\"],[0.8888888888888888,\"#fdca26\"],[1.0,\"#f0f921\"]],\"type\":\"histogram2dcontour\"}],\"histogram2d\":[{\"colorbar\":{\"outlinewidth\":0,\"ticks\":\"\"},\"colorscale\":[[0.0,\"#0d0887\"],[0.1111111111111111,\"#46039f\"],[0.2222222222222222,\"#7201a8\"],[0.3333333333333333,\"#9c179e\"],[0.4444444444444444,\"#bd3786\"],[0.5555555555555556,\"#d8576b\"],[0.6666666666666666,\"#ed7953\"],[0.7777777777777778,\"#fb9f3a\"],[0.8888888888888888,\"#fdca26\"],[1.0,\"#f0f921\"]],\"type\":\"histogram2d\"}],\"histogram\":[{\"marker\":{\"pattern\":{\"fillmode\":\"overlay\",\"size\":10,\"solidity\":0.2}},\"type\":\"histogram\"}],\"mesh3d\":[{\"colorbar\":{\"outlinewidth\":0,\"ticks\":\"\"},\"type\":\"mesh3d\"}],\"parcoords\":[{\"line\":{\"colorbar\":{\"outlinewidth\":0,\"ticks\":\"\"}},\"type\":\"parcoords\"}],\"pie\":[{\"automargin\":true,\"type\":\"pie\"}],\"scatter3d\":[{\"line\":{\"colorbar\":{\"outlinewidth\":0,\"ticks\":\"\"}},\"marker\":{\"colorbar\":{\"outlinewidth\":0,\"ticks\":\"\"}},\"type\":\"scatter3d\"}],\"scattercarpet\":[{\"marker\":{\"colorbar\":{\"outlinewidth\":0,\"ticks\":\"\"}},\"type\":\"scattercarpet\"}],\"scattergeo\":[{\"marker\":{\"colorbar\":{\"outlinewidth\":0,\"ticks\":\"\"}},\"type\":\"scattergeo\"}],\"scattergl\":[{\"marker\":{\"colorbar\":{\"outlinewidth\":0,\"ticks\":\"\"}},\"type\":\"scattergl\"}],\"scattermapbox\":[{\"marker\":{\"colorbar\":{\"outlinewidth\":0,\"ticks\":\"\"}},\"type\":\"scattermapbox\"}],\"scatterpolargl\":[{\"marker\":{\"colorbar\":{\"outlinewidth\":0,\"ticks\":\"\"}},\"type\":\"scatterpolargl\"}],\"scatterpolar\":[{\"marker\":{\"colorbar\":{\"outlinewidth\":0,\"ticks\":\"\"}},\"type\":\"scatterpolar\"}],\"scatter\":[{\"fillpattern\":{\"fillmode\":\"overlay\",\"size\":10,\"solidity\":0.2},\"type\":\"scatter\"}],\"scatterternary\":[{\"marker\":{\"colorbar\":{\"outlinewidth\":0,\"ticks\":\"\"}},\"type\":\"scatterternary\"}],\"surface\":[{\"colorbar\":{\"outlinewidth\":0,\"ticks\":\"\"},\"colorscale\":[[0.0,\"#0d0887\"],[0.1111111111111111,\"#46039f\"],[0.2222222222222222,\"#7201a8\"],[0.3333333333333333,\"#9c179e\"],[0.4444444444444444,\"#bd3786\"],[0.5555555555555556,\"#d8576b\"],[0.6666666666666666,\"#ed7953\"],[0.7777777777777778,\"#fb9f3a\"],[0.8888888888888888,\"#fdca26\"],[1.0,\"#f0f921\"]],\"type\":\"surface\"}],\"table\":[{\"cells\":{\"fill\":{\"color\":\"#EBF0F8\"},\"line\":{\"color\":\"white\"}},\"header\":{\"fill\":{\"color\":\"#C8D4E3\"},\"line\":{\"color\":\"white\"}},\"type\":\"table\"}]},\"layout\":{\"annotationdefaults\":{\"arrowcolor\":\"#2a3f5f\",\"arrowhead\":0,\"arrowwidth\":1},\"autotypenumbers\":\"strict\",\"coloraxis\":{\"colorbar\":{\"outlinewidth\":0,\"ticks\":\"\"}},\"colorscale\":{\"diverging\":[[0,\"#8e0152\"],[0.1,\"#c51b7d\"],[0.2,\"#de77ae\"],[0.3,\"#f1b6da\"],[0.4,\"#fde0ef\"],[0.5,\"#f7f7f7\"],[0.6,\"#e6f5d0\"],[0.7,\"#b8e186\"],[0.8,\"#7fbc41\"],[0.9,\"#4d9221\"],[1,\"#276419\"]],\"sequential\":[[0.0,\"#0d0887\"],[0.1111111111111111,\"#46039f\"],[0.2222222222222222,\"#7201a8\"],[0.3333333333333333,\"#9c179e\"],[0.4444444444444444,\"#bd3786\"],[0.5555555555555556,\"#d8576b\"],[0.6666666666666666,\"#ed7953\"],[0.7777777777777778,\"#fb9f3a\"],[0.8888888888888888,\"#fdca26\"],[1.0,\"#f0f921\"]],\"sequentialminus\":[[0.0,\"#0d0887\"],[0.1111111111111111,\"#46039f\"],[0.2222222222222222,\"#7201a8\"],[0.3333333333333333,\"#9c179e\"],[0.4444444444444444,\"#bd3786\"],[0.5555555555555556,\"#d8576b\"],[0.6666666666666666,\"#ed7953\"],[0.7777777777777778,\"#fb9f3a\"],[0.8888888888888888,\"#fdca26\"],[1.0,\"#f0f921\"]]},\"colorway\":[\"#636efa\",\"#EF553B\",\"#00cc96\",\"#ab63fa\",\"#FFA15A\",\"#19d3f3\",\"#FF6692\",\"#B6E880\",\"#FF97FF\",\"#FECB52\"],\"font\":{\"color\":\"#2a3f5f\"},\"geo\":{\"bgcolor\":\"white\",\"lakecolor\":\"white\",\"landcolor\":\"#E5ECF6\",\"showlakes\":true,\"showland\":true,\"subunitcolor\":\"white\"},\"hoverlabel\":{\"align\":\"left\"},\"hovermode\":\"closest\",\"mapbox\":{\"style\":\"light\"},\"paper_bgcolor\":\"white\",\"plot_bgcolor\":\"#E5ECF6\",\"polar\":{\"angularaxis\":{\"gridcolor\":\"white\",\"linecolor\":\"white\",\"ticks\":\"\"},\"bgcolor\":\"#E5ECF6\",\"radialaxis\":{\"gridcolor\":\"white\",\"linecolor\":\"white\",\"ticks\":\"\"}},\"scene\":{\"xaxis\":{\"backgroundcolor\":\"#E5ECF6\",\"gridcolor\":\"white\",\"gridwidth\":2,\"linecolor\":\"white\",\"showbackground\":true,\"ticks\":\"\",\"zerolinecolor\":\"white\"},\"yaxis\":{\"backgroundcolor\":\"#E5ECF6\",\"gridcolor\":\"white\",\"gridwidth\":2,\"linecolor\":\"white\",\"showbackground\":true,\"ticks\":\"\",\"zerolinecolor\":\"white\"},\"zaxis\":{\"backgroundcolor\":\"#E5ECF6\",\"gridcolor\":\"white\",\"gridwidth\":2,\"linecolor\":\"white\",\"showbackground\":true,\"ticks\":\"\",\"zerolinecolor\":\"white\"}},\"shapedefaults\":{\"line\":{\"color\":\"#2a3f5f\"}},\"ternary\":{\"aaxis\":{\"gridcolor\":\"white\",\"linecolor\":\"white\",\"ticks\":\"\"},\"baxis\":{\"gridcolor\":\"white\",\"linecolor\":\"white\",\"ticks\":\"\"},\"bgcolor\":\"#E5ECF6\",\"caxis\":{\"gridcolor\":\"white\",\"linecolor\":\"white\",\"ticks\":\"\"}},\"title\":{\"x\":0.05},\"xaxis\":{\"automargin\":true,\"gridcolor\":\"white\",\"linecolor\":\"white\",\"ticks\":\"\",\"title\":{\"standoff\":15},\"zerolinecolor\":\"white\",\"zerolinewidth\":2},\"yaxis\":{\"automargin\":true,\"gridcolor\":\"white\",\"linecolor\":\"white\",\"ticks\":\"\",\"title\":{\"standoff\":15},\"zerolinecolor\":\"white\",\"zerolinewidth\":2}}},\"title\":{\"font\":{\"color\":\"#4D5663\"}},\"xaxis\":{\"gridcolor\":\"#E1E5ED\",\"showgrid\":true,\"tickfont\":{\"color\":\"#4D5663\"},\"title\":{\"font\":{\"color\":\"#4D5663\"},\"text\":\"\"},\"zerolinecolor\":\"#E1E5ED\"},\"yaxis\":{\"gridcolor\":\"#E1E5ED\",\"showgrid\":true,\"tickfont\":{\"color\":\"#4D5663\"},\"title\":{\"font\":{\"color\":\"#4D5663\"},\"text\":\"\"},\"zerolinecolor\":\"#E1E5ED\"}},                        {\"showLink\": true, \"linkText\": \"Export to plot.ly\", \"plotlyServerURL\": \"https://plot.ly\", \"responsive\": true}                    ).then(function(){\n",
       "                            \n",
       "var gd = document.getElementById('a13681c9-70c2-47f0-b822-09b1f355b759');\n",
       "var x = new MutationObserver(function (mutations, observer) {{\n",
       "        var display = window.getComputedStyle(gd).display;\n",
       "        if (!display || display === 'none') {{\n",
       "            console.log([gd, 'removed!']);\n",
       "            Plotly.purge(gd);\n",
       "            observer.disconnect();\n",
       "        }}\n",
       "}});\n",
       "\n",
       "// Listen for the removal of the full notebook cells\n",
       "var notebookContainer = gd.closest('#notebook-container');\n",
       "if (notebookContainer) {{\n",
       "    x.observe(notebookContainer, {childList: true});\n",
       "}}\n",
       "\n",
       "// Listen for the clearing of the current output cell\n",
       "var outputEl = gd.closest('.output');\n",
       "if (outputEl) {{\n",
       "    x.observe(outputEl, {childList: true});\n",
       "}}\n",
       "\n",
       "                        })                };                });            </script>        </div>"
      ]
     },
     "metadata": {},
     "output_type": "display_data"
    }
   ],
   "source": [
    "df.iplot(kind='scatter',x='A',y='B',mode='markers',size=10)"
   ]
  },
  {
   "cell_type": "markdown",
   "metadata": {},
   "source": [
    "## Bar Plots"
   ]
  },
  {
   "cell_type": "code",
   "execution_count": 15,
   "metadata": {
    "collapsed": false,
    "jupyter": {
     "outputs_hidden": false
    }
   },
   "outputs": [
    {
     "data": {
      "application/vnd.plotly.v1+json": {
       "config": {
        "linkText": "Export to plot.ly",
        "plotlyServerURL": "https://plot.ly",
        "showLink": true
       },
       "data": [
        {
         "marker": {
          "color": "rgba(255, 153, 51, 0.6)",
          "line": {
           "color": "rgba(255, 153, 51, 1.0)",
           "width": 1
          }
         },
         "name": "Values",
         "orientation": "v",
         "text": "",
         "type": "bar",
         "x": [
          "A",
          "B",
          "C"
         ],
         "y": [
          32,
          43,
          50
         ]
        }
       ],
       "layout": {
        "autosize": true,
        "legend": {
         "bgcolor": "#F5F6F9",
         "font": {
          "color": "#4D5663"
         }
        },
        "paper_bgcolor": "#F5F6F9",
        "plot_bgcolor": "#F5F6F9",
        "template": {
         "data": {
          "bar": [
           {
            "error_x": {
             "color": "#2a3f5f"
            },
            "error_y": {
             "color": "#2a3f5f"
            },
            "marker": {
             "line": {
              "color": "#E5ECF6",
              "width": 0.5
             },
             "pattern": {
              "fillmode": "overlay",
              "size": 10,
              "solidity": 0.2
             }
            },
            "type": "bar"
           }
          ],
          "barpolar": [
           {
            "marker": {
             "line": {
              "color": "#E5ECF6",
              "width": 0.5
             },
             "pattern": {
              "fillmode": "overlay",
              "size": 10,
              "solidity": 0.2
             }
            },
            "type": "barpolar"
           }
          ],
          "carpet": [
           {
            "aaxis": {
             "endlinecolor": "#2a3f5f",
             "gridcolor": "white",
             "linecolor": "white",
             "minorgridcolor": "white",
             "startlinecolor": "#2a3f5f"
            },
            "baxis": {
             "endlinecolor": "#2a3f5f",
             "gridcolor": "white",
             "linecolor": "white",
             "minorgridcolor": "white",
             "startlinecolor": "#2a3f5f"
            },
            "type": "carpet"
           }
          ],
          "choropleth": [
           {
            "colorbar": {
             "outlinewidth": 0,
             "ticks": ""
            },
            "type": "choropleth"
           }
          ],
          "contour": [
           {
            "colorbar": {
             "outlinewidth": 0,
             "ticks": ""
            },
            "colorscale": [
             [
              0,
              "#0d0887"
             ],
             [
              0.1111111111111111,
              "#46039f"
             ],
             [
              0.2222222222222222,
              "#7201a8"
             ],
             [
              0.3333333333333333,
              "#9c179e"
             ],
             [
              0.4444444444444444,
              "#bd3786"
             ],
             [
              0.5555555555555556,
              "#d8576b"
             ],
             [
              0.6666666666666666,
              "#ed7953"
             ],
             [
              0.7777777777777778,
              "#fb9f3a"
             ],
             [
              0.8888888888888888,
              "#fdca26"
             ],
             [
              1,
              "#f0f921"
             ]
            ],
            "type": "contour"
           }
          ],
          "contourcarpet": [
           {
            "colorbar": {
             "outlinewidth": 0,
             "ticks": ""
            },
            "type": "contourcarpet"
           }
          ],
          "heatmap": [
           {
            "colorbar": {
             "outlinewidth": 0,
             "ticks": ""
            },
            "colorscale": [
             [
              0,
              "#0d0887"
             ],
             [
              0.1111111111111111,
              "#46039f"
             ],
             [
              0.2222222222222222,
              "#7201a8"
             ],
             [
              0.3333333333333333,
              "#9c179e"
             ],
             [
              0.4444444444444444,
              "#bd3786"
             ],
             [
              0.5555555555555556,
              "#d8576b"
             ],
             [
              0.6666666666666666,
              "#ed7953"
             ],
             [
              0.7777777777777778,
              "#fb9f3a"
             ],
             [
              0.8888888888888888,
              "#fdca26"
             ],
             [
              1,
              "#f0f921"
             ]
            ],
            "type": "heatmap"
           }
          ],
          "heatmapgl": [
           {
            "colorbar": {
             "outlinewidth": 0,
             "ticks": ""
            },
            "colorscale": [
             [
              0,
              "#0d0887"
             ],
             [
              0.1111111111111111,
              "#46039f"
             ],
             [
              0.2222222222222222,
              "#7201a8"
             ],
             [
              0.3333333333333333,
              "#9c179e"
             ],
             [
              0.4444444444444444,
              "#bd3786"
             ],
             [
              0.5555555555555556,
              "#d8576b"
             ],
             [
              0.6666666666666666,
              "#ed7953"
             ],
             [
              0.7777777777777778,
              "#fb9f3a"
             ],
             [
              0.8888888888888888,
              "#fdca26"
             ],
             [
              1,
              "#f0f921"
             ]
            ],
            "type": "heatmapgl"
           }
          ],
          "histogram": [
           {
            "marker": {
             "pattern": {
              "fillmode": "overlay",
              "size": 10,
              "solidity": 0.2
             }
            },
            "type": "histogram"
           }
          ],
          "histogram2d": [
           {
            "colorbar": {
             "outlinewidth": 0,
             "ticks": ""
            },
            "colorscale": [
             [
              0,
              "#0d0887"
             ],
             [
              0.1111111111111111,
              "#46039f"
             ],
             [
              0.2222222222222222,
              "#7201a8"
             ],
             [
              0.3333333333333333,
              "#9c179e"
             ],
             [
              0.4444444444444444,
              "#bd3786"
             ],
             [
              0.5555555555555556,
              "#d8576b"
             ],
             [
              0.6666666666666666,
              "#ed7953"
             ],
             [
              0.7777777777777778,
              "#fb9f3a"
             ],
             [
              0.8888888888888888,
              "#fdca26"
             ],
             [
              1,
              "#f0f921"
             ]
            ],
            "type": "histogram2d"
           }
          ],
          "histogram2dcontour": [
           {
            "colorbar": {
             "outlinewidth": 0,
             "ticks": ""
            },
            "colorscale": [
             [
              0,
              "#0d0887"
             ],
             [
              0.1111111111111111,
              "#46039f"
             ],
             [
              0.2222222222222222,
              "#7201a8"
             ],
             [
              0.3333333333333333,
              "#9c179e"
             ],
             [
              0.4444444444444444,
              "#bd3786"
             ],
             [
              0.5555555555555556,
              "#d8576b"
             ],
             [
              0.6666666666666666,
              "#ed7953"
             ],
             [
              0.7777777777777778,
              "#fb9f3a"
             ],
             [
              0.8888888888888888,
              "#fdca26"
             ],
             [
              1,
              "#f0f921"
             ]
            ],
            "type": "histogram2dcontour"
           }
          ],
          "mesh3d": [
           {
            "colorbar": {
             "outlinewidth": 0,
             "ticks": ""
            },
            "type": "mesh3d"
           }
          ],
          "parcoords": [
           {
            "line": {
             "colorbar": {
              "outlinewidth": 0,
              "ticks": ""
             }
            },
            "type": "parcoords"
           }
          ],
          "pie": [
           {
            "automargin": true,
            "type": "pie"
           }
          ],
          "scatter": [
           {
            "fillpattern": {
             "fillmode": "overlay",
             "size": 10,
             "solidity": 0.2
            },
            "type": "scatter"
           }
          ],
          "scatter3d": [
           {
            "line": {
             "colorbar": {
              "outlinewidth": 0,
              "ticks": ""
             }
            },
            "marker": {
             "colorbar": {
              "outlinewidth": 0,
              "ticks": ""
             }
            },
            "type": "scatter3d"
           }
          ],
          "scattercarpet": [
           {
            "marker": {
             "colorbar": {
              "outlinewidth": 0,
              "ticks": ""
             }
            },
            "type": "scattercarpet"
           }
          ],
          "scattergeo": [
           {
            "marker": {
             "colorbar": {
              "outlinewidth": 0,
              "ticks": ""
             }
            },
            "type": "scattergeo"
           }
          ],
          "scattergl": [
           {
            "marker": {
             "colorbar": {
              "outlinewidth": 0,
              "ticks": ""
             }
            },
            "type": "scattergl"
           }
          ],
          "scattermapbox": [
           {
            "marker": {
             "colorbar": {
              "outlinewidth": 0,
              "ticks": ""
             }
            },
            "type": "scattermapbox"
           }
          ],
          "scatterpolar": [
           {
            "marker": {
             "colorbar": {
              "outlinewidth": 0,
              "ticks": ""
             }
            },
            "type": "scatterpolar"
           }
          ],
          "scatterpolargl": [
           {
            "marker": {
             "colorbar": {
              "outlinewidth": 0,
              "ticks": ""
             }
            },
            "type": "scatterpolargl"
           }
          ],
          "scatterternary": [
           {
            "marker": {
             "colorbar": {
              "outlinewidth": 0,
              "ticks": ""
             }
            },
            "type": "scatterternary"
           }
          ],
          "surface": [
           {
            "colorbar": {
             "outlinewidth": 0,
             "ticks": ""
            },
            "colorscale": [
             [
              0,
              "#0d0887"
             ],
             [
              0.1111111111111111,
              "#46039f"
             ],
             [
              0.2222222222222222,
              "#7201a8"
             ],
             [
              0.3333333333333333,
              "#9c179e"
             ],
             [
              0.4444444444444444,
              "#bd3786"
             ],
             [
              0.5555555555555556,
              "#d8576b"
             ],
             [
              0.6666666666666666,
              "#ed7953"
             ],
             [
              0.7777777777777778,
              "#fb9f3a"
             ],
             [
              0.8888888888888888,
              "#fdca26"
             ],
             [
              1,
              "#f0f921"
             ]
            ],
            "type": "surface"
           }
          ],
          "table": [
           {
            "cells": {
             "fill": {
              "color": "#EBF0F8"
             },
             "line": {
              "color": "white"
             }
            },
            "header": {
             "fill": {
              "color": "#C8D4E3"
             },
             "line": {
              "color": "white"
             }
            },
            "type": "table"
           }
          ]
         },
         "layout": {
          "annotationdefaults": {
           "arrowcolor": "#2a3f5f",
           "arrowhead": 0,
           "arrowwidth": 1
          },
          "autotypenumbers": "strict",
          "coloraxis": {
           "colorbar": {
            "outlinewidth": 0,
            "ticks": ""
           }
          },
          "colorscale": {
           "diverging": [
            [
             0,
             "#8e0152"
            ],
            [
             0.1,
             "#c51b7d"
            ],
            [
             0.2,
             "#de77ae"
            ],
            [
             0.3,
             "#f1b6da"
            ],
            [
             0.4,
             "#fde0ef"
            ],
            [
             0.5,
             "#f7f7f7"
            ],
            [
             0.6,
             "#e6f5d0"
            ],
            [
             0.7,
             "#b8e186"
            ],
            [
             0.8,
             "#7fbc41"
            ],
            [
             0.9,
             "#4d9221"
            ],
            [
             1,
             "#276419"
            ]
           ],
           "sequential": [
            [
             0,
             "#0d0887"
            ],
            [
             0.1111111111111111,
             "#46039f"
            ],
            [
             0.2222222222222222,
             "#7201a8"
            ],
            [
             0.3333333333333333,
             "#9c179e"
            ],
            [
             0.4444444444444444,
             "#bd3786"
            ],
            [
             0.5555555555555556,
             "#d8576b"
            ],
            [
             0.6666666666666666,
             "#ed7953"
            ],
            [
             0.7777777777777778,
             "#fb9f3a"
            ],
            [
             0.8888888888888888,
             "#fdca26"
            ],
            [
             1,
             "#f0f921"
            ]
           ],
           "sequentialminus": [
            [
             0,
             "#0d0887"
            ],
            [
             0.1111111111111111,
             "#46039f"
            ],
            [
             0.2222222222222222,
             "#7201a8"
            ],
            [
             0.3333333333333333,
             "#9c179e"
            ],
            [
             0.4444444444444444,
             "#bd3786"
            ],
            [
             0.5555555555555556,
             "#d8576b"
            ],
            [
             0.6666666666666666,
             "#ed7953"
            ],
            [
             0.7777777777777778,
             "#fb9f3a"
            ],
            [
             0.8888888888888888,
             "#fdca26"
            ],
            [
             1,
             "#f0f921"
            ]
           ]
          },
          "colorway": [
           "#636efa",
           "#EF553B",
           "#00cc96",
           "#ab63fa",
           "#FFA15A",
           "#19d3f3",
           "#FF6692",
           "#B6E880",
           "#FF97FF",
           "#FECB52"
          ],
          "font": {
           "color": "#2a3f5f"
          },
          "geo": {
           "bgcolor": "white",
           "lakecolor": "white",
           "landcolor": "#E5ECF6",
           "showlakes": true,
           "showland": true,
           "subunitcolor": "white"
          },
          "hoverlabel": {
           "align": "left"
          },
          "hovermode": "closest",
          "mapbox": {
           "style": "light"
          },
          "paper_bgcolor": "white",
          "plot_bgcolor": "#E5ECF6",
          "polar": {
           "angularaxis": {
            "gridcolor": "white",
            "linecolor": "white",
            "ticks": ""
           },
           "bgcolor": "#E5ECF6",
           "radialaxis": {
            "gridcolor": "white",
            "linecolor": "white",
            "ticks": ""
           }
          },
          "scene": {
           "xaxis": {
            "backgroundcolor": "#E5ECF6",
            "gridcolor": "white",
            "gridwidth": 2,
            "linecolor": "white",
            "showbackground": true,
            "ticks": "",
            "zerolinecolor": "white"
           },
           "yaxis": {
            "backgroundcolor": "#E5ECF6",
            "gridcolor": "white",
            "gridwidth": 2,
            "linecolor": "white",
            "showbackground": true,
            "ticks": "",
            "zerolinecolor": "white"
           },
           "zaxis": {
            "backgroundcolor": "#E5ECF6",
            "gridcolor": "white",
            "gridwidth": 2,
            "linecolor": "white",
            "showbackground": true,
            "ticks": "",
            "zerolinecolor": "white"
           }
          },
          "shapedefaults": {
           "line": {
            "color": "#2a3f5f"
           }
          },
          "ternary": {
           "aaxis": {
            "gridcolor": "white",
            "linecolor": "white",
            "ticks": ""
           },
           "baxis": {
            "gridcolor": "white",
            "linecolor": "white",
            "ticks": ""
           },
           "bgcolor": "#E5ECF6",
           "caxis": {
            "gridcolor": "white",
            "linecolor": "white",
            "ticks": ""
           }
          },
          "title": {
           "x": 0.05
          },
          "xaxis": {
           "automargin": true,
           "gridcolor": "white",
           "linecolor": "white",
           "ticks": "",
           "title": {
            "standoff": 15
           },
           "zerolinecolor": "white",
           "zerolinewidth": 2
          },
          "yaxis": {
           "automargin": true,
           "gridcolor": "white",
           "linecolor": "white",
           "ticks": "",
           "title": {
            "standoff": 15
           },
           "zerolinecolor": "white",
           "zerolinewidth": 2
          }
         }
        },
        "title": {
         "font": {
          "color": "#4D5663"
         }
        },
        "xaxis": {
         "autorange": true,
         "gridcolor": "#E1E5ED",
         "range": [
          -0.5,
          2.5
         ],
         "showgrid": true,
         "tickfont": {
          "color": "#4D5663"
         },
         "title": {
          "font": {
           "color": "#4D5663"
          },
          "text": ""
         },
         "type": "category",
         "zerolinecolor": "#E1E5ED"
        },
        "yaxis": {
         "autorange": true,
         "gridcolor": "#E1E5ED",
         "range": [
          0,
          52.63157894736842
         ],
         "showgrid": true,
         "tickfont": {
          "color": "#4D5663"
         },
         "title": {
          "font": {
           "color": "#4D5663"
          },
          "text": ""
         },
         "type": "linear",
         "zerolinecolor": "#E1E5ED"
        }
       }
      },
      "image/png": "[encoded data removed]",
      "text/html": [
       "<div>                            <div id=\"86dc0739-e154-4182-a9cc-a969b51df0e3\" class=\"plotly-graph-div\" style=\"height:525px; width:100%;\"></div>            <script type=\"text/javascript\">                require([\"plotly\"], function(Plotly) {                    window.PLOTLYENV=window.PLOTLYENV || {};\n",
       "                    window.PLOTLYENV.BASE_URL='https://plot.ly';                                    if (document.getElementById(\"86dc0739-e154-4182-a9cc-a969b51df0e3\")) {                    Plotly.newPlot(                        \"86dc0739-e154-4182-a9cc-a969b51df0e3\",                        [{\"marker\":{\"color\":\"rgba(255, 153, 51, 0.6)\",\"line\":{\"color\":\"rgba(255, 153, 51, 1.0)\",\"width\":1}},\"name\":\"Values\",\"orientation\":\"v\",\"text\":\"\",\"x\":[\"A\",\"B\",\"C\"],\"y\":[32,43,50],\"type\":\"bar\"}],                        {\"legend\":{\"bgcolor\":\"#F5F6F9\",\"font\":{\"color\":\"#4D5663\"}},\"paper_bgcolor\":\"#F5F6F9\",\"plot_bgcolor\":\"#F5F6F9\",\"template\":{\"data\":{\"barpolar\":[{\"marker\":{\"line\":{\"color\":\"#E5ECF6\",\"width\":0.5},\"pattern\":{\"fillmode\":\"overlay\",\"size\":10,\"solidity\":0.2}},\"type\":\"barpolar\"}],\"bar\":[{\"error_x\":{\"color\":\"#2a3f5f\"},\"error_y\":{\"color\":\"#2a3f5f\"},\"marker\":{\"line\":{\"color\":\"#E5ECF6\",\"width\":0.5},\"pattern\":{\"fillmode\":\"overlay\",\"size\":10,\"solidity\":0.2}},\"type\":\"bar\"}],\"carpet\":[{\"aaxis\":{\"endlinecolor\":\"#2a3f5f\",\"gridcolor\":\"white\",\"linecolor\":\"white\",\"minorgridcolor\":\"white\",\"startlinecolor\":\"#2a3f5f\"},\"baxis\":{\"endlinecolor\":\"#2a3f5f\",\"gridcolor\":\"white\",\"linecolor\":\"white\",\"minorgridcolor\":\"white\",\"startlinecolor\":\"#2a3f5f\"},\"type\":\"carpet\"}],\"choropleth\":[{\"colorbar\":{\"outlinewidth\":0,\"ticks\":\"\"},\"type\":\"choropleth\"}],\"contourcarpet\":[{\"colorbar\":{\"outlinewidth\":0,\"ticks\":\"\"},\"type\":\"contourcarpet\"}],\"contour\":[{\"colorbar\":{\"outlinewidth\":0,\"ticks\":\"\"},\"colorscale\":[[0.0,\"#0d0887\"],[0.1111111111111111,\"#46039f\"],[0.2222222222222222,\"#7201a8\"],[0.3333333333333333,\"#9c179e\"],[0.4444444444444444,\"#bd3786\"],[0.5555555555555556,\"#d8576b\"],[0.6666666666666666,\"#ed7953\"],[0.7777777777777778,\"#fb9f3a\"],[0.8888888888888888,\"#fdca26\"],[1.0,\"#f0f921\"]],\"type\":\"contour\"}],\"heatmapgl\":[{\"colorbar\":{\"outlinewidth\":0,\"ticks\":\"\"},\"colorscale\":[[0.0,\"#0d0887\"],[0.1111111111111111,\"#46039f\"],[0.2222222222222222,\"#7201a8\"],[0.3333333333333333,\"#9c179e\"],[0.4444444444444444,\"#bd3786\"],[0.5555555555555556,\"#d8576b\"],[0.6666666666666666,\"#ed7953\"],[0.7777777777777778,\"#fb9f3a\"],[0.8888888888888888,\"#fdca26\"],[1.0,\"#f0f921\"]],\"type\":\"heatmapgl\"}],\"heatmap\":[{\"colorbar\":{\"outlinewidth\":0,\"ticks\":\"\"},\"colorscale\":[[0.0,\"#0d0887\"],[0.1111111111111111,\"#46039f\"],[0.2222222222222222,\"#7201a8\"],[0.3333333333333333,\"#9c179e\"],[0.4444444444444444,\"#bd3786\"],[0.5555555555555556,\"#d8576b\"],[0.6666666666666666,\"#ed7953\"],[0.7777777777777778,\"#fb9f3a\"],[0.8888888888888888,\"#fdca26\"],[1.0,\"#f0f921\"]],\"type\":\"heatmap\"}],\"histogram2dcontour\":[{\"colorbar\":{\"outlinewidth\":0,\"ticks\":\"\"},\"colorscale\":[[0.0,\"#0d0887\"],[0.1111111111111111,\"#46039f\"],[0.2222222222222222,\"#7201a8\"],[0.3333333333333333,\"#9c179e\"],[0.4444444444444444,\"#bd3786\"],[0.5555555555555556,\"#d8576b\"],[0.6666666666666666,\"#ed7953\"],[0.7777777777777778,\"#fb9f3a\"],[0.8888888888888888,\"#fdca26\"],[1.0,\"#f0f921\"]],\"type\":\"histogram2dcontour\"}],\"histogram2d\":[{\"colorbar\":{\"outlinewidth\":0,\"ticks\":\"\"},\"colorscale\":[[0.0,\"#0d0887\"],[0.1111111111111111,\"#46039f\"],[0.2222222222222222,\"#7201a8\"],[0.3333333333333333,\"#9c179e\"],[0.4444444444444444,\"#bd3786\"],[0.5555555555555556,\"#d8576b\"],[0.6666666666666666,\"#ed7953\"],[0.7777777777777778,\"#fb9f3a\"],[0.8888888888888888,\"#fdca26\"],[1.0,\"#f0f921\"]],\"type\":\"histogram2d\"}],\"histogram\":[{\"marker\":{\"pattern\":{\"fillmode\":\"overlay\",\"size\":10,\"solidity\":0.2}},\"type\":\"histogram\"}],\"mesh3d\":[{\"colorbar\":{\"outlinewidth\":0,\"ticks\":\"\"},\"type\":\"mesh3d\"}],\"parcoords\":[{\"line\":{\"colorbar\":{\"outlinewidth\":0,\"ticks\":\"\"}},\"type\":\"parcoords\"}],\"pie\":[{\"automargin\":true,\"type\":\"pie\"}],\"scatter3d\":[{\"line\":{\"colorbar\":{\"outlinewidth\":0,\"ticks\":\"\"}},\"marker\":{\"colorbar\":{\"outlinewidth\":0,\"ticks\":\"\"}},\"type\":\"scatter3d\"}],\"scattercarpet\":[{\"marker\":{\"colorbar\":{\"outlinewidth\":0,\"ticks\":\"\"}},\"type\":\"scattercarpet\"}],\"scattergeo\":[{\"marker\":{\"colorbar\":{\"outlinewidth\":0,\"ticks\":\"\"}},\"type\":\"scattergeo\"}],\"scattergl\":[{\"marker\":{\"colorbar\":{\"outlinewidth\":0,\"ticks\":\"\"}},\"type\":\"scattergl\"}],\"scattermapbox\":[{\"marker\":{\"colorbar\":{\"outlinewidth\":0,\"ticks\":\"\"}},\"type\":\"scattermapbox\"}],\"scatterpolargl\":[{\"marker\":{\"colorbar\":{\"outlinewidth\":0,\"ticks\":\"\"}},\"type\":\"scatterpolargl\"}],\"scatterpolar\":[{\"marker\":{\"colorbar\":{\"outlinewidth\":0,\"ticks\":\"\"}},\"type\":\"scatterpolar\"}],\"scatter\":[{\"fillpattern\":{\"fillmode\":\"overlay\",\"size\":10,\"solidity\":0.2},\"type\":\"scatter\"}],\"scatterternary\":[{\"marker\":{\"colorbar\":{\"outlinewidth\":0,\"ticks\":\"\"}},\"type\":\"scatterternary\"}],\"surface\":[{\"colorbar\":{\"outlinewidth\":0,\"ticks\":\"\"},\"colorscale\":[[0.0,\"#0d0887\"],[0.1111111111111111,\"#46039f\"],[0.2222222222222222,\"#7201a8\"],[0.3333333333333333,\"#9c179e\"],[0.4444444444444444,\"#bd3786\"],[0.5555555555555556,\"#d8576b\"],[0.6666666666666666,\"#ed7953\"],[0.7777777777777778,\"#fb9f3a\"],[0.8888888888888888,\"#fdca26\"],[1.0,\"#f0f921\"]],\"type\":\"surface\"}],\"table\":[{\"cells\":{\"fill\":{\"color\":\"#EBF0F8\"},\"line\":{\"color\":\"white\"}},\"header\":{\"fill\":{\"color\":\"#C8D4E3\"},\"line\":{\"color\":\"white\"}},\"type\":\"table\"}]},\"layout\":{\"annotationdefaults\":{\"arrowcolor\":\"#2a3f5f\",\"arrowhead\":0,\"arrowwidth\":1},\"autotypenumbers\":\"strict\",\"coloraxis\":{\"colorbar\":{\"outlinewidth\":0,\"ticks\":\"\"}},\"colorscale\":{\"diverging\":[[0,\"#8e0152\"],[0.1,\"#c51b7d\"],[0.2,\"#de77ae\"],[0.3,\"#f1b6da\"],[0.4,\"#fde0ef\"],[0.5,\"#f7f7f7\"],[0.6,\"#e6f5d0\"],[0.7,\"#b8e186\"],[0.8,\"#7fbc41\"],[0.9,\"#4d9221\"],[1,\"#276419\"]],\"sequential\":[[0.0,\"#0d0887\"],[0.1111111111111111,\"#46039f\"],[0.2222222222222222,\"#7201a8\"],[0.3333333333333333,\"#9c179e\"],[0.4444444444444444,\"#bd3786\"],[0.5555555555555556,\"#d8576b\"],[0.6666666666666666,\"#ed7953\"],[0.7777777777777778,\"#fb9f3a\"],[0.8888888888888888,\"#fdca26\"],[1.0,\"#f0f921\"]],\"sequentialminus\":[[0.0,\"#0d0887\"],[0.1111111111111111,\"#46039f\"],[0.2222222222222222,\"#7201a8\"],[0.3333333333333333,\"#9c179e\"],[0.4444444444444444,\"#bd3786\"],[0.5555555555555556,\"#d8576b\"],[0.6666666666666666,\"#ed7953\"],[0.7777777777777778,\"#fb9f3a\"],[0.8888888888888888,\"#fdca26\"],[1.0,\"#f0f921\"]]},\"colorway\":[\"#636efa\",\"#EF553B\",\"#00cc96\",\"#ab63fa\",\"#FFA15A\",\"#19d3f3\",\"#FF6692\",\"#B6E880\",\"#FF97FF\",\"#FECB52\"],\"font\":{\"color\":\"#2a3f5f\"},\"geo\":{\"bgcolor\":\"white\",\"lakecolor\":\"white\",\"landcolor\":\"#E5ECF6\",\"showlakes\":true,\"showland\":true,\"subunitcolor\":\"white\"},\"hoverlabel\":{\"align\":\"left\"},\"hovermode\":\"closest\",\"mapbox\":{\"style\":\"light\"},\"paper_bgcolor\":\"white\",\"plot_bgcolor\":\"#E5ECF6\",\"polar\":{\"angularaxis\":{\"gridcolor\":\"white\",\"linecolor\":\"white\",\"ticks\":\"\"},\"bgcolor\":\"#E5ECF6\",\"radialaxis\":{\"gridcolor\":\"white\",\"linecolor\":\"white\",\"ticks\":\"\"}},\"scene\":{\"xaxis\":{\"backgroundcolor\":\"#E5ECF6\",\"gridcolor\":\"white\",\"gridwidth\":2,\"linecolor\":\"white\",\"showbackground\":true,\"ticks\":\"\",\"zerolinecolor\":\"white\"},\"yaxis\":{\"backgroundcolor\":\"#E5ECF6\",\"gridcolor\":\"white\",\"gridwidth\":2,\"linecolor\":\"white\",\"showbackground\":true,\"ticks\":\"\",\"zerolinecolor\":\"white\"},\"zaxis\":{\"backgroundcolor\":\"#E5ECF6\",\"gridcolor\":\"white\",\"gridwidth\":2,\"linecolor\":\"white\",\"showbackground\":true,\"ticks\":\"\",\"zerolinecolor\":\"white\"}},\"shapedefaults\":{\"line\":{\"color\":\"#2a3f5f\"}},\"ternary\":{\"aaxis\":{\"gridcolor\":\"white\",\"linecolor\":\"white\",\"ticks\":\"\"},\"baxis\":{\"gridcolor\":\"white\",\"linecolor\":\"white\",\"ticks\":\"\"},\"bgcolor\":\"#E5ECF6\",\"caxis\":{\"gridcolor\":\"white\",\"linecolor\":\"white\",\"ticks\":\"\"}},\"title\":{\"x\":0.05},\"xaxis\":{\"automargin\":true,\"gridcolor\":\"white\",\"linecolor\":\"white\",\"ticks\":\"\",\"title\":{\"standoff\":15},\"zerolinecolor\":\"white\",\"zerolinewidth\":2},\"yaxis\":{\"automargin\":true,\"gridcolor\":\"white\",\"linecolor\":\"white\",\"ticks\":\"\",\"title\":{\"standoff\":15},\"zerolinecolor\":\"white\",\"zerolinewidth\":2}}},\"title\":{\"font\":{\"color\":\"#4D5663\"}},\"xaxis\":{\"gridcolor\":\"#E1E5ED\",\"showgrid\":true,\"tickfont\":{\"color\":\"#4D5663\"},\"title\":{\"font\":{\"color\":\"#4D5663\"},\"text\":\"\"},\"zerolinecolor\":\"#E1E5ED\"},\"yaxis\":{\"gridcolor\":\"#E1E5ED\",\"showgrid\":true,\"tickfont\":{\"color\":\"#4D5663\"},\"title\":{\"font\":{\"color\":\"#4D5663\"},\"text\":\"\"},\"zerolinecolor\":\"#E1E5ED\"}},                        {\"showLink\": true, \"linkText\": \"Export to plot.ly\", \"plotlyServerURL\": \"https://plot.ly\", \"responsive\": true}                    ).then(function(){\n",
       "                            \n",
       "var gd = document.getElementById('86dc0739-e154-4182-a9cc-a969b51df0e3');\n",
       "var x = new MutationObserver(function (mutations, observer) {{\n",
       "        var display = window.getComputedStyle(gd).display;\n",
       "        if (!display || display === 'none') {{\n",
       "            console.log([gd, 'removed!']);\n",
       "            Plotly.purge(gd);\n",
       "            observer.disconnect();\n",
       "        }}\n",
       "}});\n",
       "\n",
       "// Listen for the removal of the full notebook cells\n",
       "var notebookContainer = gd.closest('#notebook-container');\n",
       "if (notebookContainer) {{\n",
       "    x.observe(notebookContainer, {childList: true});\n",
       "}}\n",
       "\n",
       "// Listen for the clearing of the current output cell\n",
       "var outputEl = gd.closest('.output');\n",
       "if (outputEl) {{\n",
       "    x.observe(outputEl, {childList: true});\n",
       "}}\n",
       "\n",
       "                        })                };                });            </script>        </div>"
      ]
     },
     "metadata": {},
     "output_type": "display_data"
    }
   ],
   "source": [
    "df2.iplot(kind='bar',x='Category',y='Values')"
   ]
  },
  {
   "cell_type": "code",
   "execution_count": 16,
   "metadata": {
    "collapsed": false,
    "jupyter": {
     "outputs_hidden": false
    }
   },
   "outputs": [
    {
     "data": {
      "application/vnd.plotly.v1+json": {
       "config": {
        "linkText": "Export to plot.ly",
        "plotlyServerURL": "https://plot.ly",
        "showLink": true
       },
       "data": [
        {
         "marker": {
          "color": "rgba(255, 153, 51, 0.6)",
          "line": {
           "color": "rgba(255, 153, 51, 1.0)",
           "width": 1
          }
         },
         "name": "None",
         "orientation": "v",
         "text": "",
         "type": "bar",
         "x": [
          "A",
          "B",
          "C",
          "D"
         ],
         "y": [
          100,
          100,
          100,
          100
         ]
        }
       ],
       "layout": {
        "autosize": true,
        "legend": {
         "bgcolor": "#F5F6F9",
         "font": {
          "color": "#4D5663"
         }
        },
        "paper_bgcolor": "#F5F6F9",
        "plot_bgcolor": "#F5F6F9",
        "template": {
         "data": {
          "bar": [
           {
            "error_x": {
             "color": "#2a3f5f"
            },
            "error_y": {
             "color": "#2a3f5f"
            },
            "marker": {
             "line": {
              "color": "#E5ECF6",
              "width": 0.5
             },
             "pattern": {
              "fillmode": "overlay",
              "size": 10,
              "solidity": 0.2
             }
            },
            "type": "bar"
           }
          ],
          "barpolar": [
           {
            "marker": {
             "line": {
              "color": "#E5ECF6",
              "width": 0.5
             },
             "pattern": {
              "fillmode": "overlay",
              "size": 10,
              "solidity": 0.2
             }
            },
            "type": "barpolar"
           }
          ],
          "carpet": [
           {
            "aaxis": {
             "endlinecolor": "#2a3f5f",
             "gridcolor": "white",
             "linecolor": "white",
             "minorgridcolor": "white",
             "startlinecolor": "#2a3f5f"
            },
            "baxis": {
             "endlinecolor": "#2a3f5f",
             "gridcolor": "white",
             "linecolor": "white",
             "minorgridcolor": "white",
             "startlinecolor": "#2a3f5f"
            },
            "type": "carpet"
           }
          ],
          "choropleth": [
           {
            "colorbar": {
             "outlinewidth": 0,
             "ticks": ""
            },
            "type": "choropleth"
           }
          ],
          "contour": [
           {
            "colorbar": {
             "outlinewidth": 0,
             "ticks": ""
            },
            "colorscale": [
             [
              0,
              "#0d0887"
             ],
             [
              0.1111111111111111,
              "#46039f"
             ],
             [
              0.2222222222222222,
              "#7201a8"
             ],
             [
              0.3333333333333333,
              "#9c179e"
             ],
             [
              0.4444444444444444,
              "#bd3786"
             ],
             [
              0.5555555555555556,
              "#d8576b"
             ],
             [
              0.6666666666666666,
              "#ed7953"
             ],
             [
              0.7777777777777778,
              "#fb9f3a"
             ],
             [
              0.8888888888888888,
              "#fdca26"
             ],
             [
              1,
              "#f0f921"
             ]
            ],
            "type": "contour"
           }
          ],
          "contourcarpet": [
           {
            "colorbar": {
             "outlinewidth": 0,
             "ticks": ""
            },
            "type": "contourcarpet"
           }
          ],
          "heatmap": [
           {
            "colorbar": {
             "outlinewidth": 0,
             "ticks": ""
            },
            "colorscale": [
             [
              0,
              "#0d0887"
             ],
             [
              0.1111111111111111,
              "#46039f"
             ],
             [
              0.2222222222222222,
              "#7201a8"
             ],
             [
              0.3333333333333333,
              "#9c179e"
             ],
             [
              0.4444444444444444,
              "#bd3786"
             ],
             [
              0.5555555555555556,
              "#d8576b"
             ],
             [
              0.6666666666666666,
              "#ed7953"
             ],
             [
              0.7777777777777778,
              "#fb9f3a"
             ],
             [
              0.8888888888888888,
              "#fdca26"
             ],
             [
              1,
              "#f0f921"
             ]
            ],
            "type": "heatmap"
           }
          ],
          "heatmapgl": [
           {
            "colorbar": {
             "outlinewidth": 0,
             "ticks": ""
            },
            "colorscale": [
             [
              0,
              "#0d0887"
             ],
             [
              0.1111111111111111,
              "#46039f"
             ],
             [
              0.2222222222222222,
              "#7201a8"
             ],
             [
              0.3333333333333333,
              "#9c179e"
             ],
             [
              0.4444444444444444,
              "#bd3786"
             ],
             [
              0.5555555555555556,
              "#d8576b"
             ],
             [
              0.6666666666666666,
              "#ed7953"
             ],
             [
              0.7777777777777778,
              "#fb9f3a"
             ],
             [
              0.8888888888888888,
              "#fdca26"
             ],
             [
              1,
              "#f0f921"
             ]
            ],
            "type": "heatmapgl"
           }
          ],
          "histogram": [
           {
            "marker": {
             "pattern": {
              "fillmode": "overlay",
              "size": 10,
              "solidity": 0.2
             }
            },
            "type": "histogram"
           }
          ],
          "histogram2d": [
           {
            "colorbar": {
             "outlinewidth": 0,
             "ticks": ""
            },
            "colorscale": [
             [
              0,
              "#0d0887"
             ],
             [
              0.1111111111111111,
              "#46039f"
             ],
             [
              0.2222222222222222,
              "#7201a8"
             ],
             [
              0.3333333333333333,
              "#9c179e"
             ],
             [
              0.4444444444444444,
              "#bd3786"
             ],
             [
              0.5555555555555556,
              "#d8576b"
             ],
             [
              0.6666666666666666,
              "#ed7953"
             ],
             [
              0.7777777777777778,
              "#fb9f3a"
             ],
             [
              0.8888888888888888,
              "#fdca26"
             ],
             [
              1,
              "#f0f921"
             ]
            ],
            "type": "histogram2d"
           }
          ],
          "histogram2dcontour": [
           {
            "colorbar": {
             "outlinewidth": 0,
             "ticks": ""
            },
            "colorscale": [
             [
              0,
              "#0d0887"
             ],
             [
              0.1111111111111111,
              "#46039f"
             ],
             [
              0.2222222222222222,
              "#7201a8"
             ],
             [
              0.3333333333333333,
              "#9c179e"
             ],
             [
              0.4444444444444444,
              "#bd3786"
             ],
             [
              0.5555555555555556,
              "#d8576b"
             ],
             [
              0.6666666666666666,
              "#ed7953"
             ],
             [
              0.7777777777777778,
              "#fb9f3a"
             ],
             [
              0.8888888888888888,
              "#fdca26"
             ],
             [
              1,
              "#f0f921"
             ]
            ],
            "type": "histogram2dcontour"
           }
          ],
          "mesh3d": [
           {
            "colorbar": {
             "outlinewidth": 0,
             "ticks": ""
            },
            "type": "mesh3d"
           }
          ],
          "parcoords": [
           {
            "line": {
             "colorbar": {
              "outlinewidth": 0,
              "ticks": ""
             }
            },
            "type": "parcoords"
           }
          ],
          "pie": [
           {
            "automargin": true,
            "type": "pie"
           }
          ],
          "scatter": [
           {
            "fillpattern": {
             "fillmode": "overlay",
             "size": 10,
             "solidity": 0.2
            },
            "type": "scatter"
           }
          ],
          "scatter3d": [
           {
            "line": {
             "colorbar": {
              "outlinewidth": 0,
              "ticks": ""
             }
            },
            "marker": {
             "colorbar": {
              "outlinewidth": 0,
              "ticks": ""
             }
            },
            "type": "scatter3d"
           }
          ],
          "scattercarpet": [
           {
            "marker": {
             "colorbar": {
              "outlinewidth": 0,
              "ticks": ""
             }
            },
            "type": "scattercarpet"
           }
          ],
          "scattergeo": [
           {
            "marker": {
             "colorbar": {
              "outlinewidth": 0,
              "ticks": ""
             }
            },
            "type": "scattergeo"
           }
          ],
          "scattergl": [
           {
            "marker": {
             "colorbar": {
              "outlinewidth": 0,
              "ticks": ""
             }
            },
            "type": "scattergl"
           }
          ],
          "scattermapbox": [
           {
            "marker": {
             "colorbar": {
              "outlinewidth": 0,
              "ticks": ""
             }
            },
            "type": "scattermapbox"
           }
          ],
          "scatterpolar": [
           {
            "marker": {
             "colorbar": {
              "outlinewidth": 0,
              "ticks": ""
             }
            },
            "type": "scatterpolar"
           }
          ],
          "scatterpolargl": [
           {
            "marker": {
             "colorbar": {
              "outlinewidth": 0,
              "ticks": ""
             }
            },
            "type": "scatterpolargl"
           }
          ],
          "scatterternary": [
           {
            "marker": {
             "colorbar": {
              "outlinewidth": 0,
              "ticks": ""
             }
            },
            "type": "scatterternary"
           }
          ],
          "surface": [
           {
            "colorbar": {
             "outlinewidth": 0,
             "ticks": ""
            },
            "colorscale": [
             [
              0,
              "#0d0887"
             ],
             [
              0.1111111111111111,
              "#46039f"
             ],
             [
              0.2222222222222222,
              "#7201a8"
             ],
             [
              0.3333333333333333,
              "#9c179e"
             ],
             [
              0.4444444444444444,
              "#bd3786"
             ],
             [
              0.5555555555555556,
              "#d8576b"
             ],
             [
              0.6666666666666666,
              "#ed7953"
             ],
             [
              0.7777777777777778,
              "#fb9f3a"
             ],
             [
              0.8888888888888888,
              "#fdca26"
             ],
             [
              1,
              "#f0f921"
             ]
            ],
            "type": "surface"
           }
          ],
          "table": [
           {
            "cells": {
             "fill": {
              "color": "#EBF0F8"
             },
             "line": {
              "color": "white"
             }
            },
            "header": {
             "fill": {
              "color": "#C8D4E3"
             },
             "line": {
              "color": "white"
             }
            },
            "type": "table"
           }
          ]
         },
         "layout": {
          "annotationdefaults": {
           "arrowcolor": "#2a3f5f",
           "arrowhead": 0,
           "arrowwidth": 1
          },
          "autotypenumbers": "strict",
          "coloraxis": {
           "colorbar": {
            "outlinewidth": 0,
            "ticks": ""
           }
          },
          "colorscale": {
           "diverging": [
            [
             0,
             "#8e0152"
            ],
            [
             0.1,
             "#c51b7d"
            ],
            [
             0.2,
             "#de77ae"
            ],
            [
             0.3,
             "#f1b6da"
            ],
            [
             0.4,
             "#fde0ef"
            ],
            [
             0.5,
             "#f7f7f7"
            ],
            [
             0.6,
             "#e6f5d0"
            ],
            [
             0.7,
             "#b8e186"
            ],
            [
             0.8,
             "#7fbc41"
            ],
            [
             0.9,
             "#4d9221"
            ],
            [
             1,
             "#276419"
            ]
           ],
           "sequential": [
            [
             0,
             "#0d0887"
            ],
            [
             0.1111111111111111,
             "#46039f"
            ],
            [
             0.2222222222222222,
             "#7201a8"
            ],
            [
             0.3333333333333333,
             "#9c179e"
            ],
            [
             0.4444444444444444,
             "#bd3786"
            ],
            [
             0.5555555555555556,
             "#d8576b"
            ],
            [
             0.6666666666666666,
             "#ed7953"
            ],
            [
             0.7777777777777778,
             "#fb9f3a"
            ],
            [
             0.8888888888888888,
             "#fdca26"
            ],
            [
             1,
             "#f0f921"
            ]
           ],
           "sequentialminus": [
            [
             0,
             "#0d0887"
            ],
            [
             0.1111111111111111,
             "#46039f"
            ],
            [
             0.2222222222222222,
             "#7201a8"
            ],
            [
             0.3333333333333333,
             "#9c179e"
            ],
            [
             0.4444444444444444,
             "#bd3786"
            ],
            [
             0.5555555555555556,
             "#d8576b"
            ],
            [
             0.6666666666666666,
             "#ed7953"
            ],
            [
             0.7777777777777778,
             "#fb9f3a"
            ],
            [
             0.8888888888888888,
             "#fdca26"
            ],
            [
             1,
             "#f0f921"
            ]
           ]
          },
          "colorway": [
           "#636efa",
           "#EF553B",
           "#00cc96",
           "#ab63fa",
           "#FFA15A",
           "#19d3f3",
           "#FF6692",
           "#B6E880",
           "#FF97FF",
           "#FECB52"
          ],
          "font": {
           "color": "#2a3f5f"
          },
          "geo": {
           "bgcolor": "white",
           "lakecolor": "white",
           "landcolor": "#E5ECF6",
           "showlakes": true,
           "showland": true,
           "subunitcolor": "white"
          },
          "hoverlabel": {
           "align": "left"
          },
          "hovermode": "closest",
          "mapbox": {
           "style": "light"
          },
          "paper_bgcolor": "white",
          "plot_bgcolor": "#E5ECF6",
          "polar": {
           "angularaxis": {
            "gridcolor": "white",
            "linecolor": "white",
            "ticks": ""
           },
           "bgcolor": "#E5ECF6",
           "radialaxis": {
            "gridcolor": "white",
            "linecolor": "white",
            "ticks": ""
           }
          },
          "scene": {
           "xaxis": {
            "backgroundcolor": "#E5ECF6",
            "gridcolor": "white",
            "gridwidth": 2,
            "linecolor": "white",
            "showbackground": true,
            "ticks": "",
            "zerolinecolor": "white"
           },
           "yaxis": {
            "backgroundcolor": "#E5ECF6",
            "gridcolor": "white",
            "gridwidth": 2,
            "linecolor": "white",
            "showbackground": true,
            "ticks": "",
            "zerolinecolor": "white"
           },
           "zaxis": {
            "backgroundcolor": "#E5ECF6",
            "gridcolor": "white",
            "gridwidth": 2,
            "linecolor": "white",
            "showbackground": true,
            "ticks": "",
            "zerolinecolor": "white"
           }
          },
          "shapedefaults": {
           "line": {
            "color": "#2a3f5f"
           }
          },
          "ternary": {
           "aaxis": {
            "gridcolor": "white",
            "linecolor": "white",
            "ticks": ""
           },
           "baxis": {
            "gridcolor": "white",
            "linecolor": "white",
            "ticks": ""
           },
           "bgcolor": "#E5ECF6",
           "caxis": {
            "gridcolor": "white",
            "linecolor": "white",
            "ticks": ""
           }
          },
          "title": {
           "x": 0.05
          },
          "xaxis": {
           "automargin": true,
           "gridcolor": "white",
           "linecolor": "white",
           "ticks": "",
           "title": {
            "standoff": 15
           },
           "zerolinecolor": "white",
           "zerolinewidth": 2
          },
          "yaxis": {
           "automargin": true,
           "gridcolor": "white",
           "linecolor": "white",
           "ticks": "",
           "title": {
            "standoff": 15
           },
           "zerolinecolor": "white",
           "zerolinewidth": 2
          }
         }
        },
        "title": {
         "font": {
          "color": "#4D5663"
         }
        },
        "xaxis": {
         "autorange": true,
         "gridcolor": "#E1E5ED",
         "range": [
          -0.5,
          3.5
         ],
         "showgrid": true,
         "tickfont": {
          "color": "#4D5663"
         },
         "title": {
          "font": {
           "color": "#4D5663"
          },
          "text": ""
         },
         "type": "category",
         "zerolinecolor": "#E1E5ED"
        },
        "yaxis": {
         "autorange": true,
         "gridcolor": "#E1E5ED",
         "range": [
          0,
          105.26315789473684
         ],
         "showgrid": true,
         "tickfont": {
          "color": "#4D5663"
         },
         "title": {
          "font": {
           "color": "#4D5663"
          },
          "text": ""
         },
         "type": "linear",
         "zerolinecolor": "#E1E5ED"
        }
       }
      },
      "image/png": "[encoded data removed]",
      "text/html": [
       "<div>                            <div id=\"811d1ec6-76c7-4ba9-9b6b-3841f3f72629\" class=\"plotly-graph-div\" style=\"height:525px; width:100%;\"></div>            <script type=\"text/javascript\">                require([\"plotly\"], function(Plotly) {                    window.PLOTLYENV=window.PLOTLYENV || {};\n",
       "                    window.PLOTLYENV.BASE_URL='https://plot.ly';                                    if (document.getElementById(\"811d1ec6-76c7-4ba9-9b6b-3841f3f72629\")) {                    Plotly.newPlot(                        \"811d1ec6-76c7-4ba9-9b6b-3841f3f72629\",                        [{\"marker\":{\"color\":\"rgba(255, 153, 51, 0.6)\",\"line\":{\"color\":\"rgba(255, 153, 51, 1.0)\",\"width\":1}},\"name\":\"None\",\"orientation\":\"v\",\"text\":\"\",\"x\":[\"A\",\"B\",\"C\",\"D\"],\"y\":[100,100,100,100],\"type\":\"bar\"}],                        {\"legend\":{\"bgcolor\":\"#F5F6F9\",\"font\":{\"color\":\"#4D5663\"}},\"paper_bgcolor\":\"#F5F6F9\",\"plot_bgcolor\":\"#F5F6F9\",\"template\":{\"data\":{\"barpolar\":[{\"marker\":{\"line\":{\"color\":\"#E5ECF6\",\"width\":0.5},\"pattern\":{\"fillmode\":\"overlay\",\"size\":10,\"solidity\":0.2}},\"type\":\"barpolar\"}],\"bar\":[{\"error_x\":{\"color\":\"#2a3f5f\"},\"error_y\":{\"color\":\"#2a3f5f\"},\"marker\":{\"line\":{\"color\":\"#E5ECF6\",\"width\":0.5},\"pattern\":{\"fillmode\":\"overlay\",\"size\":10,\"solidity\":0.2}},\"type\":\"bar\"}],\"carpet\":[{\"aaxis\":{\"endlinecolor\":\"#2a3f5f\",\"gridcolor\":\"white\",\"linecolor\":\"white\",\"minorgridcolor\":\"white\",\"startlinecolor\":\"#2a3f5f\"},\"baxis\":{\"endlinecolor\":\"#2a3f5f\",\"gridcolor\":\"white\",\"linecolor\":\"white\",\"minorgridcolor\":\"white\",\"startlinecolor\":\"#2a3f5f\"},\"type\":\"carpet\"}],\"choropleth\":[{\"colorbar\":{\"outlinewidth\":0,\"ticks\":\"\"},\"type\":\"choropleth\"}],\"contourcarpet\":[{\"colorbar\":{\"outlinewidth\":0,\"ticks\":\"\"},\"type\":\"contourcarpet\"}],\"contour\":[{\"colorbar\":{\"outlinewidth\":0,\"ticks\":\"\"},\"colorscale\":[[0.0,\"#0d0887\"],[0.1111111111111111,\"#46039f\"],[0.2222222222222222,\"#7201a8\"],[0.3333333333333333,\"#9c179e\"],[0.4444444444444444,\"#bd3786\"],[0.5555555555555556,\"#d8576b\"],[0.6666666666666666,\"#ed7953\"],[0.7777777777777778,\"#fb9f3a\"],[0.8888888888888888,\"#fdca26\"],[1.0,\"#f0f921\"]],\"type\":\"contour\"}],\"heatmapgl\":[{\"colorbar\":{\"outlinewidth\":0,\"ticks\":\"\"},\"colorscale\":[[0.0,\"#0d0887\"],[0.1111111111111111,\"#46039f\"],[0.2222222222222222,\"#7201a8\"],[0.3333333333333333,\"#9c179e\"],[0.4444444444444444,\"#bd3786\"],[0.5555555555555556,\"#d8576b\"],[0.6666666666666666,\"#ed7953\"],[0.7777777777777778,\"#fb9f3a\"],[0.8888888888888888,\"#fdca26\"],[1.0,\"#f0f921\"]],\"type\":\"heatmapgl\"}],\"heatmap\":[{\"colorbar\":{\"outlinewidth\":0,\"ticks\":\"\"},\"colorscale\":[[0.0,\"#0d0887\"],[0.1111111111111111,\"#46039f\"],[0.2222222222222222,\"#7201a8\"],[0.3333333333333333,\"#9c179e\"],[0.4444444444444444,\"#bd3786\"],[0.5555555555555556,\"#d8576b\"],[0.6666666666666666,\"#ed7953\"],[0.7777777777777778,\"#fb9f3a\"],[0.8888888888888888,\"#fdca26\"],[1.0,\"#f0f921\"]],\"type\":\"heatmap\"}],\"histogram2dcontour\":[{\"colorbar\":{\"outlinewidth\":0,\"ticks\":\"\"},\"colorscale\":[[0.0,\"#0d0887\"],[0.1111111111111111,\"#46039f\"],[0.2222222222222222,\"#7201a8\"],[0.3333333333333333,\"#9c179e\"],[0.4444444444444444,\"#bd3786\"],[0.5555555555555556,\"#d8576b\"],[0.6666666666666666,\"#ed7953\"],[0.7777777777777778,\"#fb9f3a\"],[0.8888888888888888,\"#fdca26\"],[1.0,\"#f0f921\"]],\"type\":\"histogram2dcontour\"}],\"histogram2d\":[{\"colorbar\":{\"outlinewidth\":0,\"ticks\":\"\"},\"colorscale\":[[0.0,\"#0d0887\"],[0.1111111111111111,\"#46039f\"],[0.2222222222222222,\"#7201a8\"],[0.3333333333333333,\"#9c179e\"],[0.4444444444444444,\"#bd3786\"],[0.5555555555555556,\"#d8576b\"],[0.6666666666666666,\"#ed7953\"],[0.7777777777777778,\"#fb9f3a\"],[0.8888888888888888,\"#fdca26\"],[1.0,\"#f0f921\"]],\"type\":\"histogram2d\"}],\"histogram\":[{\"marker\":{\"pattern\":{\"fillmode\":\"overlay\",\"size\":10,\"solidity\":0.2}},\"type\":\"histogram\"}],\"mesh3d\":[{\"colorbar\":{\"outlinewidth\":0,\"ticks\":\"\"},\"type\":\"mesh3d\"}],\"parcoords\":[{\"line\":{\"colorbar\":{\"outlinewidth\":0,\"ticks\":\"\"}},\"type\":\"parcoords\"}],\"pie\":[{\"automargin\":true,\"type\":\"pie\"}],\"scatter3d\":[{\"line\":{\"colorbar\":{\"outlinewidth\":0,\"ticks\":\"\"}},\"marker\":{\"colorbar\":{\"outlinewidth\":0,\"ticks\":\"\"}},\"type\":\"scatter3d\"}],\"scattercarpet\":[{\"marker\":{\"colorbar\":{\"outlinewidth\":0,\"ticks\":\"\"}},\"type\":\"scattercarpet\"}],\"scattergeo\":[{\"marker\":{\"colorbar\":{\"outlinewidth\":0,\"ticks\":\"\"}},\"type\":\"scattergeo\"}],\"scattergl\":[{\"marker\":{\"colorbar\":{\"outlinewidth\":0,\"ticks\":\"\"}},\"type\":\"scattergl\"}],\"scattermapbox\":[{\"marker\":{\"colorbar\":{\"outlinewidth\":0,\"ticks\":\"\"}},\"type\":\"scattermapbox\"}],\"scatterpolargl\":[{\"marker\":{\"colorbar\":{\"outlinewidth\":0,\"ticks\":\"\"}},\"type\":\"scatterpolargl\"}],\"scatterpolar\":[{\"marker\":{\"colorbar\":{\"outlinewidth\":0,\"ticks\":\"\"}},\"type\":\"scatterpolar\"}],\"scatter\":[{\"fillpattern\":{\"fillmode\":\"overlay\",\"size\":10,\"solidity\":0.2},\"type\":\"scatter\"}],\"scatterternary\":[{\"marker\":{\"colorbar\":{\"outlinewidth\":0,\"ticks\":\"\"}},\"type\":\"scatterternary\"}],\"surface\":[{\"colorbar\":{\"outlinewidth\":0,\"ticks\":\"\"},\"colorscale\":[[0.0,\"#0d0887\"],[0.1111111111111111,\"#46039f\"],[0.2222222222222222,\"#7201a8\"],[0.3333333333333333,\"#9c179e\"],[0.4444444444444444,\"#bd3786\"],[0.5555555555555556,\"#d8576b\"],[0.6666666666666666,\"#ed7953\"],[0.7777777777777778,\"#fb9f3a\"],[0.8888888888888888,\"#fdca26\"],[1.0,\"#f0f921\"]],\"type\":\"surface\"}],\"table\":[{\"cells\":{\"fill\":{\"color\":\"#EBF0F8\"},\"line\":{\"color\":\"white\"}},\"header\":{\"fill\":{\"color\":\"#C8D4E3\"},\"line\":{\"color\":\"white\"}},\"type\":\"table\"}]},\"layout\":{\"annotationdefaults\":{\"arrowcolor\":\"#2a3f5f\",\"arrowhead\":0,\"arrowwidth\":1},\"autotypenumbers\":\"strict\",\"coloraxis\":{\"colorbar\":{\"outlinewidth\":0,\"ticks\":\"\"}},\"colorscale\":{\"diverging\":[[0,\"#8e0152\"],[0.1,\"#c51b7d\"],[0.2,\"#de77ae\"],[0.3,\"#f1b6da\"],[0.4,\"#fde0ef\"],[0.5,\"#f7f7f7\"],[0.6,\"#e6f5d0\"],[0.7,\"#b8e186\"],[0.8,\"#7fbc41\"],[0.9,\"#4d9221\"],[1,\"#276419\"]],\"sequential\":[[0.0,\"#0d0887\"],[0.1111111111111111,\"#46039f\"],[0.2222222222222222,\"#7201a8\"],[0.3333333333333333,\"#9c179e\"],[0.4444444444444444,\"#bd3786\"],[0.5555555555555556,\"#d8576b\"],[0.6666666666666666,\"#ed7953\"],[0.7777777777777778,\"#fb9f3a\"],[0.8888888888888888,\"#fdca26\"],[1.0,\"#f0f921\"]],\"sequentialminus\":[[0.0,\"#0d0887\"],[0.1111111111111111,\"#46039f\"],[0.2222222222222222,\"#7201a8\"],[0.3333333333333333,\"#9c179e\"],[0.4444444444444444,\"#bd3786\"],[0.5555555555555556,\"#d8576b\"],[0.6666666666666666,\"#ed7953\"],[0.7777777777777778,\"#fb9f3a\"],[0.8888888888888888,\"#fdca26\"],[1.0,\"#f0f921\"]]},\"colorway\":[\"#636efa\",\"#EF553B\",\"#00cc96\",\"#ab63fa\",\"#FFA15A\",\"#19d3f3\",\"#FF6692\",\"#B6E880\",\"#FF97FF\",\"#FECB52\"],\"font\":{\"color\":\"#2a3f5f\"},\"geo\":{\"bgcolor\":\"white\",\"lakecolor\":\"white\",\"landcolor\":\"#E5ECF6\",\"showlakes\":true,\"showland\":true,\"subunitcolor\":\"white\"},\"hoverlabel\":{\"align\":\"left\"},\"hovermode\":\"closest\",\"mapbox\":{\"style\":\"light\"},\"paper_bgcolor\":\"white\",\"plot_bgcolor\":\"#E5ECF6\",\"polar\":{\"angularaxis\":{\"gridcolor\":\"white\",\"linecolor\":\"white\",\"ticks\":\"\"},\"bgcolor\":\"#E5ECF6\",\"radialaxis\":{\"gridcolor\":\"white\",\"linecolor\":\"white\",\"ticks\":\"\"}},\"scene\":{\"xaxis\":{\"backgroundcolor\":\"#E5ECF6\",\"gridcolor\":\"white\",\"gridwidth\":2,\"linecolor\":\"white\",\"showbackground\":true,\"ticks\":\"\",\"zerolinecolor\":\"white\"},\"yaxis\":{\"backgroundcolor\":\"#E5ECF6\",\"gridcolor\":\"white\",\"gridwidth\":2,\"linecolor\":\"white\",\"showbackground\":true,\"ticks\":\"\",\"zerolinecolor\":\"white\"},\"zaxis\":{\"backgroundcolor\":\"#E5ECF6\",\"gridcolor\":\"white\",\"gridwidth\":2,\"linecolor\":\"white\",\"showbackground\":true,\"ticks\":\"\",\"zerolinecolor\":\"white\"}},\"shapedefaults\":{\"line\":{\"color\":\"#2a3f5f\"}},\"ternary\":{\"aaxis\":{\"gridcolor\":\"white\",\"linecolor\":\"white\",\"ticks\":\"\"},\"baxis\":{\"gridcolor\":\"white\",\"linecolor\":\"white\",\"ticks\":\"\"},\"bgcolor\":\"#E5ECF6\",\"caxis\":{\"gridcolor\":\"white\",\"linecolor\":\"white\",\"ticks\":\"\"}},\"title\":{\"x\":0.05},\"xaxis\":{\"automargin\":true,\"gridcolor\":\"white\",\"linecolor\":\"white\",\"ticks\":\"\",\"title\":{\"standoff\":15},\"zerolinecolor\":\"white\",\"zerolinewidth\":2},\"yaxis\":{\"automargin\":true,\"gridcolor\":\"white\",\"linecolor\":\"white\",\"ticks\":\"\",\"title\":{\"standoff\":15},\"zerolinecolor\":\"white\",\"zerolinewidth\":2}}},\"title\":{\"font\":{\"color\":\"#4D5663\"}},\"xaxis\":{\"gridcolor\":\"#E1E5ED\",\"showgrid\":true,\"tickfont\":{\"color\":\"#4D5663\"},\"title\":{\"font\":{\"color\":\"#4D5663\"},\"text\":\"\"},\"zerolinecolor\":\"#E1E5ED\"},\"yaxis\":{\"gridcolor\":\"#E1E5ED\",\"showgrid\":true,\"tickfont\":{\"color\":\"#4D5663\"},\"title\":{\"font\":{\"color\":\"#4D5663\"},\"text\":\"\"},\"zerolinecolor\":\"#E1E5ED\"}},                        {\"showLink\": true, \"linkText\": \"Export to plot.ly\", \"plotlyServerURL\": \"https://plot.ly\", \"responsive\": true}                    ).then(function(){\n",
       "                            \n",
       "var gd = document.getElementById('811d1ec6-76c7-4ba9-9b6b-3841f3f72629');\n",
       "var x = new MutationObserver(function (mutations, observer) {{\n",
       "        var display = window.getComputedStyle(gd).display;\n",
       "        if (!display || display === 'none') {{\n",
       "            console.log([gd, 'removed!']);\n",
       "            Plotly.purge(gd);\n",
       "            observer.disconnect();\n",
       "        }}\n",
       "}});\n",
       "\n",
       "// Listen for the removal of the full notebook cells\n",
       "var notebookContainer = gd.closest('#notebook-container');\n",
       "if (notebookContainer) {{\n",
       "    x.observe(notebookContainer, {childList: true});\n",
       "}}\n",
       "\n",
       "// Listen for the clearing of the current output cell\n",
       "var outputEl = gd.closest('.output');\n",
       "if (outputEl) {{\n",
       "    x.observe(outputEl, {childList: true});\n",
       "}}\n",
       "\n",
       "                        })                };                });            </script>        </div>"
      ]
     },
     "metadata": {},
     "output_type": "display_data"
    }
   ],
   "source": [
    "df.count().iplot(kind='bar')"
   ]
  },
  {
   "cell_type": "markdown",
   "metadata": {},
   "source": [
    "## Boxplots"
   ]
  },
  {
   "cell_type": "code",
   "execution_count": 17,
   "metadata": {
    "collapsed": false,
    "jupyter": {
     "outputs_hidden": false
    }
   },
   "outputs": [
    {
     "data": {
      "application/vnd.plotly.v1+json": {
       "config": {
        "linkText": "Export to plot.ly",
        "plotlyServerURL": "https://plot.ly",
        "showLink": true
       },
       "data": [
        {
         "boxpoints": false,
         "line": {
          "width": 1.3
         },
         "marker": {
          "color": "rgba(255, 153, 51, 1.0)"
         },
         "name": "A",
         "orientation": "v",
         "type": "box",
         "y": [
          0.3722499513826081,
          0.44962418847711977,
          -0.19008686316152432,
          0.3505374987768143,
          0.04799058581538711,
          -1.0616808223649041,
          -0.34918097256812286,
          -0.48089881806101076,
          -0.4456760870273539,
          -0.7845441182194487,
          -2.6297966397985317,
          -1.077088111762941,
          -0.5992787254785886,
          2.4004564846490273,
          -1.174814343368501,
          0.792165893059011,
          -1.0125715408371985,
          2.07430622775241,
          0.7235617584236765,
          -0.3256957929742864,
          -0.47522205392682293,
          -2.319204187811456,
          2.1737543325926603,
          -0.06693863467014748,
          2.2224326606271494,
          -0.19668439507305474,
          -0.3905776033461921,
          0.3966405704473405,
          0.35048839239078095,
          -0.4701316366936247,
          1.3006606106658865,
          0.6893948544981483,
          -0.9615751084789473,
          -0.3942103001601378,
          0.7305791326959454,
          -1.9842578058766225,
          0.7443692825956367,
          0.12139364619153553,
          0.6598421360088613,
          -0.0010939429186482609,
          -1.5212483343645706,
          -0.5313954698653767,
          -0.23967668217356503,
          1.38321086057728,
          1.415251735754552,
          -0.29152155442876243,
          0.12324920714653177,
          0.9778606278917786,
          -0.4228000308238359,
          1.1261729051941902,
          1.6324138786501776,
          -1.3197027011686355,
          0.2587713361686644,
          1.4895474238654858,
          -0.5531892445255253,
          1.2888055363696294,
          0.4905527027203285,
          0.9653769455706748,
          -0.42048243053724127,
          1.1745572322932814,
          0.4616626277868517,
          -0.3071957752850886,
          0.2944507495820135,
          -0.9561406727260771,
          0.7419642857087567,
          -0.6027273570253878,
          -0.907942753288384,
          0.23518617948959306,
          -0.19438408200279772,
          -2.1692481246451747,
          0.6811137258559963,
          -0.028253873394904632,
          0.15740165722328445,
          2.132658000392043,
          -0.17172845377821724,
          0.2846300655354166,
          0.7570838467051156,
          -1.362548814735958,
          -0.8966092192548227,
          2.081062883727208,
          1.0010914743347552,
          -0.4834298995851756,
          0.556214916975121,
          0.9757849809919205,
          0.08069545621379347,
          0.06442180423172583,
          -1.1469175868178905,
          -0.85733066562819,
          0.36801353398388825,
          0.026557990871516213,
          -0.7864658073811868,
          -0.14078002328853012,
          0.4362032792494815,
          0.2903823392194604,
          1.1529028827983299,
          -0.35076613029742904,
          -1.1902510156607797,
          0.5240088945099852,
          -0.3172966435958289,
          1.8671430764855006
         ]
        },
        {
         "boxpoints": false,
         "line": {
          "width": 1.3
         },
         "marker": {
          "color": "rgba(55, 128, 191, 1.0)"
         },
         "name": "B",
         "orientation": "v",
         "type": "box",
         "y": [
          -0.09180377812877474,
          1.017158998322427,
          -0.3853355087968358,
          0.24339186432477525,
          0.7546759797806506,
          1.223036267582837,
          -0.9898539898864169,
          0.27279192443264716,
          -0.8909293071765594,
          -1.158444382728826,
          -1.2002806993854744,
          -0.32187516483400946,
          0.400673103397483,
          -0.18441019777648796,
          0.40195163502360554,
          -0.6384845290372737,
          -0.04049291460883738,
          0.736370865957565,
          -1.631448818603992,
          1.051283279098394,
          -0.373777918905386,
          0.5994821282477318,
          -0.16634922846917122,
          1.1196984321287138,
          0.46997964753479254,
          0.7140414607202057,
          0.6368910237927567,
          -0.6979953455340064,
          -0.4831337592451188,
          -0.2887323208295246,
          0.13465965543144492,
          -1.0464943791740509,
          0.5124841158744543,
          -0.3914779293768162,
          -0.01422732365078468,
          1.6603749706051185,
          -0.6379808274717299,
          0.47598913698075374,
          -1.6150528006468738,
          -2.027018545263702,
          -0.994864868613433,
          -0.7571535613479601,
          0.4266814200301229,
          -1.270106146965642,
          0.9616856682221624,
          -2.2180658520491114,
          0.7955866556199922,
          0.470023689776372,
          1.1747149518740854,
          -0.9952283359579319,
          -0.1989586586254375,
          -1.1349526015637381,
          1.4582996352434068,
          0.02644627817215597,
          0.3940096517382582,
          -0.9690617472288557,
          0.805403066375695,
          -1.0097424588219854,
          -0.2388578695257928,
          -0.6485627395247976,
          -0.9620635692494018,
          1.0887688852464492,
          0.688833319261365,
          0.004793949062112339,
          0.7817335868054288,
          -0.1010644196091662,
          0.8353494616788536,
          0.797009754509465,
          0.8093966582698144,
          0.20598454826157453,
          0.3809861608095964,
          -1.021364394835668,
          0.44017507153935526,
          0.027732015936435796,
          2.0311865545276264,
          0.42392026045047293,
          1.3531599885915069,
          -1.0738880994976523,
          1.4709730597355388,
          0.01425321746821192,
          -0.5803052289255062,
          -0.7591045986389185,
          -0.8515039808941258,
          1.3928378698804906,
          0.5290842070612989,
          2.233071733935875,
          0.8202276875963499,
          0.44339921264695986,
          -1.403216254911634,
          -0.1606071797629106,
          -0.3027113922460089,
          1.352482790057738,
          0.2799354343111906,
          1.3924248548020295,
          -0.6272704706804231,
          -1.398862315632276,
          -0.7604376556221797,
          -1.308039606700251,
          0.8219893341478917,
          -0.08226606668768252
         ]
        },
        {
         "boxpoints": false,
         "line": {
          "width": 1.3
         },
         "marker": {
          "color": "rgba(50, 171, 96, 1.0)"
         },
         "name": "C",
         "orientation": "v",
         "type": "box",
         "y": [
          0.07298134671454819,
          -1.0189431283480586,
          -0.8416230072025533,
          -0.7158037290484127,
          1.10815460958818,
          1.699734651982336,
          1.2172108635110934,
          0.5893531561366738,
          0.703790149892571,
          -0.7661600708343558,
          1.0302686919960882,
          0.58341400533127,
          0.7663728034087569,
          0.11472678241326927,
          -0.2311156150377708,
          0.9200704238848368,
          -0.5393382795021103,
          -0.8741745691552509,
          -0.8367042702567877,
          0.9605261542513642,
          -0.6917555286666909,
          0.05249994631857768,
          1.286636743661166,
          0.3282386216822528,
          -1.6898829998457274,
          -0.7117861220335858,
          -0.9826937902387847,
          -0.3179177665120115,
          0.28370779086849207,
          0.015770343866494674,
          -1.8140137848638083,
          1.7763305602880348,
          -0.22932570479628317,
          -0.14706676758670417,
          -0.14992790335977257,
          0.323732035371185,
          -0.6784254404869196,
          0.16463178456319688,
          -0.9817738794634494,
          -0.37318849905704793,
          0.9820227450905029,
          0.2484062968946875,
          0.2439731245253462,
          1.2914736906720432,
          1.1899140062933398,
          0.47455415823086733,
          3.1294597527285246,
          -0.014392951274504056,
          0.22049203099081777,
          0.476633232053598,
          0.9998043228873054,
          0.790271890943665,
          -0.0409388272543176,
          0.9336178884432296,
          1.983046662137306,
          0.19627617418660426,
          0.19486002775199662,
          -0.03216611204590051,
          -0.331719684396715,
          -0.40779583330634467,
          -0.5455775756152103,
          -0.660586148103083,
          1.035133431163175,
          0.9361103888926927,
          -0.14832853650009023,
          -1.4291138652725932,
          -0.035718809980831594,
          0.019692953227940364,
          -0.3154221338372782,
          0.1337386496935077,
          -1.9568398154529791,
          1.3719667786337344,
          -0.2738644968646515,
          -0.3389558418509158,
          -0.9547531962531611,
          -1.4364546643520943,
          -0.3109182949080701,
          -1.0878592655950363,
          0.8872548018021124,
          -1.0523169840362765,
          -0.9046501454515113,
          -0.370077991992961,
          -1.1571074319681762,
          -0.438246065161792,
          -1.6170841773729714,
          0.01299674558648976,
          0.5750061351314767,
          -0.6422842226628253,
          -0.05375863284553952,
          0.6542568970340742,
          -1.428607578049314,
          -0.7565980079528769,
          0.8356505172530585,
          0.4740335141390421,
          0.6160650077802796,
          -0.6759166588843367,
          0.74683641669413,
          2.2383286951455363,
          -1.0914680602443705,
          -0.38971067391465264
         ]
        },
        {
         "boxpoints": false,
         "line": {
          "width": 1.3
         },
         "marker": {
          "color": "rgba(128, 0, 128, 1.0)"
         },
         "name": "D",
         "orientation": "v",
         "type": "box",
         "y": [
          -0.10177775343924063,
          1.2692377601285367,
          -0.7737985159135423,
          -0.45348503211336255,
          0.5352496088463908,
          -1.2244129214926303,
          0.3952502439102554,
          -0.22838158254739416,
          1.5899521453456302,
          -0.7508008494330446,
          1.3107836347952557,
          0.2439632192104698,
          -0.4884835735901655,
          0.8581953978028477,
          0.08039502816987106,
          0.40714645936928306,
          -0.7638332711109559,
          0.9696496697596394,
          -0.4767748712446175,
          -1.8831607035368356,
          -0.3705378238268983,
          0.9401613497380764,
          0.11738967521849902,
          -0.5129113230265762,
          1.583402894192332,
          -2.4791637307436725,
          -0.23172765737529127,
          -0.3680758584494655,
          -1.5166552065296455,
          0.23502429947802078,
          -0.16414419339062336,
          0.7745383822978179,
          -0.4531357552683077,
          -0.29108174105330675,
          -1.4516484320210081,
          -0.10826378598516932,
          -2.9553013306665106,
          -1.0178841565872045,
          0.7335040704291752,
          -0.3290534400522581,
          0.9657867644962549,
          1.083480764406484,
          0.3756333311937002,
          -0.6536125614124135,
          -0.7452186353310412,
          0.21355261927194752,
          -1.0525445492563872,
          -0.7938143438461861,
          0.4202758057122168,
          0.20873187009776645,
          0.9948637706792738,
          -0.10187915203838797,
          -0.020478582362387313,
          2.196315230609195,
          1.1587080642173813,
          0.8536595929123013,
          0.8962399081030321,
          -0.23738968844342637,
          1.799768536331428,
          1.1354992193220899,
          1.4754070076899661,
          -1.3255793819040296,
          -0.06347989892784726,
          -1.1578556170575676,
          -0.394133475435025,
          0.33552462999502547,
          -1.5672186301857214,
          0.4046310913328689,
          -3.1696541062555244,
          -2.0448486022417955,
          0.9068786379444961,
          -1.0786343373141958,
          -0.5328655785565071,
          -0.3938467924695483,
          1.2965508761812679,
          1.5445343336659814,
          -0.18035273880909292,
          -1.7121613128016315,
          0.0026221280769010732,
          -0.09036851894589876,
          0.47850103114470627,
          -1.6000183039622988,
          1.4663148928481642,
          -0.6799368142810139,
          0.007199482669525501,
          -0.8502645806980389,
          0.7367316645598231,
          0.37396262014278747,
          -0.38174350443890576,
          0.8634144073004977,
          0.5836905294629668,
          0.41951771286330625,
          0.15519152103575193,
          0.4135351537993294,
          -0.9418235826372715,
          0.6569786663424649,
          -0.4909571637119055,
          -0.06564223130948511,
          0.09133778348107625,
          -0.1670060717409442
         ]
        }
       ],
       "layout": {
        "autosize": true,
        "legend": {
         "bgcolor": "#F5F6F9",
         "font": {
          "color": "#4D5663"
         }
        },
        "paper_bgcolor": "#F5F6F9",
        "plot_bgcolor": "#F5F6F9",
        "template": {
         "data": {
          "bar": [
           {
            "error_x": {
             "color": "#2a3f5f"
            },
            "error_y": {
             "color": "#2a3f5f"
            },
            "marker": {
             "line": {
              "color": "#E5ECF6",
              "width": 0.5
             },
             "pattern": {
              "fillmode": "overlay",
              "size": 10,
              "solidity": 0.2
             }
            },
            "type": "bar"
           }
          ],
          "barpolar": [
           {
            "marker": {
             "line": {
              "color": "#E5ECF6",
              "width": 0.5
             },
             "pattern": {
              "fillmode": "overlay",
              "size": 10,
              "solidity": 0.2
             }
            },
            "type": "barpolar"
           }
          ],
          "carpet": [
           {
            "aaxis": {
             "endlinecolor": "#2a3f5f",
             "gridcolor": "white",
             "linecolor": "white",
             "minorgridcolor": "white",
             "startlinecolor": "#2a3f5f"
            },
            "baxis": {
             "endlinecolor": "#2a3f5f",
             "gridcolor": "white",
             "linecolor": "white",
             "minorgridcolor": "white",
             "startlinecolor": "#2a3f5f"
            },
            "type": "carpet"
           }
          ],
          "choropleth": [
           {
            "colorbar": {
             "outlinewidth": 0,
             "ticks": ""
            },
            "type": "choropleth"
           }
          ],
          "contour": [
           {
            "colorbar": {
             "outlinewidth": 0,
             "ticks": ""
            },
            "colorscale": [
             [
              0,
              "#0d0887"
             ],
             [
              0.1111111111111111,
              "#46039f"
             ],
             [
              0.2222222222222222,
              "#7201a8"
             ],
             [
              0.3333333333333333,
              "#9c179e"
             ],
             [
              0.4444444444444444,
              "#bd3786"
             ],
             [
              0.5555555555555556,
              "#d8576b"
             ],
             [
              0.6666666666666666,
              "#ed7953"
             ],
             [
              0.7777777777777778,
              "#fb9f3a"
             ],
             [
              0.8888888888888888,
              "#fdca26"
             ],
             [
              1,
              "#f0f921"
             ]
            ],
            "type": "contour"
           }
          ],
          "contourcarpet": [
           {
            "colorbar": {
             "outlinewidth": 0,
             "ticks": ""
            },
            "type": "contourcarpet"
           }
          ],
          "heatmap": [
           {
            "colorbar": {
             "outlinewidth": 0,
             "ticks": ""
            },
            "colorscale": [
             [
              0,
              "#0d0887"
             ],
             [
              0.1111111111111111,
              "#46039f"
             ],
             [
              0.2222222222222222,
              "#7201a8"
             ],
             [
              0.3333333333333333,
              "#9c179e"
             ],
             [
              0.4444444444444444,
              "#bd3786"
             ],
             [
              0.5555555555555556,
              "#d8576b"
             ],
             [
              0.6666666666666666,
              "#ed7953"
             ],
             [
              0.7777777777777778,
              "#fb9f3a"
             ],
             [
              0.8888888888888888,
              "#fdca26"
             ],
             [
              1,
              "#f0f921"
             ]
            ],
            "type": "heatmap"
           }
          ],
          "heatmapgl": [
           {
            "colorbar": {
             "outlinewidth": 0,
             "ticks": ""
            },
            "colorscale": [
             [
              0,
              "#0d0887"
             ],
             [
              0.1111111111111111,
              "#46039f"
             ],
             [
              0.2222222222222222,
              "#7201a8"
             ],
             [
              0.3333333333333333,
              "#9c179e"
             ],
             [
              0.4444444444444444,
              "#bd3786"
             ],
             [
              0.5555555555555556,
              "#d8576b"
             ],
             [
              0.6666666666666666,
              "#ed7953"
             ],
             [
              0.7777777777777778,
              "#fb9f3a"
             ],
             [
              0.8888888888888888,
              "#fdca26"
             ],
             [
              1,
              "#f0f921"
             ]
            ],
            "type": "heatmapgl"
           }
          ],
          "histogram": [
           {
            "marker": {
             "pattern": {
              "fillmode": "overlay",
              "size": 10,
              "solidity": 0.2
             }
            },
            "type": "histogram"
           }
          ],
          "histogram2d": [
           {
            "colorbar": {
             "outlinewidth": 0,
             "ticks": ""
            },
            "colorscale": [
             [
              0,
              "#0d0887"
             ],
             [
              0.1111111111111111,
              "#46039f"
             ],
             [
              0.2222222222222222,
              "#7201a8"
             ],
             [
              0.3333333333333333,
              "#9c179e"
             ],
             [
              0.4444444444444444,
              "#bd3786"
             ],
             [
              0.5555555555555556,
              "#d8576b"
             ],
             [
              0.6666666666666666,
              "#ed7953"
             ],
             [
              0.7777777777777778,
              "#fb9f3a"
             ],
             [
              0.8888888888888888,
              "#fdca26"
             ],
             [
              1,
              "#f0f921"
             ]
            ],
            "type": "histogram2d"
           }
          ],
          "histogram2dcontour": [
           {
            "colorbar": {
             "outlinewidth": 0,
             "ticks": ""
            },
            "colorscale": [
             [
              0,
              "#0d0887"
             ],
             [
              0.1111111111111111,
              "#46039f"
             ],
             [
              0.2222222222222222,
              "#7201a8"
             ],
             [
              0.3333333333333333,
              "#9c179e"
             ],
             [
              0.4444444444444444,
              "#bd3786"
             ],
             [
              0.5555555555555556,
              "#d8576b"
             ],
             [
              0.6666666666666666,
              "#ed7953"
             ],
             [
              0.7777777777777778,
              "#fb9f3a"
             ],
             [
              0.8888888888888888,
              "#fdca26"
             ],
             [
              1,
              "#f0f921"
             ]
            ],
            "type": "histogram2dcontour"
           }
          ],
          "mesh3d": [
           {
            "colorbar": {
             "outlinewidth": 0,
             "ticks": ""
            },
            "type": "mesh3d"
           }
          ],
          "parcoords": [
           {
            "line": {
             "colorbar": {
              "outlinewidth": 0,
              "ticks": ""
             }
            },
            "type": "parcoords"
           }
          ],
          "pie": [
           {
            "automargin": true,
            "type": "pie"
           }
          ],
          "scatter": [
           {
            "fillpattern": {
             "fillmode": "overlay",
             "size": 10,
             "solidity": 0.2
            },
            "type": "scatter"
           }
          ],
          "scatter3d": [
           {
            "line": {
             "colorbar": {
              "outlinewidth": 0,
              "ticks": ""
             }
            },
            "marker": {
             "colorbar": {
              "outlinewidth": 0,
              "ticks": ""
             }
            },
            "type": "scatter3d"
           }
          ],
          "scattercarpet": [
           {
            "marker": {
             "colorbar": {
              "outlinewidth": 0,
              "ticks": ""
             }
            },
            "type": "scattercarpet"
           }
          ],
          "scattergeo": [
           {
            "marker": {
             "colorbar": {
              "outlinewidth": 0,
              "ticks": ""
             }
            },
            "type": "scattergeo"
           }
          ],
          "scattergl": [
           {
            "marker": {
             "colorbar": {
              "outlinewidth": 0,
              "ticks": ""
             }
            },
            "type": "scattergl"
           }
          ],
          "scattermapbox": [
           {
            "marker": {
             "colorbar": {
              "outlinewidth": 0,
              "ticks": ""
             }
            },
            "type": "scattermapbox"
           }
          ],
          "scatterpolar": [
           {
            "marker": {
             "colorbar": {
              "outlinewidth": 0,
              "ticks": ""
             }
            },
            "type": "scatterpolar"
           }
          ],
          "scatterpolargl": [
           {
            "marker": {
             "colorbar": {
              "outlinewidth": 0,
              "ticks": ""
             }
            },
            "type": "scatterpolargl"
           }
          ],
          "scatterternary": [
           {
            "marker": {
             "colorbar": {
              "outlinewidth": 0,
              "ticks": ""
             }
            },
            "type": "scatterternary"
           }
          ],
          "surface": [
           {
            "colorbar": {
             "outlinewidth": 0,
             "ticks": ""
            },
            "colorscale": [
             [
              0,
              "#0d0887"
             ],
             [
              0.1111111111111111,
              "#46039f"
             ],
             [
              0.2222222222222222,
              "#7201a8"
             ],
             [
              0.3333333333333333,
              "#9c179e"
             ],
             [
              0.4444444444444444,
              "#bd3786"
             ],
             [
              0.5555555555555556,
              "#d8576b"
             ],
             [
              0.6666666666666666,
              "#ed7953"
             ],
             [
              0.7777777777777778,
              "#fb9f3a"
             ],
             [
              0.8888888888888888,
              "#fdca26"
             ],
             [
              1,
              "#f0f921"
             ]
            ],
            "type": "surface"
           }
          ],
          "table": [
           {
            "cells": {
             "fill": {
              "color": "#EBF0F8"
             },
             "line": {
              "color": "white"
             }
            },
            "header": {
             "fill": {
              "color": "#C8D4E3"
             },
             "line": {
              "color": "white"
             }
            },
            "type": "table"
           }
          ]
         },
         "layout": {
          "annotationdefaults": {
           "arrowcolor": "#2a3f5f",
           "arrowhead": 0,
           "arrowwidth": 1
          },
          "autotypenumbers": "strict",
          "coloraxis": {
           "colorbar": {
            "outlinewidth": 0,
            "ticks": ""
           }
          },
          "colorscale": {
           "diverging": [
            [
             0,
             "#8e0152"
            ],
            [
             0.1,
             "#c51b7d"
            ],
            [
             0.2,
             "#de77ae"
            ],
            [
             0.3,
             "#f1b6da"
            ],
            [
             0.4,
             "#fde0ef"
            ],
            [
             0.5,
             "#f7f7f7"
            ],
            [
             0.6,
             "#e6f5d0"
            ],
            [
             0.7,
             "#b8e186"
            ],
            [
             0.8,
             "#7fbc41"
            ],
            [
             0.9,
             "#4d9221"
            ],
            [
             1,
             "#276419"
            ]
           ],
           "sequential": [
            [
             0,
             "#0d0887"
            ],
            [
             0.1111111111111111,
             "#46039f"
            ],
            [
             0.2222222222222222,
             "#7201a8"
            ],
            [
             0.3333333333333333,
             "#9c179e"
            ],
            [
             0.4444444444444444,
             "#bd3786"
            ],
            [
             0.5555555555555556,
             "#d8576b"
            ],
            [
             0.6666666666666666,
             "#ed7953"
            ],
            [
             0.7777777777777778,
             "#fb9f3a"
            ],
            [
             0.8888888888888888,
             "#fdca26"
            ],
            [
             1,
             "#f0f921"
            ]
           ],
           "sequentialminus": [
            [
             0,
             "#0d0887"
            ],
            [
             0.1111111111111111,
             "#46039f"
            ],
            [
             0.2222222222222222,
             "#7201a8"
            ],
            [
             0.3333333333333333,
             "#9c179e"
            ],
            [
             0.4444444444444444,
             "#bd3786"
            ],
            [
             0.5555555555555556,
             "#d8576b"
            ],
            [
             0.6666666666666666,
             "#ed7953"
            ],
            [
             0.7777777777777778,
             "#fb9f3a"
            ],
            [
             0.8888888888888888,
             "#fdca26"
            ],
            [
             1,
             "#f0f921"
            ]
           ]
          },
          "colorway": [
           "#636efa",
           "#EF553B",
           "#00cc96",
           "#ab63fa",
           "#FFA15A",
           "#19d3f3",
           "#FF6692",
           "#B6E880",
           "#FF97FF",
           "#FECB52"
          ],
          "font": {
           "color": "#2a3f5f"
          },
          "geo": {
           "bgcolor": "white",
           "lakecolor": "white",
           "landcolor": "#E5ECF6",
           "showlakes": true,
           "showland": true,
           "subunitcolor": "white"
          },
          "hoverlabel": {
           "align": "left"
          },
          "hovermode": "closest",
          "mapbox": {
           "style": "light"
          },
          "paper_bgcolor": "white",
          "plot_bgcolor": "#E5ECF6",
          "polar": {
           "angularaxis": {
            "gridcolor": "white",
            "linecolor": "white",
            "ticks": ""
           },
           "bgcolor": "#E5ECF6",
           "radialaxis": {
            "gridcolor": "white",
            "linecolor": "white",
            "ticks": ""
           }
          },
          "scene": {
           "xaxis": {
            "backgroundcolor": "#E5ECF6",
            "gridcolor": "white",
            "gridwidth": 2,
            "linecolor": "white",
            "showbackground": true,
            "ticks": "",
            "zerolinecolor": "white"
           },
           "yaxis": {
            "backgroundcolor": "#E5ECF6",
            "gridcolor": "white",
            "gridwidth": 2,
            "linecolor": "white",
            "showbackground": true,
            "ticks": "",
            "zerolinecolor": "white"
           },
           "zaxis": {
            "backgroundcolor": "#E5ECF6",
            "gridcolor": "white",
            "gridwidth": 2,
            "linecolor": "white",
            "showbackground": true,
            "ticks": "",
            "zerolinecolor": "white"
           }
          },
          "shapedefaults": {
           "line": {
            "color": "#2a3f5f"
           }
          },
          "ternary": {
           "aaxis": {
            "gridcolor": "white",
            "linecolor": "white",
            "ticks": ""
           },
           "baxis": {
            "gridcolor": "white",
            "linecolor": "white",
            "ticks": ""
           },
           "bgcolor": "#E5ECF6",
           "caxis": {
            "gridcolor": "white",
            "linecolor": "white",
            "ticks": ""
           }
          },
          "title": {
           "x": 0.05
          },
          "xaxis": {
           "automargin": true,
           "gridcolor": "white",
           "linecolor": "white",
           "ticks": "",
           "title": {
            "standoff": 15
           },
           "zerolinecolor": "white",
           "zerolinewidth": 2
          },
          "yaxis": {
           "automargin": true,
           "gridcolor": "white",
           "linecolor": "white",
           "ticks": "",
           "title": {
            "standoff": 15
           },
           "zerolinecolor": "white",
           "zerolinewidth": 2
          }
         }
        },
        "title": {
         "font": {
          "color": "#4D5663"
         }
        },
        "xaxis": {
         "autorange": true,
         "gridcolor": "#E1E5ED",
         "range": [
          -0.5,
          3.5
         ],
         "showgrid": true,
         "tickfont": {
          "color": "#4D5663"
         },
         "title": {
          "font": {
           "color": "#4D5663"
          },
          "text": ""
         },
         "type": "category",
         "zerolinecolor": "#E1E5ED"
        },
        "yaxis": {
         "autorange": true,
         "gridcolor": "#E1E5ED",
         "range": [
          -3.519604876199083,
          3.479410522672083
         ],
         "showgrid": true,
         "tickfont": {
          "color": "#4D5663"
         },
         "title": {
          "font": {
           "color": "#4D5663"
          },
          "text": ""
         },
         "type": "linear",
         "zerolinecolor": "#E1E5ED"
        }
       }
      },
      "image/png": "[encoded data removed]",
      "text/html": [
       "<div>                            <div id=\"16d1b13a-6b4f-4cef-9efa-2d48b4345599\" class=\"plotly-graph-div\" style=\"height:525px; width:100%;\"></div>            <script type=\"text/javascript\">                require([\"plotly\"], function(Plotly) {                    window.PLOTLYENV=window.PLOTLYENV || {};\n",
       "                    window.PLOTLYENV.BASE_URL='https://plot.ly';                                    if (document.getElementById(\"16d1b13a-6b4f-4cef-9efa-2d48b4345599\")) {                    Plotly.newPlot(                        \"16d1b13a-6b4f-4cef-9efa-2d48b4345599\",                        [{\"boxpoints\":false,\"line\":{\"width\":1.3},\"marker\":{\"color\":\"rgba(255, 153, 51, 1.0)\"},\"name\":\"A\",\"orientation\":\"v\",\"y\":[0.3722499513826081,0.44962418847711977,-0.19008686316152432,0.3505374987768143,0.04799058581538711,-1.0616808223649041,-0.34918097256812286,-0.48089881806101076,-0.4456760870273539,-0.7845441182194487,-2.6297966397985317,-1.077088111762941,-0.5992787254785886,2.4004564846490273,-1.174814343368501,0.792165893059011,-1.0125715408371985,2.07430622775241,0.7235617584236765,-0.3256957929742864,-0.47522205392682293,-2.319204187811456,2.1737543325926603,-0.06693863467014748,2.2224326606271494,-0.19668439507305474,-0.3905776033461921,0.3966405704473405,0.35048839239078095,-0.4701316366936247,1.3006606106658865,0.6893948544981483,-0.9615751084789473,-0.3942103001601378,0.7305791326959454,-1.9842578058766225,0.7443692825956367,0.12139364619153553,0.6598421360088613,-0.0010939429186482609,-1.5212483343645706,-0.5313954698653767,-0.23967668217356503,1.38321086057728,1.415251735754552,-0.29152155442876243,0.12324920714653177,0.9778606278917786,-0.4228000308238359,1.1261729051941902,1.6324138786501776,-1.3197027011686355,0.2587713361686644,1.4895474238654858,-0.5531892445255253,1.2888055363696294,0.4905527027203285,0.9653769455706748,-0.42048243053724127,1.1745572322932814,0.4616626277868517,-0.3071957752850886,0.2944507495820135,-0.9561406727260771,0.7419642857087567,-0.6027273570253878,-0.907942753288384,0.23518617948959306,-0.19438408200279772,-2.1692481246451747,0.6811137258559963,-0.028253873394904632,0.15740165722328445,2.132658000392043,-0.17172845377821724,0.2846300655354166,0.7570838467051156,-1.362548814735958,-0.8966092192548227,2.081062883727208,1.0010914743347552,-0.4834298995851756,0.556214916975121,0.9757849809919205,0.08069545621379347,0.06442180423172583,-1.1469175868178905,-0.85733066562819,0.36801353398388825,0.026557990871516213,-0.7864658073811868,-0.14078002328853012,0.4362032792494815,0.2903823392194604,1.1529028827983299,-0.35076613029742904,-1.1902510156607797,0.5240088945099852,-0.3172966435958289,1.8671430764855006],\"type\":\"box\"},{\"boxpoints\":false,\"line\":{\"width\":1.3},\"marker\":{\"color\":\"rgba(55, 128, 191, 1.0)\"},\"name\":\"B\",\"orientation\":\"v\",\"y\":[-0.09180377812877474,1.017158998322427,-0.3853355087968358,0.24339186432477525,0.7546759797806506,1.223036267582837,-0.9898539898864169,0.27279192443264716,-0.8909293071765594,-1.158444382728826,-1.2002806993854744,-0.32187516483400946,0.400673103397483,-0.18441019777648796,0.40195163502360554,-0.6384845290372737,-0.04049291460883738,0.736370865957565,-1.631448818603992,1.051283279098394,-0.373777918905386,0.5994821282477318,-0.16634922846917122,1.1196984321287138,0.46997964753479254,0.7140414607202057,0.6368910237927567,-0.6979953455340064,-0.4831337592451188,-0.2887323208295246,0.13465965543144492,-1.0464943791740509,0.5124841158744543,-0.3914779293768162,-0.01422732365078468,1.6603749706051185,-0.6379808274717299,0.47598913698075374,-1.6150528006468738,-2.027018545263702,-0.994864868613433,-0.7571535613479601,0.4266814200301229,-1.270106146965642,0.9616856682221624,-2.2180658520491114,0.7955866556199922,0.470023689776372,1.1747149518740854,-0.9952283359579319,-0.1989586586254375,-1.1349526015637381,1.4582996352434068,0.02644627817215597,0.3940096517382582,-0.9690617472288557,0.805403066375695,-1.0097424588219854,-0.2388578695257928,-0.6485627395247976,-0.9620635692494018,1.0887688852464492,0.688833319261365,0.004793949062112339,0.7817335868054288,-0.1010644196091662,0.8353494616788536,0.797009754509465,0.8093966582698144,0.20598454826157453,0.3809861608095964,-1.021364394835668,0.44017507153935526,0.027732015936435796,2.0311865545276264,0.42392026045047293,1.3531599885915069,-1.0738880994976523,1.4709730597355388,0.01425321746821192,-0.5803052289255062,-0.7591045986389185,-0.8515039808941258,1.3928378698804906,0.5290842070612989,2.233071733935875,0.8202276875963499,0.44339921264695986,-1.403216254911634,-0.1606071797629106,-0.3027113922460089,1.352482790057738,0.2799354343111906,1.3924248548020295,-0.6272704706804231,-1.398862315632276,-0.7604376556221797,-1.308039606700251,0.8219893341478917,-0.08226606668768252],\"type\":\"box\"},{\"boxpoints\":false,\"line\":{\"width\":1.3},\"marker\":{\"color\":\"rgba(50, 171, 96, 1.0)\"},\"name\":\"C\",\"orientation\":\"v\",\"y\":[0.07298134671454819,-1.0189431283480586,-0.8416230072025533,-0.7158037290484127,1.10815460958818,1.699734651982336,1.2172108635110934,0.5893531561366738,0.703790149892571,-0.7661600708343558,1.0302686919960882,0.58341400533127,0.7663728034087569,0.11472678241326927,-0.2311156150377708,0.9200704238848368,-0.5393382795021103,-0.8741745691552509,-0.8367042702567877,0.9605261542513642,-0.6917555286666909,0.05249994631857768,1.286636743661166,0.3282386216822528,-1.6898829998457274,-0.7117861220335858,-0.9826937902387847,-0.3179177665120115,0.28370779086849207,0.015770343866494674,-1.8140137848638083,1.7763305602880348,-0.22932570479628317,-0.14706676758670417,-0.14992790335977257,0.323732035371185,-0.6784254404869196,0.16463178456319688,-0.9817738794634494,-0.37318849905704793,0.9820227450905029,0.2484062968946875,0.2439731245253462,1.2914736906720432,1.1899140062933398,0.47455415823086733,3.1294597527285246,-0.014392951274504056,0.22049203099081777,0.476633232053598,0.9998043228873054,0.790271890943665,-0.0409388272543176,0.9336178884432296,1.983046662137306,0.19627617418660426,0.19486002775199662,-0.03216611204590051,-0.331719684396715,-0.40779583330634467,-0.5455775756152103,-0.660586148103083,1.035133431163175,0.9361103888926927,-0.14832853650009023,-1.4291138652725932,-0.035718809980831594,0.019692953227940364,-0.3154221338372782,0.1337386496935077,-1.9568398154529791,1.3719667786337344,-0.2738644968646515,-0.3389558418509158,-0.9547531962531611,-1.4364546643520943,-0.3109182949080701,-1.0878592655950363,0.8872548018021124,-1.0523169840362765,-0.9046501454515113,-0.370077991992961,-1.1571074319681762,-0.438246065161792,-1.6170841773729714,0.01299674558648976,0.5750061351314767,-0.6422842226628253,-0.05375863284553952,0.6542568970340742,-1.428607578049314,-0.7565980079528769,0.8356505172530585,0.4740335141390421,0.6160650077802796,-0.6759166588843367,0.74683641669413,2.2383286951455363,-1.0914680602443705,-0.38971067391465264],\"type\":\"box\"},{\"boxpoints\":false,\"line\":{\"width\":1.3},\"marker\":{\"color\":\"rgba(128, 0, 128, 1.0)\"},\"name\":\"D\",\"orientation\":\"v\",\"y\":[-0.10177775343924063,1.2692377601285367,-0.7737985159135423,-0.45348503211336255,0.5352496088463908,-1.2244129214926303,0.3952502439102554,-0.22838158254739416,1.5899521453456302,-0.7508008494330446,1.3107836347952557,0.2439632192104698,-0.4884835735901655,0.8581953978028477,0.08039502816987106,0.40714645936928306,-0.7638332711109559,0.9696496697596394,-0.4767748712446175,-1.8831607035368356,-0.3705378238268983,0.9401613497380764,0.11738967521849902,-0.5129113230265762,1.583402894192332,-2.4791637307436725,-0.23172765737529127,-0.3680758584494655,-1.5166552065296455,0.23502429947802078,-0.16414419339062336,0.7745383822978179,-0.4531357552683077,-0.29108174105330675,-1.4516484320210081,-0.10826378598516932,-2.9553013306665106,-1.0178841565872045,0.7335040704291752,-0.3290534400522581,0.9657867644962549,1.083480764406484,0.3756333311937002,-0.6536125614124135,-0.7452186353310412,0.21355261927194752,-1.0525445492563872,-0.7938143438461861,0.4202758057122168,0.20873187009776645,0.9948637706792738,-0.10187915203838797,-0.020478582362387313,2.196315230609195,1.1587080642173813,0.8536595929123013,0.8962399081030321,-0.23738968844342637,1.799768536331428,1.1354992193220899,1.4754070076899661,-1.3255793819040296,-0.06347989892784726,-1.1578556170575676,-0.394133475435025,0.33552462999502547,-1.5672186301857214,0.4046310913328689,-3.1696541062555244,-2.0448486022417955,0.9068786379444961,-1.0786343373141958,-0.5328655785565071,-0.3938467924695483,1.2965508761812679,1.5445343336659814,-0.18035273880909292,-1.7121613128016315,0.0026221280769010732,-0.09036851894589876,0.47850103114470627,-1.6000183039622988,1.4663148928481642,-0.6799368142810139,0.007199482669525501,-0.8502645806980389,0.7367316645598231,0.37396262014278747,-0.38174350443890576,0.8634144073004977,0.5836905294629668,0.41951771286330625,0.15519152103575193,0.4135351537993294,-0.9418235826372715,0.6569786663424649,-0.4909571637119055,-0.06564223130948511,0.09133778348107625,-0.1670060717409442],\"type\":\"box\"}],                        {\"legend\":{\"bgcolor\":\"#F5F6F9\",\"font\":{\"color\":\"#4D5663\"}},\"paper_bgcolor\":\"#F5F6F9\",\"plot_bgcolor\":\"#F5F6F9\",\"template\":{\"data\":{\"barpolar\":[{\"marker\":{\"line\":{\"color\":\"#E5ECF6\",\"width\":0.5},\"pattern\":{\"fillmode\":\"overlay\",\"size\":10,\"solidity\":0.2}},\"type\":\"barpolar\"}],\"bar\":[{\"error_x\":{\"color\":\"#2a3f5f\"},\"error_y\":{\"color\":\"#2a3f5f\"},\"marker\":{\"line\":{\"color\":\"#E5ECF6\",\"width\":0.5},\"pattern\":{\"fillmode\":\"overlay\",\"size\":10,\"solidity\":0.2}},\"type\":\"bar\"}],\"carpet\":[{\"aaxis\":{\"endlinecolor\":\"#2a3f5f\",\"gridcolor\":\"white\",\"linecolor\":\"white\",\"minorgridcolor\":\"white\",\"startlinecolor\":\"#2a3f5f\"},\"baxis\":{\"endlinecolor\":\"#2a3f5f\",\"gridcolor\":\"white\",\"linecolor\":\"white\",\"minorgridcolor\":\"white\",\"startlinecolor\":\"#2a3f5f\"},\"type\":\"carpet\"}],\"choropleth\":[{\"colorbar\":{\"outlinewidth\":0,\"ticks\":\"\"},\"type\":\"choropleth\"}],\"contourcarpet\":[{\"colorbar\":{\"outlinewidth\":0,\"ticks\":\"\"},\"type\":\"contourcarpet\"}],\"contour\":[{\"colorbar\":{\"outlinewidth\":0,\"ticks\":\"\"},\"colorscale\":[[0.0,\"#0d0887\"],[0.1111111111111111,\"#46039f\"],[0.2222222222222222,\"#7201a8\"],[0.3333333333333333,\"#9c179e\"],[0.4444444444444444,\"#bd3786\"],[0.5555555555555556,\"#d8576b\"],[0.6666666666666666,\"#ed7953\"],[0.7777777777777778,\"#fb9f3a\"],[0.8888888888888888,\"#fdca26\"],[1.0,\"#f0f921\"]],\"type\":\"contour\"}],\"heatmapgl\":[{\"colorbar\":{\"outlinewidth\":0,\"ticks\":\"\"},\"colorscale\":[[0.0,\"#0d0887\"],[0.1111111111111111,\"#46039f\"],[0.2222222222222222,\"#7201a8\"],[0.3333333333333333,\"#9c179e\"],[0.4444444444444444,\"#bd3786\"],[0.5555555555555556,\"#d8576b\"],[0.6666666666666666,\"#ed7953\"],[0.7777777777777778,\"#fb9f3a\"],[0.8888888888888888,\"#fdca26\"],[1.0,\"#f0f921\"]],\"type\":\"heatmapgl\"}],\"heatmap\":[{\"colorbar\":{\"outlinewidth\":0,\"ticks\":\"\"},\"colorscale\":[[0.0,\"#0d0887\"],[0.1111111111111111,\"#46039f\"],[0.2222222222222222,\"#7201a8\"],[0.3333333333333333,\"#9c179e\"],[0.4444444444444444,\"#bd3786\"],[0.5555555555555556,\"#d8576b\"],[0.6666666666666666,\"#ed7953\"],[0.7777777777777778,\"#fb9f3a\"],[0.8888888888888888,\"#fdca26\"],[1.0,\"#f0f921\"]],\"type\":\"heatmap\"}],\"histogram2dcontour\":[{\"colorbar\":{\"outlinewidth\":0,\"ticks\":\"\"},\"colorscale\":[[0.0,\"#0d0887\"],[0.1111111111111111,\"#46039f\"],[0.2222222222222222,\"#7201a8\"],[0.3333333333333333,\"#9c179e\"],[0.4444444444444444,\"#bd3786\"],[0.5555555555555556,\"#d8576b\"],[0.6666666666666666,\"#ed7953\"],[0.7777777777777778,\"#fb9f3a\"],[0.8888888888888888,\"#fdca26\"],[1.0,\"#f0f921\"]],\"type\":\"histogram2dcontour\"}],\"histogram2d\":[{\"colorbar\":{\"outlinewidth\":0,\"ticks\":\"\"},\"colorscale\":[[0.0,\"#0d0887\"],[0.1111111111111111,\"#46039f\"],[0.2222222222222222,\"#7201a8\"],[0.3333333333333333,\"#9c179e\"],[0.4444444444444444,\"#bd3786\"],[0.5555555555555556,\"#d8576b\"],[0.6666666666666666,\"#ed7953\"],[0.7777777777777778,\"#fb9f3a\"],[0.8888888888888888,\"#fdca26\"],[1.0,\"#f0f921\"]],\"type\":\"histogram2d\"}],\"histogram\":[{\"marker\":{\"pattern\":{\"fillmode\":\"overlay\",\"size\":10,\"solidity\":0.2}},\"type\":\"histogram\"}],\"mesh3d\":[{\"colorbar\":{\"outlinewidth\":0,\"ticks\":\"\"},\"type\":\"mesh3d\"}],\"parcoords\":[{\"line\":{\"colorbar\":{\"outlinewidth\":0,\"ticks\":\"\"}},\"type\":\"parcoords\"}],\"pie\":[{\"automargin\":true,\"type\":\"pie\"}],\"scatter3d\":[{\"line\":{\"colorbar\":{\"outlinewidth\":0,\"ticks\":\"\"}},\"marker\":{\"colorbar\":{\"outlinewidth\":0,\"ticks\":\"\"}},\"type\":\"scatter3d\"}],\"scattercarpet\":[{\"marker\":{\"colorbar\":{\"outlinewidth\":0,\"ticks\":\"\"}},\"type\":\"scattercarpet\"}],\"scattergeo\":[{\"marker\":{\"colorbar\":{\"outlinewidth\":0,\"ticks\":\"\"}},\"type\":\"scattergeo\"}],\"scattergl\":[{\"marker\":{\"colorbar\":{\"outlinewidth\":0,\"ticks\":\"\"}},\"type\":\"scattergl\"}],\"scattermapbox\":[{\"marker\":{\"colorbar\":{\"outlinewidth\":0,\"ticks\":\"\"}},\"type\":\"scattermapbox\"}],\"scatterpolargl\":[{\"marker\":{\"colorbar\":{\"outlinewidth\":0,\"ticks\":\"\"}},\"type\":\"scatterpolargl\"}],\"scatterpolar\":[{\"marker\":{\"colorbar\":{\"outlinewidth\":0,\"ticks\":\"\"}},\"type\":\"scatterpolar\"}],\"scatter\":[{\"fillpattern\":{\"fillmode\":\"overlay\",\"size\":10,\"solidity\":0.2},\"type\":\"scatter\"}],\"scatterternary\":[{\"marker\":{\"colorbar\":{\"outlinewidth\":0,\"ticks\":\"\"}},\"type\":\"scatterternary\"}],\"surface\":[{\"colorbar\":{\"outlinewidth\":0,\"ticks\":\"\"},\"colorscale\":[[0.0,\"#0d0887\"],[0.1111111111111111,\"#46039f\"],[0.2222222222222222,\"#7201a8\"],[0.3333333333333333,\"#9c179e\"],[0.4444444444444444,\"#bd3786\"],[0.5555555555555556,\"#d8576b\"],[0.6666666666666666,\"#ed7953\"],[0.7777777777777778,\"#fb9f3a\"],[0.8888888888888888,\"#fdca26\"],[1.0,\"#f0f921\"]],\"type\":\"surface\"}],\"table\":[{\"cells\":{\"fill\":{\"color\":\"#EBF0F8\"},\"line\":{\"color\":\"white\"}},\"header\":{\"fill\":{\"color\":\"#C8D4E3\"},\"line\":{\"color\":\"white\"}},\"type\":\"table\"}]},\"layout\":{\"annotationdefaults\":{\"arrowcolor\":\"#2a3f5f\",\"arrowhead\":0,\"arrowwidth\":1},\"autotypenumbers\":\"strict\",\"coloraxis\":{\"colorbar\":{\"outlinewidth\":0,\"ticks\":\"\"}},\"colorscale\":{\"diverging\":[[0,\"#8e0152\"],[0.1,\"#c51b7d\"],[0.2,\"#de77ae\"],[0.3,\"#f1b6da\"],[0.4,\"#fde0ef\"],[0.5,\"#f7f7f7\"],[0.6,\"#e6f5d0\"],[0.7,\"#b8e186\"],[0.8,\"#7fbc41\"],[0.9,\"#4d9221\"],[1,\"#276419\"]],\"sequential\":[[0.0,\"#0d0887\"],[0.1111111111111111,\"#46039f\"],[0.2222222222222222,\"#7201a8\"],[0.3333333333333333,\"#9c179e\"],[0.4444444444444444,\"#bd3786\"],[0.5555555555555556,\"#d8576b\"],[0.6666666666666666,\"#ed7953\"],[0.7777777777777778,\"#fb9f3a\"],[0.8888888888888888,\"#fdca26\"],[1.0,\"#f0f921\"]],\"sequentialminus\":[[0.0,\"#0d0887\"],[0.1111111111111111,\"#46039f\"],[0.2222222222222222,\"#7201a8\"],[0.3333333333333333,\"#9c179e\"],[0.4444444444444444,\"#bd3786\"],[0.5555555555555556,\"#d8576b\"],[0.6666666666666666,\"#ed7953\"],[0.7777777777777778,\"#fb9f3a\"],[0.8888888888888888,\"#fdca26\"],[1.0,\"#f0f921\"]]},\"colorway\":[\"#636efa\",\"#EF553B\",\"#00cc96\",\"#ab63fa\",\"#FFA15A\",\"#19d3f3\",\"#FF6692\",\"#B6E880\",\"#FF97FF\",\"#FECB52\"],\"font\":{\"color\":\"#2a3f5f\"},\"geo\":{\"bgcolor\":\"white\",\"lakecolor\":\"white\",\"landcolor\":\"#E5ECF6\",\"showlakes\":true,\"showland\":true,\"subunitcolor\":\"white\"},\"hoverlabel\":{\"align\":\"left\"},\"hovermode\":\"closest\",\"mapbox\":{\"style\":\"light\"},\"paper_bgcolor\":\"white\",\"plot_bgcolor\":\"#E5ECF6\",\"polar\":{\"angularaxis\":{\"gridcolor\":\"white\",\"linecolor\":\"white\",\"ticks\":\"\"},\"bgcolor\":\"#E5ECF6\",\"radialaxis\":{\"gridcolor\":\"white\",\"linecolor\":\"white\",\"ticks\":\"\"}},\"scene\":{\"xaxis\":{\"backgroundcolor\":\"#E5ECF6\",\"gridcolor\":\"white\",\"gridwidth\":2,\"linecolor\":\"white\",\"showbackground\":true,\"ticks\":\"\",\"zerolinecolor\":\"white\"},\"yaxis\":{\"backgroundcolor\":\"#E5ECF6\",\"gridcolor\":\"white\",\"gridwidth\":2,\"linecolor\":\"white\",\"showbackground\":true,\"ticks\":\"\",\"zerolinecolor\":\"white\"},\"zaxis\":{\"backgroundcolor\":\"#E5ECF6\",\"gridcolor\":\"white\",\"gridwidth\":2,\"linecolor\":\"white\",\"showbackground\":true,\"ticks\":\"\",\"zerolinecolor\":\"white\"}},\"shapedefaults\":{\"line\":{\"color\":\"#2a3f5f\"}},\"ternary\":{\"aaxis\":{\"gridcolor\":\"white\",\"linecolor\":\"white\",\"ticks\":\"\"},\"baxis\":{\"gridcolor\":\"white\",\"linecolor\":\"white\",\"ticks\":\"\"},\"bgcolor\":\"#E5ECF6\",\"caxis\":{\"gridcolor\":\"white\",\"linecolor\":\"white\",\"ticks\":\"\"}},\"title\":{\"x\":0.05},\"xaxis\":{\"automargin\":true,\"gridcolor\":\"white\",\"linecolor\":\"white\",\"ticks\":\"\",\"title\":{\"standoff\":15},\"zerolinecolor\":\"white\",\"zerolinewidth\":2},\"yaxis\":{\"automargin\":true,\"gridcolor\":\"white\",\"linecolor\":\"white\",\"ticks\":\"\",\"title\":{\"standoff\":15},\"zerolinecolor\":\"white\",\"zerolinewidth\":2}}},\"title\":{\"font\":{\"color\":\"#4D5663\"}},\"xaxis\":{\"gridcolor\":\"#E1E5ED\",\"showgrid\":true,\"tickfont\":{\"color\":\"#4D5663\"},\"title\":{\"font\":{\"color\":\"#4D5663\"},\"text\":\"\"},\"zerolinecolor\":\"#E1E5ED\"},\"yaxis\":{\"gridcolor\":\"#E1E5ED\",\"showgrid\":true,\"tickfont\":{\"color\":\"#4D5663\"},\"title\":{\"font\":{\"color\":\"#4D5663\"},\"text\":\"\"},\"zerolinecolor\":\"#E1E5ED\"}},                        {\"showLink\": true, \"linkText\": \"Export to plot.ly\", \"plotlyServerURL\": \"https://plot.ly\", \"responsive\": true}                    ).then(function(){\n",
       "                            \n",
       "var gd = document.getElementById('16d1b13a-6b4f-4cef-9efa-2d48b4345599');\n",
       "var x = new MutationObserver(function (mutations, observer) {{\n",
       "        var display = window.getComputedStyle(gd).display;\n",
       "        if (!display || display === 'none') {{\n",
       "            console.log([gd, 'removed!']);\n",
       "            Plotly.purge(gd);\n",
       "            observer.disconnect();\n",
       "        }}\n",
       "}});\n",
       "\n",
       "// Listen for the removal of the full notebook cells\n",
       "var notebookContainer = gd.closest('#notebook-container');\n",
       "if (notebookContainer) {{\n",
       "    x.observe(notebookContainer, {childList: true});\n",
       "}}\n",
       "\n",
       "// Listen for the clearing of the current output cell\n",
       "var outputEl = gd.closest('.output');\n",
       "if (outputEl) {{\n",
       "    x.observe(outputEl, {childList: true});\n",
       "}}\n",
       "\n",
       "                        })                };                });            </script>        </div>"
      ]
     },
     "metadata": {},
     "output_type": "display_data"
    }
   ],
   "source": [
    "df.iplot(kind='box')"
   ]
  },
  {
   "cell_type": "markdown",
   "metadata": {},
   "source": [
    "## 3d Surface"
   ]
  },
  {
   "cell_type": "code",
   "execution_count": 18,
   "metadata": {
    "collapsed": false,
    "jupyter": {
     "outputs_hidden": false
    }
   },
   "outputs": [
    {
     "data": {
      "application/vnd.plotly.v1+json": {
       "config": {
        "linkText": "Export to plot.ly",
        "plotlyServerURL": "https://plot.ly",
        "showLink": true
       },
       "data": [
        {
         "colorscale": [
          [
           0,
           "rgb(165,0,38)"
          ],
          [
           0.1,
           "rgb(215,48,39)"
          ],
          [
           0.2,
           "rgb(244,109,67)"
          ],
          [
           0.3,
           "rgb(253,174,97)"
          ],
          [
           0.4,
           "rgb(254,224,144)"
          ],
          [
           0.5,
           "rgb(255,255,191)"
          ],
          [
           0.6,
           "rgb(224,243,248)"
          ],
          [
           0.7,
           "rgb(171,217,233)"
          ],
          [
           0.8,
           "rgb(116,173,209)"
          ],
          [
           0.9,
           "rgb(69,117,180)"
          ],
          [
           1,
           "rgb(49,54,149)"
          ]
         ],
         "type": "surface",
         "x": [
          0,
          1,
          2,
          3,
          4
         ],
         "y": [
          "x",
          "y",
          "z"
         ],
         "z": [
          [
           1,
           2,
           3,
           4,
           5
          ],
          [
           10,
           20,
           30,
           20,
           10
          ],
          [
           5,
           4,
           3,
           2,
           1
          ]
         ]
        }
       ],
       "layout": {
        "autosize": true,
        "dragmode": "zoom",
        "legend": {
         "bgcolor": "#F5F6F9",
         "font": {
          "color": "#4D5663"
         }
        },
        "paper_bgcolor": "#F5F6F9",
        "plot_bgcolor": "#F5F6F9",
        "scene": {
         "aspectmode": "auto",
         "aspectratio": {
          "x": 1,
          "y": 1,
          "z": 1
         },
         "camera": {
          "center": {
           "x": -0.031220585997498333,
           "y": -0.26290312007722194,
           "z": -0.13800791797674403
          },
          "eye": {
           "x": -1.955014621250064,
           "y": -1.1002522614431842,
           "z": 0.39618579724305913
          },
          "projection": {
           "type": "perspective"
          },
          "up": {
           "x": 0,
           "y": 0,
           "z": 1
          }
         },
         "dragmode": "turntable"
        },
        "template": {
         "data": {
          "bar": [
           {
            "error_x": {
             "color": "#2a3f5f"
            },
            "error_y": {
             "color": "#2a3f5f"
            },
            "marker": {
             "line": {
              "color": "#E5ECF6",
              "width": 0.5
             },
             "pattern": {
              "fillmode": "overlay",
              "size": 10,
              "solidity": 0.2
             }
            },
            "type": "bar"
           }
          ],
          "barpolar": [
           {
            "marker": {
             "line": {
              "color": "#E5ECF6",
              "width": 0.5
             },
             "pattern": {
              "fillmode": "overlay",
              "size": 10,
              "solidity": 0.2
             }
            },
            "type": "barpolar"
           }
          ],
          "carpet": [
           {
            "aaxis": {
             "endlinecolor": "#2a3f5f",
             "gridcolor": "white",
             "linecolor": "white",
             "minorgridcolor": "white",
             "startlinecolor": "#2a3f5f"
            },
            "baxis": {
             "endlinecolor": "#2a3f5f",
             "gridcolor": "white",
             "linecolor": "white",
             "minorgridcolor": "white",
             "startlinecolor": "#2a3f5f"
            },
            "type": "carpet"
           }
          ],
          "choropleth": [
           {
            "colorbar": {
             "outlinewidth": 0,
             "ticks": ""
            },
            "type": "choropleth"
           }
          ],
          "contour": [
           {
            "colorbar": {
             "outlinewidth": 0,
             "ticks": ""
            },
            "colorscale": [
             [
              0,
              "#0d0887"
             ],
             [
              0.1111111111111111,
              "#46039f"
             ],
             [
              0.2222222222222222,
              "#7201a8"
             ],
             [
              0.3333333333333333,
              "#9c179e"
             ],
             [
              0.4444444444444444,
              "#bd3786"
             ],
             [
              0.5555555555555556,
              "#d8576b"
             ],
             [
              0.6666666666666666,
              "#ed7953"
             ],
             [
              0.7777777777777778,
              "#fb9f3a"
             ],
             [
              0.8888888888888888,
              "#fdca26"
             ],
             [
              1,
              "#f0f921"
             ]
            ],
            "type": "contour"
           }
          ],
          "contourcarpet": [
           {
            "colorbar": {
             "outlinewidth": 0,
             "ticks": ""
            },
            "type": "contourcarpet"
           }
          ],
          "heatmap": [
           {
            "colorbar": {
             "outlinewidth": 0,
             "ticks": ""
            },
            "colorscale": [
             [
              0,
              "#0d0887"
             ],
             [
              0.1111111111111111,
              "#46039f"
             ],
             [
              0.2222222222222222,
              "#7201a8"
             ],
             [
              0.3333333333333333,
              "#9c179e"
             ],
             [
              0.4444444444444444,
              "#bd3786"
             ],
             [
              0.5555555555555556,
              "#d8576b"
             ],
             [
              0.6666666666666666,
              "#ed7953"
             ],
             [
              0.7777777777777778,
              "#fb9f3a"
             ],
             [
              0.8888888888888888,
              "#fdca26"
             ],
             [
              1,
              "#f0f921"
             ]
            ],
            "type": "heatmap"
           }
          ],
          "heatmapgl": [
           {
            "colorbar": {
             "outlinewidth": 0,
             "ticks": ""
            },
            "colorscale": [
             [
              0,
              "#0d0887"
             ],
             [
              0.1111111111111111,
              "#46039f"
             ],
             [
              0.2222222222222222,
              "#7201a8"
             ],
             [
              0.3333333333333333,
              "#9c179e"
             ],
             [
              0.4444444444444444,
              "#bd3786"
             ],
             [
              0.5555555555555556,
              "#d8576b"
             ],
             [
              0.6666666666666666,
              "#ed7953"
             ],
             [
              0.7777777777777778,
              "#fb9f3a"
             ],
             [
              0.8888888888888888,
              "#fdca26"
             ],
             [
              1,
              "#f0f921"
             ]
            ],
            "type": "heatmapgl"
           }
          ],
          "histogram": [
           {
            "marker": {
             "pattern": {
              "fillmode": "overlay",
              "size": 10,
              "solidity": 0.2
             }
            },
            "type": "histogram"
           }
          ],
          "histogram2d": [
           {
            "colorbar": {
             "outlinewidth": 0,
             "ticks": ""
            },
            "colorscale": [
             [
              0,
              "#0d0887"
             ],
             [
              0.1111111111111111,
              "#46039f"
             ],
             [
              0.2222222222222222,
              "#7201a8"
             ],
             [
              0.3333333333333333,
              "#9c179e"
             ],
             [
              0.4444444444444444,
              "#bd3786"
             ],
             [
              0.5555555555555556,
              "#d8576b"
             ],
             [
              0.6666666666666666,
              "#ed7953"
             ],
             [
              0.7777777777777778,
              "#fb9f3a"
             ],
             [
              0.8888888888888888,
              "#fdca26"
             ],
             [
              1,
              "#f0f921"
             ]
            ],
            "type": "histogram2d"
           }
          ],
          "histogram2dcontour": [
           {
            "colorbar": {
             "outlinewidth": 0,
             "ticks": ""
            },
            "colorscale": [
             [
              0,
              "#0d0887"
             ],
             [
              0.1111111111111111,
              "#46039f"
             ],
             [
              0.2222222222222222,
              "#7201a8"
             ],
             [
              0.3333333333333333,
              "#9c179e"
             ],
             [
              0.4444444444444444,
              "#bd3786"
             ],
             [
              0.5555555555555556,
              "#d8576b"
             ],
             [
              0.6666666666666666,
              "#ed7953"
             ],
             [
              0.7777777777777778,
              "#fb9f3a"
             ],
             [
              0.8888888888888888,
              "#fdca26"
             ],
             [
              1,
              "#f0f921"
             ]
            ],
            "type": "histogram2dcontour"
           }
          ],
          "mesh3d": [
           {
            "colorbar": {
             "outlinewidth": 0,
             "ticks": ""
            },
            "type": "mesh3d"
           }
          ],
          "parcoords": [
           {
            "line": {
             "colorbar": {
              "outlinewidth": 0,
              "ticks": ""
             }
            },
            "type": "parcoords"
           }
          ],
          "pie": [
           {
            "automargin": true,
            "type": "pie"
           }
          ],
          "scatter": [
           {
            "fillpattern": {
             "fillmode": "overlay",
             "size": 10,
             "solidity": 0.2
            },
            "type": "scatter"
           }
          ],
          "scatter3d": [
           {
            "line": {
             "colorbar": {
              "outlinewidth": 0,
              "ticks": ""
             }
            },
            "marker": {
             "colorbar": {
              "outlinewidth": 0,
              "ticks": ""
             }
            },
            "type": "scatter3d"
           }
          ],
          "scattercarpet": [
           {
            "marker": {
             "colorbar": {
              "outlinewidth": 0,
              "ticks": ""
             }
            },
            "type": "scattercarpet"
           }
          ],
          "scattergeo": [
           {
            "marker": {
             "colorbar": {
              "outlinewidth": 0,
              "ticks": ""
             }
            },
            "type": "scattergeo"
           }
          ],
          "scattergl": [
           {
            "marker": {
             "colorbar": {
              "outlinewidth": 0,
              "ticks": ""
             }
            },
            "type": "scattergl"
           }
          ],
          "scattermapbox": [
           {
            "marker": {
             "colorbar": {
              "outlinewidth": 0,
              "ticks": ""
             }
            },
            "type": "scattermapbox"
           }
          ],
          "scatterpolar": [
           {
            "marker": {
             "colorbar": {
              "outlinewidth": 0,
              "ticks": ""
             }
            },
            "type": "scatterpolar"
           }
          ],
          "scatterpolargl": [
           {
            "marker": {
             "colorbar": {
              "outlinewidth": 0,
              "ticks": ""
             }
            },
            "type": "scatterpolargl"
           }
          ],
          "scatterternary": [
           {
            "marker": {
             "colorbar": {
              "outlinewidth": 0,
              "ticks": ""
             }
            },
            "type": "scatterternary"
           }
          ],
          "surface": [
           {
            "colorbar": {
             "outlinewidth": 0,
             "ticks": ""
            },
            "colorscale": [
             [
              0,
              "#0d0887"
             ],
             [
              0.1111111111111111,
              "#46039f"
             ],
             [
              0.2222222222222222,
              "#7201a8"
             ],
             [
              0.3333333333333333,
              "#9c179e"
             ],
             [
              0.4444444444444444,
              "#bd3786"
             ],
             [
              0.5555555555555556,
              "#d8576b"
             ],
             [
              0.6666666666666666,
              "#ed7953"
             ],
             [
              0.7777777777777778,
              "#fb9f3a"
             ],
             [
              0.8888888888888888,
              "#fdca26"
             ],
             [
              1,
              "#f0f921"
             ]
            ],
            "type": "surface"
           }
          ],
          "table": [
           {
            "cells": {
             "fill": {
              "color": "#EBF0F8"
             },
             "line": {
              "color": "white"
             }
            },
            "header": {
             "fill": {
              "color": "#C8D4E3"
             },
             "line": {
              "color": "white"
             }
            },
            "type": "table"
           }
          ]
         },
         "layout": {
          "annotationdefaults": {
           "arrowcolor": "#2a3f5f",
           "arrowhead": 0,
           "arrowwidth": 1
          },
          "autotypenumbers": "strict",
          "coloraxis": {
           "colorbar": {
            "outlinewidth": 0,
            "ticks": ""
           }
          },
          "colorscale": {
           "diverging": [
            [
             0,
             "#8e0152"
            ],
            [
             0.1,
             "#c51b7d"
            ],
            [
             0.2,
             "#de77ae"
            ],
            [
             0.3,
             "#f1b6da"
            ],
            [
             0.4,
             "#fde0ef"
            ],
            [
             0.5,
             "#f7f7f7"
            ],
            [
             0.6,
             "#e6f5d0"
            ],
            [
             0.7,
             "#b8e186"
            ],
            [
             0.8,
             "#7fbc41"
            ],
            [
             0.9,
             "#4d9221"
            ],
            [
             1,
             "#276419"
            ]
           ],
           "sequential": [
            [
             0,
             "#0d0887"
            ],
            [
             0.1111111111111111,
             "#46039f"
            ],
            [
             0.2222222222222222,
             "#7201a8"
            ],
            [
             0.3333333333333333,
             "#9c179e"
            ],
            [
             0.4444444444444444,
             "#bd3786"
            ],
            [
             0.5555555555555556,
             "#d8576b"
            ],
            [
             0.6666666666666666,
             "#ed7953"
            ],
            [
             0.7777777777777778,
             "#fb9f3a"
            ],
            [
             0.8888888888888888,
             "#fdca26"
            ],
            [
             1,
             "#f0f921"
            ]
           ],
           "sequentialminus": [
            [
             0,
             "#0d0887"
            ],
            [
             0.1111111111111111,
             "#46039f"
            ],
            [
             0.2222222222222222,
             "#7201a8"
            ],
            [
             0.3333333333333333,
             "#9c179e"
            ],
            [
             0.4444444444444444,
             "#bd3786"
            ],
            [
             0.5555555555555556,
             "#d8576b"
            ],
            [
             0.6666666666666666,
             "#ed7953"
            ],
            [
             0.7777777777777778,
             "#fb9f3a"
            ],
            [
             0.8888888888888888,
             "#fdca26"
            ],
            [
             1,
             "#f0f921"
            ]
           ]
          },
          "colorway": [
           "#636efa",
           "#EF553B",
           "#00cc96",
           "#ab63fa",
           "#FFA15A",
           "#19d3f3",
           "#FF6692",
           "#B6E880",
           "#FF97FF",
           "#FECB52"
          ],
          "font": {
           "color": "#2a3f5f"
          },
          "geo": {
           "bgcolor": "white",
           "lakecolor": "white",
           "landcolor": "#E5ECF6",
           "showlakes": true,
           "showland": true,
           "subunitcolor": "white"
          },
          "hoverlabel": {
           "align": "left"
          },
          "hovermode": "closest",
          "mapbox": {
           "style": "light"
          },
          "paper_bgcolor": "white",
          "plot_bgcolor": "#E5ECF6",
          "polar": {
           "angularaxis": {
            "gridcolor": "white",
            "linecolor": "white",
            "ticks": ""
           },
           "bgcolor": "#E5ECF6",
           "radialaxis": {
            "gridcolor": "white",
            "linecolor": "white",
            "ticks": ""
           }
          },
          "scene": {
           "xaxis": {
            "backgroundcolor": "#E5ECF6",
            "gridcolor": "white",
            "gridwidth": 2,
            "linecolor": "white",
            "showbackground": true,
            "ticks": "",
            "zerolinecolor": "white"
           },
           "yaxis": {
            "backgroundcolor": "#E5ECF6",
            "gridcolor": "white",
            "gridwidth": 2,
            "linecolor": "white",
            "showbackground": true,
            "ticks": "",
            "zerolinecolor": "white"
           },
           "zaxis": {
            "backgroundcolor": "#E5ECF6",
            "gridcolor": "white",
            "gridwidth": 2,
            "linecolor": "white",
            "showbackground": true,
            "ticks": "",
            "zerolinecolor": "white"
           }
          },
          "shapedefaults": {
           "line": {
            "color": "#2a3f5f"
           }
          },
          "ternary": {
           "aaxis": {
            "gridcolor": "white",
            "linecolor": "white",
            "ticks": ""
           },
           "baxis": {
            "gridcolor": "white",
            "linecolor": "white",
            "ticks": ""
           },
           "bgcolor": "#E5ECF6",
           "caxis": {
            "gridcolor": "white",
            "linecolor": "white",
            "ticks": ""
           }
          },
          "title": {
           "x": 0.05
          },
          "xaxis": {
           "automargin": true,
           "gridcolor": "white",
           "linecolor": "white",
           "ticks": "",
           "title": {
            "standoff": 15
           },
           "zerolinecolor": "white",
           "zerolinewidth": 2
          },
          "yaxis": {
           "automargin": true,
           "gridcolor": "white",
           "linecolor": "white",
           "ticks": "",
           "title": {
            "standoff": 15
           },
           "zerolinecolor": "white",
           "zerolinewidth": 2
          }
         }
        },
        "title": {
         "font": {
          "color": "#4D5663"
         }
        },
        "xaxis": {
         "gridcolor": "#E1E5ED",
         "showgrid": true,
         "tickfont": {
          "color": "#4D5663"
         },
         "title": {
          "font": {
           "color": "#4D5663"
          },
          "text": ""
         },
         "zerolinecolor": "#E1E5ED"
        },
        "yaxis": {
         "gridcolor": "#E1E5ED",
         "showgrid": true,
         "tickfont": {
          "color": "#4D5663"
         },
         "title": {
          "font": {
           "color": "#4D5663"
          },
          "text": ""
         },
         "zerolinecolor": "#E1E5ED"
        }
       }
      },
      "image/png": "[encoded data removed]",
      "text/html": [
       "<div>                            <div id=\"fbfc6420-98f8-484f-a7cf-858bf2b8584a\" class=\"plotly-graph-div\" style=\"height:525px; width:100%;\"></div>            <script type=\"text/javascript\">                require([\"plotly\"], function(Plotly) {                    window.PLOTLYENV=window.PLOTLYENV || {};\n",
       "                    window.PLOTLYENV.BASE_URL='https://plot.ly';                                    if (document.getElementById(\"fbfc6420-98f8-484f-a7cf-858bf2b8584a\")) {                    Plotly.newPlot(                        \"fbfc6420-98f8-484f-a7cf-858bf2b8584a\",                        [{\"colorscale\":[[0.0,\"rgb(165,0,38)\"],[0.1,\"rgb(215,48,39)\"],[0.2,\"rgb(244,109,67)\"],[0.3,\"rgb(253,174,97)\"],[0.4,\"rgb(254,224,144)\"],[0.5,\"rgb(255,255,191)\"],[0.6,\"rgb(224,243,248)\"],[0.7,\"rgb(171,217,233)\"],[0.8,\"rgb(116,173,209)\"],[0.9,\"rgb(69,117,180)\"],[1.0,\"rgb(49,54,149)\"]],\"x\":[0,1,2,3,4],\"y\":[\"x\",\"y\",\"z\"],\"z\":[[1,2,3,4,5],[10,20,30,20,10],[5,4,3,2,1]],\"type\":\"surface\"}],                        {\"legend\":{\"bgcolor\":\"#F5F6F9\",\"font\":{\"color\":\"#4D5663\"}},\"paper_bgcolor\":\"#F5F6F9\",\"plot_bgcolor\":\"#F5F6F9\",\"template\":{\"data\":{\"barpolar\":[{\"marker\":{\"line\":{\"color\":\"#E5ECF6\",\"width\":0.5},\"pattern\":{\"fillmode\":\"overlay\",\"size\":10,\"solidity\":0.2}},\"type\":\"barpolar\"}],\"bar\":[{\"error_x\":{\"color\":\"#2a3f5f\"},\"error_y\":{\"color\":\"#2a3f5f\"},\"marker\":{\"line\":{\"color\":\"#E5ECF6\",\"width\":0.5},\"pattern\":{\"fillmode\":\"overlay\",\"size\":10,\"solidity\":0.2}},\"type\":\"bar\"}],\"carpet\":[{\"aaxis\":{\"endlinecolor\":\"#2a3f5f\",\"gridcolor\":\"white\",\"linecolor\":\"white\",\"minorgridcolor\":\"white\",\"startlinecolor\":\"#2a3f5f\"},\"baxis\":{\"endlinecolor\":\"#2a3f5f\",\"gridcolor\":\"white\",\"linecolor\":\"white\",\"minorgridcolor\":\"white\",\"startlinecolor\":\"#2a3f5f\"},\"type\":\"carpet\"}],\"choropleth\":[{\"colorbar\":{\"outlinewidth\":0,\"ticks\":\"\"},\"type\":\"choropleth\"}],\"contourcarpet\":[{\"colorbar\":{\"outlinewidth\":0,\"ticks\":\"\"},\"type\":\"contourcarpet\"}],\"contour\":[{\"colorbar\":{\"outlinewidth\":0,\"ticks\":\"\"},\"colorscale\":[[0.0,\"#0d0887\"],[0.1111111111111111,\"#46039f\"],[0.2222222222222222,\"#7201a8\"],[0.3333333333333333,\"#9c179e\"],[0.4444444444444444,\"#bd3786\"],[0.5555555555555556,\"#d8576b\"],[0.6666666666666666,\"#ed7953\"],[0.7777777777777778,\"#fb9f3a\"],[0.8888888888888888,\"#fdca26\"],[1.0,\"#f0f921\"]],\"type\":\"contour\"}],\"heatmapgl\":[{\"colorbar\":{\"outlinewidth\":0,\"ticks\":\"\"},\"colorscale\":[[0.0,\"#0d0887\"],[0.1111111111111111,\"#46039f\"],[0.2222222222222222,\"#7201a8\"],[0.3333333333333333,\"#9c179e\"],[0.4444444444444444,\"#bd3786\"],[0.5555555555555556,\"#d8576b\"],[0.6666666666666666,\"#ed7953\"],[0.7777777777777778,\"#fb9f3a\"],[0.8888888888888888,\"#fdca26\"],[1.0,\"#f0f921\"]],\"type\":\"heatmapgl\"}],\"heatmap\":[{\"colorbar\":{\"outlinewidth\":0,\"ticks\":\"\"},\"colorscale\":[[0.0,\"#0d0887\"],[0.1111111111111111,\"#46039f\"],[0.2222222222222222,\"#7201a8\"],[0.3333333333333333,\"#9c179e\"],[0.4444444444444444,\"#bd3786\"],[0.5555555555555556,\"#d8576b\"],[0.6666666666666666,\"#ed7953\"],[0.7777777777777778,\"#fb9f3a\"],[0.8888888888888888,\"#fdca26\"],[1.0,\"#f0f921\"]],\"type\":\"heatmap\"}],\"histogram2dcontour\":[{\"colorbar\":{\"outlinewidth\":0,\"ticks\":\"\"},\"colorscale\":[[0.0,\"#0d0887\"],[0.1111111111111111,\"#46039f\"],[0.2222222222222222,\"#7201a8\"],[0.3333333333333333,\"#9c179e\"],[0.4444444444444444,\"#bd3786\"],[0.5555555555555556,\"#d8576b\"],[0.6666666666666666,\"#ed7953\"],[0.7777777777777778,\"#fb9f3a\"],[0.8888888888888888,\"#fdca26\"],[1.0,\"#f0f921\"]],\"type\":\"histogram2dcontour\"}],\"histogram2d\":[{\"colorbar\":{\"outlinewidth\":0,\"ticks\":\"\"},\"colorscale\":[[0.0,\"#0d0887\"],[0.1111111111111111,\"#46039f\"],[0.2222222222222222,\"#7201a8\"],[0.3333333333333333,\"#9c179e\"],[0.4444444444444444,\"#bd3786\"],[0.5555555555555556,\"#d8576b\"],[0.6666666666666666,\"#ed7953\"],[0.7777777777777778,\"#fb9f3a\"],[0.8888888888888888,\"#fdca26\"],[1.0,\"#f0f921\"]],\"type\":\"histogram2d\"}],\"histogram\":[{\"marker\":{\"pattern\":{\"fillmode\":\"overlay\",\"size\":10,\"solidity\":0.2}},\"type\":\"histogram\"}],\"mesh3d\":[{\"colorbar\":{\"outlinewidth\":0,\"ticks\":\"\"},\"type\":\"mesh3d\"}],\"parcoords\":[{\"line\":{\"colorbar\":{\"outlinewidth\":0,\"ticks\":\"\"}},\"type\":\"parcoords\"}],\"pie\":[{\"automargin\":true,\"type\":\"pie\"}],\"scatter3d\":[{\"line\":{\"colorbar\":{\"outlinewidth\":0,\"ticks\":\"\"}},\"marker\":{\"colorbar\":{\"outlinewidth\":0,\"ticks\":\"\"}},\"type\":\"scatter3d\"}],\"scattercarpet\":[{\"marker\":{\"colorbar\":{\"outlinewidth\":0,\"ticks\":\"\"}},\"type\":\"scattercarpet\"}],\"scattergeo\":[{\"marker\":{\"colorbar\":{\"outlinewidth\":0,\"ticks\":\"\"}},\"type\":\"scattergeo\"}],\"scattergl\":[{\"marker\":{\"colorbar\":{\"outlinewidth\":0,\"ticks\":\"\"}},\"type\":\"scattergl\"}],\"scattermapbox\":[{\"marker\":{\"colorbar\":{\"outlinewidth\":0,\"ticks\":\"\"}},\"type\":\"scattermapbox\"}],\"scatterpolargl\":[{\"marker\":{\"colorbar\":{\"outlinewidth\":0,\"ticks\":\"\"}},\"type\":\"scatterpolargl\"}],\"scatterpolar\":[{\"marker\":{\"colorbar\":{\"outlinewidth\":0,\"ticks\":\"\"}},\"type\":\"scatterpolar\"}],\"scatter\":[{\"fillpattern\":{\"fillmode\":\"overlay\",\"size\":10,\"solidity\":0.2},\"type\":\"scatter\"}],\"scatterternary\":[{\"marker\":{\"colorbar\":{\"outlinewidth\":0,\"ticks\":\"\"}},\"type\":\"scatterternary\"}],\"surface\":[{\"colorbar\":{\"outlinewidth\":0,\"ticks\":\"\"},\"colorscale\":[[0.0,\"#0d0887\"],[0.1111111111111111,\"#46039f\"],[0.2222222222222222,\"#7201a8\"],[0.3333333333333333,\"#9c179e\"],[0.4444444444444444,\"#bd3786\"],[0.5555555555555556,\"#d8576b\"],[0.6666666666666666,\"#ed7953\"],[0.7777777777777778,\"#fb9f3a\"],[0.8888888888888888,\"#fdca26\"],[1.0,\"#f0f921\"]],\"type\":\"surface\"}],\"table\":[{\"cells\":{\"fill\":{\"color\":\"#EBF0F8\"},\"line\":{\"color\":\"white\"}},\"header\":{\"fill\":{\"color\":\"#C8D4E3\"},\"line\":{\"color\":\"white\"}},\"type\":\"table\"}]},\"layout\":{\"annotationdefaults\":{\"arrowcolor\":\"#2a3f5f\",\"arrowhead\":0,\"arrowwidth\":1},\"autotypenumbers\":\"strict\",\"coloraxis\":{\"colorbar\":{\"outlinewidth\":0,\"ticks\":\"\"}},\"colorscale\":{\"diverging\":[[0,\"#8e0152\"],[0.1,\"#c51b7d\"],[0.2,\"#de77ae\"],[0.3,\"#f1b6da\"],[0.4,\"#fde0ef\"],[0.5,\"#f7f7f7\"],[0.6,\"#e6f5d0\"],[0.7,\"#b8e186\"],[0.8,\"#7fbc41\"],[0.9,\"#4d9221\"],[1,\"#276419\"]],\"sequential\":[[0.0,\"#0d0887\"],[0.1111111111111111,\"#46039f\"],[0.2222222222222222,\"#7201a8\"],[0.3333333333333333,\"#9c179e\"],[0.4444444444444444,\"#bd3786\"],[0.5555555555555556,\"#d8576b\"],[0.6666666666666666,\"#ed7953\"],[0.7777777777777778,\"#fb9f3a\"],[0.8888888888888888,\"#fdca26\"],[1.0,\"#f0f921\"]],\"sequentialminus\":[[0.0,\"#0d0887\"],[0.1111111111111111,\"#46039f\"],[0.2222222222222222,\"#7201a8\"],[0.3333333333333333,\"#9c179e\"],[0.4444444444444444,\"#bd3786\"],[0.5555555555555556,\"#d8576b\"],[0.6666666666666666,\"#ed7953\"],[0.7777777777777778,\"#fb9f3a\"],[0.8888888888888888,\"#fdca26\"],[1.0,\"#f0f921\"]]},\"colorway\":[\"#636efa\",\"#EF553B\",\"#00cc96\",\"#ab63fa\",\"#FFA15A\",\"#19d3f3\",\"#FF6692\",\"#B6E880\",\"#FF97FF\",\"#FECB52\"],\"font\":{\"color\":\"#2a3f5f\"},\"geo\":{\"bgcolor\":\"white\",\"lakecolor\":\"white\",\"landcolor\":\"#E5ECF6\",\"showlakes\":true,\"showland\":true,\"subunitcolor\":\"white\"},\"hoverlabel\":{\"align\":\"left\"},\"hovermode\":\"closest\",\"mapbox\":{\"style\":\"light\"},\"paper_bgcolor\":\"white\",\"plot_bgcolor\":\"#E5ECF6\",\"polar\":{\"angularaxis\":{\"gridcolor\":\"white\",\"linecolor\":\"white\",\"ticks\":\"\"},\"bgcolor\":\"#E5ECF6\",\"radialaxis\":{\"gridcolor\":\"white\",\"linecolor\":\"white\",\"ticks\":\"\"}},\"scene\":{\"xaxis\":{\"backgroundcolor\":\"#E5ECF6\",\"gridcolor\":\"white\",\"gridwidth\":2,\"linecolor\":\"white\",\"showbackground\":true,\"ticks\":\"\",\"zerolinecolor\":\"white\"},\"yaxis\":{\"backgroundcolor\":\"#E5ECF6\",\"gridcolor\":\"white\",\"gridwidth\":2,\"linecolor\":\"white\",\"showbackground\":true,\"ticks\":\"\",\"zerolinecolor\":\"white\"},\"zaxis\":{\"backgroundcolor\":\"#E5ECF6\",\"gridcolor\":\"white\",\"gridwidth\":2,\"linecolor\":\"white\",\"showbackground\":true,\"ticks\":\"\",\"zerolinecolor\":\"white\"}},\"shapedefaults\":{\"line\":{\"color\":\"#2a3f5f\"}},\"ternary\":{\"aaxis\":{\"gridcolor\":\"white\",\"linecolor\":\"white\",\"ticks\":\"\"},\"baxis\":{\"gridcolor\":\"white\",\"linecolor\":\"white\",\"ticks\":\"\"},\"bgcolor\":\"#E5ECF6\",\"caxis\":{\"gridcolor\":\"white\",\"linecolor\":\"white\",\"ticks\":\"\"}},\"title\":{\"x\":0.05},\"xaxis\":{\"automargin\":true,\"gridcolor\":\"white\",\"linecolor\":\"white\",\"ticks\":\"\",\"title\":{\"standoff\":15},\"zerolinecolor\":\"white\",\"zerolinewidth\":2},\"yaxis\":{\"automargin\":true,\"gridcolor\":\"white\",\"linecolor\":\"white\",\"ticks\":\"\",\"title\":{\"standoff\":15},\"zerolinecolor\":\"white\",\"zerolinewidth\":2}}},\"title\":{\"font\":{\"color\":\"#4D5663\"}},\"xaxis\":{\"gridcolor\":\"#E1E5ED\",\"showgrid\":true,\"tickfont\":{\"color\":\"#4D5663\"},\"title\":{\"font\":{\"color\":\"#4D5663\"},\"text\":\"\"},\"zerolinecolor\":\"#E1E5ED\"},\"yaxis\":{\"gridcolor\":\"#E1E5ED\",\"showgrid\":true,\"tickfont\":{\"color\":\"#4D5663\"},\"title\":{\"font\":{\"color\":\"#4D5663\"},\"text\":\"\"},\"zerolinecolor\":\"#E1E5ED\"}},                        {\"showLink\": true, \"linkText\": \"Export to plot.ly\", \"plotlyServerURL\": \"https://plot.ly\", \"responsive\": true}                    ).then(function(){\n",
       "                            \n",
       "var gd = document.getElementById('fbfc6420-98f8-484f-a7cf-858bf2b8584a');\n",
       "var x = new MutationObserver(function (mutations, observer) {{\n",
       "        var display = window.getComputedStyle(gd).display;\n",
       "        if (!display || display === 'none') {{\n",
       "            console.log([gd, 'removed!']);\n",
       "            Plotly.purge(gd);\n",
       "            observer.disconnect();\n",
       "        }}\n",
       "}});\n",
       "\n",
       "// Listen for the removal of the full notebook cells\n",
       "var notebookContainer = gd.closest('#notebook-container');\n",
       "if (notebookContainer) {{\n",
       "    x.observe(notebookContainer, {childList: true});\n",
       "}}\n",
       "\n",
       "// Listen for the clearing of the current output cell\n",
       "var outputEl = gd.closest('.output');\n",
       "if (outputEl) {{\n",
       "    x.observe(outputEl, {childList: true});\n",
       "}}\n",
       "\n",
       "                        })                };                });            </script>        </div>"
      ]
     },
     "metadata": {},
     "output_type": "display_data"
    }
   ],
   "source": [
    "df3 = pd.DataFrame({'x':[1,2,3,4,5],'y':[10,20,30,20,10],'z':[5,4,3,2,1]})\n",
    "df3.iplot(kind='surface',colorscale='rdylbu')"
   ]
  },
  {
   "cell_type": "markdown",
   "metadata": {},
   "source": [
    "## Spread"
   ]
  },
  {
   "cell_type": "code",
   "execution_count": 19,
   "metadata": {
    "collapsed": false,
    "jupyter": {
     "outputs_hidden": false
    },
    "scrolled": true
   },
   "outputs": [
    {
     "name": "stderr",
     "output_type": "stream",
     "text": [
      "/usr/local/lib/python3.10/dist-packages/cufflinks/plotlytools.py:848: FutureWarning:\n",
      "\n",
      "Series.__getitem__ treating keys as positions is deprecated. In a future version, integer keys will always be treated as labels (consistent with DataFrame behavior). To access a value by position, use `ser.iloc[pos]`\n",
      "\n"
     ]
    },
    {
     "ename": "AttributeError",
     "evalue": "module 'pandas' has no attribute 'np'",
     "output_type": "error",
     "traceback": [
      "\u001b[0;31m---------------------------------------------------------------------------\u001b[0m",
      "\u001b[0;31mAttributeError\u001b[0m                            Traceback (most recent call last)",
      "Cell \u001b[0;32mIn[19], line 1\u001b[0m\n\u001b[0;32m----> 1\u001b[0m \u001b[43mdf\u001b[49m\u001b[43m[\u001b[49m\u001b[43m[\u001b[49m\u001b[38;5;124;43m'\u001b[39;49m\u001b[38;5;124;43mA\u001b[39;49m\u001b[38;5;124;43m'\u001b[39;49m\u001b[43m,\u001b[49m\u001b[38;5;124;43m'\u001b[39;49m\u001b[38;5;124;43mB\u001b[39;49m\u001b[38;5;124;43m'\u001b[39;49m\u001b[43m]\u001b[49m\u001b[43m]\u001b[49m\u001b[38;5;241;43m.\u001b[39;49m\u001b[43miplot\u001b[49m\u001b[43m(\u001b[49m\u001b[43mkind\u001b[49m\u001b[38;5;241;43m=\u001b[39;49m\u001b[38;5;124;43m'\u001b[39;49m\u001b[38;5;124;43mspread\u001b[39;49m\u001b[38;5;124;43m'\u001b[39;49m\u001b[43m)\u001b[49m\n",
      "File \u001b[0;32m/usr/local/lib/python3.10/dist-packages/cufflinks/plotlytools.py:849\u001b[0m, in \u001b[0;36m_iplot\u001b[0;34m(self, kind, data, layout, filename, sharing, title, xTitle, yTitle, zTitle, theme, colors, colorscale, fill, width, dash, mode, interpolation, symbol, size, barmode, sortbars, bargap, bargroupgap, bins, histnorm, histfunc, orientation, boxpoints, annotations, keys, bestfit, bestfit_colors, mean, mean_colors, categories, x, y, z, text, gridcolor, zerolinecolor, margin, labels, values, secondary_y, secondary_y_title, subplots, shape, error_x, error_y, error_type, locations, lon, lat, asFrame, asDates, asFigure, asImage, dimensions, asPlot, asUrl, online, **kwargs)\u001b[0m\n\u001b[1;32m    847\u001b[0m \u001b[38;5;28;01mif\u001b[39;00m kind\u001b[38;5;241m==\u001b[39m\u001b[38;5;124m'\u001b[39m\u001b[38;5;124mspread\u001b[39m\u001b[38;5;124m'\u001b[39m:\n\u001b[1;32m    848\u001b[0m \ttrace\u001b[38;5;241m=\u001b[39m\u001b[38;5;28mself\u001b[39m\u001b[38;5;241m.\u001b[39mapply(\u001b[38;5;28;01mlambda\u001b[39;00m x:x[\u001b[38;5;241m0\u001b[39m]\u001b[38;5;241m-\u001b[39mx[\u001b[38;5;241m1\u001b[39m],axis\u001b[38;5;241m=\u001b[39m\u001b[38;5;241m1\u001b[39m)\n\u001b[0;32m--> 849\u001b[0m \tpositive\u001b[38;5;241m=\u001b[39m\u001b[43mtrace\u001b[49m\u001b[38;5;241;43m.\u001b[39;49m\u001b[43mapply\u001b[49m\u001b[43m(\u001b[49m\u001b[38;5;28;43;01mlambda\u001b[39;49;00m\u001b[43m \u001b[49m\u001b[43mx\u001b[49m\u001b[43m:\u001b[49m\u001b[43mx\u001b[49m\u001b[43m \u001b[49m\u001b[38;5;28;43;01mif\u001b[39;49;00m\u001b[43m \u001b[49m\u001b[43mx\u001b[49m\u001b[38;5;241;43m>\u001b[39;49m\u001b[38;5;241;43m=\u001b[39;49m\u001b[38;5;241;43m0\u001b[39;49m\u001b[43m \u001b[49m\u001b[38;5;28;43;01melse\u001b[39;49;00m\u001b[43m \u001b[49m\u001b[43mpd\u001b[49m\u001b[38;5;241;43m.\u001b[39;49m\u001b[43mnp\u001b[49m\u001b[38;5;241;43m.\u001b[39;49m\u001b[43mnan\u001b[49m\u001b[43m)\u001b[49m\n\u001b[1;32m    850\u001b[0m \tnegative\u001b[38;5;241m=\u001b[39mtrace\u001b[38;5;241m.\u001b[39mapply(\u001b[38;5;28;01mlambda\u001b[39;00m x:x \u001b[38;5;28;01mif\u001b[39;00m x\u001b[38;5;241m<\u001b[39m\u001b[38;5;241m0\u001b[39m \u001b[38;5;28;01melse\u001b[39;00m pd\u001b[38;5;241m.\u001b[39mnp\u001b[38;5;241m.\u001b[39mnan)\n\u001b[1;32m    851\u001b[0m \ttrace\u001b[38;5;241m=\u001b[39mpd\u001b[38;5;241m.\u001b[39mDataFrame({\u001b[38;5;124m'\u001b[39m\u001b[38;5;124mpositive\u001b[39m\u001b[38;5;124m'\u001b[39m:positive,\u001b[38;5;124m'\u001b[39m\u001b[38;5;124mnegative\u001b[39m\u001b[38;5;124m'\u001b[39m:negative})\n",
      "File \u001b[0;32m/usr/local/lib/python3.10/dist-packages/pandas/core/series.py:4760\u001b[0m, in \u001b[0;36mSeries.apply\u001b[0;34m(self, func, convert_dtype, args, by_row, **kwargs)\u001b[0m\n\u001b[1;32m   4625\u001b[0m \u001b[38;5;28;01mdef\u001b[39;00m \u001b[38;5;21mapply\u001b[39m(\n\u001b[1;32m   4626\u001b[0m     \u001b[38;5;28mself\u001b[39m,\n\u001b[1;32m   4627\u001b[0m     func: AggFuncType,\n\u001b[0;32m   (...)\u001b[0m\n\u001b[1;32m   4632\u001b[0m     \u001b[38;5;241m*\u001b[39m\u001b[38;5;241m*\u001b[39mkwargs,\n\u001b[1;32m   4633\u001b[0m ) \u001b[38;5;241m-\u001b[39m\u001b[38;5;241m>\u001b[39m DataFrame \u001b[38;5;241m|\u001b[39m Series:\n\u001b[1;32m   4634\u001b[0m     \u001b[38;5;124;03m\"\"\"\u001b[39;00m\n\u001b[1;32m   4635\u001b[0m \u001b[38;5;124;03m    Invoke function on values of Series.\u001b[39;00m\n\u001b[1;32m   4636\u001b[0m \n\u001b[0;32m   (...)\u001b[0m\n\u001b[1;32m   4751\u001b[0m \u001b[38;5;124;03m    dtype: float64\u001b[39;00m\n\u001b[1;32m   4752\u001b[0m \u001b[38;5;124;03m    \"\"\"\u001b[39;00m\n\u001b[1;32m   4753\u001b[0m     \u001b[38;5;28;01mreturn\u001b[39;00m \u001b[43mSeriesApply\u001b[49m\u001b[43m(\u001b[49m\n\u001b[1;32m   4754\u001b[0m \u001b[43m        \u001b[49m\u001b[38;5;28;43mself\u001b[39;49m\u001b[43m,\u001b[49m\n\u001b[1;32m   4755\u001b[0m \u001b[43m        \u001b[49m\u001b[43mfunc\u001b[49m\u001b[43m,\u001b[49m\n\u001b[1;32m   4756\u001b[0m \u001b[43m        \u001b[49m\u001b[43mconvert_dtype\u001b[49m\u001b[38;5;241;43m=\u001b[39;49m\u001b[43mconvert_dtype\u001b[49m\u001b[43m,\u001b[49m\n\u001b[1;32m   4757\u001b[0m \u001b[43m        \u001b[49m\u001b[43mby_row\u001b[49m\u001b[38;5;241;43m=\u001b[39;49m\u001b[43mby_row\u001b[49m\u001b[43m,\u001b[49m\n\u001b[1;32m   4758\u001b[0m \u001b[43m        \u001b[49m\u001b[43margs\u001b[49m\u001b[38;5;241;43m=\u001b[39;49m\u001b[43margs\u001b[49m\u001b[43m,\u001b[49m\n\u001b[1;32m   4759\u001b[0m \u001b[43m        \u001b[49m\u001b[43mkwargs\u001b[49m\u001b[38;5;241;43m=\u001b[39;49m\u001b[43mkwargs\u001b[49m\u001b[43m,\u001b[49m\n\u001b[0;32m-> 4760\u001b[0m \u001b[43m    \u001b[49m\u001b[43m)\u001b[49m\u001b[38;5;241;43m.\u001b[39;49m\u001b[43mapply\u001b[49m\u001b[43m(\u001b[49m\u001b[43m)\u001b[49m\n",
      "File \u001b[0;32m/usr/local/lib/python3.10/dist-packages/pandas/core/apply.py:1207\u001b[0m, in \u001b[0;36mSeriesApply.apply\u001b[0;34m(self)\u001b[0m\n\u001b[1;32m   1204\u001b[0m     \u001b[38;5;28;01mreturn\u001b[39;00m \u001b[38;5;28mself\u001b[39m\u001b[38;5;241m.\u001b[39mapply_compat()\n\u001b[1;32m   1206\u001b[0m \u001b[38;5;66;03m# self.func is Callable\u001b[39;00m\n\u001b[0;32m-> 1207\u001b[0m \u001b[38;5;28;01mreturn\u001b[39;00m \u001b[38;5;28;43mself\u001b[39;49m\u001b[38;5;241;43m.\u001b[39;49m\u001b[43mapply_standard\u001b[49m\u001b[43m(\u001b[49m\u001b[43m)\u001b[49m\n",
      "File \u001b[0;32m/usr/local/lib/python3.10/dist-packages/pandas/core/apply.py:1287\u001b[0m, in \u001b[0;36mSeriesApply.apply_standard\u001b[0;34m(self)\u001b[0m\n\u001b[1;32m   1281\u001b[0m \u001b[38;5;66;03m# row-wise access\u001b[39;00m\n\u001b[1;32m   1282\u001b[0m \u001b[38;5;66;03m# apply doesn't have a `na_action` keyword and for backward compat reasons\u001b[39;00m\n\u001b[1;32m   1283\u001b[0m \u001b[38;5;66;03m# we need to give `na_action=\"ignore\"` for categorical data.\u001b[39;00m\n\u001b[1;32m   1284\u001b[0m \u001b[38;5;66;03m# TODO: remove the `na_action=\"ignore\"` when that default has been changed in\u001b[39;00m\n\u001b[1;32m   1285\u001b[0m \u001b[38;5;66;03m#  Categorical (GH51645).\u001b[39;00m\n\u001b[1;32m   1286\u001b[0m action \u001b[38;5;241m=\u001b[39m \u001b[38;5;124m\"\u001b[39m\u001b[38;5;124mignore\u001b[39m\u001b[38;5;124m\"\u001b[39m \u001b[38;5;28;01mif\u001b[39;00m \u001b[38;5;28misinstance\u001b[39m(obj\u001b[38;5;241m.\u001b[39mdtype, CategoricalDtype) \u001b[38;5;28;01melse\u001b[39;00m \u001b[38;5;28;01mNone\u001b[39;00m\n\u001b[0;32m-> 1287\u001b[0m mapped \u001b[38;5;241m=\u001b[39m \u001b[43mobj\u001b[49m\u001b[38;5;241;43m.\u001b[39;49m\u001b[43m_map_values\u001b[49m\u001b[43m(\u001b[49m\n\u001b[1;32m   1288\u001b[0m \u001b[43m    \u001b[49m\u001b[43mmapper\u001b[49m\u001b[38;5;241;43m=\u001b[39;49m\u001b[43mcurried\u001b[49m\u001b[43m,\u001b[49m\u001b[43m \u001b[49m\u001b[43mna_action\u001b[49m\u001b[38;5;241;43m=\u001b[39;49m\u001b[43maction\u001b[49m\u001b[43m,\u001b[49m\u001b[43m \u001b[49m\u001b[43mconvert\u001b[49m\u001b[38;5;241;43m=\u001b[39;49m\u001b[38;5;28;43mself\u001b[39;49m\u001b[38;5;241;43m.\u001b[39;49m\u001b[43mconvert_dtype\u001b[49m\n\u001b[1;32m   1289\u001b[0m \u001b[43m\u001b[49m\u001b[43m)\u001b[49m\n\u001b[1;32m   1291\u001b[0m \u001b[38;5;28;01mif\u001b[39;00m \u001b[38;5;28mlen\u001b[39m(mapped) \u001b[38;5;129;01mand\u001b[39;00m \u001b[38;5;28misinstance\u001b[39m(mapped[\u001b[38;5;241m0\u001b[39m], ABCSeries):\n\u001b[1;32m   1292\u001b[0m     \u001b[38;5;66;03m# GH#43986 Need to do list(mapped) in order to get treated as nested\u001b[39;00m\n\u001b[1;32m   1293\u001b[0m     \u001b[38;5;66;03m#  See also GH#25959 regarding EA support\u001b[39;00m\n\u001b[1;32m   1294\u001b[0m     \u001b[38;5;28;01mreturn\u001b[39;00m obj\u001b[38;5;241m.\u001b[39m_constructor_expanddim(\u001b[38;5;28mlist\u001b[39m(mapped), index\u001b[38;5;241m=\u001b[39mobj\u001b[38;5;241m.\u001b[39mindex)\n",
      "File \u001b[0;32m/usr/local/lib/python3.10/dist-packages/pandas/core/base.py:921\u001b[0m, in \u001b[0;36mIndexOpsMixin._map_values\u001b[0;34m(self, mapper, na_action, convert)\u001b[0m\n\u001b[1;32m    918\u001b[0m \u001b[38;5;28;01mif\u001b[39;00m \u001b[38;5;28misinstance\u001b[39m(arr, ExtensionArray):\n\u001b[1;32m    919\u001b[0m     \u001b[38;5;28;01mreturn\u001b[39;00m arr\u001b[38;5;241m.\u001b[39mmap(mapper, na_action\u001b[38;5;241m=\u001b[39mna_action)\n\u001b[0;32m--> 921\u001b[0m \u001b[38;5;28;01mreturn\u001b[39;00m \u001b[43malgorithms\u001b[49m\u001b[38;5;241;43m.\u001b[39;49m\u001b[43mmap_array\u001b[49m\u001b[43m(\u001b[49m\u001b[43marr\u001b[49m\u001b[43m,\u001b[49m\u001b[43m \u001b[49m\u001b[43mmapper\u001b[49m\u001b[43m,\u001b[49m\u001b[43m \u001b[49m\u001b[43mna_action\u001b[49m\u001b[38;5;241;43m=\u001b[39;49m\u001b[43mna_action\u001b[49m\u001b[43m,\u001b[49m\u001b[43m \u001b[49m\u001b[43mconvert\u001b[49m\u001b[38;5;241;43m=\u001b[39;49m\u001b[43mconvert\u001b[49m\u001b[43m)\u001b[49m\n",
      "File \u001b[0;32m/usr/local/lib/python3.10/dist-packages/pandas/core/algorithms.py:1814\u001b[0m, in \u001b[0;36mmap_array\u001b[0;34m(arr, mapper, na_action, convert)\u001b[0m\n\u001b[1;32m   1812\u001b[0m values \u001b[38;5;241m=\u001b[39m arr\u001b[38;5;241m.\u001b[39mastype(\u001b[38;5;28mobject\u001b[39m, copy\u001b[38;5;241m=\u001b[39m\u001b[38;5;28;01mFalse\u001b[39;00m)\n\u001b[1;32m   1813\u001b[0m \u001b[38;5;28;01mif\u001b[39;00m na_action \u001b[38;5;129;01mis\u001b[39;00m \u001b[38;5;28;01mNone\u001b[39;00m:\n\u001b[0;32m-> 1814\u001b[0m     \u001b[38;5;28;01mreturn\u001b[39;00m \u001b[43mlib\u001b[49m\u001b[38;5;241;43m.\u001b[39;49m\u001b[43mmap_infer\u001b[49m\u001b[43m(\u001b[49m\u001b[43mvalues\u001b[49m\u001b[43m,\u001b[49m\u001b[43m \u001b[49m\u001b[43mmapper\u001b[49m\u001b[43m,\u001b[49m\u001b[43m \u001b[49m\u001b[43mconvert\u001b[49m\u001b[38;5;241;43m=\u001b[39;49m\u001b[43mconvert\u001b[49m\u001b[43m)\u001b[49m\n\u001b[1;32m   1815\u001b[0m \u001b[38;5;28;01melse\u001b[39;00m:\n\u001b[1;32m   1816\u001b[0m     \u001b[38;5;28;01mreturn\u001b[39;00m lib\u001b[38;5;241m.\u001b[39mmap_infer_mask(\n\u001b[1;32m   1817\u001b[0m         values, mapper, mask\u001b[38;5;241m=\u001b[39misna(values)\u001b[38;5;241m.\u001b[39mview(np\u001b[38;5;241m.\u001b[39muint8), convert\u001b[38;5;241m=\u001b[39mconvert\n\u001b[1;32m   1818\u001b[0m     )\n",
      "File \u001b[0;32mlib.pyx:2917\u001b[0m, in \u001b[0;36mpandas._libs.lib.map_infer\u001b[0;34m()\u001b[0m\n",
      "File \u001b[0;32m/usr/local/lib/python3.10/dist-packages/cufflinks/plotlytools.py:849\u001b[0m, in \u001b[0;36m_iplot.<locals>.<lambda>\u001b[0;34m(x)\u001b[0m\n\u001b[1;32m    847\u001b[0m \u001b[38;5;28;01mif\u001b[39;00m kind\u001b[38;5;241m==\u001b[39m\u001b[38;5;124m'\u001b[39m\u001b[38;5;124mspread\u001b[39m\u001b[38;5;124m'\u001b[39m:\n\u001b[1;32m    848\u001b[0m \ttrace\u001b[38;5;241m=\u001b[39m\u001b[38;5;28mself\u001b[39m\u001b[38;5;241m.\u001b[39mapply(\u001b[38;5;28;01mlambda\u001b[39;00m x:x[\u001b[38;5;241m0\u001b[39m]\u001b[38;5;241m-\u001b[39mx[\u001b[38;5;241m1\u001b[39m],axis\u001b[38;5;241m=\u001b[39m\u001b[38;5;241m1\u001b[39m)\n\u001b[0;32m--> 849\u001b[0m \tpositive\u001b[38;5;241m=\u001b[39mtrace\u001b[38;5;241m.\u001b[39mapply(\u001b[38;5;28;01mlambda\u001b[39;00m x:x \u001b[38;5;28;01mif\u001b[39;00m x\u001b[38;5;241m>\u001b[39m\u001b[38;5;241m=\u001b[39m\u001b[38;5;241m0\u001b[39m \u001b[38;5;28;01melse\u001b[39;00m \u001b[43mpd\u001b[49m\u001b[38;5;241;43m.\u001b[39;49m\u001b[43mnp\u001b[49m\u001b[38;5;241m.\u001b[39mnan)\n\u001b[1;32m    850\u001b[0m \tnegative\u001b[38;5;241m=\u001b[39mtrace\u001b[38;5;241m.\u001b[39mapply(\u001b[38;5;28;01mlambda\u001b[39;00m x:x \u001b[38;5;28;01mif\u001b[39;00m x\u001b[38;5;241m<\u001b[39m\u001b[38;5;241m0\u001b[39m \u001b[38;5;28;01melse\u001b[39;00m pd\u001b[38;5;241m.\u001b[39mnp\u001b[38;5;241m.\u001b[39mnan)\n\u001b[1;32m    851\u001b[0m \ttrace\u001b[38;5;241m=\u001b[39mpd\u001b[38;5;241m.\u001b[39mDataFrame({\u001b[38;5;124m'\u001b[39m\u001b[38;5;124mpositive\u001b[39m\u001b[38;5;124m'\u001b[39m:positive,\u001b[38;5;124m'\u001b[39m\u001b[38;5;124mnegative\u001b[39m\u001b[38;5;124m'\u001b[39m:negative})\n",
      "\u001b[0;31mAttributeError\u001b[0m: module 'pandas' has no attribute 'np'"
     ]
    }
   ],
   "source": [
    "df[['A','B']].iplot(kind='spread')"
   ]
  },
  {
   "cell_type": "markdown",
   "metadata": {},
   "source": [
    "## histogram"
   ]
  },
  {
   "cell_type": "code",
   "execution_count": 20,
   "metadata": {
    "collapsed": false,
    "jupyter": {
     "outputs_hidden": false
    }
   },
   "outputs": [
    {
     "data": {
      "application/vnd.plotly.v1+json": {
       "config": {
        "linkText": "Export to plot.ly",
        "plotlyServerURL": "https://plot.ly",
        "showLink": true
       },
       "data": [
        {
         "histfunc": "count",
         "histnorm": "",
         "marker": {
          "color": "rgba(255, 153, 51, 1.0)",
          "line": {
           "color": "#4D5663",
           "width": 1.3
          }
         },
         "name": "A",
         "nbinsx": 25,
         "opacity": 0.8,
         "orientation": "v",
         "type": "histogram",
         "x": [
          0.3722499513826081,
          0.44962418847711977,
          -0.19008686316152432,
          0.3505374987768143,
          0.04799058581538711,
          -1.0616808223649041,
          -0.34918097256812286,
          -0.48089881806101076,
          -0.4456760870273539,
          -0.7845441182194487,
          -2.6297966397985317,
          -1.077088111762941,
          -0.5992787254785886,
          2.4004564846490273,
          -1.174814343368501,
          0.792165893059011,
          -1.0125715408371985,
          2.07430622775241,
          0.7235617584236765,
          -0.3256957929742864,
          -0.47522205392682293,
          -2.319204187811456,
          2.1737543325926603,
          -0.06693863467014748,
          2.2224326606271494,
          -0.19668439507305474,
          -0.3905776033461921,
          0.3966405704473405,
          0.35048839239078095,
          -0.4701316366936247,
          1.3006606106658865,
          0.6893948544981483,
          -0.9615751084789473,
          -0.3942103001601378,
          0.7305791326959454,
          -1.9842578058766225,
          0.7443692825956367,
          0.12139364619153553,
          0.6598421360088613,
          -0.0010939429186482609,
          -1.5212483343645706,
          -0.5313954698653767,
          -0.23967668217356503,
          1.38321086057728,
          1.415251735754552,
          -0.29152155442876243,
          0.12324920714653177,
          0.9778606278917786,
          -0.4228000308238359,
          1.1261729051941902,
          1.6324138786501776,
          -1.3197027011686355,
          0.2587713361686644,
          1.4895474238654858,
          -0.5531892445255253,
          1.2888055363696294,
          0.4905527027203285,
          0.9653769455706748,
          -0.42048243053724127,
          1.1745572322932814,
          0.4616626277868517,
          -0.3071957752850886,
          0.2944507495820135,
          -0.9561406727260771,
          0.7419642857087567,
          -0.6027273570253878,
          -0.907942753288384,
          0.23518617948959306,
          -0.19438408200279772,
          -2.1692481246451747,
          0.6811137258559963,
          -0.028253873394904632,
          0.15740165722328445,
          2.132658000392043,
          -0.17172845377821724,
          0.2846300655354166,
          0.7570838467051156,
          -1.362548814735958,
          -0.8966092192548227,
          2.081062883727208,
          1.0010914743347552,
          -0.4834298995851756,
          0.556214916975121,
          0.9757849809919205,
          0.08069545621379347,
          0.06442180423172583,
          -1.1469175868178905,
          -0.85733066562819,
          0.36801353398388825,
          0.026557990871516213,
          -0.7864658073811868,
          -0.14078002328853012,
          0.4362032792494815,
          0.2903823392194604,
          1.1529028827983299,
          -0.35076613029742904,
          -1.1902510156607797,
          0.5240088945099852,
          -0.3172966435958289,
          1.8671430764855006
         ]
        }
       ],
       "layout": {
        "autosize": true,
        "barmode": "overlay",
        "legend": {
         "bgcolor": "#F5F6F9",
         "font": {
          "color": "#4D5663"
         }
        },
        "paper_bgcolor": "#F5F6F9",
        "plot_bgcolor": "#F5F6F9",
        "template": {
         "data": {
          "bar": [
           {
            "error_x": {
             "color": "#2a3f5f"
            },
            "error_y": {
             "color": "#2a3f5f"
            },
            "marker": {
             "line": {
              "color": "#E5ECF6",
              "width": 0.5
             },
             "pattern": {
              "fillmode": "overlay",
              "size": 10,
              "solidity": 0.2
             }
            },
            "type": "bar"
           }
          ],
          "barpolar": [
           {
            "marker": {
             "line": {
              "color": "#E5ECF6",
              "width": 0.5
             },
             "pattern": {
              "fillmode": "overlay",
              "size": 10,
              "solidity": 0.2
             }
            },
            "type": "barpolar"
           }
          ],
          "carpet": [
           {
            "aaxis": {
             "endlinecolor": "#2a3f5f",
             "gridcolor": "white",
             "linecolor": "white",
             "minorgridcolor": "white",
             "startlinecolor": "#2a3f5f"
            },
            "baxis": {
             "endlinecolor": "#2a3f5f",
             "gridcolor": "white",
             "linecolor": "white",
             "minorgridcolor": "white",
             "startlinecolor": "#2a3f5f"
            },
            "type": "carpet"
           }
          ],
          "choropleth": [
           {
            "colorbar": {
             "outlinewidth": 0,
             "ticks": ""
            },
            "type": "choropleth"
           }
          ],
          "contour": [
           {
            "colorbar": {
             "outlinewidth": 0,
             "ticks": ""
            },
            "colorscale": [
             [
              0,
              "#0d0887"
             ],
             [
              0.1111111111111111,
              "#46039f"
             ],
             [
              0.2222222222222222,
              "#7201a8"
             ],
             [
              0.3333333333333333,
              "#9c179e"
             ],
             [
              0.4444444444444444,
              "#bd3786"
             ],
             [
              0.5555555555555556,
              "#d8576b"
             ],
             [
              0.6666666666666666,
              "#ed7953"
             ],
             [
              0.7777777777777778,
              "#fb9f3a"
             ],
             [
              0.8888888888888888,
              "#fdca26"
             ],
             [
              1,
              "#f0f921"
             ]
            ],
            "type": "contour"
           }
          ],
          "contourcarpet": [
           {
            "colorbar": {
             "outlinewidth": 0,
             "ticks": ""
            },
            "type": "contourcarpet"
           }
          ],
          "heatmap": [
           {
            "colorbar": {
             "outlinewidth": 0,
             "ticks": ""
            },
            "colorscale": [
             [
              0,
              "#0d0887"
             ],
             [
              0.1111111111111111,
              "#46039f"
             ],
             [
              0.2222222222222222,
              "#7201a8"
             ],
             [
              0.3333333333333333,
              "#9c179e"
             ],
             [
              0.4444444444444444,
              "#bd3786"
             ],
             [
              0.5555555555555556,
              "#d8576b"
             ],
             [
              0.6666666666666666,
              "#ed7953"
             ],
             [
              0.7777777777777778,
              "#fb9f3a"
             ],
             [
              0.8888888888888888,
              "#fdca26"
             ],
             [
              1,
              "#f0f921"
             ]
            ],
            "type": "heatmap"
           }
          ],
          "heatmapgl": [
           {
            "colorbar": {
             "outlinewidth": 0,
             "ticks": ""
            },
            "colorscale": [
             [
              0,
              "#0d0887"
             ],
             [
              0.1111111111111111,
              "#46039f"
             ],
             [
              0.2222222222222222,
              "#7201a8"
             ],
             [
              0.3333333333333333,
              "#9c179e"
             ],
             [
              0.4444444444444444,
              "#bd3786"
             ],
             [
              0.5555555555555556,
              "#d8576b"
             ],
             [
              0.6666666666666666,
              "#ed7953"
             ],
             [
              0.7777777777777778,
              "#fb9f3a"
             ],
             [
              0.8888888888888888,
              "#fdca26"
             ],
             [
              1,
              "#f0f921"
             ]
            ],
            "type": "heatmapgl"
           }
          ],
          "histogram": [
           {
            "marker": {
             "pattern": {
              "fillmode": "overlay",
              "size": 10,
              "solidity": 0.2
             }
            },
            "type": "histogram"
           }
          ],
          "histogram2d": [
           {
            "colorbar": {
             "outlinewidth": 0,
             "ticks": ""
            },
            "colorscale": [
             [
              0,
              "#0d0887"
             ],
             [
              0.1111111111111111,
              "#46039f"
             ],
             [
              0.2222222222222222,
              "#7201a8"
             ],
             [
              0.3333333333333333,
              "#9c179e"
             ],
             [
              0.4444444444444444,
              "#bd3786"
             ],
             [
              0.5555555555555556,
              "#d8576b"
             ],
             [
              0.6666666666666666,
              "#ed7953"
             ],
             [
              0.7777777777777778,
              "#fb9f3a"
             ],
             [
              0.8888888888888888,
              "#fdca26"
             ],
             [
              1,
              "#f0f921"
             ]
            ],
            "type": "histogram2d"
           }
          ],
          "histogram2dcontour": [
           {
            "colorbar": {
             "outlinewidth": 0,
             "ticks": ""
            },
            "colorscale": [
             [
              0,
              "#0d0887"
             ],
             [
              0.1111111111111111,
              "#46039f"
             ],
             [
              0.2222222222222222,
              "#7201a8"
             ],
             [
              0.3333333333333333,
              "#9c179e"
             ],
             [
              0.4444444444444444,
              "#bd3786"
             ],
             [
              0.5555555555555556,
              "#d8576b"
             ],
             [
              0.6666666666666666,
              "#ed7953"
             ],
             [
              0.7777777777777778,
              "#fb9f3a"
             ],
             [
              0.8888888888888888,
              "#fdca26"
             ],
             [
              1,
              "#f0f921"
             ]
            ],
            "type": "histogram2dcontour"
           }
          ],
          "mesh3d": [
           {
            "colorbar": {
             "outlinewidth": 0,
             "ticks": ""
            },
            "type": "mesh3d"
           }
          ],
          "parcoords": [
           {
            "line": {
             "colorbar": {
              "outlinewidth": 0,
              "ticks": ""
             }
            },
            "type": "parcoords"
           }
          ],
          "pie": [
           {
            "automargin": true,
            "type": "pie"
           }
          ],
          "scatter": [
           {
            "fillpattern": {
             "fillmode": "overlay",
             "size": 10,
             "solidity": 0.2
            },
            "type": "scatter"
           }
          ],
          "scatter3d": [
           {
            "line": {
             "colorbar": {
              "outlinewidth": 0,
              "ticks": ""
             }
            },
            "marker": {
             "colorbar": {
              "outlinewidth": 0,
              "ticks": ""
             }
            },
            "type": "scatter3d"
           }
          ],
          "scattercarpet": [
           {
            "marker": {
             "colorbar": {
              "outlinewidth": 0,
              "ticks": ""
             }
            },
            "type": "scattercarpet"
           }
          ],
          "scattergeo": [
           {
            "marker": {
             "colorbar": {
              "outlinewidth": 0,
              "ticks": ""
             }
            },
            "type": "scattergeo"
           }
          ],
          "scattergl": [
           {
            "marker": {
             "colorbar": {
              "outlinewidth": 0,
              "ticks": ""
             }
            },
            "type": "scattergl"
           }
          ],
          "scattermapbox": [
           {
            "marker": {
             "colorbar": {
              "outlinewidth": 0,
              "ticks": ""
             }
            },
            "type": "scattermapbox"
           }
          ],
          "scatterpolar": [
           {
            "marker": {
             "colorbar": {
              "outlinewidth": 0,
              "ticks": ""
             }
            },
            "type": "scatterpolar"
           }
          ],
          "scatterpolargl": [
           {
            "marker": {
             "colorbar": {
              "outlinewidth": 0,
              "ticks": ""
             }
            },
            "type": "scatterpolargl"
           }
          ],
          "scatterternary": [
           {
            "marker": {
             "colorbar": {
              "outlinewidth": 0,
              "ticks": ""
             }
            },
            "type": "scatterternary"
           }
          ],
          "surface": [
           {
            "colorbar": {
             "outlinewidth": 0,
             "ticks": ""
            },
            "colorscale": [
             [
              0,
              "#0d0887"
             ],
             [
              0.1111111111111111,
              "#46039f"
             ],
             [
              0.2222222222222222,
              "#7201a8"
             ],
             [
              0.3333333333333333,
              "#9c179e"
             ],
             [
              0.4444444444444444,
              "#bd3786"
             ],
             [
              0.5555555555555556,
              "#d8576b"
             ],
             [
              0.6666666666666666,
              "#ed7953"
             ],
             [
              0.7777777777777778,
              "#fb9f3a"
             ],
             [
              0.8888888888888888,
              "#fdca26"
             ],
             [
              1,
              "#f0f921"
             ]
            ],
            "type": "surface"
           }
          ],
          "table": [
           {
            "cells": {
             "fill": {
              "color": "#EBF0F8"
             },
             "line": {
              "color": "white"
             }
            },
            "header": {
             "fill": {
              "color": "#C8D4E3"
             },
             "line": {
              "color": "white"
             }
            },
            "type": "table"
           }
          ]
         },
         "layout": {
          "annotationdefaults": {
           "arrowcolor": "#2a3f5f",
           "arrowhead": 0,
           "arrowwidth": 1
          },
          "autotypenumbers": "strict",
          "coloraxis": {
           "colorbar": {
            "outlinewidth": 0,
            "ticks": ""
           }
          },
          "colorscale": {
           "diverging": [
            [
             0,
             "#8e0152"
            ],
            [
             0.1,
             "#c51b7d"
            ],
            [
             0.2,
             "#de77ae"
            ],
            [
             0.3,
             "#f1b6da"
            ],
            [
             0.4,
             "#fde0ef"
            ],
            [
             0.5,
             "#f7f7f7"
            ],
            [
             0.6,
             "#e6f5d0"
            ],
            [
             0.7,
             "#b8e186"
            ],
            [
             0.8,
             "#7fbc41"
            ],
            [
             0.9,
             "#4d9221"
            ],
            [
             1,
             "#276419"
            ]
           ],
           "sequential": [
            [
             0,
             "#0d0887"
            ],
            [
             0.1111111111111111,
             "#46039f"
            ],
            [
             0.2222222222222222,
             "#7201a8"
            ],
            [
             0.3333333333333333,
             "#9c179e"
            ],
            [
             0.4444444444444444,
             "#bd3786"
            ],
            [
             0.5555555555555556,
             "#d8576b"
            ],
            [
             0.6666666666666666,
             "#ed7953"
            ],
            [
             0.7777777777777778,
             "#fb9f3a"
            ],
            [
             0.8888888888888888,
             "#fdca26"
            ],
            [
             1,
             "#f0f921"
            ]
           ],
           "sequentialminus": [
            [
             0,
             "#0d0887"
            ],
            [
             0.1111111111111111,
             "#46039f"
            ],
            [
             0.2222222222222222,
             "#7201a8"
            ],
            [
             0.3333333333333333,
             "#9c179e"
            ],
            [
             0.4444444444444444,
             "#bd3786"
            ],
            [
             0.5555555555555556,
             "#d8576b"
            ],
            [
             0.6666666666666666,
             "#ed7953"
            ],
            [
             0.7777777777777778,
             "#fb9f3a"
            ],
            [
             0.8888888888888888,
             "#fdca26"
            ],
            [
             1,
             "#f0f921"
            ]
           ]
          },
          "colorway": [
           "#636efa",
           "#EF553B",
           "#00cc96",
           "#ab63fa",
           "#FFA15A",
           "#19d3f3",
           "#FF6692",
           "#B6E880",
           "#FF97FF",
           "#FECB52"
          ],
          "font": {
           "color": "#2a3f5f"
          },
          "geo": {
           "bgcolor": "white",
           "lakecolor": "white",
           "landcolor": "#E5ECF6",
           "showlakes": true,
           "showland": true,
           "subunitcolor": "white"
          },
          "hoverlabel": {
           "align": "left"
          },
          "hovermode": "closest",
          "mapbox": {
           "style": "light"
          },
          "paper_bgcolor": "white",
          "plot_bgcolor": "#E5ECF6",
          "polar": {
           "angularaxis": {
            "gridcolor": "white",
            "linecolor": "white",
            "ticks": ""
           },
           "bgcolor": "#E5ECF6",
           "radialaxis": {
            "gridcolor": "white",
            "linecolor": "white",
            "ticks": ""
           }
          },
          "scene": {
           "xaxis": {
            "backgroundcolor": "#E5ECF6",
            "gridcolor": "white",
            "gridwidth": 2,
            "linecolor": "white",
            "showbackground": true,
            "ticks": "",
            "zerolinecolor": "white"
           },
           "yaxis": {
            "backgroundcolor": "#E5ECF6",
            "gridcolor": "white",
            "gridwidth": 2,
            "linecolor": "white",
            "showbackground": true,
            "ticks": "",
            "zerolinecolor": "white"
           },
           "zaxis": {
            "backgroundcolor": "#E5ECF6",
            "gridcolor": "white",
            "gridwidth": 2,
            "linecolor": "white",
            "showbackground": true,
            "ticks": "",
            "zerolinecolor": "white"
           }
          },
          "shapedefaults": {
           "line": {
            "color": "#2a3f5f"
           }
          },
          "ternary": {
           "aaxis": {
            "gridcolor": "white",
            "linecolor": "white",
            "ticks": ""
           },
           "baxis": {
            "gridcolor": "white",
            "linecolor": "white",
            "ticks": ""
           },
           "bgcolor": "#E5ECF6",
           "caxis": {
            "gridcolor": "white",
            "linecolor": "white",
            "ticks": ""
           }
          },
          "title": {
           "x": 0.05
          },
          "xaxis": {
           "automargin": true,
           "gridcolor": "white",
           "linecolor": "white",
           "ticks": "",
           "title": {
            "standoff": 15
           },
           "zerolinecolor": "white",
           "zerolinewidth": 2
          },
          "yaxis": {
           "automargin": true,
           "gridcolor": "white",
           "linecolor": "white",
           "ticks": "",
           "title": {
            "standoff": 15
           },
           "zerolinecolor": "white",
           "zerolinewidth": 2
          }
         }
        },
        "title": {
         "font": {
          "color": "#4D5663"
         }
        },
        "xaxis": {
         "autorange": true,
         "gridcolor": "#E1E5ED",
         "range": [
          -3,
          2.5
         ],
         "showgrid": true,
         "tickfont": {
          "color": "#4D5663"
         },
         "title": {
          "font": {
           "color": "#4D5663"
          },
          "text": ""
         },
         "type": "linear",
         "zerolinecolor": "#E1E5ED"
        },
        "yaxis": {
         "autorange": true,
         "gridcolor": "#E1E5ED",
         "range": [
          0,
          25.263157894736842
         ],
         "showgrid": true,
         "tickfont": {
          "color": "#4D5663"
         },
         "title": {
          "font": {
           "color": "#4D5663"
          },
          "text": ""
         },
         "zerolinecolor": "#E1E5ED"
        }
       }
      },
      "image/png": "[encoded data removed]",
      "text/html": [
       "<div>                            <div id=\"3e9a8c3f-b12a-46c2-9fde-e97abed48b47\" class=\"plotly-graph-div\" style=\"height:525px; width:100%;\"></div>            <script type=\"text/javascript\">                require([\"plotly\"], function(Plotly) {                    window.PLOTLYENV=window.PLOTLYENV || {};\n",
       "                    window.PLOTLYENV.BASE_URL='https://plot.ly';                                    if (document.getElementById(\"3e9a8c3f-b12a-46c2-9fde-e97abed48b47\")) {                    Plotly.newPlot(                        \"3e9a8c3f-b12a-46c2-9fde-e97abed48b47\",                        [{\"histfunc\":\"count\",\"histnorm\":\"\",\"marker\":{\"color\":\"rgba(255, 153, 51, 1.0)\",\"line\":{\"color\":\"#4D5663\",\"width\":1.3}},\"name\":\"A\",\"nbinsx\":25,\"opacity\":0.8,\"orientation\":\"v\",\"x\":[0.3722499513826081,0.44962418847711977,-0.19008686316152432,0.3505374987768143,0.04799058581538711,-1.0616808223649041,-0.34918097256812286,-0.48089881806101076,-0.4456760870273539,-0.7845441182194487,-2.6297966397985317,-1.077088111762941,-0.5992787254785886,2.4004564846490273,-1.174814343368501,0.792165893059011,-1.0125715408371985,2.07430622775241,0.7235617584236765,-0.3256957929742864,-0.47522205392682293,-2.319204187811456,2.1737543325926603,-0.06693863467014748,2.2224326606271494,-0.19668439507305474,-0.3905776033461921,0.3966405704473405,0.35048839239078095,-0.4701316366936247,1.3006606106658865,0.6893948544981483,-0.9615751084789473,-0.3942103001601378,0.7305791326959454,-1.9842578058766225,0.7443692825956367,0.12139364619153553,0.6598421360088613,-0.0010939429186482609,-1.5212483343645706,-0.5313954698653767,-0.23967668217356503,1.38321086057728,1.415251735754552,-0.29152155442876243,0.12324920714653177,0.9778606278917786,-0.4228000308238359,1.1261729051941902,1.6324138786501776,-1.3197027011686355,0.2587713361686644,1.4895474238654858,-0.5531892445255253,1.2888055363696294,0.4905527027203285,0.9653769455706748,-0.42048243053724127,1.1745572322932814,0.4616626277868517,-0.3071957752850886,0.2944507495820135,-0.9561406727260771,0.7419642857087567,-0.6027273570253878,-0.907942753288384,0.23518617948959306,-0.19438408200279772,-2.1692481246451747,0.6811137258559963,-0.028253873394904632,0.15740165722328445,2.132658000392043,-0.17172845377821724,0.2846300655354166,0.7570838467051156,-1.362548814735958,-0.8966092192548227,2.081062883727208,1.0010914743347552,-0.4834298995851756,0.556214916975121,0.9757849809919205,0.08069545621379347,0.06442180423172583,-1.1469175868178905,-0.85733066562819,0.36801353398388825,0.026557990871516213,-0.7864658073811868,-0.14078002328853012,0.4362032792494815,0.2903823392194604,1.1529028827983299,-0.35076613029742904,-1.1902510156607797,0.5240088945099852,-0.3172966435958289,1.8671430764855006],\"type\":\"histogram\"}],                        {\"barmode\":\"overlay\",\"legend\":{\"bgcolor\":\"#F5F6F9\",\"font\":{\"color\":\"#4D5663\"}},\"paper_bgcolor\":\"#F5F6F9\",\"plot_bgcolor\":\"#F5F6F9\",\"template\":{\"data\":{\"barpolar\":[{\"marker\":{\"line\":{\"color\":\"#E5ECF6\",\"width\":0.5},\"pattern\":{\"fillmode\":\"overlay\",\"size\":10,\"solidity\":0.2}},\"type\":\"barpolar\"}],\"bar\":[{\"error_x\":{\"color\":\"#2a3f5f\"},\"error_y\":{\"color\":\"#2a3f5f\"},\"marker\":{\"line\":{\"color\":\"#E5ECF6\",\"width\":0.5},\"pattern\":{\"fillmode\":\"overlay\",\"size\":10,\"solidity\":0.2}},\"type\":\"bar\"}],\"carpet\":[{\"aaxis\":{\"endlinecolor\":\"#2a3f5f\",\"gridcolor\":\"white\",\"linecolor\":\"white\",\"minorgridcolor\":\"white\",\"startlinecolor\":\"#2a3f5f\"},\"baxis\":{\"endlinecolor\":\"#2a3f5f\",\"gridcolor\":\"white\",\"linecolor\":\"white\",\"minorgridcolor\":\"white\",\"startlinecolor\":\"#2a3f5f\"},\"type\":\"carpet\"}],\"choropleth\":[{\"colorbar\":{\"outlinewidth\":0,\"ticks\":\"\"},\"type\":\"choropleth\"}],\"contourcarpet\":[{\"colorbar\":{\"outlinewidth\":0,\"ticks\":\"\"},\"type\":\"contourcarpet\"}],\"contour\":[{\"colorbar\":{\"outlinewidth\":0,\"ticks\":\"\"},\"colorscale\":[[0.0,\"#0d0887\"],[0.1111111111111111,\"#46039f\"],[0.2222222222222222,\"#7201a8\"],[0.3333333333333333,\"#9c179e\"],[0.4444444444444444,\"#bd3786\"],[0.5555555555555556,\"#d8576b\"],[0.6666666666666666,\"#ed7953\"],[0.7777777777777778,\"#fb9f3a\"],[0.8888888888888888,\"#fdca26\"],[1.0,\"#f0f921\"]],\"type\":\"contour\"}],\"heatmapgl\":[{\"colorbar\":{\"outlinewidth\":0,\"ticks\":\"\"},\"colorscale\":[[0.0,\"#0d0887\"],[0.1111111111111111,\"#46039f\"],[0.2222222222222222,\"#7201a8\"],[0.3333333333333333,\"#9c179e\"],[0.4444444444444444,\"#bd3786\"],[0.5555555555555556,\"#d8576b\"],[0.6666666666666666,\"#ed7953\"],[0.7777777777777778,\"#fb9f3a\"],[0.8888888888888888,\"#fdca26\"],[1.0,\"#f0f921\"]],\"type\":\"heatmapgl\"}],\"heatmap\":[{\"colorbar\":{\"outlinewidth\":0,\"ticks\":\"\"},\"colorscale\":[[0.0,\"#0d0887\"],[0.1111111111111111,\"#46039f\"],[0.2222222222222222,\"#7201a8\"],[0.3333333333333333,\"#9c179e\"],[0.4444444444444444,\"#bd3786\"],[0.5555555555555556,\"#d8576b\"],[0.6666666666666666,\"#ed7953\"],[0.7777777777777778,\"#fb9f3a\"],[0.8888888888888888,\"#fdca26\"],[1.0,\"#f0f921\"]],\"type\":\"heatmap\"}],\"histogram2dcontour\":[{\"colorbar\":{\"outlinewidth\":0,\"ticks\":\"\"},\"colorscale\":[[0.0,\"#0d0887\"],[0.1111111111111111,\"#46039f\"],[0.2222222222222222,\"#7201a8\"],[0.3333333333333333,\"#9c179e\"],[0.4444444444444444,\"#bd3786\"],[0.5555555555555556,\"#d8576b\"],[0.6666666666666666,\"#ed7953\"],[0.7777777777777778,\"#fb9f3a\"],[0.8888888888888888,\"#fdca26\"],[1.0,\"#f0f921\"]],\"type\":\"histogram2dcontour\"}],\"histogram2d\":[{\"colorbar\":{\"outlinewidth\":0,\"ticks\":\"\"},\"colorscale\":[[0.0,\"#0d0887\"],[0.1111111111111111,\"#46039f\"],[0.2222222222222222,\"#7201a8\"],[0.3333333333333333,\"#9c179e\"],[0.4444444444444444,\"#bd3786\"],[0.5555555555555556,\"#d8576b\"],[0.6666666666666666,\"#ed7953\"],[0.7777777777777778,\"#fb9f3a\"],[0.8888888888888888,\"#fdca26\"],[1.0,\"#f0f921\"]],\"type\":\"histogram2d\"}],\"histogram\":[{\"marker\":{\"pattern\":{\"fillmode\":\"overlay\",\"size\":10,\"solidity\":0.2}},\"type\":\"histogram\"}],\"mesh3d\":[{\"colorbar\":{\"outlinewidth\":0,\"ticks\":\"\"},\"type\":\"mesh3d\"}],\"parcoords\":[{\"line\":{\"colorbar\":{\"outlinewidth\":0,\"ticks\":\"\"}},\"type\":\"parcoords\"}],\"pie\":[{\"automargin\":true,\"type\":\"pie\"}],\"scatter3d\":[{\"line\":{\"colorbar\":{\"outlinewidth\":0,\"ticks\":\"\"}},\"marker\":{\"colorbar\":{\"outlinewidth\":0,\"ticks\":\"\"}},\"type\":\"scatter3d\"}],\"scattercarpet\":[{\"marker\":{\"colorbar\":{\"outlinewidth\":0,\"ticks\":\"\"}},\"type\":\"scattercarpet\"}],\"scattergeo\":[{\"marker\":{\"colorbar\":{\"outlinewidth\":0,\"ticks\":\"\"}},\"type\":\"scattergeo\"}],\"scattergl\":[{\"marker\":{\"colorbar\":{\"outlinewidth\":0,\"ticks\":\"\"}},\"type\":\"scattergl\"}],\"scattermapbox\":[{\"marker\":{\"colorbar\":{\"outlinewidth\":0,\"ticks\":\"\"}},\"type\":\"scattermapbox\"}],\"scatterpolargl\":[{\"marker\":{\"colorbar\":{\"outlinewidth\":0,\"ticks\":\"\"}},\"type\":\"scatterpolargl\"}],\"scatterpolar\":[{\"marker\":{\"colorbar\":{\"outlinewidth\":0,\"ticks\":\"\"}},\"type\":\"scatterpolar\"}],\"scatter\":[{\"fillpattern\":{\"fillmode\":\"overlay\",\"size\":10,\"solidity\":0.2},\"type\":\"scatter\"}],\"scatterternary\":[{\"marker\":{\"colorbar\":{\"outlinewidth\":0,\"ticks\":\"\"}},\"type\":\"scatterternary\"}],\"surface\":[{\"colorbar\":{\"outlinewidth\":0,\"ticks\":\"\"},\"colorscale\":[[0.0,\"#0d0887\"],[0.1111111111111111,\"#46039f\"],[0.2222222222222222,\"#7201a8\"],[0.3333333333333333,\"#9c179e\"],[0.4444444444444444,\"#bd3786\"],[0.5555555555555556,\"#d8576b\"],[0.6666666666666666,\"#ed7953\"],[0.7777777777777778,\"#fb9f3a\"],[0.8888888888888888,\"#fdca26\"],[1.0,\"#f0f921\"]],\"type\":\"surface\"}],\"table\":[{\"cells\":{\"fill\":{\"color\":\"#EBF0F8\"},\"line\":{\"color\":\"white\"}},\"header\":{\"fill\":{\"color\":\"#C8D4E3\"},\"line\":{\"color\":\"white\"}},\"type\":\"table\"}]},\"layout\":{\"annotationdefaults\":{\"arrowcolor\":\"#2a3f5f\",\"arrowhead\":0,\"arrowwidth\":1},\"autotypenumbers\":\"strict\",\"coloraxis\":{\"colorbar\":{\"outlinewidth\":0,\"ticks\":\"\"}},\"colorscale\":{\"diverging\":[[0,\"#8e0152\"],[0.1,\"#c51b7d\"],[0.2,\"#de77ae\"],[0.3,\"#f1b6da\"],[0.4,\"#fde0ef\"],[0.5,\"#f7f7f7\"],[0.6,\"#e6f5d0\"],[0.7,\"#b8e186\"],[0.8,\"#7fbc41\"],[0.9,\"#4d9221\"],[1,\"#276419\"]],\"sequential\":[[0.0,\"#0d0887\"],[0.1111111111111111,\"#46039f\"],[0.2222222222222222,\"#7201a8\"],[0.3333333333333333,\"#9c179e\"],[0.4444444444444444,\"#bd3786\"],[0.5555555555555556,\"#d8576b\"],[0.6666666666666666,\"#ed7953\"],[0.7777777777777778,\"#fb9f3a\"],[0.8888888888888888,\"#fdca26\"],[1.0,\"#f0f921\"]],\"sequentialminus\":[[0.0,\"#0d0887\"],[0.1111111111111111,\"#46039f\"],[0.2222222222222222,\"#7201a8\"],[0.3333333333333333,\"#9c179e\"],[0.4444444444444444,\"#bd3786\"],[0.5555555555555556,\"#d8576b\"],[0.6666666666666666,\"#ed7953\"],[0.7777777777777778,\"#fb9f3a\"],[0.8888888888888888,\"#fdca26\"],[1.0,\"#f0f921\"]]},\"colorway\":[\"#636efa\",\"#EF553B\",\"#00cc96\",\"#ab63fa\",\"#FFA15A\",\"#19d3f3\",\"#FF6692\",\"#B6E880\",\"#FF97FF\",\"#FECB52\"],\"font\":{\"color\":\"#2a3f5f\"},\"geo\":{\"bgcolor\":\"white\",\"lakecolor\":\"white\",\"landcolor\":\"#E5ECF6\",\"showlakes\":true,\"showland\":true,\"subunitcolor\":\"white\"},\"hoverlabel\":{\"align\":\"left\"},\"hovermode\":\"closest\",\"mapbox\":{\"style\":\"light\"},\"paper_bgcolor\":\"white\",\"plot_bgcolor\":\"#E5ECF6\",\"polar\":{\"angularaxis\":{\"gridcolor\":\"white\",\"linecolor\":\"white\",\"ticks\":\"\"},\"bgcolor\":\"#E5ECF6\",\"radialaxis\":{\"gridcolor\":\"white\",\"linecolor\":\"white\",\"ticks\":\"\"}},\"scene\":{\"xaxis\":{\"backgroundcolor\":\"#E5ECF6\",\"gridcolor\":\"white\",\"gridwidth\":2,\"linecolor\":\"white\",\"showbackground\":true,\"ticks\":\"\",\"zerolinecolor\":\"white\"},\"yaxis\":{\"backgroundcolor\":\"#E5ECF6\",\"gridcolor\":\"white\",\"gridwidth\":2,\"linecolor\":\"white\",\"showbackground\":true,\"ticks\":\"\",\"zerolinecolor\":\"white\"},\"zaxis\":{\"backgroundcolor\":\"#E5ECF6\",\"gridcolor\":\"white\",\"gridwidth\":2,\"linecolor\":\"white\",\"showbackground\":true,\"ticks\":\"\",\"zerolinecolor\":\"white\"}},\"shapedefaults\":{\"line\":{\"color\":\"#2a3f5f\"}},\"ternary\":{\"aaxis\":{\"gridcolor\":\"white\",\"linecolor\":\"white\",\"ticks\":\"\"},\"baxis\":{\"gridcolor\":\"white\",\"linecolor\":\"white\",\"ticks\":\"\"},\"bgcolor\":\"#E5ECF6\",\"caxis\":{\"gridcolor\":\"white\",\"linecolor\":\"white\",\"ticks\":\"\"}},\"title\":{\"x\":0.05},\"xaxis\":{\"automargin\":true,\"gridcolor\":\"white\",\"linecolor\":\"white\",\"ticks\":\"\",\"title\":{\"standoff\":15},\"zerolinecolor\":\"white\",\"zerolinewidth\":2},\"yaxis\":{\"automargin\":true,\"gridcolor\":\"white\",\"linecolor\":\"white\",\"ticks\":\"\",\"title\":{\"standoff\":15},\"zerolinecolor\":\"white\",\"zerolinewidth\":2}}},\"title\":{\"font\":{\"color\":\"#4D5663\"}},\"xaxis\":{\"gridcolor\":\"#E1E5ED\",\"showgrid\":true,\"tickfont\":{\"color\":\"#4D5663\"},\"title\":{\"font\":{\"color\":\"#4D5663\"},\"text\":\"\"},\"zerolinecolor\":\"#E1E5ED\"},\"yaxis\":{\"gridcolor\":\"#E1E5ED\",\"showgrid\":true,\"tickfont\":{\"color\":\"#4D5663\"},\"title\":{\"font\":{\"color\":\"#4D5663\"},\"text\":\"\"},\"zerolinecolor\":\"#E1E5ED\"}},                        {\"showLink\": true, \"linkText\": \"Export to plot.ly\", \"plotlyServerURL\": \"https://plot.ly\", \"responsive\": true}                    ).then(function(){\n",
       "                            \n",
       "var gd = document.getElementById('3e9a8c3f-b12a-46c2-9fde-e97abed48b47');\n",
       "var x = new MutationObserver(function (mutations, observer) {{\n",
       "        var display = window.getComputedStyle(gd).display;\n",
       "        if (!display || display === 'none') {{\n",
       "            console.log([gd, 'removed!']);\n",
       "            Plotly.purge(gd);\n",
       "            observer.disconnect();\n",
       "        }}\n",
       "}});\n",
       "\n",
       "// Listen for the removal of the full notebook cells\n",
       "var notebookContainer = gd.closest('#notebook-container');\n",
       "if (notebookContainer) {{\n",
       "    x.observe(notebookContainer, {childList: true});\n",
       "}}\n",
       "\n",
       "// Listen for the clearing of the current output cell\n",
       "var outputEl = gd.closest('.output');\n",
       "if (outputEl) {{\n",
       "    x.observe(outputEl, {childList: true});\n",
       "}}\n",
       "\n",
       "                        })                };                });            </script>        </div>"
      ]
     },
     "metadata": {},
     "output_type": "display_data"
    }
   ],
   "source": [
    "df['A'].iplot(kind='hist',bins=25)"
   ]
  },
  {
   "cell_type": "code",
   "execution_count": 21,
   "metadata": {
    "collapsed": false,
    "jupyter": {
     "outputs_hidden": false
    }
   },
   "outputs": [
    {
     "data": {
      "application/vnd.plotly.v1+json": {
       "config": {
        "linkText": "Export to plot.ly",
        "plotlyServerURL": "https://plot.ly",
        "showLink": true
       },
       "data": [
        {
         "marker": {
          "color": [
           "rgb(255, 153, 51)",
           "rgb(55, 128, 191)",
           "rgb(50, 171, 96)",
           "rgb(128, 0, 128)",
           "rgb(219, 64, 82)",
           "rgb(0, 128, 128)",
           "rgb(255, 255, 51)",
           "rgb(128, 128, 0)",
           "rgb(251, 128, 114)",
           "rgb(128, 177, 211)"
          ],
          "line": {
           "width": 1.3
          },
          "size": [
           51,
           30,
           33,
           36,
           72,
           83,
           74,
           62,
           64,
           35,
           70,
           61,
           65,
           52,
           45,
           68,
           39,
           33,
           34,
           69,
           36,
           51,
           75,
           56,
           17,
           36,
           31,
           44,
           56,
           50,
           14,
           85,
           45,
           47,
           47,
           56,
           37,
           53,
           31,
           43,
           69,
           55,
           55,
           75,
           73,
           59,
           112,
           50,
           54,
           59,
           70,
           66,
           49,
           68,
           89,
           54,
           54,
           49,
           43,
           42,
           39,
           37,
           70,
           68,
           47,
           22,
           49,
           50,
           44,
           53,
           12,
           77,
           45,
           43,
           31,
           22,
           44,
           29,
           67,
           29,
           32,
           43,
           27,
           41,
           18,
           50,
           61,
           37,
           49,
           63,
           22,
           35,
           66,
           59,
           62,
           37,
           65,
           94,
           29,
           42
          ],
          "symbol": "circle"
         },
         "mode": "markers",
         "text": "",
         "type": "scatter",
         "x": [
          0.3722499513826081,
          0.44962418847711977,
          -0.19008686316152432,
          0.3505374987768143,
          0.04799058581538711,
          -1.0616808223649041,
          -0.34918097256812286,
          -0.48089881806101076,
          -0.4456760870273539,
          -0.7845441182194487,
          -2.6297966397985317,
          -1.077088111762941,
          -0.5992787254785886,
          2.4004564846490273,
          -1.174814343368501,
          0.792165893059011,
          -1.0125715408371985,
          2.07430622775241,
          0.7235617584236765,
          -0.3256957929742864,
          -0.47522205392682293,
          -2.319204187811456,
          2.1737543325926603,
          -0.06693863467014748,
          2.2224326606271494,
          -0.19668439507305474,
          -0.3905776033461921,
          0.3966405704473405,
          0.35048839239078095,
          -0.4701316366936247,
          1.3006606106658865,
          0.6893948544981483,
          -0.9615751084789473,
          -0.3942103001601378,
          0.7305791326959454,
          -1.9842578058766225,
          0.7443692825956367,
          0.12139364619153553,
          0.6598421360088613,
          -0.0010939429186482609,
          -1.5212483343645706,
          -0.5313954698653767,
          -0.23967668217356503,
          1.38321086057728,
          1.415251735754552,
          -0.29152155442876243,
          0.12324920714653177,
          0.9778606278917786,
          -0.4228000308238359,
          1.1261729051941902,
          1.6324138786501776,
          -1.3197027011686355,
          0.2587713361686644,
          1.4895474238654858,
          -0.5531892445255253,
          1.2888055363696294,
          0.4905527027203285,
          0.9653769455706748,
          -0.42048243053724127,
          1.1745572322932814,
          0.4616626277868517,
          -0.3071957752850886,
          0.2944507495820135,
          -0.9561406727260771,
          0.7419642857087567,
          -0.6027273570253878,
          -0.907942753288384,
          0.23518617948959306,
          -0.19438408200279772,
          -2.1692481246451747,
          0.6811137258559963,
          -0.028253873394904632,
          0.15740165722328445,
          2.132658000392043,
          -0.17172845377821724,
          0.2846300655354166,
          0.7570838467051156,
          -1.362548814735958,
          -0.8966092192548227,
          2.081062883727208,
          1.0010914743347552,
          -0.4834298995851756,
          0.556214916975121,
          0.9757849809919205,
          0.08069545621379347,
          0.06442180423172583,
          -1.1469175868178905,
          -0.85733066562819,
          0.36801353398388825,
          0.026557990871516213,
          -0.7864658073811868,
          -0.14078002328853012,
          0.4362032792494815,
          0.2903823392194604,
          1.1529028827983299,
          -0.35076613029742904,
          -1.1902510156607797,
          0.5240088945099852,
          -0.3172966435958289,
          1.8671430764855006
         ],
         "y": [
          -0.09180377812877474,
          1.017158998322427,
          -0.3853355087968358,
          0.24339186432477525,
          0.7546759797806506,
          1.223036267582837,
          -0.9898539898864169,
          0.27279192443264716,
          -0.8909293071765594,
          -1.158444382728826,
          -1.2002806993854744,
          -0.32187516483400946,
          0.400673103397483,
          -0.18441019777648796,
          0.40195163502360554,
          -0.6384845290372737,
          -0.04049291460883738,
          0.736370865957565,
          -1.631448818603992,
          1.051283279098394,
          -0.373777918905386,
          0.5994821282477318,
          -0.16634922846917122,
          1.1196984321287138,
          0.46997964753479254,
          0.7140414607202057,
          0.6368910237927567,
          -0.6979953455340064,
          -0.4831337592451188,
          -0.2887323208295246,
          0.13465965543144492,
          -1.0464943791740509,
          0.5124841158744543,
          -0.3914779293768162,
          -0.01422732365078468,
          1.6603749706051185,
          -0.6379808274717299,
          0.47598913698075374,
          -1.6150528006468738,
          -2.027018545263702,
          -0.994864868613433,
          -0.7571535613479601,
          0.4266814200301229,
          -1.270106146965642,
          0.9616856682221624,
          -2.2180658520491114,
          0.7955866556199922,
          0.470023689776372,
          1.1747149518740854,
          -0.9952283359579319,
          -0.1989586586254375,
          -1.1349526015637381,
          1.4582996352434068,
          0.02644627817215597,
          0.3940096517382582,
          -0.9690617472288557,
          0.805403066375695,
          -1.0097424588219854,
          -0.2388578695257928,
          -0.6485627395247976,
          -0.9620635692494018,
          1.0887688852464492,
          0.688833319261365,
          0.004793949062112339,
          0.7817335868054288,
          -0.1010644196091662,
          0.8353494616788536,
          0.797009754509465,
          0.8093966582698144,
          0.20598454826157453,
          0.3809861608095964,
          -1.021364394835668,
          0.44017507153935526,
          0.027732015936435796,
          2.0311865545276264,
          0.42392026045047293,
          1.3531599885915069,
          -1.0738880994976523,
          1.4709730597355388,
          0.01425321746821192,
          -0.5803052289255062,
          -0.7591045986389185,
          -0.8515039808941258,
          1.3928378698804906,
          0.5290842070612989,
          2.233071733935875,
          0.8202276875963499,
          0.44339921264695986,
          -1.403216254911634,
          -0.1606071797629106,
          -0.3027113922460089,
          1.352482790057738,
          0.2799354343111906,
          1.3924248548020295,
          -0.6272704706804231,
          -1.398862315632276,
          -0.7604376556221797,
          -1.308039606700251,
          0.8219893341478917,
          -0.08226606668768252
         ]
        }
       ],
       "layout": {
        "autosize": true,
        "legend": {
         "bgcolor": "#F5F6F9",
         "font": {
          "color": "#4D5663"
         }
        },
        "paper_bgcolor": "#F5F6F9",
        "plot_bgcolor": "#F5F6F9",
        "template": {
         "data": {
          "bar": [
           {
            "error_x": {
             "color": "#2a3f5f"
            },
            "error_y": {
             "color": "#2a3f5f"
            },
            "marker": {
             "line": {
              "color": "#E5ECF6",
              "width": 0.5
             },
             "pattern": {
              "fillmode": "overlay",
              "size": 10,
              "solidity": 0.2
             }
            },
            "type": "bar"
           }
          ],
          "barpolar": [
           {
            "marker": {
             "line": {
              "color": "#E5ECF6",
              "width": 0.5
             },
             "pattern": {
              "fillmode": "overlay",
              "size": 10,
              "solidity": 0.2
             }
            },
            "type": "barpolar"
           }
          ],
          "carpet": [
           {
            "aaxis": {
             "endlinecolor": "#2a3f5f",
             "gridcolor": "white",
             "linecolor": "white",
             "minorgridcolor": "white",
             "startlinecolor": "#2a3f5f"
            },
            "baxis": {
             "endlinecolor": "#2a3f5f",
             "gridcolor": "white",
             "linecolor": "white",
             "minorgridcolor": "white",
             "startlinecolor": "#2a3f5f"
            },
            "type": "carpet"
           }
          ],
          "choropleth": [
           {
            "colorbar": {
             "outlinewidth": 0,
             "ticks": ""
            },
            "type": "choropleth"
           }
          ],
          "contour": [
           {
            "colorbar": {
             "outlinewidth": 0,
             "ticks": ""
            },
            "colorscale": [
             [
              0,
              "#0d0887"
             ],
             [
              0.1111111111111111,
              "#46039f"
             ],
             [
              0.2222222222222222,
              "#7201a8"
             ],
             [
              0.3333333333333333,
              "#9c179e"
             ],
             [
              0.4444444444444444,
              "#bd3786"
             ],
             [
              0.5555555555555556,
              "#d8576b"
             ],
             [
              0.6666666666666666,
              "#ed7953"
             ],
             [
              0.7777777777777778,
              "#fb9f3a"
             ],
             [
              0.8888888888888888,
              "#fdca26"
             ],
             [
              1,
              "#f0f921"
             ]
            ],
            "type": "contour"
           }
          ],
          "contourcarpet": [
           {
            "colorbar": {
             "outlinewidth": 0,
             "ticks": ""
            },
            "type": "contourcarpet"
           }
          ],
          "heatmap": [
           {
            "colorbar": {
             "outlinewidth": 0,
             "ticks": ""
            },
            "colorscale": [
             [
              0,
              "#0d0887"
             ],
             [
              0.1111111111111111,
              "#46039f"
             ],
             [
              0.2222222222222222,
              "#7201a8"
             ],
             [
              0.3333333333333333,
              "#9c179e"
             ],
             [
              0.4444444444444444,
              "#bd3786"
             ],
             [
              0.5555555555555556,
              "#d8576b"
             ],
             [
              0.6666666666666666,
              "#ed7953"
             ],
             [
              0.7777777777777778,
              "#fb9f3a"
             ],
             [
              0.8888888888888888,
              "#fdca26"
             ],
             [
              1,
              "#f0f921"
             ]
            ],
            "type": "heatmap"
           }
          ],
          "heatmapgl": [
           {
            "colorbar": {
             "outlinewidth": 0,
             "ticks": ""
            },
            "colorscale": [
             [
              0,
              "#0d0887"
             ],
             [
              0.1111111111111111,
              "#46039f"
             ],
             [
              0.2222222222222222,
              "#7201a8"
             ],
             [
              0.3333333333333333,
              "#9c179e"
             ],
             [
              0.4444444444444444,
              "#bd3786"
             ],
             [
              0.5555555555555556,
              "#d8576b"
             ],
             [
              0.6666666666666666,
              "#ed7953"
             ],
             [
              0.7777777777777778,
              "#fb9f3a"
             ],
             [
              0.8888888888888888,
              "#fdca26"
             ],
             [
              1,
              "#f0f921"
             ]
            ],
            "type": "heatmapgl"
           }
          ],
          "histogram": [
           {
            "marker": {
             "pattern": {
              "fillmode": "overlay",
              "size": 10,
              "solidity": 0.2
             }
            },
            "type": "histogram"
           }
          ],
          "histogram2d": [
           {
            "colorbar": {
             "outlinewidth": 0,
             "ticks": ""
            },
            "colorscale": [
             [
              0,
              "#0d0887"
             ],
             [
              0.1111111111111111,
              "#46039f"
             ],
             [
              0.2222222222222222,
              "#7201a8"
             ],
             [
              0.3333333333333333,
              "#9c179e"
             ],
             [
              0.4444444444444444,
              "#bd3786"
             ],
             [
              0.5555555555555556,
              "#d8576b"
             ],
             [
              0.6666666666666666,
              "#ed7953"
             ],
             [
              0.7777777777777778,
              "#fb9f3a"
             ],
             [
              0.8888888888888888,
              "#fdca26"
             ],
             [
              1,
              "#f0f921"
             ]
            ],
            "type": "histogram2d"
           }
          ],
          "histogram2dcontour": [
           {
            "colorbar": {
             "outlinewidth": 0,
             "ticks": ""
            },
            "colorscale": [
             [
              0,
              "#0d0887"
             ],
             [
              0.1111111111111111,
              "#46039f"
             ],
             [
              0.2222222222222222,
              "#7201a8"
             ],
             [
              0.3333333333333333,
              "#9c179e"
             ],
             [
              0.4444444444444444,
              "#bd3786"
             ],
             [
              0.5555555555555556,
              "#d8576b"
             ],
             [
              0.6666666666666666,
              "#ed7953"
             ],
             [
              0.7777777777777778,
              "#fb9f3a"
             ],
             [
              0.8888888888888888,
              "#fdca26"
             ],
             [
              1,
              "#f0f921"
             ]
            ],
            "type": "histogram2dcontour"
           }
          ],
          "mesh3d": [
           {
            "colorbar": {
             "outlinewidth": 0,
             "ticks": ""
            },
            "type": "mesh3d"
           }
          ],
          "parcoords": [
           {
            "line": {
             "colorbar": {
              "outlinewidth": 0,
              "ticks": ""
             }
            },
            "type": "parcoords"
           }
          ],
          "pie": [
           {
            "automargin": true,
            "type": "pie"
           }
          ],
          "scatter": [
           {
            "fillpattern": {
             "fillmode": "overlay",
             "size": 10,
             "solidity": 0.2
            },
            "type": "scatter"
           }
          ],
          "scatter3d": [
           {
            "line": {
             "colorbar": {
              "outlinewidth": 0,
              "ticks": ""
             }
            },
            "marker": {
             "colorbar": {
              "outlinewidth": 0,
              "ticks": ""
             }
            },
            "type": "scatter3d"
           }
          ],
          "scattercarpet": [
           {
            "marker": {
             "colorbar": {
              "outlinewidth": 0,
              "ticks": ""
             }
            },
            "type": "scattercarpet"
           }
          ],
          "scattergeo": [
           {
            "marker": {
             "colorbar": {
              "outlinewidth": 0,
              "ticks": ""
             }
            },
            "type": "scattergeo"
           }
          ],
          "scattergl": [
           {
            "marker": {
             "colorbar": {
              "outlinewidth": 0,
              "ticks": ""
             }
            },
            "type": "scattergl"
           }
          ],
          "scattermapbox": [
           {
            "marker": {
             "colorbar": {
              "outlinewidth": 0,
              "ticks": ""
             }
            },
            "type": "scattermapbox"
           }
          ],
          "scatterpolar": [
           {
            "marker": {
             "colorbar": {
              "outlinewidth": 0,
              "ticks": ""
             }
            },
            "type": "scatterpolar"
           }
          ],
          "scatterpolargl": [
           {
            "marker": {
             "colorbar": {
              "outlinewidth": 0,
              "ticks": ""
             }
            },
            "type": "scatterpolargl"
           }
          ],
          "scatterternary": [
           {
            "marker": {
             "colorbar": {
              "outlinewidth": 0,
              "ticks": ""
             }
            },
            "type": "scatterternary"
           }
          ],
          "surface": [
           {
            "colorbar": {
             "outlinewidth": 0,
             "ticks": ""
            },
            "colorscale": [
             [
              0,
              "#0d0887"
             ],
             [
              0.1111111111111111,
              "#46039f"
             ],
             [
              0.2222222222222222,
              "#7201a8"
             ],
             [
              0.3333333333333333,
              "#9c179e"
             ],
             [
              0.4444444444444444,
              "#bd3786"
             ],
             [
              0.5555555555555556,
              "#d8576b"
             ],
             [
              0.6666666666666666,
              "#ed7953"
             ],
             [
              0.7777777777777778,
              "#fb9f3a"
             ],
             [
              0.8888888888888888,
              "#fdca26"
             ],
             [
              1,
              "#f0f921"
             ]
            ],
            "type": "surface"
           }
          ],
          "table": [
           {
            "cells": {
             "fill": {
              "color": "#EBF0F8"
             },
             "line": {
              "color": "white"
             }
            },
            "header": {
             "fill": {
              "color": "#C8D4E3"
             },
             "line": {
              "color": "white"
             }
            },
            "type": "table"
           }
          ]
         },
         "layout": {
          "annotationdefaults": {
           "arrowcolor": "#2a3f5f",
           "arrowhead": 0,
           "arrowwidth": 1
          },
          "autotypenumbers": "strict",
          "coloraxis": {
           "colorbar": {
            "outlinewidth": 0,
            "ticks": ""
           }
          },
          "colorscale": {
           "diverging": [
            [
             0,
             "#8e0152"
            ],
            [
             0.1,
             "#c51b7d"
            ],
            [
             0.2,
             "#de77ae"
            ],
            [
             0.3,
             "#f1b6da"
            ],
            [
             0.4,
             "#fde0ef"
            ],
            [
             0.5,
             "#f7f7f7"
            ],
            [
             0.6,
             "#e6f5d0"
            ],
            [
             0.7,
             "#b8e186"
            ],
            [
             0.8,
             "#7fbc41"
            ],
            [
             0.9,
             "#4d9221"
            ],
            [
             1,
             "#276419"
            ]
           ],
           "sequential": [
            [
             0,
             "#0d0887"
            ],
            [
             0.1111111111111111,
             "#46039f"
            ],
            [
             0.2222222222222222,
             "#7201a8"
            ],
            [
             0.3333333333333333,
             "#9c179e"
            ],
            [
             0.4444444444444444,
             "#bd3786"
            ],
            [
             0.5555555555555556,
             "#d8576b"
            ],
            [
             0.6666666666666666,
             "#ed7953"
            ],
            [
             0.7777777777777778,
             "#fb9f3a"
            ],
            [
             0.8888888888888888,
             "#fdca26"
            ],
            [
             1,
             "#f0f921"
            ]
           ],
           "sequentialminus": [
            [
             0,
             "#0d0887"
            ],
            [
             0.1111111111111111,
             "#46039f"
            ],
            [
             0.2222222222222222,
             "#7201a8"
            ],
            [
             0.3333333333333333,
             "#9c179e"
            ],
            [
             0.4444444444444444,
             "#bd3786"
            ],
            [
             0.5555555555555556,
             "#d8576b"
            ],
            [
             0.6666666666666666,
             "#ed7953"
            ],
            [
             0.7777777777777778,
             "#fb9f3a"
            ],
            [
             0.8888888888888888,
             "#fdca26"
            ],
            [
             1,
             "#f0f921"
            ]
           ]
          },
          "colorway": [
           "#636efa",
           "#EF553B",
           "#00cc96",
           "#ab63fa",
           "#FFA15A",
           "#19d3f3",
           "#FF6692",
           "#B6E880",
           "#FF97FF",
           "#FECB52"
          ],
          "font": {
           "color": "#2a3f5f"
          },
          "geo": {
           "bgcolor": "white",
           "lakecolor": "white",
           "landcolor": "#E5ECF6",
           "showlakes": true,
           "showland": true,
           "subunitcolor": "white"
          },
          "hoverlabel": {
           "align": "left"
          },
          "hovermode": "closest",
          "mapbox": {
           "style": "light"
          },
          "paper_bgcolor": "white",
          "plot_bgcolor": "#E5ECF6",
          "polar": {
           "angularaxis": {
            "gridcolor": "white",
            "linecolor": "white",
            "ticks": ""
           },
           "bgcolor": "#E5ECF6",
           "radialaxis": {
            "gridcolor": "white",
            "linecolor": "white",
            "ticks": ""
           }
          },
          "scene": {
           "xaxis": {
            "backgroundcolor": "#E5ECF6",
            "gridcolor": "white",
            "gridwidth": 2,
            "linecolor": "white",
            "showbackground": true,
            "ticks": "",
            "zerolinecolor": "white"
           },
           "yaxis": {
            "backgroundcolor": "#E5ECF6",
            "gridcolor": "white",
            "gridwidth": 2,
            "linecolor": "white",
            "showbackground": true,
            "ticks": "",
            "zerolinecolor": "white"
           },
           "zaxis": {
            "backgroundcolor": "#E5ECF6",
            "gridcolor": "white",
            "gridwidth": 2,
            "linecolor": "white",
            "showbackground": true,
            "ticks": "",
            "zerolinecolor": "white"
           }
          },
          "shapedefaults": {
           "line": {
            "color": "#2a3f5f"
           }
          },
          "ternary": {
           "aaxis": {
            "gridcolor": "white",
            "linecolor": "white",
            "ticks": ""
           },
           "baxis": {
            "gridcolor": "white",
            "linecolor": "white",
            "ticks": ""
           },
           "bgcolor": "#E5ECF6",
           "caxis": {
            "gridcolor": "white",
            "linecolor": "white",
            "ticks": ""
           }
          },
          "title": {
           "x": 0.05
          },
          "xaxis": {
           "automargin": true,
           "gridcolor": "white",
           "linecolor": "white",
           "ticks": "",
           "title": {
            "standoff": 15
           },
           "zerolinecolor": "white",
           "zerolinewidth": 2
          },
          "yaxis": {
           "automargin": true,
           "gridcolor": "white",
           "linecolor": "white",
           "ticks": "",
           "title": {
            "standoff": 15
           },
           "zerolinecolor": "white",
           "zerolinewidth": 2
          }
         }
        },
        "title": {
         "font": {
          "color": "#4D5663"
         }
        },
        "xaxis": {
         "autorange": true,
         "gridcolor": "#E1E5ED",
         "range": [
          -3.2239442613029303,
          2.9208274975229127
         ],
         "showgrid": true,
         "tickfont": {
          "color": "#4D5663"
         },
         "title": {
          "font": {
           "color": "#4D5663"
          },
          "text": ""
         },
         "type": "linear",
         "zerolinecolor": "#E1E5ED"
        },
        "yaxis": {
         "autorange": true,
         "gridcolor": "#E1E5ED",
         "range": [
          -5.594375825412926,
          5.793676120982374
         ],
         "showgrid": true,
         "tickfont": {
          "color": "#4D5663"
         },
         "title": {
          "font": {
           "color": "#4D5663"
          },
          "text": ""
         },
         "type": "linear",
         "zerolinecolor": "#E1E5ED"
        }
       }
      },
      "image/png": "[encoded data removed]",
      "text/html": [
       "<div>                            <div id=\"08354122-0f7e-461e-b2e6-3af0e0b99e97\" class=\"plotly-graph-div\" style=\"height:525px; width:100%;\"></div>            <script type=\"text/javascript\">                require([\"plotly\"], function(Plotly) {                    window.PLOTLYENV=window.PLOTLYENV || {};\n",
       "                    window.PLOTLYENV.BASE_URL='https://plot.ly';                                    if (document.getElementById(\"08354122-0f7e-461e-b2e6-3af0e0b99e97\")) {                    Plotly.newPlot(                        \"08354122-0f7e-461e-b2e6-3af0e0b99e97\",                        [{\"marker\":{\"color\":[\"rgb(255, 153, 51)\",\"rgb(55, 128, 191)\",\"rgb(50, 171, 96)\",\"rgb(128, 0, 128)\",\"rgb(219, 64, 82)\",\"rgb(0, 128, 128)\",\"rgb(255, 255, 51)\",\"rgb(128, 128, 0)\",\"rgb(251, 128, 114)\",\"rgb(128, 177, 211)\"],\"line\":{\"width\":1.3},\"size\":[51,30,33,36,72,83,74,62,64,35,70,61,65,52,45,68,39,33,34,69,36,51,75,56,17,36,31,44,56,50,14,85,45,47,47,56,37,53,31,43,69,55,55,75,73,59,112,50,54,59,70,66,49,68,89,54,54,49,43,42,39,37,70,68,47,22,49,50,44,53,12,77,45,43,31,22,44,29,67,29,32,43,27,41,18,50,61,37,49,63,22,35,66,59,62,37,65,94,29,42],\"symbol\":\"circle\"},\"mode\":\"markers\",\"text\":\"\",\"x\":[0.3722499513826081,0.44962418847711977,-0.19008686316152432,0.3505374987768143,0.04799058581538711,-1.0616808223649041,-0.34918097256812286,-0.48089881806101076,-0.4456760870273539,-0.7845441182194487,-2.6297966397985317,-1.077088111762941,-0.5992787254785886,2.4004564846490273,-1.174814343368501,0.792165893059011,-1.0125715408371985,2.07430622775241,0.7235617584236765,-0.3256957929742864,-0.47522205392682293,-2.319204187811456,2.1737543325926603,-0.06693863467014748,2.2224326606271494,-0.19668439507305474,-0.3905776033461921,0.3966405704473405,0.35048839239078095,-0.4701316366936247,1.3006606106658865,0.6893948544981483,-0.9615751084789473,-0.3942103001601378,0.7305791326959454,-1.9842578058766225,0.7443692825956367,0.12139364619153553,0.6598421360088613,-0.0010939429186482609,-1.5212483343645706,-0.5313954698653767,-0.23967668217356503,1.38321086057728,1.415251735754552,-0.29152155442876243,0.12324920714653177,0.9778606278917786,-0.4228000308238359,1.1261729051941902,1.6324138786501776,-1.3197027011686355,0.2587713361686644,1.4895474238654858,-0.5531892445255253,1.2888055363696294,0.4905527027203285,0.9653769455706748,-0.42048243053724127,1.1745572322932814,0.4616626277868517,-0.3071957752850886,0.2944507495820135,-0.9561406727260771,0.7419642857087567,-0.6027273570253878,-0.907942753288384,0.23518617948959306,-0.19438408200279772,-2.1692481246451747,0.6811137258559963,-0.028253873394904632,0.15740165722328445,2.132658000392043,-0.17172845377821724,0.2846300655354166,0.7570838467051156,-1.362548814735958,-0.8966092192548227,2.081062883727208,1.0010914743347552,-0.4834298995851756,0.556214916975121,0.9757849809919205,0.08069545621379347,0.06442180423172583,-1.1469175868178905,-0.85733066562819,0.36801353398388825,0.026557990871516213,-0.7864658073811868,-0.14078002328853012,0.4362032792494815,0.2903823392194604,1.1529028827983299,-0.35076613029742904,-1.1902510156607797,0.5240088945099852,-0.3172966435958289,1.8671430764855006],\"y\":[-0.09180377812877474,1.017158998322427,-0.3853355087968358,0.24339186432477525,0.7546759797806506,1.223036267582837,-0.9898539898864169,0.27279192443264716,-0.8909293071765594,-1.158444382728826,-1.2002806993854744,-0.32187516483400946,0.400673103397483,-0.18441019777648796,0.40195163502360554,-0.6384845290372737,-0.04049291460883738,0.736370865957565,-1.631448818603992,1.051283279098394,-0.373777918905386,0.5994821282477318,-0.16634922846917122,1.1196984321287138,0.46997964753479254,0.7140414607202057,0.6368910237927567,-0.6979953455340064,-0.4831337592451188,-0.2887323208295246,0.13465965543144492,-1.0464943791740509,0.5124841158744543,-0.3914779293768162,-0.01422732365078468,1.6603749706051185,-0.6379808274717299,0.47598913698075374,-1.6150528006468738,-2.027018545263702,-0.994864868613433,-0.7571535613479601,0.4266814200301229,-1.270106146965642,0.9616856682221624,-2.2180658520491114,0.7955866556199922,0.470023689776372,1.1747149518740854,-0.9952283359579319,-0.1989586586254375,-1.1349526015637381,1.4582996352434068,0.02644627817215597,0.3940096517382582,-0.9690617472288557,0.805403066375695,-1.0097424588219854,-0.2388578695257928,-0.6485627395247976,-0.9620635692494018,1.0887688852464492,0.688833319261365,0.004793949062112339,0.7817335868054288,-0.1010644196091662,0.8353494616788536,0.797009754509465,0.8093966582698144,0.20598454826157453,0.3809861608095964,-1.021364394835668,0.44017507153935526,0.027732015936435796,2.0311865545276264,0.42392026045047293,1.3531599885915069,-1.0738880994976523,1.4709730597355388,0.01425321746821192,-0.5803052289255062,-0.7591045986389185,-0.8515039808941258,1.3928378698804906,0.5290842070612989,2.233071733935875,0.8202276875963499,0.44339921264695986,-1.403216254911634,-0.1606071797629106,-0.3027113922460089,1.352482790057738,0.2799354343111906,1.3924248548020295,-0.6272704706804231,-1.398862315632276,-0.7604376556221797,-1.308039606700251,0.8219893341478917,-0.08226606668768252],\"type\":\"scatter\"}],                        {\"legend\":{\"bgcolor\":\"#F5F6F9\",\"font\":{\"color\":\"#4D5663\"}},\"paper_bgcolor\":\"#F5F6F9\",\"plot_bgcolor\":\"#F5F6F9\",\"template\":{\"data\":{\"barpolar\":[{\"marker\":{\"line\":{\"color\":\"#E5ECF6\",\"width\":0.5},\"pattern\":{\"fillmode\":\"overlay\",\"size\":10,\"solidity\":0.2}},\"type\":\"barpolar\"}],\"bar\":[{\"error_x\":{\"color\":\"#2a3f5f\"},\"error_y\":{\"color\":\"#2a3f5f\"},\"marker\":{\"line\":{\"color\":\"#E5ECF6\",\"width\":0.5},\"pattern\":{\"fillmode\":\"overlay\",\"size\":10,\"solidity\":0.2}},\"type\":\"bar\"}],\"carpet\":[{\"aaxis\":{\"endlinecolor\":\"#2a3f5f\",\"gridcolor\":\"white\",\"linecolor\":\"white\",\"minorgridcolor\":\"white\",\"startlinecolor\":\"#2a3f5f\"},\"baxis\":{\"endlinecolor\":\"#2a3f5f\",\"gridcolor\":\"white\",\"linecolor\":\"white\",\"minorgridcolor\":\"white\",\"startlinecolor\":\"#2a3f5f\"},\"type\":\"carpet\"}],\"choropleth\":[{\"colorbar\":{\"outlinewidth\":0,\"ticks\":\"\"},\"type\":\"choropleth\"}],\"contourcarpet\":[{\"colorbar\":{\"outlinewidth\":0,\"ticks\":\"\"},\"type\":\"contourcarpet\"}],\"contour\":[{\"colorbar\":{\"outlinewidth\":0,\"ticks\":\"\"},\"colorscale\":[[0.0,\"#0d0887\"],[0.1111111111111111,\"#46039f\"],[0.2222222222222222,\"#7201a8\"],[0.3333333333333333,\"#9c179e\"],[0.4444444444444444,\"#bd3786\"],[0.5555555555555556,\"#d8576b\"],[0.6666666666666666,\"#ed7953\"],[0.7777777777777778,\"#fb9f3a\"],[0.8888888888888888,\"#fdca26\"],[1.0,\"#f0f921\"]],\"type\":\"contour\"}],\"heatmapgl\":[{\"colorbar\":{\"outlinewidth\":0,\"ticks\":\"\"},\"colorscale\":[[0.0,\"#0d0887\"],[0.1111111111111111,\"#46039f\"],[0.2222222222222222,\"#7201a8\"],[0.3333333333333333,\"#9c179e\"],[0.4444444444444444,\"#bd3786\"],[0.5555555555555556,\"#d8576b\"],[0.6666666666666666,\"#ed7953\"],[0.7777777777777778,\"#fb9f3a\"],[0.8888888888888888,\"#fdca26\"],[1.0,\"#f0f921\"]],\"type\":\"heatmapgl\"}],\"heatmap\":[{\"colorbar\":{\"outlinewidth\":0,\"ticks\":\"\"},\"colorscale\":[[0.0,\"#0d0887\"],[0.1111111111111111,\"#46039f\"],[0.2222222222222222,\"#7201a8\"],[0.3333333333333333,\"#9c179e\"],[0.4444444444444444,\"#bd3786\"],[0.5555555555555556,\"#d8576b\"],[0.6666666666666666,\"#ed7953\"],[0.7777777777777778,\"#fb9f3a\"],[0.8888888888888888,\"#fdca26\"],[1.0,\"#f0f921\"]],\"type\":\"heatmap\"}],\"histogram2dcontour\":[{\"colorbar\":{\"outlinewidth\":0,\"ticks\":\"\"},\"colorscale\":[[0.0,\"#0d0887\"],[0.1111111111111111,\"#46039f\"],[0.2222222222222222,\"#7201a8\"],[0.3333333333333333,\"#9c179e\"],[0.4444444444444444,\"#bd3786\"],[0.5555555555555556,\"#d8576b\"],[0.6666666666666666,\"#ed7953\"],[0.7777777777777778,\"#fb9f3a\"],[0.8888888888888888,\"#fdca26\"],[1.0,\"#f0f921\"]],\"type\":\"histogram2dcontour\"}],\"histogram2d\":[{\"colorbar\":{\"outlinewidth\":0,\"ticks\":\"\"},\"colorscale\":[[0.0,\"#0d0887\"],[0.1111111111111111,\"#46039f\"],[0.2222222222222222,\"#7201a8\"],[0.3333333333333333,\"#9c179e\"],[0.4444444444444444,\"#bd3786\"],[0.5555555555555556,\"#d8576b\"],[0.6666666666666666,\"#ed7953\"],[0.7777777777777778,\"#fb9f3a\"],[0.8888888888888888,\"#fdca26\"],[1.0,\"#f0f921\"]],\"type\":\"histogram2d\"}],\"histogram\":[{\"marker\":{\"pattern\":{\"fillmode\":\"overlay\",\"size\":10,\"solidity\":0.2}},\"type\":\"histogram\"}],\"mesh3d\":[{\"colorbar\":{\"outlinewidth\":0,\"ticks\":\"\"},\"type\":\"mesh3d\"}],\"parcoords\":[{\"line\":{\"colorbar\":{\"outlinewidth\":0,\"ticks\":\"\"}},\"type\":\"parcoords\"}],\"pie\":[{\"automargin\":true,\"type\":\"pie\"}],\"scatter3d\":[{\"line\":{\"colorbar\":{\"outlinewidth\":0,\"ticks\":\"\"}},\"marker\":{\"colorbar\":{\"outlinewidth\":0,\"ticks\":\"\"}},\"type\":\"scatter3d\"}],\"scattercarpet\":[{\"marker\":{\"colorbar\":{\"outlinewidth\":0,\"ticks\":\"\"}},\"type\":\"scattercarpet\"}],\"scattergeo\":[{\"marker\":{\"colorbar\":{\"outlinewidth\":0,\"ticks\":\"\"}},\"type\":\"scattergeo\"}],\"scattergl\":[{\"marker\":{\"colorbar\":{\"outlinewidth\":0,\"ticks\":\"\"}},\"type\":\"scattergl\"}],\"scattermapbox\":[{\"marker\":{\"colorbar\":{\"outlinewidth\":0,\"ticks\":\"\"}},\"type\":\"scattermapbox\"}],\"scatterpolargl\":[{\"marker\":{\"colorbar\":{\"outlinewidth\":0,\"ticks\":\"\"}},\"type\":\"scatterpolargl\"}],\"scatterpolar\":[{\"marker\":{\"colorbar\":{\"outlinewidth\":0,\"ticks\":\"\"}},\"type\":\"scatterpolar\"}],\"scatter\":[{\"fillpattern\":{\"fillmode\":\"overlay\",\"size\":10,\"solidity\":0.2},\"type\":\"scatter\"}],\"scatterternary\":[{\"marker\":{\"colorbar\":{\"outlinewidth\":0,\"ticks\":\"\"}},\"type\":\"scatterternary\"}],\"surface\":[{\"colorbar\":{\"outlinewidth\":0,\"ticks\":\"\"},\"colorscale\":[[0.0,\"#0d0887\"],[0.1111111111111111,\"#46039f\"],[0.2222222222222222,\"#7201a8\"],[0.3333333333333333,\"#9c179e\"],[0.4444444444444444,\"#bd3786\"],[0.5555555555555556,\"#d8576b\"],[0.6666666666666666,\"#ed7953\"],[0.7777777777777778,\"#fb9f3a\"],[0.8888888888888888,\"#fdca26\"],[1.0,\"#f0f921\"]],\"type\":\"surface\"}],\"table\":[{\"cells\":{\"fill\":{\"color\":\"#EBF0F8\"},\"line\":{\"color\":\"white\"}},\"header\":{\"fill\":{\"color\":\"#C8D4E3\"},\"line\":{\"color\":\"white\"}},\"type\":\"table\"}]},\"layout\":{\"annotationdefaults\":{\"arrowcolor\":\"#2a3f5f\",\"arrowhead\":0,\"arrowwidth\":1},\"autotypenumbers\":\"strict\",\"coloraxis\":{\"colorbar\":{\"outlinewidth\":0,\"ticks\":\"\"}},\"colorscale\":{\"diverging\":[[0,\"#8e0152\"],[0.1,\"#c51b7d\"],[0.2,\"#de77ae\"],[0.3,\"#f1b6da\"],[0.4,\"#fde0ef\"],[0.5,\"#f7f7f7\"],[0.6,\"#e6f5d0\"],[0.7,\"#b8e186\"],[0.8,\"#7fbc41\"],[0.9,\"#4d9221\"],[1,\"#276419\"]],\"sequential\":[[0.0,\"#0d0887\"],[0.1111111111111111,\"#46039f\"],[0.2222222222222222,\"#7201a8\"],[0.3333333333333333,\"#9c179e\"],[0.4444444444444444,\"#bd3786\"],[0.5555555555555556,\"#d8576b\"],[0.6666666666666666,\"#ed7953\"],[0.7777777777777778,\"#fb9f3a\"],[0.8888888888888888,\"#fdca26\"],[1.0,\"#f0f921\"]],\"sequentialminus\":[[0.0,\"#0d0887\"],[0.1111111111111111,\"#46039f\"],[0.2222222222222222,\"#7201a8\"],[0.3333333333333333,\"#9c179e\"],[0.4444444444444444,\"#bd3786\"],[0.5555555555555556,\"#d8576b\"],[0.6666666666666666,\"#ed7953\"],[0.7777777777777778,\"#fb9f3a\"],[0.8888888888888888,\"#fdca26\"],[1.0,\"#f0f921\"]]},\"colorway\":[\"#636efa\",\"#EF553B\",\"#00cc96\",\"#ab63fa\",\"#FFA15A\",\"#19d3f3\",\"#FF6692\",\"#B6E880\",\"#FF97FF\",\"#FECB52\"],\"font\":{\"color\":\"#2a3f5f\"},\"geo\":{\"bgcolor\":\"white\",\"lakecolor\":\"white\",\"landcolor\":\"#E5ECF6\",\"showlakes\":true,\"showland\":true,\"subunitcolor\":\"white\"},\"hoverlabel\":{\"align\":\"left\"},\"hovermode\":\"closest\",\"mapbox\":{\"style\":\"light\"},\"paper_bgcolor\":\"white\",\"plot_bgcolor\":\"#E5ECF6\",\"polar\":{\"angularaxis\":{\"gridcolor\":\"white\",\"linecolor\":\"white\",\"ticks\":\"\"},\"bgcolor\":\"#E5ECF6\",\"radialaxis\":{\"gridcolor\":\"white\",\"linecolor\":\"white\",\"ticks\":\"\"}},\"scene\":{\"xaxis\":{\"backgroundcolor\":\"#E5ECF6\",\"gridcolor\":\"white\",\"gridwidth\":2,\"linecolor\":\"white\",\"showbackground\":true,\"ticks\":\"\",\"zerolinecolor\":\"white\"},\"yaxis\":{\"backgroundcolor\":\"#E5ECF6\",\"gridcolor\":\"white\",\"gridwidth\":2,\"linecolor\":\"white\",\"showbackground\":true,\"ticks\":\"\",\"zerolinecolor\":\"white\"},\"zaxis\":{\"backgroundcolor\":\"#E5ECF6\",\"gridcolor\":\"white\",\"gridwidth\":2,\"linecolor\":\"white\",\"showbackground\":true,\"ticks\":\"\",\"zerolinecolor\":\"white\"}},\"shapedefaults\":{\"line\":{\"color\":\"#2a3f5f\"}},\"ternary\":{\"aaxis\":{\"gridcolor\":\"white\",\"linecolor\":\"white\",\"ticks\":\"\"},\"baxis\":{\"gridcolor\":\"white\",\"linecolor\":\"white\",\"ticks\":\"\"},\"bgcolor\":\"#E5ECF6\",\"caxis\":{\"gridcolor\":\"white\",\"linecolor\":\"white\",\"ticks\":\"\"}},\"title\":{\"x\":0.05},\"xaxis\":{\"automargin\":true,\"gridcolor\":\"white\",\"linecolor\":\"white\",\"ticks\":\"\",\"title\":{\"standoff\":15},\"zerolinecolor\":\"white\",\"zerolinewidth\":2},\"yaxis\":{\"automargin\":true,\"gridcolor\":\"white\",\"linecolor\":\"white\",\"ticks\":\"\",\"title\":{\"standoff\":15},\"zerolinecolor\":\"white\",\"zerolinewidth\":2}}},\"title\":{\"font\":{\"color\":\"#4D5663\"}},\"xaxis\":{\"gridcolor\":\"#E1E5ED\",\"showgrid\":true,\"tickfont\":{\"color\":\"#4D5663\"},\"title\":{\"font\":{\"color\":\"#4D5663\"},\"text\":\"\"},\"zerolinecolor\":\"#E1E5ED\"},\"yaxis\":{\"gridcolor\":\"#E1E5ED\",\"showgrid\":true,\"tickfont\":{\"color\":\"#4D5663\"},\"title\":{\"font\":{\"color\":\"#4D5663\"},\"text\":\"\"},\"zerolinecolor\":\"#E1E5ED\"}},                        {\"showLink\": true, \"linkText\": \"Export to plot.ly\", \"plotlyServerURL\": \"https://plot.ly\", \"responsive\": true}                    ).then(function(){\n",
       "                            \n",
       "var gd = document.getElementById('08354122-0f7e-461e-b2e6-3af0e0b99e97');\n",
       "var x = new MutationObserver(function (mutations, observer) {{\n",
       "        var display = window.getComputedStyle(gd).display;\n",
       "        if (!display || display === 'none') {{\n",
       "            console.log([gd, 'removed!']);\n",
       "            Plotly.purge(gd);\n",
       "            observer.disconnect();\n",
       "        }}\n",
       "}});\n",
       "\n",
       "// Listen for the removal of the full notebook cells\n",
       "var notebookContainer = gd.closest('#notebook-container');\n",
       "if (notebookContainer) {{\n",
       "    x.observe(notebookContainer, {childList: true});\n",
       "}}\n",
       "\n",
       "// Listen for the clearing of the current output cell\n",
       "var outputEl = gd.closest('.output');\n",
       "if (outputEl) {{\n",
       "    x.observe(outputEl, {childList: true});\n",
       "}}\n",
       "\n",
       "                        })                };                });            </script>        </div>"
      ]
     },
     "metadata": {},
     "output_type": "display_data"
    }
   ],
   "source": [
    "df.iplot(kind='bubble',x='A',y='B',size='C')"
   ]
  },
  {
   "cell_type": "markdown",
   "metadata": {},
   "source": [
    "## scatter_matrix()\n",
    "\n",
    "Similar to sns.pairplot()"
   ]
  },
  {
   "cell_type": "code",
   "execution_count": 22,
   "metadata": {
    "collapsed": false,
    "jupyter": {
     "outputs_hidden": false
    }
   },
   "outputs": [
    {
     "data": {
      "application/vnd.plotly.v1+json": {
       "config": {
        "linkText": "Export to plot.ly",
        "plotlyServerURL": "https://plot.ly",
        "showLink": true
       },
       "data": [
        {
         "histfunc": "count",
         "histnorm": "",
         "marker": {
          "color": "rgba(255, 153, 51, 1.0)",
          "line": {
           "color": "#4D5663",
           "width": 1.3
          }
         },
         "name": "A",
         "nbinsx": 10,
         "opacity": 0.8,
         "orientation": "v",
         "type": "histogram",
         "x": [
          0.3722499513826081,
          0.44962418847711977,
          -0.19008686316152432,
          0.3505374987768143,
          0.04799058581538711,
          -1.0616808223649041,
          -0.34918097256812286,
          -0.48089881806101076,
          -0.4456760870273539,
          -0.7845441182194487,
          -2.6297966397985317,
          -1.077088111762941,
          -0.5992787254785886,
          2.4004564846490273,
          -1.174814343368501,
          0.792165893059011,
          -1.0125715408371985,
          2.07430622775241,
          0.7235617584236765,
          -0.3256957929742864,
          -0.47522205392682293,
          -2.319204187811456,
          2.1737543325926603,
          -0.06693863467014748,
          2.2224326606271494,
          -0.19668439507305474,
          -0.3905776033461921,
          0.3966405704473405,
          0.35048839239078095,
          -0.4701316366936247,
          1.3006606106658865,
          0.6893948544981483,
          -0.9615751084789473,
          -0.3942103001601378,
          0.7305791326959454,
          -1.9842578058766225,
          0.7443692825956367,
          0.12139364619153553,
          0.6598421360088613,
          -0.0010939429186482609,
          -1.5212483343645706,
          -0.5313954698653767,
          -0.23967668217356503,
          1.38321086057728,
          1.415251735754552,
          -0.29152155442876243,
          0.12324920714653177,
          0.9778606278917786,
          -0.4228000308238359,
          1.1261729051941902,
          1.6324138786501776,
          -1.3197027011686355,
          0.2587713361686644,
          1.4895474238654858,
          -0.5531892445255253,
          1.2888055363696294,
          0.4905527027203285,
          0.9653769455706748,
          -0.42048243053724127,
          1.1745572322932814,
          0.4616626277868517,
          -0.3071957752850886,
          0.2944507495820135,
          -0.9561406727260771,
          0.7419642857087567,
          -0.6027273570253878,
          -0.907942753288384,
          0.23518617948959306,
          -0.19438408200279772,
          -2.1692481246451747,
          0.6811137258559963,
          -0.028253873394904632,
          0.15740165722328445,
          2.132658000392043,
          -0.17172845377821724,
          0.2846300655354166,
          0.7570838467051156,
          -1.362548814735958,
          -0.8966092192548227,
          2.081062883727208,
          1.0010914743347552,
          -0.4834298995851756,
          0.556214916975121,
          0.9757849809919205,
          0.08069545621379347,
          0.06442180423172583,
          -1.1469175868178905,
          -0.85733066562819,
          0.36801353398388825,
          0.026557990871516213,
          -0.7864658073811868,
          -0.14078002328853012,
          0.4362032792494815,
          0.2903823392194604,
          1.1529028827983299,
          -0.35076613029742904,
          -1.1902510156607797,
          0.5240088945099852,
          -0.3172966435958289,
          1.8671430764855006
         ],
         "xaxis": "x",
         "yaxis": "y"
        },
        {
         "line": {
          "color": "rgba(128, 128, 128, 1.0)",
          "dash": "solid",
          "shape": "linear",
          "width": 1.3
         },
         "marker": {
          "size": 2,
          "symbol": "circle"
         },
         "mode": "markers",
         "name": "A",
         "text": "",
         "type": "scatter",
         "x": [
          -0.09180377812877474,
          1.017158998322427,
          -0.3853355087968358,
          0.24339186432477525,
          0.7546759797806506,
          1.223036267582837,
          -0.9898539898864169,
          0.27279192443264716,
          -0.8909293071765594,
          -1.158444382728826,
          -1.2002806993854744,
          -0.32187516483400946,
          0.400673103397483,
          -0.18441019777648796,
          0.40195163502360554,
          -0.6384845290372737,
          -0.04049291460883738,
          0.736370865957565,
          -1.631448818603992,
          1.051283279098394,
          -0.373777918905386,
          0.5994821282477318,
          -0.16634922846917122,
          1.1196984321287138,
          0.46997964753479254,
          0.7140414607202057,
          0.6368910237927567,
          -0.6979953455340064,
          -0.4831337592451188,
          -0.2887323208295246,
          0.13465965543144492,
          -1.0464943791740509,
          0.5124841158744543,
          -0.3914779293768162,
          -0.01422732365078468,
          1.6603749706051185,
          -0.6379808274717299,
          0.47598913698075374,
          -1.6150528006468738,
          -2.027018545263702,
          -0.994864868613433,
          -0.7571535613479601,
          0.4266814200301229,
          -1.270106146965642,
          0.9616856682221624,
          -2.2180658520491114,
          0.7955866556199922,
          0.470023689776372,
          1.1747149518740854,
          -0.9952283359579319,
          -0.1989586586254375,
          -1.1349526015637381,
          1.4582996352434068,
          0.02644627817215597,
          0.3940096517382582,
          -0.9690617472288557,
          0.805403066375695,
          -1.0097424588219854,
          -0.2388578695257928,
          -0.6485627395247976,
          -0.9620635692494018,
          1.0887688852464492,
          0.688833319261365,
          0.004793949062112339,
          0.7817335868054288,
          -0.1010644196091662,
          0.8353494616788536,
          0.797009754509465,
          0.8093966582698144,
          0.20598454826157453,
          0.3809861608095964,
          -1.021364394835668,
          0.44017507153935526,
          0.027732015936435796,
          2.0311865545276264,
          0.42392026045047293,
          1.3531599885915069,
          -1.0738880994976523,
          1.4709730597355388,
          0.01425321746821192,
          -0.5803052289255062,
          -0.7591045986389185,
          -0.8515039808941258,
          1.3928378698804906,
          0.5290842070612989,
          2.233071733935875,
          0.8202276875963499,
          0.44339921264695986,
          -1.403216254911634,
          -0.1606071797629106,
          -0.3027113922460089,
          1.352482790057738,
          0.2799354343111906,
          1.3924248548020295,
          -0.6272704706804231,
          -1.398862315632276,
          -0.7604376556221797,
          -1.308039606700251,
          0.8219893341478917,
          -0.08226606668768252
         ],
         "xaxis": "x2",
         "y": [
          0.3722499513826081,
          0.44962418847711977,
          -0.19008686316152432,
          0.3505374987768143,
          0.04799058581538711,
          -1.0616808223649041,
          -0.34918097256812286,
          -0.48089881806101076,
          -0.4456760870273539,
          -0.7845441182194487,
          -2.6297966397985317,
          -1.077088111762941,
          -0.5992787254785886,
          2.4004564846490273,
          -1.174814343368501,
          0.792165893059011,
          -1.0125715408371985,
          2.07430622775241,
          0.7235617584236765,
          -0.3256957929742864,
          -0.47522205392682293,
          -2.319204187811456,
          2.1737543325926603,
          -0.06693863467014748,
          2.2224326606271494,
          -0.19668439507305474,
          -0.3905776033461921,
          0.3966405704473405,
          0.35048839239078095,
          -0.4701316366936247,
          1.3006606106658865,
          0.6893948544981483,
          -0.9615751084789473,
          -0.3942103001601378,
          0.7305791326959454,
          -1.9842578058766225,
          0.7443692825956367,
          0.12139364619153553,
          0.6598421360088613,
          -0.0010939429186482609,
          -1.5212483343645706,
          -0.5313954698653767,
          -0.23967668217356503,
          1.38321086057728,
          1.415251735754552,
          -0.29152155442876243,
          0.12324920714653177,
          0.9778606278917786,
          -0.4228000308238359,
          1.1261729051941902,
          1.6324138786501776,
          -1.3197027011686355,
          0.2587713361686644,
          1.4895474238654858,
          -0.5531892445255253,
          1.2888055363696294,
          0.4905527027203285,
          0.9653769455706748,
          -0.42048243053724127,
          1.1745572322932814,
          0.4616626277868517,
          -0.3071957752850886,
          0.2944507495820135,
          -0.9561406727260771,
          0.7419642857087567,
          -0.6027273570253878,
          -0.907942753288384,
          0.23518617948959306,
          -0.19438408200279772,
          -2.1692481246451747,
          0.6811137258559963,
          -0.028253873394904632,
          0.15740165722328445,
          2.132658000392043,
          -0.17172845377821724,
          0.2846300655354166,
          0.7570838467051156,
          -1.362548814735958,
          -0.8966092192548227,
          2.081062883727208,
          1.0010914743347552,
          -0.4834298995851756,
          0.556214916975121,
          0.9757849809919205,
          0.08069545621379347,
          0.06442180423172583,
          -1.1469175868178905,
          -0.85733066562819,
          0.36801353398388825,
          0.026557990871516213,
          -0.7864658073811868,
          -0.14078002328853012,
          0.4362032792494815,
          0.2903823392194604,
          1.1529028827983299,
          -0.35076613029742904,
          -1.1902510156607797,
          0.5240088945099852,
          -0.3172966435958289,
          1.8671430764855006
         ],
         "yaxis": "y2"
        },
        {
         "line": {
          "color": "rgba(128, 128, 128, 1.0)",
          "dash": "solid",
          "shape": "linear",
          "width": 1.3
         },
         "marker": {
          "size": 2,
          "symbol": "circle"
         },
         "mode": "markers",
         "name": "A",
         "text": "",
         "type": "scatter",
         "x": [
          0.07298134671454819,
          -1.0189431283480586,
          -0.8416230072025533,
          -0.7158037290484127,
          1.10815460958818,
          1.699734651982336,
          1.2172108635110934,
          0.5893531561366738,
          0.703790149892571,
          -0.7661600708343558,
          1.0302686919960882,
          0.58341400533127,
          0.7663728034087569,
          0.11472678241326927,
          -0.2311156150377708,
          0.9200704238848368,
          -0.5393382795021103,
          -0.8741745691552509,
          -0.8367042702567877,
          0.9605261542513642,
          -0.6917555286666909,
          0.05249994631857768,
          1.286636743661166,
          0.3282386216822528,
          -1.6898829998457274,
          -0.7117861220335858,
          -0.9826937902387847,
          -0.3179177665120115,
          0.28370779086849207,
          0.015770343866494674,
          -1.8140137848638083,
          1.7763305602880348,
          -0.22932570479628317,
          -0.14706676758670417,
          -0.14992790335977257,
          0.323732035371185,
          -0.6784254404869196,
          0.16463178456319688,
          -0.9817738794634494,
          -0.37318849905704793,
          0.9820227450905029,
          0.2484062968946875,
          0.2439731245253462,
          1.2914736906720432,
          1.1899140062933398,
          0.47455415823086733,
          3.1294597527285246,
          -0.014392951274504056,
          0.22049203099081777,
          0.476633232053598,
          0.9998043228873054,
          0.790271890943665,
          -0.0409388272543176,
          0.9336178884432296,
          1.983046662137306,
          0.19627617418660426,
          0.19486002775199662,
          -0.03216611204590051,
          -0.331719684396715,
          -0.40779583330634467,
          -0.5455775756152103,
          -0.660586148103083,
          1.035133431163175,
          0.9361103888926927,
          -0.14832853650009023,
          -1.4291138652725932,
          -0.035718809980831594,
          0.019692953227940364,
          -0.3154221338372782,
          0.1337386496935077,
          -1.9568398154529791,
          1.3719667786337344,
          -0.2738644968646515,
          -0.3389558418509158,
          -0.9547531962531611,
          -1.4364546643520943,
          -0.3109182949080701,
          -1.0878592655950363,
          0.8872548018021124,
          -1.0523169840362765,
          -0.9046501454515113,
          -0.370077991992961,
          -1.1571074319681762,
          -0.438246065161792,
          -1.6170841773729714,
          0.01299674558648976,
          0.5750061351314767,
          -0.6422842226628253,
          -0.05375863284553952,
          0.6542568970340742,
          -1.428607578049314,
          -0.7565980079528769,
          0.8356505172530585,
          0.4740335141390421,
          0.6160650077802796,
          -0.6759166588843367,
          0.74683641669413,
          2.2383286951455363,
          -1.0914680602443705,
          -0.38971067391465264
         ],
         "xaxis": "x3",
         "y": [
          0.3722499513826081,
          0.44962418847711977,
          -0.19008686316152432,
          0.3505374987768143,
          0.04799058581538711,
          -1.0616808223649041,
          -0.34918097256812286,
          -0.48089881806101076,
          -0.4456760870273539,
          -0.7845441182194487,
          -2.6297966397985317,
          -1.077088111762941,
          -0.5992787254785886,
          2.4004564846490273,
          -1.174814343368501,
          0.792165893059011,
          -1.0125715408371985,
          2.07430622775241,
          0.7235617584236765,
          -0.3256957929742864,
          -0.47522205392682293,
          -2.319204187811456,
          2.1737543325926603,
          -0.06693863467014748,
          2.2224326606271494,
          -0.19668439507305474,
          -0.3905776033461921,
          0.3966405704473405,
          0.35048839239078095,
          -0.4701316366936247,
          1.3006606106658865,
          0.6893948544981483,
          -0.9615751084789473,
          -0.3942103001601378,
          0.7305791326959454,
          -1.9842578058766225,
          0.7443692825956367,
          0.12139364619153553,
          0.6598421360088613,
          -0.0010939429186482609,
          -1.5212483343645706,
          -0.5313954698653767,
          -0.23967668217356503,
          1.38321086057728,
          1.415251735754552,
          -0.29152155442876243,
          0.12324920714653177,
          0.9778606278917786,
          -0.4228000308238359,
          1.1261729051941902,
          1.6324138786501776,
          -1.3197027011686355,
          0.2587713361686644,
          1.4895474238654858,
          -0.5531892445255253,
          1.2888055363696294,
          0.4905527027203285,
          0.9653769455706748,
          -0.42048243053724127,
          1.1745572322932814,
          0.4616626277868517,
          -0.3071957752850886,
          0.2944507495820135,
          -0.9561406727260771,
          0.7419642857087567,
          -0.6027273570253878,
          -0.907942753288384,
          0.23518617948959306,
          -0.19438408200279772,
          -2.1692481246451747,
          0.6811137258559963,
          -0.028253873394904632,
          0.15740165722328445,
          2.132658000392043,
          -0.17172845377821724,
          0.2846300655354166,
          0.7570838467051156,
          -1.362548814735958,
          -0.8966092192548227,
          2.081062883727208,
          1.0010914743347552,
          -0.4834298995851756,
          0.556214916975121,
          0.9757849809919205,
          0.08069545621379347,
          0.06442180423172583,
          -1.1469175868178905,
          -0.85733066562819,
          0.36801353398388825,
          0.026557990871516213,
          -0.7864658073811868,
          -0.14078002328853012,
          0.4362032792494815,
          0.2903823392194604,
          1.1529028827983299,
          -0.35076613029742904,
          -1.1902510156607797,
          0.5240088945099852,
          -0.3172966435958289,
          1.8671430764855006
         ],
         "yaxis": "y3"
        },
        {
         "line": {
          "color": "rgba(128, 128, 128, 1.0)",
          "dash": "solid",
          "shape": "linear",
          "width": 1.3
         },
         "marker": {
          "size": 2,
          "symbol": "circle"
         },
         "mode": "markers",
         "name": "A",
         "text": "",
         "type": "scatter",
         "x": [
          -0.10177775343924063,
          1.2692377601285367,
          -0.7737985159135423,
          -0.45348503211336255,
          0.5352496088463908,
          -1.2244129214926303,
          0.3952502439102554,
          -0.22838158254739416,
          1.5899521453456302,
          -0.7508008494330446,
          1.3107836347952557,
          0.2439632192104698,
          -0.4884835735901655,
          0.8581953978028477,
          0.08039502816987106,
          0.40714645936928306,
          -0.7638332711109559,
          0.9696496697596394,
          -0.4767748712446175,
          -1.8831607035368356,
          -0.3705378238268983,
          0.9401613497380764,
          0.11738967521849902,
          -0.5129113230265762,
          1.583402894192332,
          -2.4791637307436725,
          -0.23172765737529127,
          -0.3680758584494655,
          -1.5166552065296455,
          0.23502429947802078,
          -0.16414419339062336,
          0.7745383822978179,
          -0.4531357552683077,
          -0.29108174105330675,
          -1.4516484320210081,
          -0.10826378598516932,
          -2.9553013306665106,
          -1.0178841565872045,
          0.7335040704291752,
          -0.3290534400522581,
          0.9657867644962549,
          1.083480764406484,
          0.3756333311937002,
          -0.6536125614124135,
          -0.7452186353310412,
          0.21355261927194752,
          -1.0525445492563872,
          -0.7938143438461861,
          0.4202758057122168,
          0.20873187009776645,
          0.9948637706792738,
          -0.10187915203838797,
          -0.020478582362387313,
          2.196315230609195,
          1.1587080642173813,
          0.8536595929123013,
          0.8962399081030321,
          -0.23738968844342637,
          1.799768536331428,
          1.1354992193220899,
          1.4754070076899661,
          -1.3255793819040296,
          -0.06347989892784726,
          -1.1578556170575676,
          -0.394133475435025,
          0.33552462999502547,
          -1.5672186301857214,
          0.4046310913328689,
          -3.1696541062555244,
          -2.0448486022417955,
          0.9068786379444961,
          -1.0786343373141958,
          -0.5328655785565071,
          -0.3938467924695483,
          1.2965508761812679,
          1.5445343336659814,
          -0.18035273880909292,
          -1.7121613128016315,
          0.0026221280769010732,
          -0.09036851894589876,
          0.47850103114470627,
          -1.6000183039622988,
          1.4663148928481642,
          -0.6799368142810139,
          0.007199482669525501,
          -0.8502645806980389,
          0.7367316645598231,
          0.37396262014278747,
          -0.38174350443890576,
          0.8634144073004977,
          0.5836905294629668,
          0.41951771286330625,
          0.15519152103575193,
          0.4135351537993294,
          -0.9418235826372715,
          0.6569786663424649,
          -0.4909571637119055,
          -0.06564223130948511,
          0.09133778348107625,
          -0.1670060717409442
         ],
         "xaxis": "x4",
         "y": [
          0.3722499513826081,
          0.44962418847711977,
          -0.19008686316152432,
          0.3505374987768143,
          0.04799058581538711,
          -1.0616808223649041,
          -0.34918097256812286,
          -0.48089881806101076,
          -0.4456760870273539,
          -0.7845441182194487,
          -2.6297966397985317,
          -1.077088111762941,
          -0.5992787254785886,
          2.4004564846490273,
          -1.174814343368501,
          0.792165893059011,
          -1.0125715408371985,
          2.07430622775241,
          0.7235617584236765,
          -0.3256957929742864,
          -0.47522205392682293,
          -2.319204187811456,
          2.1737543325926603,
          -0.06693863467014748,
          2.2224326606271494,
          -0.19668439507305474,
          -0.3905776033461921,
          0.3966405704473405,
          0.35048839239078095,
          -0.4701316366936247,
          1.3006606106658865,
          0.6893948544981483,
          -0.9615751084789473,
          -0.3942103001601378,
          0.7305791326959454,
          -1.9842578058766225,
          0.7443692825956367,
          0.12139364619153553,
          0.6598421360088613,
          -0.0010939429186482609,
          -1.5212483343645706,
          -0.5313954698653767,
          -0.23967668217356503,
          1.38321086057728,
          1.415251735754552,
          -0.29152155442876243,
          0.12324920714653177,
          0.9778606278917786,
          -0.4228000308238359,
          1.1261729051941902,
          1.6324138786501776,
          -1.3197027011686355,
          0.2587713361686644,
          1.4895474238654858,
          -0.5531892445255253,
          1.2888055363696294,
          0.4905527027203285,
          0.9653769455706748,
          -0.42048243053724127,
          1.1745572322932814,
          0.4616626277868517,
          -0.3071957752850886,
          0.2944507495820135,
          -0.9561406727260771,
          0.7419642857087567,
          -0.6027273570253878,
          -0.907942753288384,
          0.23518617948959306,
          -0.19438408200279772,
          -2.1692481246451747,
          0.6811137258559963,
          -0.028253873394904632,
          0.15740165722328445,
          2.132658000392043,
          -0.17172845377821724,
          0.2846300655354166,
          0.7570838467051156,
          -1.362548814735958,
          -0.8966092192548227,
          2.081062883727208,
          1.0010914743347552,
          -0.4834298995851756,
          0.556214916975121,
          0.9757849809919205,
          0.08069545621379347,
          0.06442180423172583,
          -1.1469175868178905,
          -0.85733066562819,
          0.36801353398388825,
          0.026557990871516213,
          -0.7864658073811868,
          -0.14078002328853012,
          0.4362032792494815,
          0.2903823392194604,
          1.1529028827983299,
          -0.35076613029742904,
          -1.1902510156607797,
          0.5240088945099852,
          -0.3172966435958289,
          1.8671430764855006
         ],
         "yaxis": "y4"
        },
        {
         "line": {
          "color": "rgba(128, 128, 128, 1.0)",
          "dash": "solid",
          "shape": "linear",
          "width": 1.3
         },
         "marker": {
          "size": 2,
          "symbol": "circle"
         },
         "mode": "markers",
         "name": "B",
         "text": "",
         "type": "scatter",
         "x": [
          0.3722499513826081,
          0.44962418847711977,
          -0.19008686316152432,
          0.3505374987768143,
          0.04799058581538711,
          -1.0616808223649041,
          -0.34918097256812286,
          -0.48089881806101076,
          -0.4456760870273539,
          -0.7845441182194487,
          -2.6297966397985317,
          -1.077088111762941,
          -0.5992787254785886,
          2.4004564846490273,
          -1.174814343368501,
          0.792165893059011,
          -1.0125715408371985,
          2.07430622775241,
          0.7235617584236765,
          -0.3256957929742864,
          -0.47522205392682293,
          -2.319204187811456,
          2.1737543325926603,
          -0.06693863467014748,
          2.2224326606271494,
          -0.19668439507305474,
          -0.3905776033461921,
          0.3966405704473405,
          0.35048839239078095,
          -0.4701316366936247,
          1.3006606106658865,
          0.6893948544981483,
          -0.9615751084789473,
          -0.3942103001601378,
          0.7305791326959454,
          -1.9842578058766225,
          0.7443692825956367,
          0.12139364619153553,
          0.6598421360088613,
          -0.0010939429186482609,
          -1.5212483343645706,
          -0.5313954698653767,
          -0.23967668217356503,
          1.38321086057728,
          1.415251735754552,
          -0.29152155442876243,
          0.12324920714653177,
          0.9778606278917786,
          -0.4228000308238359,
          1.1261729051941902,
          1.6324138786501776,
          -1.3197027011686355,
          0.2587713361686644,
          1.4895474238654858,
          -0.5531892445255253,
          1.2888055363696294,
          0.4905527027203285,
          0.9653769455706748,
          -0.42048243053724127,
          1.1745572322932814,
          0.4616626277868517,
          -0.3071957752850886,
          0.2944507495820135,
          -0.9561406727260771,
          0.7419642857087567,
          -0.6027273570253878,
          -0.907942753288384,
          0.23518617948959306,
          -0.19438408200279772,
          -2.1692481246451747,
          0.6811137258559963,
          -0.028253873394904632,
          0.15740165722328445,
          2.132658000392043,
          -0.17172845377821724,
          0.2846300655354166,
          0.7570838467051156,
          -1.362548814735958,
          -0.8966092192548227,
          2.081062883727208,
          1.0010914743347552,
          -0.4834298995851756,
          0.556214916975121,
          0.9757849809919205,
          0.08069545621379347,
          0.06442180423172583,
          -1.1469175868178905,
          -0.85733066562819,
          0.36801353398388825,
          0.026557990871516213,
          -0.7864658073811868,
          -0.14078002328853012,
          0.4362032792494815,
          0.2903823392194604,
          1.1529028827983299,
          -0.35076613029742904,
          -1.1902510156607797,
          0.5240088945099852,
          -0.3172966435958289,
          1.8671430764855006
         ],
         "xaxis": "x5",
         "y": [
          -0.09180377812877474,
          1.017158998322427,
          -0.3853355087968358,
          0.24339186432477525,
          0.7546759797806506,
          1.223036267582837,
          -0.9898539898864169,
          0.27279192443264716,
          -0.8909293071765594,
          -1.158444382728826,
          -1.2002806993854744,
          -0.32187516483400946,
          0.400673103397483,
          -0.18441019777648796,
          0.40195163502360554,
          -0.6384845290372737,
          -0.04049291460883738,
          0.736370865957565,
          -1.631448818603992,
          1.051283279098394,
          -0.373777918905386,
          0.5994821282477318,
          -0.16634922846917122,
          1.1196984321287138,
          0.46997964753479254,
          0.7140414607202057,
          0.6368910237927567,
          -0.6979953455340064,
          -0.4831337592451188,
          -0.2887323208295246,
          0.13465965543144492,
          -1.0464943791740509,
          0.5124841158744543,
          -0.3914779293768162,
          -0.01422732365078468,
          1.6603749706051185,
          -0.6379808274717299,
          0.47598913698075374,
          -1.6150528006468738,
          -2.027018545263702,
          -0.994864868613433,
          -0.7571535613479601,
          0.4266814200301229,
          -1.270106146965642,
          0.9616856682221624,
          -2.2180658520491114,
          0.7955866556199922,
          0.470023689776372,
          1.1747149518740854,
          -0.9952283359579319,
          -0.1989586586254375,
          -1.1349526015637381,
          1.4582996352434068,
          0.02644627817215597,
          0.3940096517382582,
          -0.9690617472288557,
          0.805403066375695,
          -1.0097424588219854,
          -0.2388578695257928,
          -0.6485627395247976,
          -0.9620635692494018,
          1.0887688852464492,
          0.688833319261365,
          0.004793949062112339,
          0.7817335868054288,
          -0.1010644196091662,
          0.8353494616788536,
          0.797009754509465,
          0.8093966582698144,
          0.20598454826157453,
          0.3809861608095964,
          -1.021364394835668,
          0.44017507153935526,
          0.027732015936435796,
          2.0311865545276264,
          0.42392026045047293,
          1.3531599885915069,
          -1.0738880994976523,
          1.4709730597355388,
          0.01425321746821192,
          -0.5803052289255062,
          -0.7591045986389185,
          -0.8515039808941258,
          1.3928378698804906,
          0.5290842070612989,
          2.233071733935875,
          0.8202276875963499,
          0.44339921264695986,
          -1.403216254911634,
          -0.1606071797629106,
          -0.3027113922460089,
          1.352482790057738,
          0.2799354343111906,
          1.3924248548020295,
          -0.6272704706804231,
          -1.398862315632276,
          -0.7604376556221797,
          -1.308039606700251,
          0.8219893341478917,
          -0.08226606668768252
         ],
         "yaxis": "y5"
        },
        {
         "histfunc": "count",
         "histnorm": "",
         "marker": {
          "color": "rgba(55, 128, 191, 1.0)",
          "line": {
           "color": "#4D5663",
           "width": 1.3
          }
         },
         "name": "B",
         "nbinsx": 10,
         "opacity": 0.8,
         "orientation": "v",
         "type": "histogram",
         "x": [
          -0.09180377812877474,
          1.017158998322427,
          -0.3853355087968358,
          0.24339186432477525,
          0.7546759797806506,
          1.223036267582837,
          -0.9898539898864169,
          0.27279192443264716,
          -0.8909293071765594,
          -1.158444382728826,
          -1.2002806993854744,
          -0.32187516483400946,
          0.400673103397483,
          -0.18441019777648796,
          0.40195163502360554,
          -0.6384845290372737,
          -0.04049291460883738,
          0.736370865957565,
          -1.631448818603992,
          1.051283279098394,
          -0.373777918905386,
          0.5994821282477318,
          -0.16634922846917122,
          1.1196984321287138,
          0.46997964753479254,
          0.7140414607202057,
          0.6368910237927567,
          -0.6979953455340064,
          -0.4831337592451188,
          -0.2887323208295246,
          0.13465965543144492,
          -1.0464943791740509,
          0.5124841158744543,
          -0.3914779293768162,
          -0.01422732365078468,
          1.6603749706051185,
          -0.6379808274717299,
          0.47598913698075374,
          -1.6150528006468738,
          -2.027018545263702,
          -0.994864868613433,
          -0.7571535613479601,
          0.4266814200301229,
          -1.270106146965642,
          0.9616856682221624,
          -2.2180658520491114,
          0.7955866556199922,
          0.470023689776372,
          1.1747149518740854,
          -0.9952283359579319,
          -0.1989586586254375,
          -1.1349526015637381,
          1.4582996352434068,
          0.02644627817215597,
          0.3940096517382582,
          -0.9690617472288557,
          0.805403066375695,
          -1.0097424588219854,
          -0.2388578695257928,
          -0.6485627395247976,
          -0.9620635692494018,
          1.0887688852464492,
          0.688833319261365,
          0.004793949062112339,
          0.7817335868054288,
          -0.1010644196091662,
          0.8353494616788536,
          0.797009754509465,
          0.8093966582698144,
          0.20598454826157453,
          0.3809861608095964,
          -1.021364394835668,
          0.44017507153935526,
          0.027732015936435796,
          2.0311865545276264,
          0.42392026045047293,
          1.3531599885915069,
          -1.0738880994976523,
          1.4709730597355388,
          0.01425321746821192,
          -0.5803052289255062,
          -0.7591045986389185,
          -0.8515039808941258,
          1.3928378698804906,
          0.5290842070612989,
          2.233071733935875,
          0.8202276875963499,
          0.44339921264695986,
          -1.403216254911634,
          -0.1606071797629106,
          -0.3027113922460089,
          1.352482790057738,
          0.2799354343111906,
          1.3924248548020295,
          -0.6272704706804231,
          -1.398862315632276,
          -0.7604376556221797,
          -1.308039606700251,
          0.8219893341478917,
          -0.08226606668768252
         ],
         "xaxis": "x6",
         "yaxis": "y6"
        },
        {
         "line": {
          "color": "rgba(128, 128, 128, 1.0)",
          "dash": "solid",
          "shape": "linear",
          "width": 1.3
         },
         "marker": {
          "size": 2,
          "symbol": "circle"
         },
         "mode": "markers",
         "name": "B",
         "text": "",
         "type": "scatter",
         "x": [
          0.07298134671454819,
          -1.0189431283480586,
          -0.8416230072025533,
          -0.7158037290484127,
          1.10815460958818,
          1.699734651982336,
          1.2172108635110934,
          0.5893531561366738,
          0.703790149892571,
          -0.7661600708343558,
          1.0302686919960882,
          0.58341400533127,
          0.7663728034087569,
          0.11472678241326927,
          -0.2311156150377708,
          0.9200704238848368,
          -0.5393382795021103,
          -0.8741745691552509,
          -0.8367042702567877,
          0.9605261542513642,
          -0.6917555286666909,
          0.05249994631857768,
          1.286636743661166,
          0.3282386216822528,
          -1.6898829998457274,
          -0.7117861220335858,
          -0.9826937902387847,
          -0.3179177665120115,
          0.28370779086849207,
          0.015770343866494674,
          -1.8140137848638083,
          1.7763305602880348,
          -0.22932570479628317,
          -0.14706676758670417,
          -0.14992790335977257,
          0.323732035371185,
          -0.6784254404869196,
          0.16463178456319688,
          -0.9817738794634494,
          -0.37318849905704793,
          0.9820227450905029,
          0.2484062968946875,
          0.2439731245253462,
          1.2914736906720432,
          1.1899140062933398,
          0.47455415823086733,
          3.1294597527285246,
          -0.014392951274504056,
          0.22049203099081777,
          0.476633232053598,
          0.9998043228873054,
          0.790271890943665,
          -0.0409388272543176,
          0.9336178884432296,
          1.983046662137306,
          0.19627617418660426,
          0.19486002775199662,
          -0.03216611204590051,
          -0.331719684396715,
          -0.40779583330634467,
          -0.5455775756152103,
          -0.660586148103083,
          1.035133431163175,
          0.9361103888926927,
          -0.14832853650009023,
          -1.4291138652725932,
          -0.035718809980831594,
          0.019692953227940364,
          -0.3154221338372782,
          0.1337386496935077,
          -1.9568398154529791,
          1.3719667786337344,
          -0.2738644968646515,
          -0.3389558418509158,
          -0.9547531962531611,
          -1.4364546643520943,
          -0.3109182949080701,
          -1.0878592655950363,
          0.8872548018021124,
          -1.0523169840362765,
          -0.9046501454515113,
          -0.370077991992961,
          -1.1571074319681762,
          -0.438246065161792,
          -1.6170841773729714,
          0.01299674558648976,
          0.5750061351314767,
          -0.6422842226628253,
          -0.05375863284553952,
          0.6542568970340742,
          -1.428607578049314,
          -0.7565980079528769,
          0.8356505172530585,
          0.4740335141390421,
          0.6160650077802796,
          -0.6759166588843367,
          0.74683641669413,
          2.2383286951455363,
          -1.0914680602443705,
          -0.38971067391465264
         ],
         "xaxis": "x7",
         "y": [
          -0.09180377812877474,
          1.017158998322427,
          -0.3853355087968358,
          0.24339186432477525,
          0.7546759797806506,
          1.223036267582837,
          -0.9898539898864169,
          0.27279192443264716,
          -0.8909293071765594,
          -1.158444382728826,
          -1.2002806993854744,
          -0.32187516483400946,
          0.400673103397483,
          -0.18441019777648796,
          0.40195163502360554,
          -0.6384845290372737,
          -0.04049291460883738,
          0.736370865957565,
          -1.631448818603992,
          1.051283279098394,
          -0.373777918905386,
          0.5994821282477318,
          -0.16634922846917122,
          1.1196984321287138,
          0.46997964753479254,
          0.7140414607202057,
          0.6368910237927567,
          -0.6979953455340064,
          -0.4831337592451188,
          -0.2887323208295246,
          0.13465965543144492,
          -1.0464943791740509,
          0.5124841158744543,
          -0.3914779293768162,
          -0.01422732365078468,
          1.6603749706051185,
          -0.6379808274717299,
          0.47598913698075374,
          -1.6150528006468738,
          -2.027018545263702,
          -0.994864868613433,
          -0.7571535613479601,
          0.4266814200301229,
          -1.270106146965642,
          0.9616856682221624,
          -2.2180658520491114,
          0.7955866556199922,
          0.470023689776372,
          1.1747149518740854,
          -0.9952283359579319,
          -0.1989586586254375,
          -1.1349526015637381,
          1.4582996352434068,
          0.02644627817215597,
          0.3940096517382582,
          -0.9690617472288557,
          0.805403066375695,
          -1.0097424588219854,
          -0.2388578695257928,
          -0.6485627395247976,
          -0.9620635692494018,
          1.0887688852464492,
          0.688833319261365,
          0.004793949062112339,
          0.7817335868054288,
          -0.1010644196091662,
          0.8353494616788536,
          0.797009754509465,
          0.8093966582698144,
          0.20598454826157453,
          0.3809861608095964,
          -1.021364394835668,
          0.44017507153935526,
          0.027732015936435796,
          2.0311865545276264,
          0.42392026045047293,
          1.3531599885915069,
          -1.0738880994976523,
          1.4709730597355388,
          0.01425321746821192,
          -0.5803052289255062,
          -0.7591045986389185,
          -0.8515039808941258,
          1.3928378698804906,
          0.5290842070612989,
          2.233071733935875,
          0.8202276875963499,
          0.44339921264695986,
          -1.403216254911634,
          -0.1606071797629106,
          -0.3027113922460089,
          1.352482790057738,
          0.2799354343111906,
          1.3924248548020295,
          -0.6272704706804231,
          -1.398862315632276,
          -0.7604376556221797,
          -1.308039606700251,
          0.8219893341478917,
          -0.08226606668768252
         ],
         "yaxis": "y7"
        },
        {
         "line": {
          "color": "rgba(128, 128, 128, 1.0)",
          "dash": "solid",
          "shape": "linear",
          "width": 1.3
         },
         "marker": {
          "size": 2,
          "symbol": "circle"
         },
         "mode": "markers",
         "name": "B",
         "text": "",
         "type": "scatter",
         "x": [
          -0.10177775343924063,
          1.2692377601285367,
          -0.7737985159135423,
          -0.45348503211336255,
          0.5352496088463908,
          -1.2244129214926303,
          0.3952502439102554,
          -0.22838158254739416,
          1.5899521453456302,
          -0.7508008494330446,
          1.3107836347952557,
          0.2439632192104698,
          -0.4884835735901655,
          0.8581953978028477,
          0.08039502816987106,
          0.40714645936928306,
          -0.7638332711109559,
          0.9696496697596394,
          -0.4767748712446175,
          -1.8831607035368356,
          -0.3705378238268983,
          0.9401613497380764,
          0.11738967521849902,
          -0.5129113230265762,
          1.583402894192332,
          -2.4791637307436725,
          -0.23172765737529127,
          -0.3680758584494655,
          -1.5166552065296455,
          0.23502429947802078,
          -0.16414419339062336,
          0.7745383822978179,
          -0.4531357552683077,
          -0.29108174105330675,
          -1.4516484320210081,
          -0.10826378598516932,
          -2.9553013306665106,
          -1.0178841565872045,
          0.7335040704291752,
          -0.3290534400522581,
          0.9657867644962549,
          1.083480764406484,
          0.3756333311937002,
          -0.6536125614124135,
          -0.7452186353310412,
          0.21355261927194752,
          -1.0525445492563872,
          -0.7938143438461861,
          0.4202758057122168,
          0.20873187009776645,
          0.9948637706792738,
          -0.10187915203838797,
          -0.020478582362387313,
          2.196315230609195,
          1.1587080642173813,
          0.8536595929123013,
          0.8962399081030321,
          -0.23738968844342637,
          1.799768536331428,
          1.1354992193220899,
          1.4754070076899661,
          -1.3255793819040296,
          -0.06347989892784726,
          -1.1578556170575676,
          -0.394133475435025,
          0.33552462999502547,
          -1.5672186301857214,
          0.4046310913328689,
          -3.1696541062555244,
          -2.0448486022417955,
          0.9068786379444961,
          -1.0786343373141958,
          -0.5328655785565071,
          -0.3938467924695483,
          1.2965508761812679,
          1.5445343336659814,
          -0.18035273880909292,
          -1.7121613128016315,
          0.0026221280769010732,
          -0.09036851894589876,
          0.47850103114470627,
          -1.6000183039622988,
          1.4663148928481642,
          -0.6799368142810139,
          0.007199482669525501,
          -0.8502645806980389,
          0.7367316645598231,
          0.37396262014278747,
          -0.38174350443890576,
          0.8634144073004977,
          0.5836905294629668,
          0.41951771286330625,
          0.15519152103575193,
          0.4135351537993294,
          -0.9418235826372715,
          0.6569786663424649,
          -0.4909571637119055,
          -0.06564223130948511,
          0.09133778348107625,
          -0.1670060717409442
         ],
         "xaxis": "x8",
         "y": [
          -0.09180377812877474,
          1.017158998322427,
          -0.3853355087968358,
          0.24339186432477525,
          0.7546759797806506,
          1.223036267582837,
          -0.9898539898864169,
          0.27279192443264716,
          -0.8909293071765594,
          -1.158444382728826,
          -1.2002806993854744,
          -0.32187516483400946,
          0.400673103397483,
          -0.18441019777648796,
          0.40195163502360554,
          -0.6384845290372737,
          -0.04049291460883738,
          0.736370865957565,
          -1.631448818603992,
          1.051283279098394,
          -0.373777918905386,
          0.5994821282477318,
          -0.16634922846917122,
          1.1196984321287138,
          0.46997964753479254,
          0.7140414607202057,
          0.6368910237927567,
          -0.6979953455340064,
          -0.4831337592451188,
          -0.2887323208295246,
          0.13465965543144492,
          -1.0464943791740509,
          0.5124841158744543,
          -0.3914779293768162,
          -0.01422732365078468,
          1.6603749706051185,
          -0.6379808274717299,
          0.47598913698075374,
          -1.6150528006468738,
          -2.027018545263702,
          -0.994864868613433,
          -0.7571535613479601,
          0.4266814200301229,
          -1.270106146965642,
          0.9616856682221624,
          -2.2180658520491114,
          0.7955866556199922,
          0.470023689776372,
          1.1747149518740854,
          -0.9952283359579319,
          -0.1989586586254375,
          -1.1349526015637381,
          1.4582996352434068,
          0.02644627817215597,
          0.3940096517382582,
          -0.9690617472288557,
          0.805403066375695,
          -1.0097424588219854,
          -0.2388578695257928,
          -0.6485627395247976,
          -0.9620635692494018,
          1.0887688852464492,
          0.688833319261365,
          0.004793949062112339,
          0.7817335868054288,
          -0.1010644196091662,
          0.8353494616788536,
          0.797009754509465,
          0.8093966582698144,
          0.20598454826157453,
          0.3809861608095964,
          -1.021364394835668,
          0.44017507153935526,
          0.027732015936435796,
          2.0311865545276264,
          0.42392026045047293,
          1.3531599885915069,
          -1.0738880994976523,
          1.4709730597355388,
          0.01425321746821192,
          -0.5803052289255062,
          -0.7591045986389185,
          -0.8515039808941258,
          1.3928378698804906,
          0.5290842070612989,
          2.233071733935875,
          0.8202276875963499,
          0.44339921264695986,
          -1.403216254911634,
          -0.1606071797629106,
          -0.3027113922460089,
          1.352482790057738,
          0.2799354343111906,
          1.3924248548020295,
          -0.6272704706804231,
          -1.398862315632276,
          -0.7604376556221797,
          -1.308039606700251,
          0.8219893341478917,
          -0.08226606668768252
         ],
         "yaxis": "y8"
        },
        {
         "line": {
          "color": "rgba(128, 128, 128, 1.0)",
          "dash": "solid",
          "shape": "linear",
          "width": 1.3
         },
         "marker": {
          "size": 2,
          "symbol": "circle"
         },
         "mode": "markers",
         "name": "C",
         "text": "",
         "type": "scatter",
         "x": [
          0.3722499513826081,
          0.44962418847711977,
          -0.19008686316152432,
          0.3505374987768143,
          0.04799058581538711,
          -1.0616808223649041,
          -0.34918097256812286,
          -0.48089881806101076,
          -0.4456760870273539,
          -0.7845441182194487,
          -2.6297966397985317,
          -1.077088111762941,
          -0.5992787254785886,
          2.4004564846490273,
          -1.174814343368501,
          0.792165893059011,
          -1.0125715408371985,
          2.07430622775241,
          0.7235617584236765,
          -0.3256957929742864,
          -0.47522205392682293,
          -2.319204187811456,
          2.1737543325926603,
          -0.06693863467014748,
          2.2224326606271494,
          -0.19668439507305474,
          -0.3905776033461921,
          0.3966405704473405,
          0.35048839239078095,
          -0.4701316366936247,
          1.3006606106658865,
          0.6893948544981483,
          -0.9615751084789473,
          -0.3942103001601378,
          0.7305791326959454,
          -1.9842578058766225,
          0.7443692825956367,
          0.12139364619153553,
          0.6598421360088613,
          -0.0010939429186482609,
          -1.5212483343645706,
          -0.5313954698653767,
          -0.23967668217356503,
          1.38321086057728,
          1.415251735754552,
          -0.29152155442876243,
          0.12324920714653177,
          0.9778606278917786,
          -0.4228000308238359,
          1.1261729051941902,
          1.6324138786501776,
          -1.3197027011686355,
          0.2587713361686644,
          1.4895474238654858,
          -0.5531892445255253,
          1.2888055363696294,
          0.4905527027203285,
          0.9653769455706748,
          -0.42048243053724127,
          1.1745572322932814,
          0.4616626277868517,
          -0.3071957752850886,
          0.2944507495820135,
          -0.9561406727260771,
          0.7419642857087567,
          -0.6027273570253878,
          -0.907942753288384,
          0.23518617948959306,
          -0.19438408200279772,
          -2.1692481246451747,
          0.6811137258559963,
          -0.028253873394904632,
          0.15740165722328445,
          2.132658000392043,
          -0.17172845377821724,
          0.2846300655354166,
          0.7570838467051156,
          -1.362548814735958,
          -0.8966092192548227,
          2.081062883727208,
          1.0010914743347552,
          -0.4834298995851756,
          0.556214916975121,
          0.9757849809919205,
          0.08069545621379347,
          0.06442180423172583,
          -1.1469175868178905,
          -0.85733066562819,
          0.36801353398388825,
          0.026557990871516213,
          -0.7864658073811868,
          -0.14078002328853012,
          0.4362032792494815,
          0.2903823392194604,
          1.1529028827983299,
          -0.35076613029742904,
          -1.1902510156607797,
          0.5240088945099852,
          -0.3172966435958289,
          1.8671430764855006
         ],
         "xaxis": "x9",
         "y": [
          0.07298134671454819,
          -1.0189431283480586,
          -0.8416230072025533,
          -0.7158037290484127,
          1.10815460958818,
          1.699734651982336,
          1.2172108635110934,
          0.5893531561366738,
          0.703790149892571,
          -0.7661600708343558,
          1.0302686919960882,
          0.58341400533127,
          0.7663728034087569,
          0.11472678241326927,
          -0.2311156150377708,
          0.9200704238848368,
          -0.5393382795021103,
          -0.8741745691552509,
          -0.8367042702567877,
          0.9605261542513642,
          -0.6917555286666909,
          0.05249994631857768,
          1.286636743661166,
          0.3282386216822528,
          -1.6898829998457274,
          -0.7117861220335858,
          -0.9826937902387847,
          -0.3179177665120115,
          0.28370779086849207,
          0.015770343866494674,
          -1.8140137848638083,
          1.7763305602880348,
          -0.22932570479628317,
          -0.14706676758670417,
          -0.14992790335977257,
          0.323732035371185,
          -0.6784254404869196,
          0.16463178456319688,
          -0.9817738794634494,
          -0.37318849905704793,
          0.9820227450905029,
          0.2484062968946875,
          0.2439731245253462,
          1.2914736906720432,
          1.1899140062933398,
          0.47455415823086733,
          3.1294597527285246,
          -0.014392951274504056,
          0.22049203099081777,
          0.476633232053598,
          0.9998043228873054,
          0.790271890943665,
          -0.0409388272543176,
          0.9336178884432296,
          1.983046662137306,
          0.19627617418660426,
          0.19486002775199662,
          -0.03216611204590051,
          -0.331719684396715,
          -0.40779583330634467,
          -0.5455775756152103,
          -0.660586148103083,
          1.035133431163175,
          0.9361103888926927,
          -0.14832853650009023,
          -1.4291138652725932,
          -0.035718809980831594,
          0.019692953227940364,
          -0.3154221338372782,
          0.1337386496935077,
          -1.9568398154529791,
          1.3719667786337344,
          -0.2738644968646515,
          -0.3389558418509158,
          -0.9547531962531611,
          -1.4364546643520943,
          -0.3109182949080701,
          -1.0878592655950363,
          0.8872548018021124,
          -1.0523169840362765,
          -0.9046501454515113,
          -0.370077991992961,
          -1.1571074319681762,
          -0.438246065161792,
          -1.6170841773729714,
          0.01299674558648976,
          0.5750061351314767,
          -0.6422842226628253,
          -0.05375863284553952,
          0.6542568970340742,
          -1.428607578049314,
          -0.7565980079528769,
          0.8356505172530585,
          0.4740335141390421,
          0.6160650077802796,
          -0.6759166588843367,
          0.74683641669413,
          2.2383286951455363,
          -1.0914680602443705,
          -0.38971067391465264
         ],
         "yaxis": "y9"
        },
        {
         "line": {
          "color": "rgba(128, 128, 128, 1.0)",
          "dash": "solid",
          "shape": "linear",
          "width": 1.3
         },
         "marker": {
          "size": 2,
          "symbol": "circle"
         },
         "mode": "markers",
         "name": "C",
         "text": "",
         "type": "scatter",
         "x": [
          -0.09180377812877474,
          1.017158998322427,
          -0.3853355087968358,
          0.24339186432477525,
          0.7546759797806506,
          1.223036267582837,
          -0.9898539898864169,
          0.27279192443264716,
          -0.8909293071765594,
          -1.158444382728826,
          -1.2002806993854744,
          -0.32187516483400946,
          0.400673103397483,
          -0.18441019777648796,
          0.40195163502360554,
          -0.6384845290372737,
          -0.04049291460883738,
          0.736370865957565,
          -1.631448818603992,
          1.051283279098394,
          -0.373777918905386,
          0.5994821282477318,
          -0.16634922846917122,
          1.1196984321287138,
          0.46997964753479254,
          0.7140414607202057,
          0.6368910237927567,
          -0.6979953455340064,
          -0.4831337592451188,
          -0.2887323208295246,
          0.13465965543144492,
          -1.0464943791740509,
          0.5124841158744543,
          -0.3914779293768162,
          -0.01422732365078468,
          1.6603749706051185,
          -0.6379808274717299,
          0.47598913698075374,
          -1.6150528006468738,
          -2.027018545263702,
          -0.994864868613433,
          -0.7571535613479601,
          0.4266814200301229,
          -1.270106146965642,
          0.9616856682221624,
          -2.2180658520491114,
          0.7955866556199922,
          0.470023689776372,
          1.1747149518740854,
          -0.9952283359579319,
          -0.1989586586254375,
          -1.1349526015637381,
          1.4582996352434068,
          0.02644627817215597,
          0.3940096517382582,
          -0.9690617472288557,
          0.805403066375695,
          -1.0097424588219854,
          -0.2388578695257928,
          -0.6485627395247976,
          -0.9620635692494018,
          1.0887688852464492,
          0.688833319261365,
          0.004793949062112339,
          0.7817335868054288,
          -0.1010644196091662,
          0.8353494616788536,
          0.797009754509465,
          0.8093966582698144,
          0.20598454826157453,
          0.3809861608095964,
          -1.021364394835668,
          0.44017507153935526,
          0.027732015936435796,
          2.0311865545276264,
          0.42392026045047293,
          1.3531599885915069,
          -1.0738880994976523,
          1.4709730597355388,
          0.01425321746821192,
          -0.5803052289255062,
          -0.7591045986389185,
          -0.8515039808941258,
          1.3928378698804906,
          0.5290842070612989,
          2.233071733935875,
          0.8202276875963499,
          0.44339921264695986,
          -1.403216254911634,
          -0.1606071797629106,
          -0.3027113922460089,
          1.352482790057738,
          0.2799354343111906,
          1.3924248548020295,
          -0.6272704706804231,
          -1.398862315632276,
          -0.7604376556221797,
          -1.308039606700251,
          0.8219893341478917,
          -0.08226606668768252
         ],
         "xaxis": "x10",
         "y": [
          0.07298134671454819,
          -1.0189431283480586,
          -0.8416230072025533,
          -0.7158037290484127,
          1.10815460958818,
          1.699734651982336,
          1.2172108635110934,
          0.5893531561366738,
          0.703790149892571,
          -0.7661600708343558,
          1.0302686919960882,
          0.58341400533127,
          0.7663728034087569,
          0.11472678241326927,
          -0.2311156150377708,
          0.9200704238848368,
          -0.5393382795021103,
          -0.8741745691552509,
          -0.8367042702567877,
          0.9605261542513642,
          -0.6917555286666909,
          0.05249994631857768,
          1.286636743661166,
          0.3282386216822528,
          -1.6898829998457274,
          -0.7117861220335858,
          -0.9826937902387847,
          -0.3179177665120115,
          0.28370779086849207,
          0.015770343866494674,
          -1.8140137848638083,
          1.7763305602880348,
          -0.22932570479628317,
          -0.14706676758670417,
          -0.14992790335977257,
          0.323732035371185,
          -0.6784254404869196,
          0.16463178456319688,
          -0.9817738794634494,
          -0.37318849905704793,
          0.9820227450905029,
          0.2484062968946875,
          0.2439731245253462,
          1.2914736906720432,
          1.1899140062933398,
          0.47455415823086733,
          3.1294597527285246,
          -0.014392951274504056,
          0.22049203099081777,
          0.476633232053598,
          0.9998043228873054,
          0.790271890943665,
          -0.0409388272543176,
          0.9336178884432296,
          1.983046662137306,
          0.19627617418660426,
          0.19486002775199662,
          -0.03216611204590051,
          -0.331719684396715,
          -0.40779583330634467,
          -0.5455775756152103,
          -0.660586148103083,
          1.035133431163175,
          0.9361103888926927,
          -0.14832853650009023,
          -1.4291138652725932,
          -0.035718809980831594,
          0.019692953227940364,
          -0.3154221338372782,
          0.1337386496935077,
          -1.9568398154529791,
          1.3719667786337344,
          -0.2738644968646515,
          -0.3389558418509158,
          -0.9547531962531611,
          -1.4364546643520943,
          -0.3109182949080701,
          -1.0878592655950363,
          0.8872548018021124,
          -1.0523169840362765,
          -0.9046501454515113,
          -0.370077991992961,
          -1.1571074319681762,
          -0.438246065161792,
          -1.6170841773729714,
          0.01299674558648976,
          0.5750061351314767,
          -0.6422842226628253,
          -0.05375863284553952,
          0.6542568970340742,
          -1.428607578049314,
          -0.7565980079528769,
          0.8356505172530585,
          0.4740335141390421,
          0.6160650077802796,
          -0.6759166588843367,
          0.74683641669413,
          2.2383286951455363,
          -1.0914680602443705,
          -0.38971067391465264
         ],
         "yaxis": "y10"
        },
        {
         "histfunc": "count",
         "histnorm": "",
         "marker": {
          "color": "rgba(50, 171, 96, 1.0)",
          "line": {
           "color": "#4D5663",
           "width": 1.3
          }
         },
         "name": "C",
         "nbinsx": 10,
         "opacity": 0.8,
         "orientation": "v",
         "type": "histogram",
         "x": [
          0.07298134671454819,
          -1.0189431283480586,
          -0.8416230072025533,
          -0.7158037290484127,
          1.10815460958818,
          1.699734651982336,
          1.2172108635110934,
          0.5893531561366738,
          0.703790149892571,
          -0.7661600708343558,
          1.0302686919960882,
          0.58341400533127,
          0.7663728034087569,
          0.11472678241326927,
          -0.2311156150377708,
          0.9200704238848368,
          -0.5393382795021103,
          -0.8741745691552509,
          -0.8367042702567877,
          0.9605261542513642,
          -0.6917555286666909,
          0.05249994631857768,
          1.286636743661166,
          0.3282386216822528,
          -1.6898829998457274,
          -0.7117861220335858,
          -0.9826937902387847,
          -0.3179177665120115,
          0.28370779086849207,
          0.015770343866494674,
          -1.8140137848638083,
          1.7763305602880348,
          -0.22932570479628317,
          -0.14706676758670417,
          -0.14992790335977257,
          0.323732035371185,
          -0.6784254404869196,
          0.16463178456319688,
          -0.9817738794634494,
          -0.37318849905704793,
          0.9820227450905029,
          0.2484062968946875,
          0.2439731245253462,
          1.2914736906720432,
          1.1899140062933398,
          0.47455415823086733,
          3.1294597527285246,
          -0.014392951274504056,
          0.22049203099081777,
          0.476633232053598,
          0.9998043228873054,
          0.790271890943665,
          -0.0409388272543176,
          0.9336178884432296,
          1.983046662137306,
          0.19627617418660426,
          0.19486002775199662,
          -0.03216611204590051,
          -0.331719684396715,
          -0.40779583330634467,
          -0.5455775756152103,
          -0.660586148103083,
          1.035133431163175,
          0.9361103888926927,
          -0.14832853650009023,
          -1.4291138652725932,
          -0.035718809980831594,
          0.019692953227940364,
          -0.3154221338372782,
          0.1337386496935077,
          -1.9568398154529791,
          1.3719667786337344,
          -0.2738644968646515,
          -0.3389558418509158,
          -0.9547531962531611,
          -1.4364546643520943,
          -0.3109182949080701,
          -1.0878592655950363,
          0.8872548018021124,
          -1.0523169840362765,
          -0.9046501454515113,
          -0.370077991992961,
          -1.1571074319681762,
          -0.438246065161792,
          -1.6170841773729714,
          0.01299674558648976,
          0.5750061351314767,
          -0.6422842226628253,
          -0.05375863284553952,
          0.6542568970340742,
          -1.428607578049314,
          -0.7565980079528769,
          0.8356505172530585,
          0.4740335141390421,
          0.6160650077802796,
          -0.6759166588843367,
          0.74683641669413,
          2.2383286951455363,
          -1.0914680602443705,
          -0.38971067391465264
         ],
         "xaxis": "x11",
         "yaxis": "y11"
        },
        {
         "line": {
          "color": "rgba(128, 128, 128, 1.0)",
          "dash": "solid",
          "shape": "linear",
          "width": 1.3
         },
         "marker": {
          "size": 2,
          "symbol": "circle"
         },
         "mode": "markers",
         "name": "C",
         "text": "",
         "type": "scatter",
         "x": [
          -0.10177775343924063,
          1.2692377601285367,
          -0.7737985159135423,
          -0.45348503211336255,
          0.5352496088463908,
          -1.2244129214926303,
          0.3952502439102554,
          -0.22838158254739416,
          1.5899521453456302,
          -0.7508008494330446,
          1.3107836347952557,
          0.2439632192104698,
          -0.4884835735901655,
          0.8581953978028477,
          0.08039502816987106,
          0.40714645936928306,
          -0.7638332711109559,
          0.9696496697596394,
          -0.4767748712446175,
          -1.8831607035368356,
          -0.3705378238268983,
          0.9401613497380764,
          0.11738967521849902,
          -0.5129113230265762,
          1.583402894192332,
          -2.4791637307436725,
          -0.23172765737529127,
          -0.3680758584494655,
          -1.5166552065296455,
          0.23502429947802078,
          -0.16414419339062336,
          0.7745383822978179,
          -0.4531357552683077,
          -0.29108174105330675,
          -1.4516484320210081,
          -0.10826378598516932,
          -2.9553013306665106,
          -1.0178841565872045,
          0.7335040704291752,
          -0.3290534400522581,
          0.9657867644962549,
          1.083480764406484,
          0.3756333311937002,
          -0.6536125614124135,
          -0.7452186353310412,
          0.21355261927194752,
          -1.0525445492563872,
          -0.7938143438461861,
          0.4202758057122168,
          0.20873187009776645,
          0.9948637706792738,
          -0.10187915203838797,
          -0.020478582362387313,
          2.196315230609195,
          1.1587080642173813,
          0.8536595929123013,
          0.8962399081030321,
          -0.23738968844342637,
          1.799768536331428,
          1.1354992193220899,
          1.4754070076899661,
          -1.3255793819040296,
          -0.06347989892784726,
          -1.1578556170575676,
          -0.394133475435025,
          0.33552462999502547,
          -1.5672186301857214,
          0.4046310913328689,
          -3.1696541062555244,
          -2.0448486022417955,
          0.9068786379444961,
          -1.0786343373141958,
          -0.5328655785565071,
          -0.3938467924695483,
          1.2965508761812679,
          1.5445343336659814,
          -0.18035273880909292,
          -1.7121613128016315,
          0.0026221280769010732,
          -0.09036851894589876,
          0.47850103114470627,
          -1.6000183039622988,
          1.4663148928481642,
          -0.6799368142810139,
          0.007199482669525501,
          -0.8502645806980389,
          0.7367316645598231,
          0.37396262014278747,
          -0.38174350443890576,
          0.8634144073004977,
          0.5836905294629668,
          0.41951771286330625,
          0.15519152103575193,
          0.4135351537993294,
          -0.9418235826372715,
          0.6569786663424649,
          -0.4909571637119055,
          -0.06564223130948511,
          0.09133778348107625,
          -0.1670060717409442
         ],
         "xaxis": "x12",
         "y": [
          0.07298134671454819,
          -1.0189431283480586,
          -0.8416230072025533,
          -0.7158037290484127,
          1.10815460958818,
          1.699734651982336,
          1.2172108635110934,
          0.5893531561366738,
          0.703790149892571,
          -0.7661600708343558,
          1.0302686919960882,
          0.58341400533127,
          0.7663728034087569,
          0.11472678241326927,
          -0.2311156150377708,
          0.9200704238848368,
          -0.5393382795021103,
          -0.8741745691552509,
          -0.8367042702567877,
          0.9605261542513642,
          -0.6917555286666909,
          0.05249994631857768,
          1.286636743661166,
          0.3282386216822528,
          -1.6898829998457274,
          -0.7117861220335858,
          -0.9826937902387847,
          -0.3179177665120115,
          0.28370779086849207,
          0.015770343866494674,
          -1.8140137848638083,
          1.7763305602880348,
          -0.22932570479628317,
          -0.14706676758670417,
          -0.14992790335977257,
          0.323732035371185,
          -0.6784254404869196,
          0.16463178456319688,
          -0.9817738794634494,
          -0.37318849905704793,
          0.9820227450905029,
          0.2484062968946875,
          0.2439731245253462,
          1.2914736906720432,
          1.1899140062933398,
          0.47455415823086733,
          3.1294597527285246,
          -0.014392951274504056,
          0.22049203099081777,
          0.476633232053598,
          0.9998043228873054,
          0.790271890943665,
          -0.0409388272543176,
          0.9336178884432296,
          1.983046662137306,
          0.19627617418660426,
          0.19486002775199662,
          -0.03216611204590051,
          -0.331719684396715,
          -0.40779583330634467,
          -0.5455775756152103,
          -0.660586148103083,
          1.035133431163175,
          0.9361103888926927,
          -0.14832853650009023,
          -1.4291138652725932,
          -0.035718809980831594,
          0.019692953227940364,
          -0.3154221338372782,
          0.1337386496935077,
          -1.9568398154529791,
          1.3719667786337344,
          -0.2738644968646515,
          -0.3389558418509158,
          -0.9547531962531611,
          -1.4364546643520943,
          -0.3109182949080701,
          -1.0878592655950363,
          0.8872548018021124,
          -1.0523169840362765,
          -0.9046501454515113,
          -0.370077991992961,
          -1.1571074319681762,
          -0.438246065161792,
          -1.6170841773729714,
          0.01299674558648976,
          0.5750061351314767,
          -0.6422842226628253,
          -0.05375863284553952,
          0.6542568970340742,
          -1.428607578049314,
          -0.7565980079528769,
          0.8356505172530585,
          0.4740335141390421,
          0.6160650077802796,
          -0.6759166588843367,
          0.74683641669413,
          2.2383286951455363,
          -1.0914680602443705,
          -0.38971067391465264
         ],
         "yaxis": "y12"
        },
        {
         "line": {
          "color": "rgba(128, 128, 128, 1.0)",
          "dash": "solid",
          "shape": "linear",
          "width": 1.3
         },
         "marker": {
          "size": 2,
          "symbol": "circle"
         },
         "mode": "markers",
         "name": "D",
         "text": "",
         "type": "scatter",
         "x": [
          0.3722499513826081,
          0.44962418847711977,
          -0.19008686316152432,
          0.3505374987768143,
          0.04799058581538711,
          -1.0616808223649041,
          -0.34918097256812286,
          -0.48089881806101076,
          -0.4456760870273539,
          -0.7845441182194487,
          -2.6297966397985317,
          -1.077088111762941,
          -0.5992787254785886,
          2.4004564846490273,
          -1.174814343368501,
          0.792165893059011,
          -1.0125715408371985,
          2.07430622775241,
          0.7235617584236765,
          -0.3256957929742864,
          -0.47522205392682293,
          -2.319204187811456,
          2.1737543325926603,
          -0.06693863467014748,
          2.2224326606271494,
          -0.19668439507305474,
          -0.3905776033461921,
          0.3966405704473405,
          0.35048839239078095,
          -0.4701316366936247,
          1.3006606106658865,
          0.6893948544981483,
          -0.9615751084789473,
          -0.3942103001601378,
          0.7305791326959454,
          -1.9842578058766225,
          0.7443692825956367,
          0.12139364619153553,
          0.6598421360088613,
          -0.0010939429186482609,
          -1.5212483343645706,
          -0.5313954698653767,
          -0.23967668217356503,
          1.38321086057728,
          1.415251735754552,
          -0.29152155442876243,
          0.12324920714653177,
          0.9778606278917786,
          -0.4228000308238359,
          1.1261729051941902,
          1.6324138786501776,
          -1.3197027011686355,
          0.2587713361686644,
          1.4895474238654858,
          -0.5531892445255253,
          1.2888055363696294,
          0.4905527027203285,
          0.9653769455706748,
          -0.42048243053724127,
          1.1745572322932814,
          0.4616626277868517,
          -0.3071957752850886,
          0.2944507495820135,
          -0.9561406727260771,
          0.7419642857087567,
          -0.6027273570253878,
          -0.907942753288384,
          0.23518617948959306,
          -0.19438408200279772,
          -2.1692481246451747,
          0.6811137258559963,
          -0.028253873394904632,
          0.15740165722328445,
          2.132658000392043,
          -0.17172845377821724,
          0.2846300655354166,
          0.7570838467051156,
          -1.362548814735958,
          -0.8966092192548227,
          2.081062883727208,
          1.0010914743347552,
          -0.4834298995851756,
          0.556214916975121,
          0.9757849809919205,
          0.08069545621379347,
          0.06442180423172583,
          -1.1469175868178905,
          -0.85733066562819,
          0.36801353398388825,
          0.026557990871516213,
          -0.7864658073811868,
          -0.14078002328853012,
          0.4362032792494815,
          0.2903823392194604,
          1.1529028827983299,
          -0.35076613029742904,
          -1.1902510156607797,
          0.5240088945099852,
          -0.3172966435958289,
          1.8671430764855006
         ],
         "xaxis": "x13",
         "y": [
          -0.10177775343924063,
          1.2692377601285367,
          -0.7737985159135423,
          -0.45348503211336255,
          0.5352496088463908,
          -1.2244129214926303,
          0.3952502439102554,
          -0.22838158254739416,
          1.5899521453456302,
          -0.7508008494330446,
          1.3107836347952557,
          0.2439632192104698,
          -0.4884835735901655,
          0.8581953978028477,
          0.08039502816987106,
          0.40714645936928306,
          -0.7638332711109559,
          0.9696496697596394,
          -0.4767748712446175,
          -1.8831607035368356,
          -0.3705378238268983,
          0.9401613497380764,
          0.11738967521849902,
          -0.5129113230265762,
          1.583402894192332,
          -2.4791637307436725,
          -0.23172765737529127,
          -0.3680758584494655,
          -1.5166552065296455,
          0.23502429947802078,
          -0.16414419339062336,
          0.7745383822978179,
          -0.4531357552683077,
          -0.29108174105330675,
          -1.4516484320210081,
          -0.10826378598516932,
          -2.9553013306665106,
          -1.0178841565872045,
          0.7335040704291752,
          -0.3290534400522581,
          0.9657867644962549,
          1.083480764406484,
          0.3756333311937002,
          -0.6536125614124135,
          -0.7452186353310412,
          0.21355261927194752,
          -1.0525445492563872,
          -0.7938143438461861,
          0.4202758057122168,
          0.20873187009776645,
          0.9948637706792738,
          -0.10187915203838797,
          -0.020478582362387313,
          2.196315230609195,
          1.1587080642173813,
          0.8536595929123013,
          0.8962399081030321,
          -0.23738968844342637,
          1.799768536331428,
          1.1354992193220899,
          1.4754070076899661,
          -1.3255793819040296,
          -0.06347989892784726,
          -1.1578556170575676,
          -0.394133475435025,
          0.33552462999502547,
          -1.5672186301857214,
          0.4046310913328689,
          -3.1696541062555244,
          -2.0448486022417955,
          0.9068786379444961,
          -1.0786343373141958,
          -0.5328655785565071,
          -0.3938467924695483,
          1.2965508761812679,
          1.5445343336659814,
          -0.18035273880909292,
          -1.7121613128016315,
          0.0026221280769010732,
          -0.09036851894589876,
          0.47850103114470627,
          -1.6000183039622988,
          1.4663148928481642,
          -0.6799368142810139,
          0.007199482669525501,
          -0.8502645806980389,
          0.7367316645598231,
          0.37396262014278747,
          -0.38174350443890576,
          0.8634144073004977,
          0.5836905294629668,
          0.41951771286330625,
          0.15519152103575193,
          0.4135351537993294,
          -0.9418235826372715,
          0.6569786663424649,
          -0.4909571637119055,
          -0.06564223130948511,
          0.09133778348107625,
          -0.1670060717409442
         ],
         "yaxis": "y13"
        },
        {
         "line": {
          "color": "rgba(128, 128, 128, 1.0)",
          "dash": "solid",
          "shape": "linear",
          "width": 1.3
         },
         "marker": {
          "size": 2,
          "symbol": "circle"
         },
         "mode": "markers",
         "name": "D",
         "text": "",
         "type": "scatter",
         "x": [
          -0.09180377812877474,
          1.017158998322427,
          -0.3853355087968358,
          0.24339186432477525,
          0.7546759797806506,
          1.223036267582837,
          -0.9898539898864169,
          0.27279192443264716,
          -0.8909293071765594,
          -1.158444382728826,
          -1.2002806993854744,
          -0.32187516483400946,
          0.400673103397483,
          -0.18441019777648796,
          0.40195163502360554,
          -0.6384845290372737,
          -0.04049291460883738,
          0.736370865957565,
          -1.631448818603992,
          1.051283279098394,
          -0.373777918905386,
          0.5994821282477318,
          -0.16634922846917122,
          1.1196984321287138,
          0.46997964753479254,
          0.7140414607202057,
          0.6368910237927567,
          -0.6979953455340064,
          -0.4831337592451188,
          -0.2887323208295246,
          0.13465965543144492,
          -1.0464943791740509,
          0.5124841158744543,
          -0.3914779293768162,
          -0.01422732365078468,
          1.6603749706051185,
          -0.6379808274717299,
          0.47598913698075374,
          -1.6150528006468738,
          -2.027018545263702,
          -0.994864868613433,
          -0.7571535613479601,
          0.4266814200301229,
          -1.270106146965642,
          0.9616856682221624,
          -2.2180658520491114,
          0.7955866556199922,
          0.470023689776372,
          1.1747149518740854,
          -0.9952283359579319,
          -0.1989586586254375,
          -1.1349526015637381,
          1.4582996352434068,
          0.02644627817215597,
          0.3940096517382582,
          -0.9690617472288557,
          0.805403066375695,
          -1.0097424588219854,
          -0.2388578695257928,
          -0.6485627395247976,
          -0.9620635692494018,
          1.0887688852464492,
          0.688833319261365,
          0.004793949062112339,
          0.7817335868054288,
          -0.1010644196091662,
          0.8353494616788536,
          0.797009754509465,
          0.8093966582698144,
          0.20598454826157453,
          0.3809861608095964,
          -1.021364394835668,
          0.44017507153935526,
          0.027732015936435796,
          2.0311865545276264,
          0.42392026045047293,
          1.3531599885915069,
          -1.0738880994976523,
          1.4709730597355388,
          0.01425321746821192,
          -0.5803052289255062,
          -0.7591045986389185,
          -0.8515039808941258,
          1.3928378698804906,
          0.5290842070612989,
          2.233071733935875,
          0.8202276875963499,
          0.44339921264695986,
          -1.403216254911634,
          -0.1606071797629106,
          -0.3027113922460089,
          1.352482790057738,
          0.2799354343111906,
          1.3924248548020295,
          -0.6272704706804231,
          -1.398862315632276,
          -0.7604376556221797,
          -1.308039606700251,
          0.8219893341478917,
          -0.08226606668768252
         ],
         "xaxis": "x14",
         "y": [
          -0.10177775343924063,
          1.2692377601285367,
          -0.7737985159135423,
          -0.45348503211336255,
          0.5352496088463908,
          -1.2244129214926303,
          0.3952502439102554,
          -0.22838158254739416,
          1.5899521453456302,
          -0.7508008494330446,
          1.3107836347952557,
          0.2439632192104698,
          -0.4884835735901655,
          0.8581953978028477,
          0.08039502816987106,
          0.40714645936928306,
          -0.7638332711109559,
          0.9696496697596394,
          -0.4767748712446175,
          -1.8831607035368356,
          -0.3705378238268983,
          0.9401613497380764,
          0.11738967521849902,
          -0.5129113230265762,
          1.583402894192332,
          -2.4791637307436725,
          -0.23172765737529127,
          -0.3680758584494655,
          -1.5166552065296455,
          0.23502429947802078,
          -0.16414419339062336,
          0.7745383822978179,
          -0.4531357552683077,
          -0.29108174105330675,
          -1.4516484320210081,
          -0.10826378598516932,
          -2.9553013306665106,
          -1.0178841565872045,
          0.7335040704291752,
          -0.3290534400522581,
          0.9657867644962549,
          1.083480764406484,
          0.3756333311937002,
          -0.6536125614124135,
          -0.7452186353310412,
          0.21355261927194752,
          -1.0525445492563872,
          -0.7938143438461861,
          0.4202758057122168,
          0.20873187009776645,
          0.9948637706792738,
          -0.10187915203838797,
          -0.020478582362387313,
          2.196315230609195,
          1.1587080642173813,
          0.8536595929123013,
          0.8962399081030321,
          -0.23738968844342637,
          1.799768536331428,
          1.1354992193220899,
          1.4754070076899661,
          -1.3255793819040296,
          -0.06347989892784726,
          -1.1578556170575676,
          -0.394133475435025,
          0.33552462999502547,
          -1.5672186301857214,
          0.4046310913328689,
          -3.1696541062555244,
          -2.0448486022417955,
          0.9068786379444961,
          -1.0786343373141958,
          -0.5328655785565071,
          -0.3938467924695483,
          1.2965508761812679,
          1.5445343336659814,
          -0.18035273880909292,
          -1.7121613128016315,
          0.0026221280769010732,
          -0.09036851894589876,
          0.47850103114470627,
          -1.6000183039622988,
          1.4663148928481642,
          -0.6799368142810139,
          0.007199482669525501,
          -0.8502645806980389,
          0.7367316645598231,
          0.37396262014278747,
          -0.38174350443890576,
          0.8634144073004977,
          0.5836905294629668,
          0.41951771286330625,
          0.15519152103575193,
          0.4135351537993294,
          -0.9418235826372715,
          0.6569786663424649,
          -0.4909571637119055,
          -0.06564223130948511,
          0.09133778348107625,
          -0.1670060717409442
         ],
         "yaxis": "y14"
        },
        {
         "line": {
          "color": "rgba(128, 128, 128, 1.0)",
          "dash": "solid",
          "shape": "linear",
          "width": 1.3
         },
         "marker": {
          "size": 2,
          "symbol": "circle"
         },
         "mode": "markers",
         "name": "D",
         "text": "",
         "type": "scatter",
         "x": [
          0.07298134671454819,
          -1.0189431283480586,
          -0.8416230072025533,
          -0.7158037290484127,
          1.10815460958818,
          1.699734651982336,
          1.2172108635110934,
          0.5893531561366738,
          0.703790149892571,
          -0.7661600708343558,
          1.0302686919960882,
          0.58341400533127,
          0.7663728034087569,
          0.11472678241326927,
          -0.2311156150377708,
          0.9200704238848368,
          -0.5393382795021103,
          -0.8741745691552509,
          -0.8367042702567877,
          0.9605261542513642,
          -0.6917555286666909,
          0.05249994631857768,
          1.286636743661166,
          0.3282386216822528,
          -1.6898829998457274,
          -0.7117861220335858,
          -0.9826937902387847,
          -0.3179177665120115,
          0.28370779086849207,
          0.015770343866494674,
          -1.8140137848638083,
          1.7763305602880348,
          -0.22932570479628317,
          -0.14706676758670417,
          -0.14992790335977257,
          0.323732035371185,
          -0.6784254404869196,
          0.16463178456319688,
          -0.9817738794634494,
          -0.37318849905704793,
          0.9820227450905029,
          0.2484062968946875,
          0.2439731245253462,
          1.2914736906720432,
          1.1899140062933398,
          0.47455415823086733,
          3.1294597527285246,
          -0.014392951274504056,
          0.22049203099081777,
          0.476633232053598,
          0.9998043228873054,
          0.790271890943665,
          -0.0409388272543176,
          0.9336178884432296,
          1.983046662137306,
          0.19627617418660426,
          0.19486002775199662,
          -0.03216611204590051,
          -0.331719684396715,
          -0.40779583330634467,
          -0.5455775756152103,
          -0.660586148103083,
          1.035133431163175,
          0.9361103888926927,
          -0.14832853650009023,
          -1.4291138652725932,
          -0.035718809980831594,
          0.019692953227940364,
          -0.3154221338372782,
          0.1337386496935077,
          -1.9568398154529791,
          1.3719667786337344,
          -0.2738644968646515,
          -0.3389558418509158,
          -0.9547531962531611,
          -1.4364546643520943,
          -0.3109182949080701,
          -1.0878592655950363,
          0.8872548018021124,
          -1.0523169840362765,
          -0.9046501454515113,
          -0.370077991992961,
          -1.1571074319681762,
          -0.438246065161792,
          -1.6170841773729714,
          0.01299674558648976,
          0.5750061351314767,
          -0.6422842226628253,
          -0.05375863284553952,
          0.6542568970340742,
          -1.428607578049314,
          -0.7565980079528769,
          0.8356505172530585,
          0.4740335141390421,
          0.6160650077802796,
          -0.6759166588843367,
          0.74683641669413,
          2.2383286951455363,
          -1.0914680602443705,
          -0.38971067391465264
         ],
         "xaxis": "x15",
         "y": [
          -0.10177775343924063,
          1.2692377601285367,
          -0.7737985159135423,
          -0.45348503211336255,
          0.5352496088463908,
          -1.2244129214926303,
          0.3952502439102554,
          -0.22838158254739416,
          1.5899521453456302,
          -0.7508008494330446,
          1.3107836347952557,
          0.2439632192104698,
          -0.4884835735901655,
          0.8581953978028477,
          0.08039502816987106,
          0.40714645936928306,
          -0.7638332711109559,
          0.9696496697596394,
          -0.4767748712446175,
          -1.8831607035368356,
          -0.3705378238268983,
          0.9401613497380764,
          0.11738967521849902,
          -0.5129113230265762,
          1.583402894192332,
          -2.4791637307436725,
          -0.23172765737529127,
          -0.3680758584494655,
          -1.5166552065296455,
          0.23502429947802078,
          -0.16414419339062336,
          0.7745383822978179,
          -0.4531357552683077,
          -0.29108174105330675,
          -1.4516484320210081,
          -0.10826378598516932,
          -2.9553013306665106,
          -1.0178841565872045,
          0.7335040704291752,
          -0.3290534400522581,
          0.9657867644962549,
          1.083480764406484,
          0.3756333311937002,
          -0.6536125614124135,
          -0.7452186353310412,
          0.21355261927194752,
          -1.0525445492563872,
          -0.7938143438461861,
          0.4202758057122168,
          0.20873187009776645,
          0.9948637706792738,
          -0.10187915203838797,
          -0.020478582362387313,
          2.196315230609195,
          1.1587080642173813,
          0.8536595929123013,
          0.8962399081030321,
          -0.23738968844342637,
          1.799768536331428,
          1.1354992193220899,
          1.4754070076899661,
          -1.3255793819040296,
          -0.06347989892784726,
          -1.1578556170575676,
          -0.394133475435025,
          0.33552462999502547,
          -1.5672186301857214,
          0.4046310913328689,
          -3.1696541062555244,
          -2.0448486022417955,
          0.9068786379444961,
          -1.0786343373141958,
          -0.5328655785565071,
          -0.3938467924695483,
          1.2965508761812679,
          1.5445343336659814,
          -0.18035273880909292,
          -1.7121613128016315,
          0.0026221280769010732,
          -0.09036851894589876,
          0.47850103114470627,
          -1.6000183039622988,
          1.4663148928481642,
          -0.6799368142810139,
          0.007199482669525501,
          -0.8502645806980389,
          0.7367316645598231,
          0.37396262014278747,
          -0.38174350443890576,
          0.8634144073004977,
          0.5836905294629668,
          0.41951771286330625,
          0.15519152103575193,
          0.4135351537993294,
          -0.9418235826372715,
          0.6569786663424649,
          -0.4909571637119055,
          -0.06564223130948511,
          0.09133778348107625,
          -0.1670060717409442
         ],
         "yaxis": "y15"
        },
        {
         "histfunc": "count",
         "histnorm": "",
         "marker": {
          "color": "rgba(128, 0, 128, 1.0)",
          "line": {
           "color": "#4D5663",
           "width": 1.3
          }
         },
         "name": "D",
         "nbinsx": 10,
         "opacity": 0.8,
         "orientation": "v",
         "type": "histogram",
         "x": [
          -0.10177775343924063,
          1.2692377601285367,
          -0.7737985159135423,
          -0.45348503211336255,
          0.5352496088463908,
          -1.2244129214926303,
          0.3952502439102554,
          -0.22838158254739416,
          1.5899521453456302,
          -0.7508008494330446,
          1.3107836347952557,
          0.2439632192104698,
          -0.4884835735901655,
          0.8581953978028477,
          0.08039502816987106,
          0.40714645936928306,
          -0.7638332711109559,
          0.9696496697596394,
          -0.4767748712446175,
          -1.8831607035368356,
          -0.3705378238268983,
          0.9401613497380764,
          0.11738967521849902,
          -0.5129113230265762,
          1.583402894192332,
          -2.4791637307436725,
          -0.23172765737529127,
          -0.3680758584494655,
          -1.5166552065296455,
          0.23502429947802078,
          -0.16414419339062336,
          0.7745383822978179,
          -0.4531357552683077,
          -0.29108174105330675,
          -1.4516484320210081,
          -0.10826378598516932,
          -2.9553013306665106,
          -1.0178841565872045,
          0.7335040704291752,
          -0.3290534400522581,
          0.9657867644962549,
          1.083480764406484,
          0.3756333311937002,
          -0.6536125614124135,
          -0.7452186353310412,
          0.21355261927194752,
          -1.0525445492563872,
          -0.7938143438461861,
          0.4202758057122168,
          0.20873187009776645,
          0.9948637706792738,
          -0.10187915203838797,
          -0.020478582362387313,
          2.196315230609195,
          1.1587080642173813,
          0.8536595929123013,
          0.8962399081030321,
          -0.23738968844342637,
          1.799768536331428,
          1.1354992193220899,
          1.4754070076899661,
          -1.3255793819040296,
          -0.06347989892784726,
          -1.1578556170575676,
          -0.394133475435025,
          0.33552462999502547,
          -1.5672186301857214,
          0.4046310913328689,
          -3.1696541062555244,
          -2.0448486022417955,
          0.9068786379444961,
          -1.0786343373141958,
          -0.5328655785565071,
          -0.3938467924695483,
          1.2965508761812679,
          1.5445343336659814,
          -0.18035273880909292,
          -1.7121613128016315,
          0.0026221280769010732,
          -0.09036851894589876,
          0.47850103114470627,
          -1.6000183039622988,
          1.4663148928481642,
          -0.6799368142810139,
          0.007199482669525501,
          -0.8502645806980389,
          0.7367316645598231,
          0.37396262014278747,
          -0.38174350443890576,
          0.8634144073004977,
          0.5836905294629668,
          0.41951771286330625,
          0.15519152103575193,
          0.4135351537993294,
          -0.9418235826372715,
          0.6569786663424649,
          -0.4909571637119055,
          -0.06564223130948511,
          0.09133778348107625,
          -0.1670060717409442
         ],
         "xaxis": "x16",
         "yaxis": "y16"
        }
       ],
       "layout": {
        "autosize": true,
        "bargap": 0.02,
        "legend": {
         "bgcolor": "#F5F6F9",
         "font": {
          "color": "#4D5663"
         }
        },
        "paper_bgcolor": "#F5F6F9",
        "plot_bgcolor": "#F5F6F9",
        "showlegend": false,
        "template": {
         "data": {
          "bar": [
           {
            "error_x": {
             "color": "#2a3f5f"
            },
            "error_y": {
             "color": "#2a3f5f"
            },
            "marker": {
             "line": {
              "color": "#E5ECF6",
              "width": 0.5
             },
             "pattern": {
              "fillmode": "overlay",
              "size": 10,
              "solidity": 0.2
             }
            },
            "type": "bar"
           }
          ],
          "barpolar": [
           {
            "marker": {
             "line": {
              "color": "#E5ECF6",
              "width": 0.5
             },
             "pattern": {
              "fillmode": "overlay",
              "size": 10,
              "solidity": 0.2
             }
            },
            "type": "barpolar"
           }
          ],
          "carpet": [
           {
            "aaxis": {
             "endlinecolor": "#2a3f5f",
             "gridcolor": "white",
             "linecolor": "white",
             "minorgridcolor": "white",
             "startlinecolor": "#2a3f5f"
            },
            "baxis": {
             "endlinecolor": "#2a3f5f",
             "gridcolor": "white",
             "linecolor": "white",
             "minorgridcolor": "white",
             "startlinecolor": "#2a3f5f"
            },
            "type": "carpet"
           }
          ],
          "choropleth": [
           {
            "colorbar": {
             "outlinewidth": 0,
             "ticks": ""
            },
            "type": "choropleth"
           }
          ],
          "contour": [
           {
            "colorbar": {
             "outlinewidth": 0,
             "ticks": ""
            },
            "colorscale": [
             [
              0,
              "#0d0887"
             ],
             [
              0.1111111111111111,
              "#46039f"
             ],
             [
              0.2222222222222222,
              "#7201a8"
             ],
             [
              0.3333333333333333,
              "#9c179e"
             ],
             [
              0.4444444444444444,
              "#bd3786"
             ],
             [
              0.5555555555555556,
              "#d8576b"
             ],
             [
              0.6666666666666666,
              "#ed7953"
             ],
             [
              0.7777777777777778,
              "#fb9f3a"
             ],
             [
              0.8888888888888888,
              "#fdca26"
             ],
             [
              1,
              "#f0f921"
             ]
            ],
            "type": "contour"
           }
          ],
          "contourcarpet": [
           {
            "colorbar": {
             "outlinewidth": 0,
             "ticks": ""
            },
            "type": "contourcarpet"
           }
          ],
          "heatmap": [
           {
            "colorbar": {
             "outlinewidth": 0,
             "ticks": ""
            },
            "colorscale": [
             [
              0,
              "#0d0887"
             ],
             [
              0.1111111111111111,
              "#46039f"
             ],
             [
              0.2222222222222222,
              "#7201a8"
             ],
             [
              0.3333333333333333,
              "#9c179e"
             ],
             [
              0.4444444444444444,
              "#bd3786"
             ],
             [
              0.5555555555555556,
              "#d8576b"
             ],
             [
              0.6666666666666666,
              "#ed7953"
             ],
             [
              0.7777777777777778,
              "#fb9f3a"
             ],
             [
              0.8888888888888888,
              "#fdca26"
             ],
             [
              1,
              "#f0f921"
             ]
            ],
            "type": "heatmap"
           }
          ],
          "heatmapgl": [
           {
            "colorbar": {
             "outlinewidth": 0,
             "ticks": ""
            },
            "colorscale": [
             [
              0,
              "#0d0887"
             ],
             [
              0.1111111111111111,
              "#46039f"
             ],
             [
              0.2222222222222222,
              "#7201a8"
             ],
             [
              0.3333333333333333,
              "#9c179e"
             ],
             [
              0.4444444444444444,
              "#bd3786"
             ],
             [
              0.5555555555555556,
              "#d8576b"
             ],
             [
              0.6666666666666666,
              "#ed7953"
             ],
             [
              0.7777777777777778,
              "#fb9f3a"
             ],
             [
              0.8888888888888888,
              "#fdca26"
             ],
             [
              1,
              "#f0f921"
             ]
            ],
            "type": "heatmapgl"
           }
          ],
          "histogram": [
           {
            "marker": {
             "pattern": {
              "fillmode": "overlay",
              "size": 10,
              "solidity": 0.2
             }
            },
            "type": "histogram"
           }
          ],
          "histogram2d": [
           {
            "colorbar": {
             "outlinewidth": 0,
             "ticks": ""
            },
            "colorscale": [
             [
              0,
              "#0d0887"
             ],
             [
              0.1111111111111111,
              "#46039f"
             ],
             [
              0.2222222222222222,
              "#7201a8"
             ],
             [
              0.3333333333333333,
              "#9c179e"
             ],
             [
              0.4444444444444444,
              "#bd3786"
             ],
             [
              0.5555555555555556,
              "#d8576b"
             ],
             [
              0.6666666666666666,
              "#ed7953"
             ],
             [
              0.7777777777777778,
              "#fb9f3a"
             ],
             [
              0.8888888888888888,
              "#fdca26"
             ],
             [
              1,
              "#f0f921"
             ]
            ],
            "type": "histogram2d"
           }
          ],
          "histogram2dcontour": [
           {
            "colorbar": {
             "outlinewidth": 0,
             "ticks": ""
            },
            "colorscale": [
             [
              0,
              "#0d0887"
             ],
             [
              0.1111111111111111,
              "#46039f"
             ],
             [
              0.2222222222222222,
              "#7201a8"
             ],
             [
              0.3333333333333333,
              "#9c179e"
             ],
             [
              0.4444444444444444,
              "#bd3786"
             ],
             [
              0.5555555555555556,
              "#d8576b"
             ],
             [
              0.6666666666666666,
              "#ed7953"
             ],
             [
              0.7777777777777778,
              "#fb9f3a"
             ],
             [
              0.8888888888888888,
              "#fdca26"
             ],
             [
              1,
              "#f0f921"
             ]
            ],
            "type": "histogram2dcontour"
           }
          ],
          "mesh3d": [
           {
            "colorbar": {
             "outlinewidth": 0,
             "ticks": ""
            },
            "type": "mesh3d"
           }
          ],
          "parcoords": [
           {
            "line": {
             "colorbar": {
              "outlinewidth": 0,
              "ticks": ""
             }
            },
            "type": "parcoords"
           }
          ],
          "pie": [
           {
            "automargin": true,
            "type": "pie"
           }
          ],
          "scatter": [
           {
            "fillpattern": {
             "fillmode": "overlay",
             "size": 10,
             "solidity": 0.2
            },
            "type": "scatter"
           }
          ],
          "scatter3d": [
           {
            "line": {
             "colorbar": {
              "outlinewidth": 0,
              "ticks": ""
             }
            },
            "marker": {
             "colorbar": {
              "outlinewidth": 0,
              "ticks": ""
             }
            },
            "type": "scatter3d"
           }
          ],
          "scattercarpet": [
           {
            "marker": {
             "colorbar": {
              "outlinewidth": 0,
              "ticks": ""
             }
            },
            "type": "scattercarpet"
           }
          ],
          "scattergeo": [
           {
            "marker": {
             "colorbar": {
              "outlinewidth": 0,
              "ticks": ""
             }
            },
            "type": "scattergeo"
           }
          ],
          "scattergl": [
           {
            "marker": {
             "colorbar": {
              "outlinewidth": 0,
              "ticks": ""
             }
            },
            "type": "scattergl"
           }
          ],
          "scattermapbox": [
           {
            "marker": {
             "colorbar": {
              "outlinewidth": 0,
              "ticks": ""
             }
            },
            "type": "scattermapbox"
           }
          ],
          "scatterpolar": [
           {
            "marker": {
             "colorbar": {
              "outlinewidth": 0,
              "ticks": ""
             }
            },
            "type": "scatterpolar"
           }
          ],
          "scatterpolargl": [
           {
            "marker": {
             "colorbar": {
              "outlinewidth": 0,
              "ticks": ""
             }
            },
            "type": "scatterpolargl"
           }
          ],
          "scatterternary": [
           {
            "marker": {
             "colorbar": {
              "outlinewidth": 0,
              "ticks": ""
             }
            },
            "type": "scatterternary"
           }
          ],
          "surface": [
           {
            "colorbar": {
             "outlinewidth": 0,
             "ticks": ""
            },
            "colorscale": [
             [
              0,
              "#0d0887"
             ],
             [
              0.1111111111111111,
              "#46039f"
             ],
             [
              0.2222222222222222,
              "#7201a8"
             ],
             [
              0.3333333333333333,
              "#9c179e"
             ],
             [
              0.4444444444444444,
              "#bd3786"
             ],
             [
              0.5555555555555556,
              "#d8576b"
             ],
             [
              0.6666666666666666,
              "#ed7953"
             ],
             [
              0.7777777777777778,
              "#fb9f3a"
             ],
             [
              0.8888888888888888,
              "#fdca26"
             ],
             [
              1,
              "#f0f921"
             ]
            ],
            "type": "surface"
           }
          ],
          "table": [
           {
            "cells": {
             "fill": {
              "color": "#EBF0F8"
             },
             "line": {
              "color": "white"
             }
            },
            "header": {
             "fill": {
              "color": "#C8D4E3"
             },
             "line": {
              "color": "white"
             }
            },
            "type": "table"
           }
          ]
         },
         "layout": {
          "annotationdefaults": {
           "arrowcolor": "#2a3f5f",
           "arrowhead": 0,
           "arrowwidth": 1
          },
          "autotypenumbers": "strict",
          "coloraxis": {
           "colorbar": {
            "outlinewidth": 0,
            "ticks": ""
           }
          },
          "colorscale": {
           "diverging": [
            [
             0,
             "#8e0152"
            ],
            [
             0.1,
             "#c51b7d"
            ],
            [
             0.2,
             "#de77ae"
            ],
            [
             0.3,
             "#f1b6da"
            ],
            [
             0.4,
             "#fde0ef"
            ],
            [
             0.5,
             "#f7f7f7"
            ],
            [
             0.6,
             "#e6f5d0"
            ],
            [
             0.7,
             "#b8e186"
            ],
            [
             0.8,
             "#7fbc41"
            ],
            [
             0.9,
             "#4d9221"
            ],
            [
             1,
             "#276419"
            ]
           ],
           "sequential": [
            [
             0,
             "#0d0887"
            ],
            [
             0.1111111111111111,
             "#46039f"
            ],
            [
             0.2222222222222222,
             "#7201a8"
            ],
            [
             0.3333333333333333,
             "#9c179e"
            ],
            [
             0.4444444444444444,
             "#bd3786"
            ],
            [
             0.5555555555555556,
             "#d8576b"
            ],
            [
             0.6666666666666666,
             "#ed7953"
            ],
            [
             0.7777777777777778,
             "#fb9f3a"
            ],
            [
             0.8888888888888888,
             "#fdca26"
            ],
            [
             1,
             "#f0f921"
            ]
           ],
           "sequentialminus": [
            [
             0,
             "#0d0887"
            ],
            [
             0.1111111111111111,
             "#46039f"
            ],
            [
             0.2222222222222222,
             "#7201a8"
            ],
            [
             0.3333333333333333,
             "#9c179e"
            ],
            [
             0.4444444444444444,
             "#bd3786"
            ],
            [
             0.5555555555555556,
             "#d8576b"
            ],
            [
             0.6666666666666666,
             "#ed7953"
            ],
            [
             0.7777777777777778,
             "#fb9f3a"
            ],
            [
             0.8888888888888888,
             "#fdca26"
            ],
            [
             1,
             "#f0f921"
            ]
           ]
          },
          "colorway": [
           "#636efa",
           "#EF553B",
           "#00cc96",
           "#ab63fa",
           "#FFA15A",
           "#19d3f3",
           "#FF6692",
           "#B6E880",
           "#FF97FF",
           "#FECB52"
          ],
          "font": {
           "color": "#2a3f5f"
          },
          "geo": {
           "bgcolor": "white",
           "lakecolor": "white",
           "landcolor": "#E5ECF6",
           "showlakes": true,
           "showland": true,
           "subunitcolor": "white"
          },
          "hoverlabel": {
           "align": "left"
          },
          "hovermode": "closest",
          "mapbox": {
           "style": "light"
          },
          "paper_bgcolor": "white",
          "plot_bgcolor": "#E5ECF6",
          "polar": {
           "angularaxis": {
            "gridcolor": "white",
            "linecolor": "white",
            "ticks": ""
           },
           "bgcolor": "#E5ECF6",
           "radialaxis": {
            "gridcolor": "white",
            "linecolor": "white",
            "ticks": ""
           }
          },
          "scene": {
           "xaxis": {
            "backgroundcolor": "#E5ECF6",
            "gridcolor": "white",
            "gridwidth": 2,
            "linecolor": "white",
            "showbackground": true,
            "ticks": "",
            "zerolinecolor": "white"
           },
           "yaxis": {
            "backgroundcolor": "#E5ECF6",
            "gridcolor": "white",
            "gridwidth": 2,
            "linecolor": "white",
            "showbackground": true,
            "ticks": "",
            "zerolinecolor": "white"
           },
           "zaxis": {
            "backgroundcolor": "#E5ECF6",
            "gridcolor": "white",
            "gridwidth": 2,
            "linecolor": "white",
            "showbackground": true,
            "ticks": "",
            "zerolinecolor": "white"
           }
          },
          "shapedefaults": {
           "line": {
            "color": "#2a3f5f"
           }
          },
          "ternary": {
           "aaxis": {
            "gridcolor": "white",
            "linecolor": "white",
            "ticks": ""
           },
           "baxis": {
            "gridcolor": "white",
            "linecolor": "white",
            "ticks": ""
           },
           "bgcolor": "#E5ECF6",
           "caxis": {
            "gridcolor": "white",
            "linecolor": "white",
            "ticks": ""
           }
          },
          "title": {
           "x": 0.05
          },
          "xaxis": {
           "automargin": true,
           "gridcolor": "white",
           "linecolor": "white",
           "ticks": "",
           "title": {
            "standoff": 15
           },
           "zerolinecolor": "white",
           "zerolinewidth": 2
          },
          "yaxis": {
           "automargin": true,
           "gridcolor": "white",
           "linecolor": "white",
           "ticks": "",
           "title": {
            "standoff": 15
           },
           "zerolinecolor": "white",
           "zerolinewidth": 2
          }
         }
        },
        "title": {
         "font": {
          "color": "#4D5663"
         }
        },
        "xaxis": {
         "anchor": "y",
         "autorange": true,
         "domain": [
          0,
          0.2125
         ],
         "gridcolor": "#E1E5ED",
         "range": [
          -3,
          3
         ],
         "showgrid": false,
         "tickfont": {
          "color": "#4D5663"
         },
         "title": {
          "font": {
           "color": "#4D5663"
          },
          "text": ""
         },
         "type": "linear",
         "zerolinecolor": "#E1E5ED"
        },
        "xaxis10": {
         "anchor": "y10",
         "autorange": true,
         "domain": [
          0.2625,
          0.475
         ],
         "gridcolor": "#E1E5ED",
         "range": [
          -2.551015350897571,
          2.5660212327843346
         ],
         "showgrid": false,
         "tickfont": {
          "color": "#4D5663"
         },
         "title": {
          "font": {
           "color": "#4D5663"
          },
          "text": ""
         },
         "type": "linear",
         "zerolinecolor": "#E1E5ED"
        },
        "xaxis11": {
         "anchor": "y11",
         "autorange": true,
         "domain": [
          0.525,
          0.7375
         ],
         "gridcolor": "#E1E5ED",
         "range": [
          -2,
          4
         ],
         "showgrid": false,
         "tickfont": {
          "color": "#4D5663"
         },
         "title": {
          "font": {
           "color": "#4D5663"
          },
          "text": ""
         },
         "type": "linear",
         "zerolinecolor": "#E1E5ED"
        },
        "xaxis12": {
         "anchor": "y12",
         "autorange": true,
         "domain": [
          0.7875,
          1
         ],
         "gridcolor": "#E1E5ED",
         "range": [
          -3.571033925915706,
          2.5976950502693765
         ],
         "showgrid": false,
         "tickfont": {
          "color": "#4D5663"
         },
         "title": {
          "font": {
           "color": "#4D5663"
          },
          "text": ""
         },
         "type": "linear",
         "zerolinecolor": "#E1E5ED"
        },
        "xaxis13": {
         "anchor": "y13",
         "autorange": true,
         "domain": [
          0,
          0.2125
         ],
         "gridcolor": "#E1E5ED",
         "range": [
          -3.0060645543512323,
          2.776724399201728
         ],
         "showgrid": false,
         "tickfont": {
          "color": "#4D5663"
         },
         "title": {
          "font": {
           "color": "#4D5663"
          },
          "text": ""
         },
         "type": "linear",
         "zerolinecolor": "#E1E5ED"
        },
        "xaxis14": {
         "anchor": "y14",
         "autorange": true,
         "domain": [
          0.2625,
          0.475
         ],
         "gridcolor": "#E1E5ED",
         "range": [
          -2.551015350897571,
          2.5660212327843346
         ],
         "showgrid": false,
         "tickfont": {
          "color": "#4D5663"
         },
         "title": {
          "font": {
           "color": "#4D5663"
          },
          "text": ""
         },
         "type": "linear",
         "zerolinecolor": "#E1E5ED"
        },
        "xaxis15": {
         "anchor": "y15",
         "autorange": true,
         "domain": [
          0.525,
          0.7375
         ],
         "gridcolor": "#E1E5ED",
         "range": [
          -2.3373000594929123,
          3.509919996768458
         ],
         "showgrid": false,
         "tickfont": {
          "color": "#4D5663"
         },
         "title": {
          "font": {
           "color": "#4D5663"
          },
          "text": ""
         },
         "type": "linear",
         "zerolinecolor": "#E1E5ED"
        },
        "xaxis16": {
         "anchor": "y16",
         "autorange": true,
         "domain": [
          0.7875,
          1
         ],
         "gridcolor": "#E1E5ED",
         "range": [
          -4,
          3
         ],
         "showgrid": false,
         "tickfont": {
          "color": "#4D5663"
         },
         "title": {
          "font": {
           "color": "#4D5663"
          },
          "text": ""
         },
         "type": "linear",
         "zerolinecolor": "#E1E5ED"
        },
        "xaxis2": {
         "anchor": "y2",
         "autorange": true,
         "domain": [
          0.2625,
          0.475
         ],
         "gridcolor": "#E1E5ED",
         "range": [
          -2.551015350897571,
          2.5660212327843346
         ],
         "showgrid": false,
         "tickfont": {
          "color": "#4D5663"
         },
         "title": {
          "font": {
           "color": "#4D5663"
          },
          "text": ""
         },
         "type": "linear",
         "zerolinecolor": "#E1E5ED"
        },
        "xaxis3": {
         "anchor": "y3",
         "autorange": true,
         "domain": [
          0.525,
          0.7375
         ],
         "gridcolor": "#E1E5ED",
         "range": [
          -2.3373000594929123,
          3.509919996768458
         ],
         "showgrid": false,
         "tickfont": {
          "color": "#4D5663"
         },
         "title": {
          "font": {
           "color": "#4D5663"
          },
          "text": ""
         },
         "type": "linear",
         "zerolinecolor": "#E1E5ED"
        },
        "xaxis4": {
         "anchor": "y4",
         "autorange": true,
         "domain": [
          0.7875,
          1
         ],
         "gridcolor": "#E1E5ED",
         "range": [
          -3.571033925915706,
          2.5976950502693765
         ],
         "showgrid": false,
         "tickfont": {
          "color": "#4D5663"
         },
         "title": {
          "font": {
           "color": "#4D5663"
          },
          "text": ""
         },
         "type": "linear",
         "zerolinecolor": "#E1E5ED"
        },
        "xaxis5": {
         "anchor": "y5",
         "autorange": true,
         "domain": [
          0,
          0.2125
         ],
         "gridcolor": "#E1E5ED",
         "range": [
          -3.0060645543512323,
          2.776724399201728
         ],
         "showgrid": false,
         "tickfont": {
          "color": "#4D5663"
         },
         "title": {
          "font": {
           "color": "#4D5663"
          },
          "text": ""
         },
         "type": "linear",
         "zerolinecolor": "#E1E5ED"
        },
        "xaxis6": {
         "anchor": "y6",
         "autorange": true,
         "domain": [
          0.2625,
          0.475
         ],
         "gridcolor": "#E1E5ED",
         "range": [
          -2.5,
          2.5
         ],
         "showgrid": false,
         "tickfont": {
          "color": "#4D5663"
         },
         "title": {
          "font": {
           "color": "#4D5663"
          },
          "text": ""
         },
         "type": "linear",
         "zerolinecolor": "#E1E5ED"
        },
        "xaxis7": {
         "anchor": "y7",
         "autorange": true,
         "domain": [
          0.525,
          0.7375
         ],
         "gridcolor": "#E1E5ED",
         "range": [
          -2.3373000594929123,
          3.509919996768458
         ],
         "showgrid": false,
         "tickfont": {
          "color": "#4D5663"
         },
         "title": {
          "font": {
           "color": "#4D5663"
          },
          "text": ""
         },
         "type": "linear",
         "zerolinecolor": "#E1E5ED"
        },
        "xaxis8": {
         "anchor": "y8",
         "autorange": true,
         "domain": [
          0.7875,
          1
         ],
         "gridcolor": "#E1E5ED",
         "range": [
          -3.571033925915706,
          2.5976950502693765
         ],
         "showgrid": false,
         "tickfont": {
          "color": "#4D5663"
         },
         "title": {
          "font": {
           "color": "#4D5663"
          },
          "text": ""
         },
         "type": "linear",
         "zerolinecolor": "#E1E5ED"
        },
        "xaxis9": {
         "anchor": "y9",
         "autorange": true,
         "domain": [
          0,
          0.2125
         ],
         "gridcolor": "#E1E5ED",
         "range": [
          -3.0060645543512323,
          2.776724399201728
         ],
         "showgrid": false,
         "tickfont": {
          "color": "#4D5663"
         },
         "title": {
          "font": {
           "color": "#4D5663"
          },
          "text": ""
         },
         "type": "linear",
         "zerolinecolor": "#E1E5ED"
        },
        "yaxis": {
         "anchor": "x",
         "autorange": true,
         "domain": [
          0.8025,
          1
         ],
         "gridcolor": "#E1E5ED",
         "range": [
          0,
          36.8421052631579
         ],
         "showgrid": false,
         "tickfont": {
          "color": "#4D5663"
         },
         "title": {
          "font": {
           "color": "#4D5663"
          },
          "text": ""
         },
         "zerolinecolor": "#E1E5ED"
        },
        "yaxis10": {
         "anchor": "x10",
         "autorange": true,
         "domain": [
          0.2675,
          0.465
         ],
         "gridcolor": "#E1E5ED",
         "range": [
          -2.891627127897185,
          4.06424706517273
         ],
         "showgrid": false,
         "tickfont": {
          "color": "#4D5663"
         },
         "title": {
          "font": {
           "color": "#4D5663"
          },
          "text": ""
         },
         "type": "linear",
         "zerolinecolor": "#E1E5ED"
        },
        "yaxis11": {
         "anchor": "x11",
         "autorange": true,
         "domain": [
          0.2675,
          0.465
         ],
         "gridcolor": "#E1E5ED",
         "range": [
          0,
          41.05263157894737
         ],
         "showgrid": false,
         "tickfont": {
          "color": "#4D5663"
         },
         "title": {
          "font": {
           "color": "#4D5663"
          },
          "text": ""
         },
         "zerolinecolor": "#E1E5ED"
        },
        "yaxis12": {
         "anchor": "x12",
         "autorange": true,
         "domain": [
          0.2675,
          0.465
         ],
         "gridcolor": "#E1E5ED",
         "range": [
          -2.891627127897185,
          4.06424706517273
         ],
         "showgrid": false,
         "tickfont": {
          "color": "#4D5663"
         },
         "title": {
          "font": {
           "color": "#4D5663"
          },
          "text": ""
         },
         "type": "linear",
         "zerolinecolor": "#E1E5ED"
        },
        "yaxis13": {
         "anchor": "x13",
         "autorange": true,
         "domain": [
          0,
          0.1975
         ],
         "gridcolor": "#E1E5ED",
         "range": [
          -4.155840623157666,
          3.1825017475113375
         ],
         "showgrid": false,
         "tickfont": {
          "color": "#4D5663"
         },
         "title": {
          "font": {
           "color": "#4D5663"
          },
          "text": ""
         },
         "type": "linear",
         "zerolinecolor": "#E1E5ED"
        },
        "yaxis14": {
         "anchor": "x14",
         "autorange": true,
         "domain": [
          0,
          0.1975
         ],
         "gridcolor": "#E1E5ED",
         "range": [
          -4.155840623157666,
          3.1825017475113375
         ],
         "showgrid": false,
         "tickfont": {
          "color": "#4D5663"
         },
         "title": {
          "font": {
           "color": "#4D5663"
          },
          "text": ""
         },
         "type": "linear",
         "zerolinecolor": "#E1E5ED"
        },
        "yaxis15": {
         "anchor": "x15",
         "autorange": true,
         "domain": [
          0,
          0.1975
         ],
         "gridcolor": "#E1E5ED",
         "range": [
          -4.155840623157666,
          3.1825017475113375
         ],
         "showgrid": false,
         "tickfont": {
          "color": "#4D5663"
         },
         "title": {
          "font": {
           "color": "#4D5663"
          },
          "text": ""
         },
         "type": "linear",
         "zerolinecolor": "#E1E5ED"
        },
        "yaxis16": {
         "anchor": "x16",
         "autorange": true,
         "domain": [
          0,
          0.1975
         ],
         "gridcolor": "#E1E5ED",
         "range": [
          0,
          37.89473684210526
         ],
         "showgrid": false,
         "tickfont": {
          "color": "#4D5663"
         },
         "title": {
          "font": {
           "color": "#4D5663"
          },
          "text": ""
         },
         "zerolinecolor": "#E1E5ED"
        },
        "yaxis2": {
         "anchor": "x2",
         "autorange": true,
         "domain": [
          0.8025,
          1
         ],
         "gridcolor": "#E1E5ED",
         "range": [
          -3.5542834373383743,
          3.32494328218887
         ],
         "showgrid": false,
         "tickfont": {
          "color": "#4D5663"
         },
         "title": {
          "font": {
           "color": "#4D5663"
          },
          "text": ""
         },
         "type": "linear",
         "zerolinecolor": "#E1E5ED"
        },
        "yaxis3": {
         "anchor": "x3",
         "autorange": true,
         "domain": [
          0.8025,
          1
         ],
         "gridcolor": "#E1E5ED",
         "range": [
          -3.5542834373383743,
          3.32494328218887
         ],
         "showgrid": false,
         "tickfont": {
          "color": "#4D5663"
         },
         "title": {
          "font": {
           "color": "#4D5663"
          },
          "text": ""
         },
         "type": "linear",
         "zerolinecolor": "#E1E5ED"
        },
        "yaxis4": {
         "anchor": "x4",
         "autorange": true,
         "domain": [
          0.8025,
          1
         ],
         "gridcolor": "#E1E5ED",
         "range": [
          -3.5542834373383743,
          3.32494328218887
         ],
         "showgrid": false,
         "tickfont": {
          "color": "#4D5663"
         },
         "title": {
          "font": {
           "color": "#4D5663"
          },
          "text": ""
         },
         "type": "linear",
         "zerolinecolor": "#E1E5ED"
        },
        "yaxis5": {
         "anchor": "x5",
         "autorange": true,
         "domain": [
          0.535,
          0.7325
         ],
         "gridcolor": "#E1E5ED",
         "range": [
          -3.036119701521828,
          3.0511255834085915
         ],
         "showgrid": false,
         "tickfont": {
          "color": "#4D5663"
         },
         "title": {
          "font": {
           "color": "#4D5663"
          },
          "text": ""
         },
         "type": "linear",
         "zerolinecolor": "#E1E5ED"
        },
        "yaxis6": {
         "anchor": "x6",
         "autorange": true,
         "domain": [
          0.535,
          0.7325
         ],
         "gridcolor": "#E1E5ED",
         "range": [
          0,
          21.05263157894737
         ],
         "showgrid": false,
         "tickfont": {
          "color": "#4D5663"
         },
         "title": {
          "font": {
           "color": "#4D5663"
          },
          "text": ""
         },
         "zerolinecolor": "#E1E5ED"
        },
        "yaxis7": {
         "anchor": "x7",
         "autorange": true,
         "domain": [
          0.535,
          0.7325
         ],
         "gridcolor": "#E1E5ED",
         "range": [
          -3.036119701521828,
          3.0511255834085915
         ],
         "showgrid": false,
         "tickfont": {
          "color": "#4D5663"
         },
         "title": {
          "font": {
           "color": "#4D5663"
          },
          "text": ""
         },
         "type": "linear",
         "zerolinecolor": "#E1E5ED"
        },
        "yaxis8": {
         "anchor": "x8",
         "autorange": true,
         "domain": [
          0.535,
          0.7325
         ],
         "gridcolor": "#E1E5ED",
         "range": [
          -3.036119701521828,
          3.0511255834085915
         ],
         "showgrid": false,
         "tickfont": {
          "color": "#4D5663"
         },
         "title": {
          "font": {
           "color": "#4D5663"
          },
          "text": ""
         },
         "type": "linear",
         "zerolinecolor": "#E1E5ED"
        },
        "yaxis9": {
         "anchor": "x9",
         "autorange": true,
         "domain": [
          0.2675,
          0.465
         ],
         "gridcolor": "#E1E5ED",
         "range": [
          -2.891627127897185,
          4.06424706517273
         ],
         "showgrid": false,
         "tickfont": {
          "color": "#4D5663"
         },
         "title": {
          "font": {
           "color": "#4D5663"
          },
          "text": ""
         },
         "type": "linear",
         "zerolinecolor": "#E1E5ED"
        }
       }
      },
      "image/png": "[encoded data removed]",
      "text/html": [
       "<div>                            <div id=\"045b2f87-7a23-4cbc-96b0-90b8757f3883\" class=\"plotly-graph-div\" style=\"height:525px; width:100%;\"></div>            <script type=\"text/javascript\">                require([\"plotly\"], function(Plotly) {                    window.PLOTLYENV=window.PLOTLYENV || {};\n",
       "                    window.PLOTLYENV.BASE_URL='https://plot.ly';                                    if (document.getElementById(\"045b2f87-7a23-4cbc-96b0-90b8757f3883\")) {                    Plotly.newPlot(                        \"045b2f87-7a23-4cbc-96b0-90b8757f3883\",                        [{\"histfunc\":\"count\",\"histnorm\":\"\",\"marker\":{\"color\":\"rgba(255, 153, 51, 1.0)\",\"line\":{\"color\":\"#4D5663\",\"width\":1.3}},\"name\":\"A\",\"nbinsx\":10,\"opacity\":0.8,\"orientation\":\"v\",\"x\":[0.3722499513826081,0.44962418847711977,-0.19008686316152432,0.3505374987768143,0.04799058581538711,-1.0616808223649041,-0.34918097256812286,-0.48089881806101076,-0.4456760870273539,-0.7845441182194487,-2.6297966397985317,-1.077088111762941,-0.5992787254785886,2.4004564846490273,-1.174814343368501,0.792165893059011,-1.0125715408371985,2.07430622775241,0.7235617584236765,-0.3256957929742864,-0.47522205392682293,-2.319204187811456,2.1737543325926603,-0.06693863467014748,2.2224326606271494,-0.19668439507305474,-0.3905776033461921,0.3966405704473405,0.35048839239078095,-0.4701316366936247,1.3006606106658865,0.6893948544981483,-0.9615751084789473,-0.3942103001601378,0.7305791326959454,-1.9842578058766225,0.7443692825956367,0.12139364619153553,0.6598421360088613,-0.0010939429186482609,-1.5212483343645706,-0.5313954698653767,-0.23967668217356503,1.38321086057728,1.415251735754552,-0.29152155442876243,0.12324920714653177,0.9778606278917786,-0.4228000308238359,1.1261729051941902,1.6324138786501776,-1.3197027011686355,0.2587713361686644,1.4895474238654858,-0.5531892445255253,1.2888055363696294,0.4905527027203285,0.9653769455706748,-0.42048243053724127,1.1745572322932814,0.4616626277868517,-0.3071957752850886,0.2944507495820135,-0.9561406727260771,0.7419642857087567,-0.6027273570253878,-0.907942753288384,0.23518617948959306,-0.19438408200279772,-2.1692481246451747,0.6811137258559963,-0.028253873394904632,0.15740165722328445,2.132658000392043,-0.17172845377821724,0.2846300655354166,0.7570838467051156,-1.362548814735958,-0.8966092192548227,2.081062883727208,1.0010914743347552,-0.4834298995851756,0.556214916975121,0.9757849809919205,0.08069545621379347,0.06442180423172583,-1.1469175868178905,-0.85733066562819,0.36801353398388825,0.026557990871516213,-0.7864658073811868,-0.14078002328853012,0.4362032792494815,0.2903823392194604,1.1529028827983299,-0.35076613029742904,-1.1902510156607797,0.5240088945099852,-0.3172966435958289,1.8671430764855006],\"xaxis\":\"x\",\"yaxis\":\"y\",\"type\":\"histogram\"},{\"line\":{\"color\":\"rgba(128, 128, 128, 1.0)\",\"dash\":\"solid\",\"shape\":\"linear\",\"width\":1.3},\"marker\":{\"size\":2,\"symbol\":\"circle\"},\"mode\":\"markers\",\"name\":\"A\",\"text\":\"\",\"x\":[-0.09180377812877474,1.017158998322427,-0.3853355087968358,0.24339186432477525,0.7546759797806506,1.223036267582837,-0.9898539898864169,0.27279192443264716,-0.8909293071765594,-1.158444382728826,-1.2002806993854744,-0.32187516483400946,0.400673103397483,-0.18441019777648796,0.40195163502360554,-0.6384845290372737,-0.04049291460883738,0.736370865957565,-1.631448818603992,1.051283279098394,-0.373777918905386,0.5994821282477318,-0.16634922846917122,1.1196984321287138,0.46997964753479254,0.7140414607202057,0.6368910237927567,-0.6979953455340064,-0.4831337592451188,-0.2887323208295246,0.13465965543144492,-1.0464943791740509,0.5124841158744543,-0.3914779293768162,-0.01422732365078468,1.6603749706051185,-0.6379808274717299,0.47598913698075374,-1.6150528006468738,-2.027018545263702,-0.994864868613433,-0.7571535613479601,0.4266814200301229,-1.270106146965642,0.9616856682221624,-2.2180658520491114,0.7955866556199922,0.470023689776372,1.1747149518740854,-0.9952283359579319,-0.1989586586254375,-1.1349526015637381,1.4582996352434068,0.02644627817215597,0.3940096517382582,-0.9690617472288557,0.805403066375695,-1.0097424588219854,-0.2388578695257928,-0.6485627395247976,-0.9620635692494018,1.0887688852464492,0.688833319261365,0.004793949062112339,0.7817335868054288,-0.1010644196091662,0.8353494616788536,0.797009754509465,0.8093966582698144,0.20598454826157453,0.3809861608095964,-1.021364394835668,0.44017507153935526,0.027732015936435796,2.0311865545276264,0.42392026045047293,1.3531599885915069,-1.0738880994976523,1.4709730597355388,0.01425321746821192,-0.5803052289255062,-0.7591045986389185,-0.8515039808941258,1.3928378698804906,0.5290842070612989,2.233071733935875,0.8202276875963499,0.44339921264695986,-1.403216254911634,-0.1606071797629106,-0.3027113922460089,1.352482790057738,0.2799354343111906,1.3924248548020295,-0.6272704706804231,-1.398862315632276,-0.7604376556221797,-1.308039606700251,0.8219893341478917,-0.08226606668768252],\"xaxis\":\"x2\",\"y\":[0.3722499513826081,0.44962418847711977,-0.19008686316152432,0.3505374987768143,0.04799058581538711,-1.0616808223649041,-0.34918097256812286,-0.48089881806101076,-0.4456760870273539,-0.7845441182194487,-2.6297966397985317,-1.077088111762941,-0.5992787254785886,2.4004564846490273,-1.174814343368501,0.792165893059011,-1.0125715408371985,2.07430622775241,0.7235617584236765,-0.3256957929742864,-0.47522205392682293,-2.319204187811456,2.1737543325926603,-0.06693863467014748,2.2224326606271494,-0.19668439507305474,-0.3905776033461921,0.3966405704473405,0.35048839239078095,-0.4701316366936247,1.3006606106658865,0.6893948544981483,-0.9615751084789473,-0.3942103001601378,0.7305791326959454,-1.9842578058766225,0.7443692825956367,0.12139364619153553,0.6598421360088613,-0.0010939429186482609,-1.5212483343645706,-0.5313954698653767,-0.23967668217356503,1.38321086057728,1.415251735754552,-0.29152155442876243,0.12324920714653177,0.9778606278917786,-0.4228000308238359,1.1261729051941902,1.6324138786501776,-1.3197027011686355,0.2587713361686644,1.4895474238654858,-0.5531892445255253,1.2888055363696294,0.4905527027203285,0.9653769455706748,-0.42048243053724127,1.1745572322932814,0.4616626277868517,-0.3071957752850886,0.2944507495820135,-0.9561406727260771,0.7419642857087567,-0.6027273570253878,-0.907942753288384,0.23518617948959306,-0.19438408200279772,-2.1692481246451747,0.6811137258559963,-0.028253873394904632,0.15740165722328445,2.132658000392043,-0.17172845377821724,0.2846300655354166,0.7570838467051156,-1.362548814735958,-0.8966092192548227,2.081062883727208,1.0010914743347552,-0.4834298995851756,0.556214916975121,0.9757849809919205,0.08069545621379347,0.06442180423172583,-1.1469175868178905,-0.85733066562819,0.36801353398388825,0.026557990871516213,-0.7864658073811868,-0.14078002328853012,0.4362032792494815,0.2903823392194604,1.1529028827983299,-0.35076613029742904,-1.1902510156607797,0.5240088945099852,-0.3172966435958289,1.8671430764855006],\"yaxis\":\"y2\",\"type\":\"scatter\"},{\"line\":{\"color\":\"rgba(128, 128, 128, 1.0)\",\"dash\":\"solid\",\"shape\":\"linear\",\"width\":1.3},\"marker\":{\"size\":2,\"symbol\":\"circle\"},\"mode\":\"markers\",\"name\":\"A\",\"text\":\"\",\"x\":[0.07298134671454819,-1.0189431283480586,-0.8416230072025533,-0.7158037290484127,1.10815460958818,1.699734651982336,1.2172108635110934,0.5893531561366738,0.703790149892571,-0.7661600708343558,1.0302686919960882,0.58341400533127,0.7663728034087569,0.11472678241326927,-0.2311156150377708,0.9200704238848368,-0.5393382795021103,-0.8741745691552509,-0.8367042702567877,0.9605261542513642,-0.6917555286666909,0.05249994631857768,1.286636743661166,0.3282386216822528,-1.6898829998457274,-0.7117861220335858,-0.9826937902387847,-0.3179177665120115,0.28370779086849207,0.015770343866494674,-1.8140137848638083,1.7763305602880348,-0.22932570479628317,-0.14706676758670417,-0.14992790335977257,0.323732035371185,-0.6784254404869196,0.16463178456319688,-0.9817738794634494,-0.37318849905704793,0.9820227450905029,0.2484062968946875,0.2439731245253462,1.2914736906720432,1.1899140062933398,0.47455415823086733,3.1294597527285246,-0.014392951274504056,0.22049203099081777,0.476633232053598,0.9998043228873054,0.790271890943665,-0.0409388272543176,0.9336178884432296,1.983046662137306,0.19627617418660426,0.19486002775199662,-0.03216611204590051,-0.331719684396715,-0.40779583330634467,-0.5455775756152103,-0.660586148103083,1.035133431163175,0.9361103888926927,-0.14832853650009023,-1.4291138652725932,-0.035718809980831594,0.019692953227940364,-0.3154221338372782,0.1337386496935077,-1.9568398154529791,1.3719667786337344,-0.2738644968646515,-0.3389558418509158,-0.9547531962531611,-1.4364546643520943,-0.3109182949080701,-1.0878592655950363,0.8872548018021124,-1.0523169840362765,-0.9046501454515113,-0.370077991992961,-1.1571074319681762,-0.438246065161792,-1.6170841773729714,0.01299674558648976,0.5750061351314767,-0.6422842226628253,-0.05375863284553952,0.6542568970340742,-1.428607578049314,-0.7565980079528769,0.8356505172530585,0.4740335141390421,0.6160650077802796,-0.6759166588843367,0.74683641669413,2.2383286951455363,-1.0914680602443705,-0.38971067391465264],\"xaxis\":\"x3\",\"y\":[0.3722499513826081,0.44962418847711977,-0.19008686316152432,0.3505374987768143,0.04799058581538711,-1.0616808223649041,-0.34918097256812286,-0.48089881806101076,-0.4456760870273539,-0.7845441182194487,-2.6297966397985317,-1.077088111762941,-0.5992787254785886,2.4004564846490273,-1.174814343368501,0.792165893059011,-1.0125715408371985,2.07430622775241,0.7235617584236765,-0.3256957929742864,-0.47522205392682293,-2.319204187811456,2.1737543325926603,-0.06693863467014748,2.2224326606271494,-0.19668439507305474,-0.3905776033461921,0.3966405704473405,0.35048839239078095,-0.4701316366936247,1.3006606106658865,0.6893948544981483,-0.9615751084789473,-0.3942103001601378,0.7305791326959454,-1.9842578058766225,0.7443692825956367,0.12139364619153553,0.6598421360088613,-0.0010939429186482609,-1.5212483343645706,-0.5313954698653767,-0.23967668217356503,1.38321086057728,1.415251735754552,-0.29152155442876243,0.12324920714653177,0.9778606278917786,-0.4228000308238359,1.1261729051941902,1.6324138786501776,-1.3197027011686355,0.2587713361686644,1.4895474238654858,-0.5531892445255253,1.2888055363696294,0.4905527027203285,0.9653769455706748,-0.42048243053724127,1.1745572322932814,0.4616626277868517,-0.3071957752850886,0.2944507495820135,-0.9561406727260771,0.7419642857087567,-0.6027273570253878,-0.907942753288384,0.23518617948959306,-0.19438408200279772,-2.1692481246451747,0.6811137258559963,-0.028253873394904632,0.15740165722328445,2.132658000392043,-0.17172845377821724,0.2846300655354166,0.7570838467051156,-1.362548814735958,-0.8966092192548227,2.081062883727208,1.0010914743347552,-0.4834298995851756,0.556214916975121,0.9757849809919205,0.08069545621379347,0.06442180423172583,-1.1469175868178905,-0.85733066562819,0.36801353398388825,0.026557990871516213,-0.7864658073811868,-0.14078002328853012,0.4362032792494815,0.2903823392194604,1.1529028827983299,-0.35076613029742904,-1.1902510156607797,0.5240088945099852,-0.3172966435958289,1.8671430764855006],\"yaxis\":\"y3\",\"type\":\"scatter\"},{\"line\":{\"color\":\"rgba(128, 128, 128, 1.0)\",\"dash\":\"solid\",\"shape\":\"linear\",\"width\":1.3},\"marker\":{\"size\":2,\"symbol\":\"circle\"},\"mode\":\"markers\",\"name\":\"A\",\"text\":\"\",\"x\":[-0.10177775343924063,1.2692377601285367,-0.7737985159135423,-0.45348503211336255,0.5352496088463908,-1.2244129214926303,0.3952502439102554,-0.22838158254739416,1.5899521453456302,-0.7508008494330446,1.3107836347952557,0.2439632192104698,-0.4884835735901655,0.8581953978028477,0.08039502816987106,0.40714645936928306,-0.7638332711109559,0.9696496697596394,-0.4767748712446175,-1.8831607035368356,-0.3705378238268983,0.9401613497380764,0.11738967521849902,-0.5129113230265762,1.583402894192332,-2.4791637307436725,-0.23172765737529127,-0.3680758584494655,-1.5166552065296455,0.23502429947802078,-0.16414419339062336,0.7745383822978179,-0.4531357552683077,-0.29108174105330675,-1.4516484320210081,-0.10826378598516932,-2.9553013306665106,-1.0178841565872045,0.7335040704291752,-0.3290534400522581,0.9657867644962549,1.083480764406484,0.3756333311937002,-0.6536125614124135,-0.7452186353310412,0.21355261927194752,-1.0525445492563872,-0.7938143438461861,0.4202758057122168,0.20873187009776645,0.9948637706792738,-0.10187915203838797,-0.020478582362387313,2.196315230609195,1.1587080642173813,0.8536595929123013,0.8962399081030321,-0.23738968844342637,1.799768536331428,1.1354992193220899,1.4754070076899661,-1.3255793819040296,-0.06347989892784726,-1.1578556170575676,-0.394133475435025,0.33552462999502547,-1.5672186301857214,0.4046310913328689,-3.1696541062555244,-2.0448486022417955,0.9068786379444961,-1.0786343373141958,-0.5328655785565071,-0.3938467924695483,1.2965508761812679,1.5445343336659814,-0.18035273880909292,-1.7121613128016315,0.0026221280769010732,-0.09036851894589876,0.47850103114470627,-1.6000183039622988,1.4663148928481642,-0.6799368142810139,0.007199482669525501,-0.8502645806980389,0.7367316645598231,0.37396262014278747,-0.38174350443890576,0.8634144073004977,0.5836905294629668,0.41951771286330625,0.15519152103575193,0.4135351537993294,-0.9418235826372715,0.6569786663424649,-0.4909571637119055,-0.06564223130948511,0.09133778348107625,-0.1670060717409442],\"xaxis\":\"x4\",\"y\":[0.3722499513826081,0.44962418847711977,-0.19008686316152432,0.3505374987768143,0.04799058581538711,-1.0616808223649041,-0.34918097256812286,-0.48089881806101076,-0.4456760870273539,-0.7845441182194487,-2.6297966397985317,-1.077088111762941,-0.5992787254785886,2.4004564846490273,-1.174814343368501,0.792165893059011,-1.0125715408371985,2.07430622775241,0.7235617584236765,-0.3256957929742864,-0.47522205392682293,-2.319204187811456,2.1737543325926603,-0.06693863467014748,2.2224326606271494,-0.19668439507305474,-0.3905776033461921,0.3966405704473405,0.35048839239078095,-0.4701316366936247,1.3006606106658865,0.6893948544981483,-0.9615751084789473,-0.3942103001601378,0.7305791326959454,-1.9842578058766225,0.7443692825956367,0.12139364619153553,0.6598421360088613,-0.0010939429186482609,-1.5212483343645706,-0.5313954698653767,-0.23967668217356503,1.38321086057728,1.415251735754552,-0.29152155442876243,0.12324920714653177,0.9778606278917786,-0.4228000308238359,1.1261729051941902,1.6324138786501776,-1.3197027011686355,0.2587713361686644,1.4895474238654858,-0.5531892445255253,1.2888055363696294,0.4905527027203285,0.9653769455706748,-0.42048243053724127,1.1745572322932814,0.4616626277868517,-0.3071957752850886,0.2944507495820135,-0.9561406727260771,0.7419642857087567,-0.6027273570253878,-0.907942753288384,0.23518617948959306,-0.19438408200279772,-2.1692481246451747,0.6811137258559963,-0.028253873394904632,0.15740165722328445,2.132658000392043,-0.17172845377821724,0.2846300655354166,0.7570838467051156,-1.362548814735958,-0.8966092192548227,2.081062883727208,1.0010914743347552,-0.4834298995851756,0.556214916975121,0.9757849809919205,0.08069545621379347,0.06442180423172583,-1.1469175868178905,-0.85733066562819,0.36801353398388825,0.026557990871516213,-0.7864658073811868,-0.14078002328853012,0.4362032792494815,0.2903823392194604,1.1529028827983299,-0.35076613029742904,-1.1902510156607797,0.5240088945099852,-0.3172966435958289,1.8671430764855006],\"yaxis\":\"y4\",\"type\":\"scatter\"},{\"line\":{\"color\":\"rgba(128, 128, 128, 1.0)\",\"dash\":\"solid\",\"shape\":\"linear\",\"width\":1.3},\"marker\":{\"size\":2,\"symbol\":\"circle\"},\"mode\":\"markers\",\"name\":\"B\",\"text\":\"\",\"x\":[0.3722499513826081,0.44962418847711977,-0.19008686316152432,0.3505374987768143,0.04799058581538711,-1.0616808223649041,-0.34918097256812286,-0.48089881806101076,-0.4456760870273539,-0.7845441182194487,-2.6297966397985317,-1.077088111762941,-0.5992787254785886,2.4004564846490273,-1.174814343368501,0.792165893059011,-1.0125715408371985,2.07430622775241,0.7235617584236765,-0.3256957929742864,-0.47522205392682293,-2.319204187811456,2.1737543325926603,-0.06693863467014748,2.2224326606271494,-0.19668439507305474,-0.3905776033461921,0.3966405704473405,0.35048839239078095,-0.4701316366936247,1.3006606106658865,0.6893948544981483,-0.9615751084789473,-0.3942103001601378,0.7305791326959454,-1.9842578058766225,0.7443692825956367,0.12139364619153553,0.6598421360088613,-0.0010939429186482609,-1.5212483343645706,-0.5313954698653767,-0.23967668217356503,1.38321086057728,1.415251735754552,-0.29152155442876243,0.12324920714653177,0.9778606278917786,-0.4228000308238359,1.1261729051941902,1.6324138786501776,-1.3197027011686355,0.2587713361686644,1.4895474238654858,-0.5531892445255253,1.2888055363696294,0.4905527027203285,0.9653769455706748,-0.42048243053724127,1.1745572322932814,0.4616626277868517,-0.3071957752850886,0.2944507495820135,-0.9561406727260771,0.7419642857087567,-0.6027273570253878,-0.907942753288384,0.23518617948959306,-0.19438408200279772,-2.1692481246451747,0.6811137258559963,-0.028253873394904632,0.15740165722328445,2.132658000392043,-0.17172845377821724,0.2846300655354166,0.7570838467051156,-1.362548814735958,-0.8966092192548227,2.081062883727208,1.0010914743347552,-0.4834298995851756,0.556214916975121,0.9757849809919205,0.08069545621379347,0.06442180423172583,-1.1469175868178905,-0.85733066562819,0.36801353398388825,0.026557990871516213,-0.7864658073811868,-0.14078002328853012,0.4362032792494815,0.2903823392194604,1.1529028827983299,-0.35076613029742904,-1.1902510156607797,0.5240088945099852,-0.3172966435958289,1.8671430764855006],\"xaxis\":\"x5\",\"y\":[-0.09180377812877474,1.017158998322427,-0.3853355087968358,0.24339186432477525,0.7546759797806506,1.223036267582837,-0.9898539898864169,0.27279192443264716,-0.8909293071765594,-1.158444382728826,-1.2002806993854744,-0.32187516483400946,0.400673103397483,-0.18441019777648796,0.40195163502360554,-0.6384845290372737,-0.04049291460883738,0.736370865957565,-1.631448818603992,1.051283279098394,-0.373777918905386,0.5994821282477318,-0.16634922846917122,1.1196984321287138,0.46997964753479254,0.7140414607202057,0.6368910237927567,-0.6979953455340064,-0.4831337592451188,-0.2887323208295246,0.13465965543144492,-1.0464943791740509,0.5124841158744543,-0.3914779293768162,-0.01422732365078468,1.6603749706051185,-0.6379808274717299,0.47598913698075374,-1.6150528006468738,-2.027018545263702,-0.994864868613433,-0.7571535613479601,0.4266814200301229,-1.270106146965642,0.9616856682221624,-2.2180658520491114,0.7955866556199922,0.470023689776372,1.1747149518740854,-0.9952283359579319,-0.1989586586254375,-1.1349526015637381,1.4582996352434068,0.02644627817215597,0.3940096517382582,-0.9690617472288557,0.805403066375695,-1.0097424588219854,-0.2388578695257928,-0.6485627395247976,-0.9620635692494018,1.0887688852464492,0.688833319261365,0.004793949062112339,0.7817335868054288,-0.1010644196091662,0.8353494616788536,0.797009754509465,0.8093966582698144,0.20598454826157453,0.3809861608095964,-1.021364394835668,0.44017507153935526,0.027732015936435796,2.0311865545276264,0.42392026045047293,1.3531599885915069,-1.0738880994976523,1.4709730597355388,0.01425321746821192,-0.5803052289255062,-0.7591045986389185,-0.8515039808941258,1.3928378698804906,0.5290842070612989,2.233071733935875,0.8202276875963499,0.44339921264695986,-1.403216254911634,-0.1606071797629106,-0.3027113922460089,1.352482790057738,0.2799354343111906,1.3924248548020295,-0.6272704706804231,-1.398862315632276,-0.7604376556221797,-1.308039606700251,0.8219893341478917,-0.08226606668768252],\"yaxis\":\"y5\",\"type\":\"scatter\"},{\"histfunc\":\"count\",\"histnorm\":\"\",\"marker\":{\"color\":\"rgba(55, 128, 191, 1.0)\",\"line\":{\"color\":\"#4D5663\",\"width\":1.3}},\"name\":\"B\",\"nbinsx\":10,\"opacity\":0.8,\"orientation\":\"v\",\"x\":[-0.09180377812877474,1.017158998322427,-0.3853355087968358,0.24339186432477525,0.7546759797806506,1.223036267582837,-0.9898539898864169,0.27279192443264716,-0.8909293071765594,-1.158444382728826,-1.2002806993854744,-0.32187516483400946,0.400673103397483,-0.18441019777648796,0.40195163502360554,-0.6384845290372737,-0.04049291460883738,0.736370865957565,-1.631448818603992,1.051283279098394,-0.373777918905386,0.5994821282477318,-0.16634922846917122,1.1196984321287138,0.46997964753479254,0.7140414607202057,0.6368910237927567,-0.6979953455340064,-0.4831337592451188,-0.2887323208295246,0.13465965543144492,-1.0464943791740509,0.5124841158744543,-0.3914779293768162,-0.01422732365078468,1.6603749706051185,-0.6379808274717299,0.47598913698075374,-1.6150528006468738,-2.027018545263702,-0.994864868613433,-0.7571535613479601,0.4266814200301229,-1.270106146965642,0.9616856682221624,-2.2180658520491114,0.7955866556199922,0.470023689776372,1.1747149518740854,-0.9952283359579319,-0.1989586586254375,-1.1349526015637381,1.4582996352434068,0.02644627817215597,0.3940096517382582,-0.9690617472288557,0.805403066375695,-1.0097424588219854,-0.2388578695257928,-0.6485627395247976,-0.9620635692494018,1.0887688852464492,0.688833319261365,0.004793949062112339,0.7817335868054288,-0.1010644196091662,0.8353494616788536,0.797009754509465,0.8093966582698144,0.20598454826157453,0.3809861608095964,-1.021364394835668,0.44017507153935526,0.027732015936435796,2.0311865545276264,0.42392026045047293,1.3531599885915069,-1.0738880994976523,1.4709730597355388,0.01425321746821192,-0.5803052289255062,-0.7591045986389185,-0.8515039808941258,1.3928378698804906,0.5290842070612989,2.233071733935875,0.8202276875963499,0.44339921264695986,-1.403216254911634,-0.1606071797629106,-0.3027113922460089,1.352482790057738,0.2799354343111906,1.3924248548020295,-0.6272704706804231,-1.398862315632276,-0.7604376556221797,-1.308039606700251,0.8219893341478917,-0.08226606668768252],\"xaxis\":\"x6\",\"yaxis\":\"y6\",\"type\":\"histogram\"},{\"line\":{\"color\":\"rgba(128, 128, 128, 1.0)\",\"dash\":\"solid\",\"shape\":\"linear\",\"width\":1.3},\"marker\":{\"size\":2,\"symbol\":\"circle\"},\"mode\":\"markers\",\"name\":\"B\",\"text\":\"\",\"x\":[0.07298134671454819,-1.0189431283480586,-0.8416230072025533,-0.7158037290484127,1.10815460958818,1.699734651982336,1.2172108635110934,0.5893531561366738,0.703790149892571,-0.7661600708343558,1.0302686919960882,0.58341400533127,0.7663728034087569,0.11472678241326927,-0.2311156150377708,0.9200704238848368,-0.5393382795021103,-0.8741745691552509,-0.8367042702567877,0.9605261542513642,-0.6917555286666909,0.05249994631857768,1.286636743661166,0.3282386216822528,-1.6898829998457274,-0.7117861220335858,-0.9826937902387847,-0.3179177665120115,0.28370779086849207,0.015770343866494674,-1.8140137848638083,1.7763305602880348,-0.22932570479628317,-0.14706676758670417,-0.14992790335977257,0.323732035371185,-0.6784254404869196,0.16463178456319688,-0.9817738794634494,-0.37318849905704793,0.9820227450905029,0.2484062968946875,0.2439731245253462,1.2914736906720432,1.1899140062933398,0.47455415823086733,3.1294597527285246,-0.014392951274504056,0.22049203099081777,0.476633232053598,0.9998043228873054,0.790271890943665,-0.0409388272543176,0.9336178884432296,1.983046662137306,0.19627617418660426,0.19486002775199662,-0.03216611204590051,-0.331719684396715,-0.40779583330634467,-0.5455775756152103,-0.660586148103083,1.035133431163175,0.9361103888926927,-0.14832853650009023,-1.4291138652725932,-0.035718809980831594,0.019692953227940364,-0.3154221338372782,0.1337386496935077,-1.9568398154529791,1.3719667786337344,-0.2738644968646515,-0.3389558418509158,-0.9547531962531611,-1.4364546643520943,-0.3109182949080701,-1.0878592655950363,0.8872548018021124,-1.0523169840362765,-0.9046501454515113,-0.370077991992961,-1.1571074319681762,-0.438246065161792,-1.6170841773729714,0.01299674558648976,0.5750061351314767,-0.6422842226628253,-0.05375863284553952,0.6542568970340742,-1.428607578049314,-0.7565980079528769,0.8356505172530585,0.4740335141390421,0.6160650077802796,-0.6759166588843367,0.74683641669413,2.2383286951455363,-1.0914680602443705,-0.38971067391465264],\"xaxis\":\"x7\",\"y\":[-0.09180377812877474,1.017158998322427,-0.3853355087968358,0.24339186432477525,0.7546759797806506,1.223036267582837,-0.9898539898864169,0.27279192443264716,-0.8909293071765594,-1.158444382728826,-1.2002806993854744,-0.32187516483400946,0.400673103397483,-0.18441019777648796,0.40195163502360554,-0.6384845290372737,-0.04049291460883738,0.736370865957565,-1.631448818603992,1.051283279098394,-0.373777918905386,0.5994821282477318,-0.16634922846917122,1.1196984321287138,0.46997964753479254,0.7140414607202057,0.6368910237927567,-0.6979953455340064,-0.4831337592451188,-0.2887323208295246,0.13465965543144492,-1.0464943791740509,0.5124841158744543,-0.3914779293768162,-0.01422732365078468,1.6603749706051185,-0.6379808274717299,0.47598913698075374,-1.6150528006468738,-2.027018545263702,-0.994864868613433,-0.7571535613479601,0.4266814200301229,-1.270106146965642,0.9616856682221624,-2.2180658520491114,0.7955866556199922,0.470023689776372,1.1747149518740854,-0.9952283359579319,-0.1989586586254375,-1.1349526015637381,1.4582996352434068,0.02644627817215597,0.3940096517382582,-0.9690617472288557,0.805403066375695,-1.0097424588219854,-0.2388578695257928,-0.6485627395247976,-0.9620635692494018,1.0887688852464492,0.688833319261365,0.004793949062112339,0.7817335868054288,-0.1010644196091662,0.8353494616788536,0.797009754509465,0.8093966582698144,0.20598454826157453,0.3809861608095964,-1.021364394835668,0.44017507153935526,0.027732015936435796,2.0311865545276264,0.42392026045047293,1.3531599885915069,-1.0738880994976523,1.4709730597355388,0.01425321746821192,-0.5803052289255062,-0.7591045986389185,-0.8515039808941258,1.3928378698804906,0.5290842070612989,2.233071733935875,0.8202276875963499,0.44339921264695986,-1.403216254911634,-0.1606071797629106,-0.3027113922460089,1.352482790057738,0.2799354343111906,1.3924248548020295,-0.6272704706804231,-1.398862315632276,-0.7604376556221797,-1.308039606700251,0.8219893341478917,-0.08226606668768252],\"yaxis\":\"y7\",\"type\":\"scatter\"},{\"line\":{\"color\":\"rgba(128, 128, 128, 1.0)\",\"dash\":\"solid\",\"shape\":\"linear\",\"width\":1.3},\"marker\":{\"size\":2,\"symbol\":\"circle\"},\"mode\":\"markers\",\"name\":\"B\",\"text\":\"\",\"x\":[-0.10177775343924063,1.2692377601285367,-0.7737985159135423,-0.45348503211336255,0.5352496088463908,-1.2244129214926303,0.3952502439102554,-0.22838158254739416,1.5899521453456302,-0.7508008494330446,1.3107836347952557,0.2439632192104698,-0.4884835735901655,0.8581953978028477,0.08039502816987106,0.40714645936928306,-0.7638332711109559,0.9696496697596394,-0.4767748712446175,-1.8831607035368356,-0.3705378238268983,0.9401613497380764,0.11738967521849902,-0.5129113230265762,1.583402894192332,-2.4791637307436725,-0.23172765737529127,-0.3680758584494655,-1.5166552065296455,0.23502429947802078,-0.16414419339062336,0.7745383822978179,-0.4531357552683077,-0.29108174105330675,-1.4516484320210081,-0.10826378598516932,-2.9553013306665106,-1.0178841565872045,0.7335040704291752,-0.3290534400522581,0.9657867644962549,1.083480764406484,0.3756333311937002,-0.6536125614124135,-0.7452186353310412,0.21355261927194752,-1.0525445492563872,-0.7938143438461861,0.4202758057122168,0.20873187009776645,0.9948637706792738,-0.10187915203838797,-0.020478582362387313,2.196315230609195,1.1587080642173813,0.8536595929123013,0.8962399081030321,-0.23738968844342637,1.799768536331428,1.1354992193220899,1.4754070076899661,-1.3255793819040296,-0.06347989892784726,-1.1578556170575676,-0.394133475435025,0.33552462999502547,-1.5672186301857214,0.4046310913328689,-3.1696541062555244,-2.0448486022417955,0.9068786379444961,-1.0786343373141958,-0.5328655785565071,-0.3938467924695483,1.2965508761812679,1.5445343336659814,-0.18035273880909292,-1.7121613128016315,0.0026221280769010732,-0.09036851894589876,0.47850103114470627,-1.6000183039622988,1.4663148928481642,-0.6799368142810139,0.007199482669525501,-0.8502645806980389,0.7367316645598231,0.37396262014278747,-0.38174350443890576,0.8634144073004977,0.5836905294629668,0.41951771286330625,0.15519152103575193,0.4135351537993294,-0.9418235826372715,0.6569786663424649,-0.4909571637119055,-0.06564223130948511,0.09133778348107625,-0.1670060717409442],\"xaxis\":\"x8\",\"y\":[-0.09180377812877474,1.017158998322427,-0.3853355087968358,0.24339186432477525,0.7546759797806506,1.223036267582837,-0.9898539898864169,0.27279192443264716,-0.8909293071765594,-1.158444382728826,-1.2002806993854744,-0.32187516483400946,0.400673103397483,-0.18441019777648796,0.40195163502360554,-0.6384845290372737,-0.04049291460883738,0.736370865957565,-1.631448818603992,1.051283279098394,-0.373777918905386,0.5994821282477318,-0.16634922846917122,1.1196984321287138,0.46997964753479254,0.7140414607202057,0.6368910237927567,-0.6979953455340064,-0.4831337592451188,-0.2887323208295246,0.13465965543144492,-1.0464943791740509,0.5124841158744543,-0.3914779293768162,-0.01422732365078468,1.6603749706051185,-0.6379808274717299,0.47598913698075374,-1.6150528006468738,-2.027018545263702,-0.994864868613433,-0.7571535613479601,0.4266814200301229,-1.270106146965642,0.9616856682221624,-2.2180658520491114,0.7955866556199922,0.470023689776372,1.1747149518740854,-0.9952283359579319,-0.1989586586254375,-1.1349526015637381,1.4582996352434068,0.02644627817215597,0.3940096517382582,-0.9690617472288557,0.805403066375695,-1.0097424588219854,-0.2388578695257928,-0.6485627395247976,-0.9620635692494018,1.0887688852464492,0.688833319261365,0.004793949062112339,0.7817335868054288,-0.1010644196091662,0.8353494616788536,0.797009754509465,0.8093966582698144,0.20598454826157453,0.3809861608095964,-1.021364394835668,0.44017507153935526,0.027732015936435796,2.0311865545276264,0.42392026045047293,1.3531599885915069,-1.0738880994976523,1.4709730597355388,0.01425321746821192,-0.5803052289255062,-0.7591045986389185,-0.8515039808941258,1.3928378698804906,0.5290842070612989,2.233071733935875,0.8202276875963499,0.44339921264695986,-1.403216254911634,-0.1606071797629106,-0.3027113922460089,1.352482790057738,0.2799354343111906,1.3924248548020295,-0.6272704706804231,-1.398862315632276,-0.7604376556221797,-1.308039606700251,0.8219893341478917,-0.08226606668768252],\"yaxis\":\"y8\",\"type\":\"scatter\"},{\"line\":{\"color\":\"rgba(128, 128, 128, 1.0)\",\"dash\":\"solid\",\"shape\":\"linear\",\"width\":1.3},\"marker\":{\"size\":2,\"symbol\":\"circle\"},\"mode\":\"markers\",\"name\":\"C\",\"text\":\"\",\"x\":[0.3722499513826081,0.44962418847711977,-0.19008686316152432,0.3505374987768143,0.04799058581538711,-1.0616808223649041,-0.34918097256812286,-0.48089881806101076,-0.4456760870273539,-0.7845441182194487,-2.6297966397985317,-1.077088111762941,-0.5992787254785886,2.4004564846490273,-1.174814343368501,0.792165893059011,-1.0125715408371985,2.07430622775241,0.7235617584236765,-0.3256957929742864,-0.47522205392682293,-2.319204187811456,2.1737543325926603,-0.06693863467014748,2.2224326606271494,-0.19668439507305474,-0.3905776033461921,0.3966405704473405,0.35048839239078095,-0.4701316366936247,1.3006606106658865,0.6893948544981483,-0.9615751084789473,-0.3942103001601378,0.7305791326959454,-1.9842578058766225,0.7443692825956367,0.12139364619153553,0.6598421360088613,-0.0010939429186482609,-1.5212483343645706,-0.5313954698653767,-0.23967668217356503,1.38321086057728,1.415251735754552,-0.29152155442876243,0.12324920714653177,0.9778606278917786,-0.4228000308238359,1.1261729051941902,1.6324138786501776,-1.3197027011686355,0.2587713361686644,1.4895474238654858,-0.5531892445255253,1.2888055363696294,0.4905527027203285,0.9653769455706748,-0.42048243053724127,1.1745572322932814,0.4616626277868517,-0.3071957752850886,0.2944507495820135,-0.9561406727260771,0.7419642857087567,-0.6027273570253878,-0.907942753288384,0.23518617948959306,-0.19438408200279772,-2.1692481246451747,0.6811137258559963,-0.028253873394904632,0.15740165722328445,2.132658000392043,-0.17172845377821724,0.2846300655354166,0.7570838467051156,-1.362548814735958,-0.8966092192548227,2.081062883727208,1.0010914743347552,-0.4834298995851756,0.556214916975121,0.9757849809919205,0.08069545621379347,0.06442180423172583,-1.1469175868178905,-0.85733066562819,0.36801353398388825,0.026557990871516213,-0.7864658073811868,-0.14078002328853012,0.4362032792494815,0.2903823392194604,1.1529028827983299,-0.35076613029742904,-1.1902510156607797,0.5240088945099852,-0.3172966435958289,1.8671430764855006],\"xaxis\":\"x9\",\"y\":[0.07298134671454819,-1.0189431283480586,-0.8416230072025533,-0.7158037290484127,1.10815460958818,1.699734651982336,1.2172108635110934,0.5893531561366738,0.703790149892571,-0.7661600708343558,1.0302686919960882,0.58341400533127,0.7663728034087569,0.11472678241326927,-0.2311156150377708,0.9200704238848368,-0.5393382795021103,-0.8741745691552509,-0.8367042702567877,0.9605261542513642,-0.6917555286666909,0.05249994631857768,1.286636743661166,0.3282386216822528,-1.6898829998457274,-0.7117861220335858,-0.9826937902387847,-0.3179177665120115,0.28370779086849207,0.015770343866494674,-1.8140137848638083,1.7763305602880348,-0.22932570479628317,-0.14706676758670417,-0.14992790335977257,0.323732035371185,-0.6784254404869196,0.16463178456319688,-0.9817738794634494,-0.37318849905704793,0.9820227450905029,0.2484062968946875,0.2439731245253462,1.2914736906720432,1.1899140062933398,0.47455415823086733,3.1294597527285246,-0.014392951274504056,0.22049203099081777,0.476633232053598,0.9998043228873054,0.790271890943665,-0.0409388272543176,0.9336178884432296,1.983046662137306,0.19627617418660426,0.19486002775199662,-0.03216611204590051,-0.331719684396715,-0.40779583330634467,-0.5455775756152103,-0.660586148103083,1.035133431163175,0.9361103888926927,-0.14832853650009023,-1.4291138652725932,-0.035718809980831594,0.019692953227940364,-0.3154221338372782,0.1337386496935077,-1.9568398154529791,1.3719667786337344,-0.2738644968646515,-0.3389558418509158,-0.9547531962531611,-1.4364546643520943,-0.3109182949080701,-1.0878592655950363,0.8872548018021124,-1.0523169840362765,-0.9046501454515113,-0.370077991992961,-1.1571074319681762,-0.438246065161792,-1.6170841773729714,0.01299674558648976,0.5750061351314767,-0.6422842226628253,-0.05375863284553952,0.6542568970340742,-1.428607578049314,-0.7565980079528769,0.8356505172530585,0.4740335141390421,0.6160650077802796,-0.6759166588843367,0.74683641669413,2.2383286951455363,-1.0914680602443705,-0.38971067391465264],\"yaxis\":\"y9\",\"type\":\"scatter\"},{\"line\":{\"color\":\"rgba(128, 128, 128, 1.0)\",\"dash\":\"solid\",\"shape\":\"linear\",\"width\":1.3},\"marker\":{\"size\":2,\"symbol\":\"circle\"},\"mode\":\"markers\",\"name\":\"C\",\"text\":\"\",\"x\":[-0.09180377812877474,1.017158998322427,-0.3853355087968358,0.24339186432477525,0.7546759797806506,1.223036267582837,-0.9898539898864169,0.27279192443264716,-0.8909293071765594,-1.158444382728826,-1.2002806993854744,-0.32187516483400946,0.400673103397483,-0.18441019777648796,0.40195163502360554,-0.6384845290372737,-0.04049291460883738,0.736370865957565,-1.631448818603992,1.051283279098394,-0.373777918905386,0.5994821282477318,-0.16634922846917122,1.1196984321287138,0.46997964753479254,0.7140414607202057,0.6368910237927567,-0.6979953455340064,-0.4831337592451188,-0.2887323208295246,0.13465965543144492,-1.0464943791740509,0.5124841158744543,-0.3914779293768162,-0.01422732365078468,1.6603749706051185,-0.6379808274717299,0.47598913698075374,-1.6150528006468738,-2.027018545263702,-0.994864868613433,-0.7571535613479601,0.4266814200301229,-1.270106146965642,0.9616856682221624,-2.2180658520491114,0.7955866556199922,0.470023689776372,1.1747149518740854,-0.9952283359579319,-0.1989586586254375,-1.1349526015637381,1.4582996352434068,0.02644627817215597,0.3940096517382582,-0.9690617472288557,0.805403066375695,-1.0097424588219854,-0.2388578695257928,-0.6485627395247976,-0.9620635692494018,1.0887688852464492,0.688833319261365,0.004793949062112339,0.7817335868054288,-0.1010644196091662,0.8353494616788536,0.797009754509465,0.8093966582698144,0.20598454826157453,0.3809861608095964,-1.021364394835668,0.44017507153935526,0.027732015936435796,2.0311865545276264,0.42392026045047293,1.3531599885915069,-1.0738880994976523,1.4709730597355388,0.01425321746821192,-0.5803052289255062,-0.7591045986389185,-0.8515039808941258,1.3928378698804906,0.5290842070612989,2.233071733935875,0.8202276875963499,0.44339921264695986,-1.403216254911634,-0.1606071797629106,-0.3027113922460089,1.352482790057738,0.2799354343111906,1.3924248548020295,-0.6272704706804231,-1.398862315632276,-0.7604376556221797,-1.308039606700251,0.8219893341478917,-0.08226606668768252],\"xaxis\":\"x10\",\"y\":[0.07298134671454819,-1.0189431283480586,-0.8416230072025533,-0.7158037290484127,1.10815460958818,1.699734651982336,1.2172108635110934,0.5893531561366738,0.703790149892571,-0.7661600708343558,1.0302686919960882,0.58341400533127,0.7663728034087569,0.11472678241326927,-0.2311156150377708,0.9200704238848368,-0.5393382795021103,-0.8741745691552509,-0.8367042702567877,0.9605261542513642,-0.6917555286666909,0.05249994631857768,1.286636743661166,0.3282386216822528,-1.6898829998457274,-0.7117861220335858,-0.9826937902387847,-0.3179177665120115,0.28370779086849207,0.015770343866494674,-1.8140137848638083,1.7763305602880348,-0.22932570479628317,-0.14706676758670417,-0.14992790335977257,0.323732035371185,-0.6784254404869196,0.16463178456319688,-0.9817738794634494,-0.37318849905704793,0.9820227450905029,0.2484062968946875,0.2439731245253462,1.2914736906720432,1.1899140062933398,0.47455415823086733,3.1294597527285246,-0.014392951274504056,0.22049203099081777,0.476633232053598,0.9998043228873054,0.790271890943665,-0.0409388272543176,0.9336178884432296,1.983046662137306,0.19627617418660426,0.19486002775199662,-0.03216611204590051,-0.331719684396715,-0.40779583330634467,-0.5455775756152103,-0.660586148103083,1.035133431163175,0.9361103888926927,-0.14832853650009023,-1.4291138652725932,-0.035718809980831594,0.019692953227940364,-0.3154221338372782,0.1337386496935077,-1.9568398154529791,1.3719667786337344,-0.2738644968646515,-0.3389558418509158,-0.9547531962531611,-1.4364546643520943,-0.3109182949080701,-1.0878592655950363,0.8872548018021124,-1.0523169840362765,-0.9046501454515113,-0.370077991992961,-1.1571074319681762,-0.438246065161792,-1.6170841773729714,0.01299674558648976,0.5750061351314767,-0.6422842226628253,-0.05375863284553952,0.6542568970340742,-1.428607578049314,-0.7565980079528769,0.8356505172530585,0.4740335141390421,0.6160650077802796,-0.6759166588843367,0.74683641669413,2.2383286951455363,-1.0914680602443705,-0.38971067391465264],\"yaxis\":\"y10\",\"type\":\"scatter\"},{\"histfunc\":\"count\",\"histnorm\":\"\",\"marker\":{\"color\":\"rgba(50, 171, 96, 1.0)\",\"line\":{\"color\":\"#4D5663\",\"width\":1.3}},\"name\":\"C\",\"nbinsx\":10,\"opacity\":0.8,\"orientation\":\"v\",\"x\":[0.07298134671454819,-1.0189431283480586,-0.8416230072025533,-0.7158037290484127,1.10815460958818,1.699734651982336,1.2172108635110934,0.5893531561366738,0.703790149892571,-0.7661600708343558,1.0302686919960882,0.58341400533127,0.7663728034087569,0.11472678241326927,-0.2311156150377708,0.9200704238848368,-0.5393382795021103,-0.8741745691552509,-0.8367042702567877,0.9605261542513642,-0.6917555286666909,0.05249994631857768,1.286636743661166,0.3282386216822528,-1.6898829998457274,-0.7117861220335858,-0.9826937902387847,-0.3179177665120115,0.28370779086849207,0.015770343866494674,-1.8140137848638083,1.7763305602880348,-0.22932570479628317,-0.14706676758670417,-0.14992790335977257,0.323732035371185,-0.6784254404869196,0.16463178456319688,-0.9817738794634494,-0.37318849905704793,0.9820227450905029,0.2484062968946875,0.2439731245253462,1.2914736906720432,1.1899140062933398,0.47455415823086733,3.1294597527285246,-0.014392951274504056,0.22049203099081777,0.476633232053598,0.9998043228873054,0.790271890943665,-0.0409388272543176,0.9336178884432296,1.983046662137306,0.19627617418660426,0.19486002775199662,-0.03216611204590051,-0.331719684396715,-0.40779583330634467,-0.5455775756152103,-0.660586148103083,1.035133431163175,0.9361103888926927,-0.14832853650009023,-1.4291138652725932,-0.035718809980831594,0.019692953227940364,-0.3154221338372782,0.1337386496935077,-1.9568398154529791,1.3719667786337344,-0.2738644968646515,-0.3389558418509158,-0.9547531962531611,-1.4364546643520943,-0.3109182949080701,-1.0878592655950363,0.8872548018021124,-1.0523169840362765,-0.9046501454515113,-0.370077991992961,-1.1571074319681762,-0.438246065161792,-1.6170841773729714,0.01299674558648976,0.5750061351314767,-0.6422842226628253,-0.05375863284553952,0.6542568970340742,-1.428607578049314,-0.7565980079528769,0.8356505172530585,0.4740335141390421,0.6160650077802796,-0.6759166588843367,0.74683641669413,2.2383286951455363,-1.0914680602443705,-0.38971067391465264],\"xaxis\":\"x11\",\"yaxis\":\"y11\",\"type\":\"histogram\"},{\"line\":{\"color\":\"rgba(128, 128, 128, 1.0)\",\"dash\":\"solid\",\"shape\":\"linear\",\"width\":1.3},\"marker\":{\"size\":2,\"symbol\":\"circle\"},\"mode\":\"markers\",\"name\":\"C\",\"text\":\"\",\"x\":[-0.10177775343924063,1.2692377601285367,-0.7737985159135423,-0.45348503211336255,0.5352496088463908,-1.2244129214926303,0.3952502439102554,-0.22838158254739416,1.5899521453456302,-0.7508008494330446,1.3107836347952557,0.2439632192104698,-0.4884835735901655,0.8581953978028477,0.08039502816987106,0.40714645936928306,-0.7638332711109559,0.9696496697596394,-0.4767748712446175,-1.8831607035368356,-0.3705378238268983,0.9401613497380764,0.11738967521849902,-0.5129113230265762,1.583402894192332,-2.4791637307436725,-0.23172765737529127,-0.3680758584494655,-1.5166552065296455,0.23502429947802078,-0.16414419339062336,0.7745383822978179,-0.4531357552683077,-0.29108174105330675,-1.4516484320210081,-0.10826378598516932,-2.9553013306665106,-1.0178841565872045,0.7335040704291752,-0.3290534400522581,0.9657867644962549,1.083480764406484,0.3756333311937002,-0.6536125614124135,-0.7452186353310412,0.21355261927194752,-1.0525445492563872,-0.7938143438461861,0.4202758057122168,0.20873187009776645,0.9948637706792738,-0.10187915203838797,-0.020478582362387313,2.196315230609195,1.1587080642173813,0.8536595929123013,0.8962399081030321,-0.23738968844342637,1.799768536331428,1.1354992193220899,1.4754070076899661,-1.3255793819040296,-0.06347989892784726,-1.1578556170575676,-0.394133475435025,0.33552462999502547,-1.5672186301857214,0.4046310913328689,-3.1696541062555244,-2.0448486022417955,0.9068786379444961,-1.0786343373141958,-0.5328655785565071,-0.3938467924695483,1.2965508761812679,1.5445343336659814,-0.18035273880909292,-1.7121613128016315,0.0026221280769010732,-0.09036851894589876,0.47850103114470627,-1.6000183039622988,1.4663148928481642,-0.6799368142810139,0.007199482669525501,-0.8502645806980389,0.7367316645598231,0.37396262014278747,-0.38174350443890576,0.8634144073004977,0.5836905294629668,0.41951771286330625,0.15519152103575193,0.4135351537993294,-0.9418235826372715,0.6569786663424649,-0.4909571637119055,-0.06564223130948511,0.09133778348107625,-0.1670060717409442],\"xaxis\":\"x12\",\"y\":[0.07298134671454819,-1.0189431283480586,-0.8416230072025533,-0.7158037290484127,1.10815460958818,1.699734651982336,1.2172108635110934,0.5893531561366738,0.703790149892571,-0.7661600708343558,1.0302686919960882,0.58341400533127,0.7663728034087569,0.11472678241326927,-0.2311156150377708,0.9200704238848368,-0.5393382795021103,-0.8741745691552509,-0.8367042702567877,0.9605261542513642,-0.6917555286666909,0.05249994631857768,1.286636743661166,0.3282386216822528,-1.6898829998457274,-0.7117861220335858,-0.9826937902387847,-0.3179177665120115,0.28370779086849207,0.015770343866494674,-1.8140137848638083,1.7763305602880348,-0.22932570479628317,-0.14706676758670417,-0.14992790335977257,0.323732035371185,-0.6784254404869196,0.16463178456319688,-0.9817738794634494,-0.37318849905704793,0.9820227450905029,0.2484062968946875,0.2439731245253462,1.2914736906720432,1.1899140062933398,0.47455415823086733,3.1294597527285246,-0.014392951274504056,0.22049203099081777,0.476633232053598,0.9998043228873054,0.790271890943665,-0.0409388272543176,0.9336178884432296,1.983046662137306,0.19627617418660426,0.19486002775199662,-0.03216611204590051,-0.331719684396715,-0.40779583330634467,-0.5455775756152103,-0.660586148103083,1.035133431163175,0.9361103888926927,-0.14832853650009023,-1.4291138652725932,-0.035718809980831594,0.019692953227940364,-0.3154221338372782,0.1337386496935077,-1.9568398154529791,1.3719667786337344,-0.2738644968646515,-0.3389558418509158,-0.9547531962531611,-1.4364546643520943,-0.3109182949080701,-1.0878592655950363,0.8872548018021124,-1.0523169840362765,-0.9046501454515113,-0.370077991992961,-1.1571074319681762,-0.438246065161792,-1.6170841773729714,0.01299674558648976,0.5750061351314767,-0.6422842226628253,-0.05375863284553952,0.6542568970340742,-1.428607578049314,-0.7565980079528769,0.8356505172530585,0.4740335141390421,0.6160650077802796,-0.6759166588843367,0.74683641669413,2.2383286951455363,-1.0914680602443705,-0.38971067391465264],\"yaxis\":\"y12\",\"type\":\"scatter\"},{\"line\":{\"color\":\"rgba(128, 128, 128, 1.0)\",\"dash\":\"solid\",\"shape\":\"linear\",\"width\":1.3},\"marker\":{\"size\":2,\"symbol\":\"circle\"},\"mode\":\"markers\",\"name\":\"D\",\"text\":\"\",\"x\":[0.3722499513826081,0.44962418847711977,-0.19008686316152432,0.3505374987768143,0.04799058581538711,-1.0616808223649041,-0.34918097256812286,-0.48089881806101076,-0.4456760870273539,-0.7845441182194487,-2.6297966397985317,-1.077088111762941,-0.5992787254785886,2.4004564846490273,-1.174814343368501,0.792165893059011,-1.0125715408371985,2.07430622775241,0.7235617584236765,-0.3256957929742864,-0.47522205392682293,-2.319204187811456,2.1737543325926603,-0.06693863467014748,2.2224326606271494,-0.19668439507305474,-0.3905776033461921,0.3966405704473405,0.35048839239078095,-0.4701316366936247,1.3006606106658865,0.6893948544981483,-0.9615751084789473,-0.3942103001601378,0.7305791326959454,-1.9842578058766225,0.7443692825956367,0.12139364619153553,0.6598421360088613,-0.0010939429186482609,-1.5212483343645706,-0.5313954698653767,-0.23967668217356503,1.38321086057728,1.415251735754552,-0.29152155442876243,0.12324920714653177,0.9778606278917786,-0.4228000308238359,1.1261729051941902,1.6324138786501776,-1.3197027011686355,0.2587713361686644,1.4895474238654858,-0.5531892445255253,1.2888055363696294,0.4905527027203285,0.9653769455706748,-0.42048243053724127,1.1745572322932814,0.4616626277868517,-0.3071957752850886,0.2944507495820135,-0.9561406727260771,0.7419642857087567,-0.6027273570253878,-0.907942753288384,0.23518617948959306,-0.19438408200279772,-2.1692481246451747,0.6811137258559963,-0.028253873394904632,0.15740165722328445,2.132658000392043,-0.17172845377821724,0.2846300655354166,0.7570838467051156,-1.362548814735958,-0.8966092192548227,2.081062883727208,1.0010914743347552,-0.4834298995851756,0.556214916975121,0.9757849809919205,0.08069545621379347,0.06442180423172583,-1.1469175868178905,-0.85733066562819,0.36801353398388825,0.026557990871516213,-0.7864658073811868,-0.14078002328853012,0.4362032792494815,0.2903823392194604,1.1529028827983299,-0.35076613029742904,-1.1902510156607797,0.5240088945099852,-0.3172966435958289,1.8671430764855006],\"xaxis\":\"x13\",\"y\":[-0.10177775343924063,1.2692377601285367,-0.7737985159135423,-0.45348503211336255,0.5352496088463908,-1.2244129214926303,0.3952502439102554,-0.22838158254739416,1.5899521453456302,-0.7508008494330446,1.3107836347952557,0.2439632192104698,-0.4884835735901655,0.8581953978028477,0.08039502816987106,0.40714645936928306,-0.7638332711109559,0.9696496697596394,-0.4767748712446175,-1.8831607035368356,-0.3705378238268983,0.9401613497380764,0.11738967521849902,-0.5129113230265762,1.583402894192332,-2.4791637307436725,-0.23172765737529127,-0.3680758584494655,-1.5166552065296455,0.23502429947802078,-0.16414419339062336,0.7745383822978179,-0.4531357552683077,-0.29108174105330675,-1.4516484320210081,-0.10826378598516932,-2.9553013306665106,-1.0178841565872045,0.7335040704291752,-0.3290534400522581,0.9657867644962549,1.083480764406484,0.3756333311937002,-0.6536125614124135,-0.7452186353310412,0.21355261927194752,-1.0525445492563872,-0.7938143438461861,0.4202758057122168,0.20873187009776645,0.9948637706792738,-0.10187915203838797,-0.020478582362387313,2.196315230609195,1.1587080642173813,0.8536595929123013,0.8962399081030321,-0.23738968844342637,1.799768536331428,1.1354992193220899,1.4754070076899661,-1.3255793819040296,-0.06347989892784726,-1.1578556170575676,-0.394133475435025,0.33552462999502547,-1.5672186301857214,0.4046310913328689,-3.1696541062555244,-2.0448486022417955,0.9068786379444961,-1.0786343373141958,-0.5328655785565071,-0.3938467924695483,1.2965508761812679,1.5445343336659814,-0.18035273880909292,-1.7121613128016315,0.0026221280769010732,-0.09036851894589876,0.47850103114470627,-1.6000183039622988,1.4663148928481642,-0.6799368142810139,0.007199482669525501,-0.8502645806980389,0.7367316645598231,0.37396262014278747,-0.38174350443890576,0.8634144073004977,0.5836905294629668,0.41951771286330625,0.15519152103575193,0.4135351537993294,-0.9418235826372715,0.6569786663424649,-0.4909571637119055,-0.06564223130948511,0.09133778348107625,-0.1670060717409442],\"yaxis\":\"y13\",\"type\":\"scatter\"},{\"line\":{\"color\":\"rgba(128, 128, 128, 1.0)\",\"dash\":\"solid\",\"shape\":\"linear\",\"width\":1.3},\"marker\":{\"size\":2,\"symbol\":\"circle\"},\"mode\":\"markers\",\"name\":\"D\",\"text\":\"\",\"x\":[-0.09180377812877474,1.017158998322427,-0.3853355087968358,0.24339186432477525,0.7546759797806506,1.223036267582837,-0.9898539898864169,0.27279192443264716,-0.8909293071765594,-1.158444382728826,-1.2002806993854744,-0.32187516483400946,0.400673103397483,-0.18441019777648796,0.40195163502360554,-0.6384845290372737,-0.04049291460883738,0.736370865957565,-1.631448818603992,1.051283279098394,-0.373777918905386,0.5994821282477318,-0.16634922846917122,1.1196984321287138,0.46997964753479254,0.7140414607202057,0.6368910237927567,-0.6979953455340064,-0.4831337592451188,-0.2887323208295246,0.13465965543144492,-1.0464943791740509,0.5124841158744543,-0.3914779293768162,-0.01422732365078468,1.6603749706051185,-0.6379808274717299,0.47598913698075374,-1.6150528006468738,-2.027018545263702,-0.994864868613433,-0.7571535613479601,0.4266814200301229,-1.270106146965642,0.9616856682221624,-2.2180658520491114,0.7955866556199922,0.470023689776372,1.1747149518740854,-0.9952283359579319,-0.1989586586254375,-1.1349526015637381,1.4582996352434068,0.02644627817215597,0.3940096517382582,-0.9690617472288557,0.805403066375695,-1.0097424588219854,-0.2388578695257928,-0.6485627395247976,-0.9620635692494018,1.0887688852464492,0.688833319261365,0.004793949062112339,0.7817335868054288,-0.1010644196091662,0.8353494616788536,0.797009754509465,0.8093966582698144,0.20598454826157453,0.3809861608095964,-1.021364394835668,0.44017507153935526,0.027732015936435796,2.0311865545276264,0.42392026045047293,1.3531599885915069,-1.0738880994976523,1.4709730597355388,0.01425321746821192,-0.5803052289255062,-0.7591045986389185,-0.8515039808941258,1.3928378698804906,0.5290842070612989,2.233071733935875,0.8202276875963499,0.44339921264695986,-1.403216254911634,-0.1606071797629106,-0.3027113922460089,1.352482790057738,0.2799354343111906,1.3924248548020295,-0.6272704706804231,-1.398862315632276,-0.7604376556221797,-1.308039606700251,0.8219893341478917,-0.08226606668768252],\"xaxis\":\"x14\",\"y\":[-0.10177775343924063,1.2692377601285367,-0.7737985159135423,-0.45348503211336255,0.5352496088463908,-1.2244129214926303,0.3952502439102554,-0.22838158254739416,1.5899521453456302,-0.7508008494330446,1.3107836347952557,0.2439632192104698,-0.4884835735901655,0.8581953978028477,0.08039502816987106,0.40714645936928306,-0.7638332711109559,0.9696496697596394,-0.4767748712446175,-1.8831607035368356,-0.3705378238268983,0.9401613497380764,0.11738967521849902,-0.5129113230265762,1.583402894192332,-2.4791637307436725,-0.23172765737529127,-0.3680758584494655,-1.5166552065296455,0.23502429947802078,-0.16414419339062336,0.7745383822978179,-0.4531357552683077,-0.29108174105330675,-1.4516484320210081,-0.10826378598516932,-2.9553013306665106,-1.0178841565872045,0.7335040704291752,-0.3290534400522581,0.9657867644962549,1.083480764406484,0.3756333311937002,-0.6536125614124135,-0.7452186353310412,0.21355261927194752,-1.0525445492563872,-0.7938143438461861,0.4202758057122168,0.20873187009776645,0.9948637706792738,-0.10187915203838797,-0.020478582362387313,2.196315230609195,1.1587080642173813,0.8536595929123013,0.8962399081030321,-0.23738968844342637,1.799768536331428,1.1354992193220899,1.4754070076899661,-1.3255793819040296,-0.06347989892784726,-1.1578556170575676,-0.394133475435025,0.33552462999502547,-1.5672186301857214,0.4046310913328689,-3.1696541062555244,-2.0448486022417955,0.9068786379444961,-1.0786343373141958,-0.5328655785565071,-0.3938467924695483,1.2965508761812679,1.5445343336659814,-0.18035273880909292,-1.7121613128016315,0.0026221280769010732,-0.09036851894589876,0.47850103114470627,-1.6000183039622988,1.4663148928481642,-0.6799368142810139,0.007199482669525501,-0.8502645806980389,0.7367316645598231,0.37396262014278747,-0.38174350443890576,0.8634144073004977,0.5836905294629668,0.41951771286330625,0.15519152103575193,0.4135351537993294,-0.9418235826372715,0.6569786663424649,-0.4909571637119055,-0.06564223130948511,0.09133778348107625,-0.1670060717409442],\"yaxis\":\"y14\",\"type\":\"scatter\"},{\"line\":{\"color\":\"rgba(128, 128, 128, 1.0)\",\"dash\":\"solid\",\"shape\":\"linear\",\"width\":1.3},\"marker\":{\"size\":2,\"symbol\":\"circle\"},\"mode\":\"markers\",\"name\":\"D\",\"text\":\"\",\"x\":[0.07298134671454819,-1.0189431283480586,-0.8416230072025533,-0.7158037290484127,1.10815460958818,1.699734651982336,1.2172108635110934,0.5893531561366738,0.703790149892571,-0.7661600708343558,1.0302686919960882,0.58341400533127,0.7663728034087569,0.11472678241326927,-0.2311156150377708,0.9200704238848368,-0.5393382795021103,-0.8741745691552509,-0.8367042702567877,0.9605261542513642,-0.6917555286666909,0.05249994631857768,1.286636743661166,0.3282386216822528,-1.6898829998457274,-0.7117861220335858,-0.9826937902387847,-0.3179177665120115,0.28370779086849207,0.015770343866494674,-1.8140137848638083,1.7763305602880348,-0.22932570479628317,-0.14706676758670417,-0.14992790335977257,0.323732035371185,-0.6784254404869196,0.16463178456319688,-0.9817738794634494,-0.37318849905704793,0.9820227450905029,0.2484062968946875,0.2439731245253462,1.2914736906720432,1.1899140062933398,0.47455415823086733,3.1294597527285246,-0.014392951274504056,0.22049203099081777,0.476633232053598,0.9998043228873054,0.790271890943665,-0.0409388272543176,0.9336178884432296,1.983046662137306,0.19627617418660426,0.19486002775199662,-0.03216611204590051,-0.331719684396715,-0.40779583330634467,-0.5455775756152103,-0.660586148103083,1.035133431163175,0.9361103888926927,-0.14832853650009023,-1.4291138652725932,-0.035718809980831594,0.019692953227940364,-0.3154221338372782,0.1337386496935077,-1.9568398154529791,1.3719667786337344,-0.2738644968646515,-0.3389558418509158,-0.9547531962531611,-1.4364546643520943,-0.3109182949080701,-1.0878592655950363,0.8872548018021124,-1.0523169840362765,-0.9046501454515113,-0.370077991992961,-1.1571074319681762,-0.438246065161792,-1.6170841773729714,0.01299674558648976,0.5750061351314767,-0.6422842226628253,-0.05375863284553952,0.6542568970340742,-1.428607578049314,-0.7565980079528769,0.8356505172530585,0.4740335141390421,0.6160650077802796,-0.6759166588843367,0.74683641669413,2.2383286951455363,-1.0914680602443705,-0.38971067391465264],\"xaxis\":\"x15\",\"y\":[-0.10177775343924063,1.2692377601285367,-0.7737985159135423,-0.45348503211336255,0.5352496088463908,-1.2244129214926303,0.3952502439102554,-0.22838158254739416,1.5899521453456302,-0.7508008494330446,1.3107836347952557,0.2439632192104698,-0.4884835735901655,0.8581953978028477,0.08039502816987106,0.40714645936928306,-0.7638332711109559,0.9696496697596394,-0.4767748712446175,-1.8831607035368356,-0.3705378238268983,0.9401613497380764,0.11738967521849902,-0.5129113230265762,1.583402894192332,-2.4791637307436725,-0.23172765737529127,-0.3680758584494655,-1.5166552065296455,0.23502429947802078,-0.16414419339062336,0.7745383822978179,-0.4531357552683077,-0.29108174105330675,-1.4516484320210081,-0.10826378598516932,-2.9553013306665106,-1.0178841565872045,0.7335040704291752,-0.3290534400522581,0.9657867644962549,1.083480764406484,0.3756333311937002,-0.6536125614124135,-0.7452186353310412,0.21355261927194752,-1.0525445492563872,-0.7938143438461861,0.4202758057122168,0.20873187009776645,0.9948637706792738,-0.10187915203838797,-0.020478582362387313,2.196315230609195,1.1587080642173813,0.8536595929123013,0.8962399081030321,-0.23738968844342637,1.799768536331428,1.1354992193220899,1.4754070076899661,-1.3255793819040296,-0.06347989892784726,-1.1578556170575676,-0.394133475435025,0.33552462999502547,-1.5672186301857214,0.4046310913328689,-3.1696541062555244,-2.0448486022417955,0.9068786379444961,-1.0786343373141958,-0.5328655785565071,-0.3938467924695483,1.2965508761812679,1.5445343336659814,-0.18035273880909292,-1.7121613128016315,0.0026221280769010732,-0.09036851894589876,0.47850103114470627,-1.6000183039622988,1.4663148928481642,-0.6799368142810139,0.007199482669525501,-0.8502645806980389,0.7367316645598231,0.37396262014278747,-0.38174350443890576,0.8634144073004977,0.5836905294629668,0.41951771286330625,0.15519152103575193,0.4135351537993294,-0.9418235826372715,0.6569786663424649,-0.4909571637119055,-0.06564223130948511,0.09133778348107625,-0.1670060717409442],\"yaxis\":\"y15\",\"type\":\"scatter\"},{\"histfunc\":\"count\",\"histnorm\":\"\",\"marker\":{\"color\":\"rgba(128, 0, 128, 1.0)\",\"line\":{\"color\":\"#4D5663\",\"width\":1.3}},\"name\":\"D\",\"nbinsx\":10,\"opacity\":0.8,\"orientation\":\"v\",\"x\":[-0.10177775343924063,1.2692377601285367,-0.7737985159135423,-0.45348503211336255,0.5352496088463908,-1.2244129214926303,0.3952502439102554,-0.22838158254739416,1.5899521453456302,-0.7508008494330446,1.3107836347952557,0.2439632192104698,-0.4884835735901655,0.8581953978028477,0.08039502816987106,0.40714645936928306,-0.7638332711109559,0.9696496697596394,-0.4767748712446175,-1.8831607035368356,-0.3705378238268983,0.9401613497380764,0.11738967521849902,-0.5129113230265762,1.583402894192332,-2.4791637307436725,-0.23172765737529127,-0.3680758584494655,-1.5166552065296455,0.23502429947802078,-0.16414419339062336,0.7745383822978179,-0.4531357552683077,-0.29108174105330675,-1.4516484320210081,-0.10826378598516932,-2.9553013306665106,-1.0178841565872045,0.7335040704291752,-0.3290534400522581,0.9657867644962549,1.083480764406484,0.3756333311937002,-0.6536125614124135,-0.7452186353310412,0.21355261927194752,-1.0525445492563872,-0.7938143438461861,0.4202758057122168,0.20873187009776645,0.9948637706792738,-0.10187915203838797,-0.020478582362387313,2.196315230609195,1.1587080642173813,0.8536595929123013,0.8962399081030321,-0.23738968844342637,1.799768536331428,1.1354992193220899,1.4754070076899661,-1.3255793819040296,-0.06347989892784726,-1.1578556170575676,-0.394133475435025,0.33552462999502547,-1.5672186301857214,0.4046310913328689,-3.1696541062555244,-2.0448486022417955,0.9068786379444961,-1.0786343373141958,-0.5328655785565071,-0.3938467924695483,1.2965508761812679,1.5445343336659814,-0.18035273880909292,-1.7121613128016315,0.0026221280769010732,-0.09036851894589876,0.47850103114470627,-1.6000183039622988,1.4663148928481642,-0.6799368142810139,0.007199482669525501,-0.8502645806980389,0.7367316645598231,0.37396262014278747,-0.38174350443890576,0.8634144073004977,0.5836905294629668,0.41951771286330625,0.15519152103575193,0.4135351537993294,-0.9418235826372715,0.6569786663424649,-0.4909571637119055,-0.06564223130948511,0.09133778348107625,-0.1670060717409442],\"xaxis\":\"x16\",\"yaxis\":\"y16\",\"type\":\"histogram\"}],                        {\"bargap\":0.02,\"legend\":{\"bgcolor\":\"#F5F6F9\",\"font\":{\"color\":\"#4D5663\"}},\"paper_bgcolor\":\"#F5F6F9\",\"plot_bgcolor\":\"#F5F6F9\",\"showlegend\":false,\"template\":{\"data\":{\"barpolar\":[{\"marker\":{\"line\":{\"color\":\"#E5ECF6\",\"width\":0.5},\"pattern\":{\"fillmode\":\"overlay\",\"size\":10,\"solidity\":0.2}},\"type\":\"barpolar\"}],\"bar\":[{\"error_x\":{\"color\":\"#2a3f5f\"},\"error_y\":{\"color\":\"#2a3f5f\"},\"marker\":{\"line\":{\"color\":\"#E5ECF6\",\"width\":0.5},\"pattern\":{\"fillmode\":\"overlay\",\"size\":10,\"solidity\":0.2}},\"type\":\"bar\"}],\"carpet\":[{\"aaxis\":{\"endlinecolor\":\"#2a3f5f\",\"gridcolor\":\"white\",\"linecolor\":\"white\",\"minorgridcolor\":\"white\",\"startlinecolor\":\"#2a3f5f\"},\"baxis\":{\"endlinecolor\":\"#2a3f5f\",\"gridcolor\":\"white\",\"linecolor\":\"white\",\"minorgridcolor\":\"white\",\"startlinecolor\":\"#2a3f5f\"},\"type\":\"carpet\"}],\"choropleth\":[{\"colorbar\":{\"outlinewidth\":0,\"ticks\":\"\"},\"type\":\"choropleth\"}],\"contourcarpet\":[{\"colorbar\":{\"outlinewidth\":0,\"ticks\":\"\"},\"type\":\"contourcarpet\"}],\"contour\":[{\"colorbar\":{\"outlinewidth\":0,\"ticks\":\"\"},\"colorscale\":[[0.0,\"#0d0887\"],[0.1111111111111111,\"#46039f\"],[0.2222222222222222,\"#7201a8\"],[0.3333333333333333,\"#9c179e\"],[0.4444444444444444,\"#bd3786\"],[0.5555555555555556,\"#d8576b\"],[0.6666666666666666,\"#ed7953\"],[0.7777777777777778,\"#fb9f3a\"],[0.8888888888888888,\"#fdca26\"],[1.0,\"#f0f921\"]],\"type\":\"contour\"}],\"heatmapgl\":[{\"colorbar\":{\"outlinewidth\":0,\"ticks\":\"\"},\"colorscale\":[[0.0,\"#0d0887\"],[0.1111111111111111,\"#46039f\"],[0.2222222222222222,\"#7201a8\"],[0.3333333333333333,\"#9c179e\"],[0.4444444444444444,\"#bd3786\"],[0.5555555555555556,\"#d8576b\"],[0.6666666666666666,\"#ed7953\"],[0.7777777777777778,\"#fb9f3a\"],[0.8888888888888888,\"#fdca26\"],[1.0,\"#f0f921\"]],\"type\":\"heatmapgl\"}],\"heatmap\":[{\"colorbar\":{\"outlinewidth\":0,\"ticks\":\"\"},\"colorscale\":[[0.0,\"#0d0887\"],[0.1111111111111111,\"#46039f\"],[0.2222222222222222,\"#7201a8\"],[0.3333333333333333,\"#9c179e\"],[0.4444444444444444,\"#bd3786\"],[0.5555555555555556,\"#d8576b\"],[0.6666666666666666,\"#ed7953\"],[0.7777777777777778,\"#fb9f3a\"],[0.8888888888888888,\"#fdca26\"],[1.0,\"#f0f921\"]],\"type\":\"heatmap\"}],\"histogram2dcontour\":[{\"colorbar\":{\"outlinewidth\":0,\"ticks\":\"\"},\"colorscale\":[[0.0,\"#0d0887\"],[0.1111111111111111,\"#46039f\"],[0.2222222222222222,\"#7201a8\"],[0.3333333333333333,\"#9c179e\"],[0.4444444444444444,\"#bd3786\"],[0.5555555555555556,\"#d8576b\"],[0.6666666666666666,\"#ed7953\"],[0.7777777777777778,\"#fb9f3a\"],[0.8888888888888888,\"#fdca26\"],[1.0,\"#f0f921\"]],\"type\":\"histogram2dcontour\"}],\"histogram2d\":[{\"colorbar\":{\"outlinewidth\":0,\"ticks\":\"\"},\"colorscale\":[[0.0,\"#0d0887\"],[0.1111111111111111,\"#46039f\"],[0.2222222222222222,\"#7201a8\"],[0.3333333333333333,\"#9c179e\"],[0.4444444444444444,\"#bd3786\"],[0.5555555555555556,\"#d8576b\"],[0.6666666666666666,\"#ed7953\"],[0.7777777777777778,\"#fb9f3a\"],[0.8888888888888888,\"#fdca26\"],[1.0,\"#f0f921\"]],\"type\":\"histogram2d\"}],\"histogram\":[{\"marker\":{\"pattern\":{\"fillmode\":\"overlay\",\"size\":10,\"solidity\":0.2}},\"type\":\"histogram\"}],\"mesh3d\":[{\"colorbar\":{\"outlinewidth\":0,\"ticks\":\"\"},\"type\":\"mesh3d\"}],\"parcoords\":[{\"line\":{\"colorbar\":{\"outlinewidth\":0,\"ticks\":\"\"}},\"type\":\"parcoords\"}],\"pie\":[{\"automargin\":true,\"type\":\"pie\"}],\"scatter3d\":[{\"line\":{\"colorbar\":{\"outlinewidth\":0,\"ticks\":\"\"}},\"marker\":{\"colorbar\":{\"outlinewidth\":0,\"ticks\":\"\"}},\"type\":\"scatter3d\"}],\"scattercarpet\":[{\"marker\":{\"colorbar\":{\"outlinewidth\":0,\"ticks\":\"\"}},\"type\":\"scattercarpet\"}],\"scattergeo\":[{\"marker\":{\"colorbar\":{\"outlinewidth\":0,\"ticks\":\"\"}},\"type\":\"scattergeo\"}],\"scattergl\":[{\"marker\":{\"colorbar\":{\"outlinewidth\":0,\"ticks\":\"\"}},\"type\":\"scattergl\"}],\"scattermapbox\":[{\"marker\":{\"colorbar\":{\"outlinewidth\":0,\"ticks\":\"\"}},\"type\":\"scattermapbox\"}],\"scatterpolargl\":[{\"marker\":{\"colorbar\":{\"outlinewidth\":0,\"ticks\":\"\"}},\"type\":\"scatterpolargl\"}],\"scatterpolar\":[{\"marker\":{\"colorbar\":{\"outlinewidth\":0,\"ticks\":\"\"}},\"type\":\"scatterpolar\"}],\"scatter\":[{\"fillpattern\":{\"fillmode\":\"overlay\",\"size\":10,\"solidity\":0.2},\"type\":\"scatter\"}],\"scatterternary\":[{\"marker\":{\"colorbar\":{\"outlinewidth\":0,\"ticks\":\"\"}},\"type\":\"scatterternary\"}],\"surface\":[{\"colorbar\":{\"outlinewidth\":0,\"ticks\":\"\"},\"colorscale\":[[0.0,\"#0d0887\"],[0.1111111111111111,\"#46039f\"],[0.2222222222222222,\"#7201a8\"],[0.3333333333333333,\"#9c179e\"],[0.4444444444444444,\"#bd3786\"],[0.5555555555555556,\"#d8576b\"],[0.6666666666666666,\"#ed7953\"],[0.7777777777777778,\"#fb9f3a\"],[0.8888888888888888,\"#fdca26\"],[1.0,\"#f0f921\"]],\"type\":\"surface\"}],\"table\":[{\"cells\":{\"fill\":{\"color\":\"#EBF0F8\"},\"line\":{\"color\":\"white\"}},\"header\":{\"fill\":{\"color\":\"#C8D4E3\"},\"line\":{\"color\":\"white\"}},\"type\":\"table\"}]},\"layout\":{\"annotationdefaults\":{\"arrowcolor\":\"#2a3f5f\",\"arrowhead\":0,\"arrowwidth\":1},\"autotypenumbers\":\"strict\",\"coloraxis\":{\"colorbar\":{\"outlinewidth\":0,\"ticks\":\"\"}},\"colorscale\":{\"diverging\":[[0,\"#8e0152\"],[0.1,\"#c51b7d\"],[0.2,\"#de77ae\"],[0.3,\"#f1b6da\"],[0.4,\"#fde0ef\"],[0.5,\"#f7f7f7\"],[0.6,\"#e6f5d0\"],[0.7,\"#b8e186\"],[0.8,\"#7fbc41\"],[0.9,\"#4d9221\"],[1,\"#276419\"]],\"sequential\":[[0.0,\"#0d0887\"],[0.1111111111111111,\"#46039f\"],[0.2222222222222222,\"#7201a8\"],[0.3333333333333333,\"#9c179e\"],[0.4444444444444444,\"#bd3786\"],[0.5555555555555556,\"#d8576b\"],[0.6666666666666666,\"#ed7953\"],[0.7777777777777778,\"#fb9f3a\"],[0.8888888888888888,\"#fdca26\"],[1.0,\"#f0f921\"]],\"sequentialminus\":[[0.0,\"#0d0887\"],[0.1111111111111111,\"#46039f\"],[0.2222222222222222,\"#7201a8\"],[0.3333333333333333,\"#9c179e\"],[0.4444444444444444,\"#bd3786\"],[0.5555555555555556,\"#d8576b\"],[0.6666666666666666,\"#ed7953\"],[0.7777777777777778,\"#fb9f3a\"],[0.8888888888888888,\"#fdca26\"],[1.0,\"#f0f921\"]]},\"colorway\":[\"#636efa\",\"#EF553B\",\"#00cc96\",\"#ab63fa\",\"#FFA15A\",\"#19d3f3\",\"#FF6692\",\"#B6E880\",\"#FF97FF\",\"#FECB52\"],\"font\":{\"color\":\"#2a3f5f\"},\"geo\":{\"bgcolor\":\"white\",\"lakecolor\":\"white\",\"landcolor\":\"#E5ECF6\",\"showlakes\":true,\"showland\":true,\"subunitcolor\":\"white\"},\"hoverlabel\":{\"align\":\"left\"},\"hovermode\":\"closest\",\"mapbox\":{\"style\":\"light\"},\"paper_bgcolor\":\"white\",\"plot_bgcolor\":\"#E5ECF6\",\"polar\":{\"angularaxis\":{\"gridcolor\":\"white\",\"linecolor\":\"white\",\"ticks\":\"\"},\"bgcolor\":\"#E5ECF6\",\"radialaxis\":{\"gridcolor\":\"white\",\"linecolor\":\"white\",\"ticks\":\"\"}},\"scene\":{\"xaxis\":{\"backgroundcolor\":\"#E5ECF6\",\"gridcolor\":\"white\",\"gridwidth\":2,\"linecolor\":\"white\",\"showbackground\":true,\"ticks\":\"\",\"zerolinecolor\":\"white\"},\"yaxis\":{\"backgroundcolor\":\"#E5ECF6\",\"gridcolor\":\"white\",\"gridwidth\":2,\"linecolor\":\"white\",\"showbackground\":true,\"ticks\":\"\",\"zerolinecolor\":\"white\"},\"zaxis\":{\"backgroundcolor\":\"#E5ECF6\",\"gridcolor\":\"white\",\"gridwidth\":2,\"linecolor\":\"white\",\"showbackground\":true,\"ticks\":\"\",\"zerolinecolor\":\"white\"}},\"shapedefaults\":{\"line\":{\"color\":\"#2a3f5f\"}},\"ternary\":{\"aaxis\":{\"gridcolor\":\"white\",\"linecolor\":\"white\",\"ticks\":\"\"},\"baxis\":{\"gridcolor\":\"white\",\"linecolor\":\"white\",\"ticks\":\"\"},\"bgcolor\":\"#E5ECF6\",\"caxis\":{\"gridcolor\":\"white\",\"linecolor\":\"white\",\"ticks\":\"\"}},\"title\":{\"x\":0.05},\"xaxis\":{\"automargin\":true,\"gridcolor\":\"white\",\"linecolor\":\"white\",\"ticks\":\"\",\"title\":{\"standoff\":15},\"zerolinecolor\":\"white\",\"zerolinewidth\":2},\"yaxis\":{\"automargin\":true,\"gridcolor\":\"white\",\"linecolor\":\"white\",\"ticks\":\"\",\"title\":{\"standoff\":15},\"zerolinecolor\":\"white\",\"zerolinewidth\":2}}},\"title\":{\"font\":{\"color\":\"#4D5663\"}},\"xaxis\":{\"anchor\":\"y\",\"domain\":[0.0,0.2125],\"gridcolor\":\"#E1E5ED\",\"showgrid\":false,\"tickfont\":{\"color\":\"#4D5663\"},\"title\":{\"font\":{\"color\":\"#4D5663\"},\"text\":\"\"},\"zerolinecolor\":\"#E1E5ED\"},\"yaxis\":{\"anchor\":\"x\",\"domain\":[0.8025,1.0],\"gridcolor\":\"#E1E5ED\",\"showgrid\":false,\"tickfont\":{\"color\":\"#4D5663\"},\"title\":{\"font\":{\"color\":\"#4D5663\"},\"text\":\"\"},\"zerolinecolor\":\"#E1E5ED\"},\"xaxis2\":{\"anchor\":\"y2\",\"domain\":[0.2625,0.475],\"gridcolor\":\"#E1E5ED\",\"showgrid\":false,\"tickfont\":{\"color\":\"#4D5663\"},\"title\":{\"font\":{\"color\":\"#4D5663\"},\"text\":\"\"},\"zerolinecolor\":\"#E1E5ED\"},\"yaxis2\":{\"anchor\":\"x2\",\"domain\":[0.8025,1.0],\"gridcolor\":\"#E1E5ED\",\"showgrid\":false,\"tickfont\":{\"color\":\"#4D5663\"},\"title\":{\"font\":{\"color\":\"#4D5663\"},\"text\":\"\"},\"zerolinecolor\":\"#E1E5ED\"},\"xaxis3\":{\"anchor\":\"y3\",\"domain\":[0.525,0.7375],\"gridcolor\":\"#E1E5ED\",\"showgrid\":false,\"tickfont\":{\"color\":\"#4D5663\"},\"title\":{\"font\":{\"color\":\"#4D5663\"},\"text\":\"\"},\"zerolinecolor\":\"#E1E5ED\"},\"yaxis3\":{\"anchor\":\"x3\",\"domain\":[0.8025,1.0],\"gridcolor\":\"#E1E5ED\",\"showgrid\":false,\"tickfont\":{\"color\":\"#4D5663\"},\"title\":{\"font\":{\"color\":\"#4D5663\"},\"text\":\"\"},\"zerolinecolor\":\"#E1E5ED\"},\"xaxis4\":{\"anchor\":\"y4\",\"domain\":[0.7875,1.0],\"gridcolor\":\"#E1E5ED\",\"showgrid\":false,\"tickfont\":{\"color\":\"#4D5663\"},\"title\":{\"font\":{\"color\":\"#4D5663\"},\"text\":\"\"},\"zerolinecolor\":\"#E1E5ED\"},\"yaxis4\":{\"anchor\":\"x4\",\"domain\":[0.8025,1.0],\"gridcolor\":\"#E1E5ED\",\"showgrid\":false,\"tickfont\":{\"color\":\"#4D5663\"},\"title\":{\"font\":{\"color\":\"#4D5663\"},\"text\":\"\"},\"zerolinecolor\":\"#E1E5ED\"},\"xaxis5\":{\"anchor\":\"y5\",\"domain\":[0.0,0.2125],\"gridcolor\":\"#E1E5ED\",\"showgrid\":false,\"tickfont\":{\"color\":\"#4D5663\"},\"title\":{\"font\":{\"color\":\"#4D5663\"},\"text\":\"\"},\"zerolinecolor\":\"#E1E5ED\"},\"yaxis5\":{\"anchor\":\"x5\",\"domain\":[0.535,0.7325],\"gridcolor\":\"#E1E5ED\",\"showgrid\":false,\"tickfont\":{\"color\":\"#4D5663\"},\"title\":{\"font\":{\"color\":\"#4D5663\"},\"text\":\"\"},\"zerolinecolor\":\"#E1E5ED\"},\"xaxis6\":{\"anchor\":\"y6\",\"domain\":[0.2625,0.475],\"gridcolor\":\"#E1E5ED\",\"showgrid\":false,\"tickfont\":{\"color\":\"#4D5663\"},\"title\":{\"font\":{\"color\":\"#4D5663\"},\"text\":\"\"},\"zerolinecolor\":\"#E1E5ED\"},\"yaxis6\":{\"anchor\":\"x6\",\"domain\":[0.535,0.7325],\"gridcolor\":\"#E1E5ED\",\"showgrid\":false,\"tickfont\":{\"color\":\"#4D5663\"},\"title\":{\"font\":{\"color\":\"#4D5663\"},\"text\":\"\"},\"zerolinecolor\":\"#E1E5ED\"},\"xaxis7\":{\"anchor\":\"y7\",\"domain\":[0.525,0.7375],\"gridcolor\":\"#E1E5ED\",\"showgrid\":false,\"tickfont\":{\"color\":\"#4D5663\"},\"title\":{\"font\":{\"color\":\"#4D5663\"},\"text\":\"\"},\"zerolinecolor\":\"#E1E5ED\"},\"yaxis7\":{\"anchor\":\"x7\",\"domain\":[0.535,0.7325],\"gridcolor\":\"#E1E5ED\",\"showgrid\":false,\"tickfont\":{\"color\":\"#4D5663\"},\"title\":{\"font\":{\"color\":\"#4D5663\"},\"text\":\"\"},\"zerolinecolor\":\"#E1E5ED\"},\"xaxis8\":{\"anchor\":\"y8\",\"domain\":[0.7875,1.0],\"gridcolor\":\"#E1E5ED\",\"showgrid\":false,\"tickfont\":{\"color\":\"#4D5663\"},\"title\":{\"font\":{\"color\":\"#4D5663\"},\"text\":\"\"},\"zerolinecolor\":\"#E1E5ED\"},\"yaxis8\":{\"anchor\":\"x8\",\"domain\":[0.535,0.7325],\"gridcolor\":\"#E1E5ED\",\"showgrid\":false,\"tickfont\":{\"color\":\"#4D5663\"},\"title\":{\"font\":{\"color\":\"#4D5663\"},\"text\":\"\"},\"zerolinecolor\":\"#E1E5ED\"},\"xaxis9\":{\"anchor\":\"y9\",\"domain\":[0.0,0.2125],\"gridcolor\":\"#E1E5ED\",\"showgrid\":false,\"tickfont\":{\"color\":\"#4D5663\"},\"title\":{\"font\":{\"color\":\"#4D5663\"},\"text\":\"\"},\"zerolinecolor\":\"#E1E5ED\"},\"yaxis9\":{\"anchor\":\"x9\",\"domain\":[0.2675,0.465],\"gridcolor\":\"#E1E5ED\",\"showgrid\":false,\"tickfont\":{\"color\":\"#4D5663\"},\"title\":{\"font\":{\"color\":\"#4D5663\"},\"text\":\"\"},\"zerolinecolor\":\"#E1E5ED\"},\"xaxis10\":{\"anchor\":\"y10\",\"domain\":[0.2625,0.475],\"gridcolor\":\"#E1E5ED\",\"showgrid\":false,\"tickfont\":{\"color\":\"#4D5663\"},\"title\":{\"font\":{\"color\":\"#4D5663\"},\"text\":\"\"},\"zerolinecolor\":\"#E1E5ED\"},\"yaxis10\":{\"anchor\":\"x10\",\"domain\":[0.2675,0.465],\"gridcolor\":\"#E1E5ED\",\"showgrid\":false,\"tickfont\":{\"color\":\"#4D5663\"},\"title\":{\"font\":{\"color\":\"#4D5663\"},\"text\":\"\"},\"zerolinecolor\":\"#E1E5ED\"},\"xaxis11\":{\"anchor\":\"y11\",\"domain\":[0.525,0.7375],\"gridcolor\":\"#E1E5ED\",\"showgrid\":false,\"tickfont\":{\"color\":\"#4D5663\"},\"title\":{\"font\":{\"color\":\"#4D5663\"},\"text\":\"\"},\"zerolinecolor\":\"#E1E5ED\"},\"yaxis11\":{\"anchor\":\"x11\",\"domain\":[0.2675,0.465],\"gridcolor\":\"#E1E5ED\",\"showgrid\":false,\"tickfont\":{\"color\":\"#4D5663\"},\"title\":{\"font\":{\"color\":\"#4D5663\"},\"text\":\"\"},\"zerolinecolor\":\"#E1E5ED\"},\"xaxis12\":{\"anchor\":\"y12\",\"domain\":[0.7875,1.0],\"gridcolor\":\"#E1E5ED\",\"showgrid\":false,\"tickfont\":{\"color\":\"#4D5663\"},\"title\":{\"font\":{\"color\":\"#4D5663\"},\"text\":\"\"},\"zerolinecolor\":\"#E1E5ED\"},\"yaxis12\":{\"anchor\":\"x12\",\"domain\":[0.2675,0.465],\"gridcolor\":\"#E1E5ED\",\"showgrid\":false,\"tickfont\":{\"color\":\"#4D5663\"},\"title\":{\"font\":{\"color\":\"#4D5663\"},\"text\":\"\"},\"zerolinecolor\":\"#E1E5ED\"},\"xaxis13\":{\"anchor\":\"y13\",\"domain\":[0.0,0.2125],\"gridcolor\":\"#E1E5ED\",\"showgrid\":false,\"tickfont\":{\"color\":\"#4D5663\"},\"title\":{\"font\":{\"color\":\"#4D5663\"},\"text\":\"\"},\"zerolinecolor\":\"#E1E5ED\"},\"yaxis13\":{\"anchor\":\"x13\",\"domain\":[0.0,0.1975],\"gridcolor\":\"#E1E5ED\",\"showgrid\":false,\"tickfont\":{\"color\":\"#4D5663\"},\"title\":{\"font\":{\"color\":\"#4D5663\"},\"text\":\"\"},\"zerolinecolor\":\"#E1E5ED\"},\"xaxis14\":{\"anchor\":\"y14\",\"domain\":[0.2625,0.475],\"gridcolor\":\"#E1E5ED\",\"showgrid\":false,\"tickfont\":{\"color\":\"#4D5663\"},\"title\":{\"font\":{\"color\":\"#4D5663\"},\"text\":\"\"},\"zerolinecolor\":\"#E1E5ED\"},\"yaxis14\":{\"anchor\":\"x14\",\"domain\":[0.0,0.1975],\"gridcolor\":\"#E1E5ED\",\"showgrid\":false,\"tickfont\":{\"color\":\"#4D5663\"},\"title\":{\"font\":{\"color\":\"#4D5663\"},\"text\":\"\"},\"zerolinecolor\":\"#E1E5ED\"},\"xaxis15\":{\"anchor\":\"y15\",\"domain\":[0.525,0.7375],\"gridcolor\":\"#E1E5ED\",\"showgrid\":false,\"tickfont\":{\"color\":\"#4D5663\"},\"title\":{\"font\":{\"color\":\"#4D5663\"},\"text\":\"\"},\"zerolinecolor\":\"#E1E5ED\"},\"yaxis15\":{\"anchor\":\"x15\",\"domain\":[0.0,0.1975],\"gridcolor\":\"#E1E5ED\",\"showgrid\":false,\"tickfont\":{\"color\":\"#4D5663\"},\"title\":{\"font\":{\"color\":\"#4D5663\"},\"text\":\"\"},\"zerolinecolor\":\"#E1E5ED\"},\"xaxis16\":{\"anchor\":\"y16\",\"domain\":[0.7875,1.0],\"gridcolor\":\"#E1E5ED\",\"showgrid\":false,\"tickfont\":{\"color\":\"#4D5663\"},\"title\":{\"font\":{\"color\":\"#4D5663\"},\"text\":\"\"},\"zerolinecolor\":\"#E1E5ED\"},\"yaxis16\":{\"anchor\":\"x16\",\"domain\":[0.0,0.1975],\"gridcolor\":\"#E1E5ED\",\"showgrid\":false,\"tickfont\":{\"color\":\"#4D5663\"},\"title\":{\"font\":{\"color\":\"#4D5663\"},\"text\":\"\"},\"zerolinecolor\":\"#E1E5ED\"}},                        {\"showLink\": true, \"linkText\": \"Export to plot.ly\", \"plotlyServerURL\": \"https://plot.ly\", \"responsive\": true}                    ).then(function(){\n",
       "                            \n",
       "var gd = document.getElementById('045b2f87-7a23-4cbc-96b0-90b8757f3883');\n",
       "var x = new MutationObserver(function (mutations, observer) {{\n",
       "        var display = window.getComputedStyle(gd).display;\n",
       "        if (!display || display === 'none') {{\n",
       "            console.log([gd, 'removed!']);\n",
       "            Plotly.purge(gd);\n",
       "            observer.disconnect();\n",
       "        }}\n",
       "}});\n",
       "\n",
       "// Listen for the removal of the full notebook cells\n",
       "var notebookContainer = gd.closest('#notebook-container');\n",
       "if (notebookContainer) {{\n",
       "    x.observe(notebookContainer, {childList: true});\n",
       "}}\n",
       "\n",
       "// Listen for the clearing of the current output cell\n",
       "var outputEl = gd.closest('.output');\n",
       "if (outputEl) {{\n",
       "    x.observe(outputEl, {childList: true});\n",
       "}}\n",
       "\n",
       "                        })                };                });            </script>        </div>"
      ]
     },
     "metadata": {},
     "output_type": "display_data"
    }
   ],
   "source": [
    "df.scatter_matrix()"
   ]
  },
  {
   "cell_type": "markdown",
   "metadata": {
    "collapsed": true,
    "jupyter": {
     "outputs_hidden": true
    }
   },
   "source": [
    "# Great Job!"
   ]
  }
 ],
 "metadata": {
  "kernelspec": {
   "display_name": "Python 3 (ipykernel)",
   "language": "python",
   "name": "python3"
  },
  "language_info": {
   "codemirror_mode": {
    "name": "ipython",
    "version": 3
   },
   "file_extension": ".py",
   "mimetype": "text/x-python",
   "name": "python",
   "nbconvert_exporter": "python",
   "pygments_lexer": "ipython3",
   "version": "3.10.12"
  }
 },
 "nbformat": 4,
 "nbformat_minor": 4
}
