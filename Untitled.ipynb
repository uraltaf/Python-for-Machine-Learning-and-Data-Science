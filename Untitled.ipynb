{
 "cells": [
  {
   "cell_type": "code",
   "execution_count": 2,
   "id": "799b9118-4a34-4f24-89af-3d0717317ffe",
   "metadata": {},
   "outputs": [],
   "source": [
    "import numpy as np"
   ]
  },
  {
   "cell_type": "code",
   "execution_count": 16,
   "id": "51116daa-fc52-4d62-b38e-cda217c0e144",
   "metadata": {},
   "outputs": [
    {
     "name": "stdout",
     "output_type": "stream",
     "text": [
      "[[1.00005048]\n",
      " [1.00002008]\n",
      " [1.00001273]\n",
      " [1.0000339 ]]\n"
     ]
    }
   ],
   "source": [
    "X = [1,3,8,9]\n",
    "#X= np.array(X).reshape(4,1)\n",
    "#w1= np.random.randn(4,1).transpose()\n",
    "#print(w)\n",
    "#b= np.random.randn(4,1).reshape(4,1)\n",
    "#print(b)\n",
    "#y =1/1+ np.exp(np.dot(w,X)+b)\n",
    "#print(y)\n",
    "#backpropagation\n",
    "\n",
    "\n",
    " "
   ]
  },
  {
   "cell_type": "code",
   "execution_count": null,
   "id": "b3f13875-d124-4c6d-84bd-8e1620afd780",
   "metadata": {},
   "outputs": [],
   "source": []
  }
 ],
 "metadata": {
  "kernelspec": {
   "display_name": "Python 3 (ipykernel)",
   "language": "python",
   "name": "python3"
  },
  "language_info": {
   "codemirror_mode": {
    "name": "ipython",
    "version": 3
   },
   "file_extension": ".py",
   "mimetype": "text/x-python",
   "name": "python",
   "nbconvert_exporter": "python",
   "pygments_lexer": "ipython3",
   "version": "3.10.12"
  }
 },
 "nbformat": 4,
 "nbformat_minor": 5
}
