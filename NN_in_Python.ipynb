{
 "cells": [
  {
   "cell_type": "markdown",
   "id": "db6c6773-90e3-4e80-869f-116127798636",
   "metadata": {},
   "source": [
    "Forward Propagation purely implemented in Python"
   ]
  },
  {
   "cell_type": "markdown",
   "id": "eac84127-90b8-4219-b6e2-e6a141463f12",
   "metadata": {},
   "source": [
    "\n",
    "First we implement the code with complete for loops, without using any vectorization or library"
   ]
  },
  {
   "cell_type": "code",
   "execution_count": 18,
   "id": "ae9c578c-1e98-47ed-bbb6-f6983328c26d",
   "metadata": {},
   "outputs": [],
   "source": [
    "import numpy as np"
   ]
  },
  {
   "cell_type": "code",
   "execution_count": 20,
   "id": "21882f62-022f-43cf-9cd6-bda02d86fb74",
   "metadata": {},
   "outputs": [],
   "source": [
    "# Lets define our input vector with two features\n",
    "x = np.array([200, 17])\n"
   ]
  },
  {
   "cell_type": "code",
   "execution_count": 40,
   "id": "28da4931-88f1-4d79-9709-ed2a562d3bb8",
   "metadata": {},
   "outputs": [],
   "source": [
    "# Layer 1 has 3 neurons so it can be modeled as,\n",
    "\n",
    "#unit_1 of Layer 1\n",
    "w1_1 = np.array([1,2])\n",
    "b1_1 = np.array([-1])\n",
    "z1_1 = np.dot(w1_1,x)+b1_1\n",
    "a1_1 = 1/(1+np.exp(-z1_1))\n",
    "\n",
    "#unit_2 of Layer 1\n",
    "w1_2 = np.array([-3,4])\n",
    "b1_2 = np.array([1])\n",
    "z1_2 = np.dot(w1_2,x)+b1_2\n",
    "a1_2 = 1/(1+np.exp(-z1_2))\n",
    "\n",
    "#unit_3 of Layer 1\n",
    "w1_3 = np.array([5,-6])\n",
    "b1_3 = np.array([2])\n",
    "z1_3 = np.dot(w1_3,x)+b1_3\n",
    "a1_3 = 1/(1+np.exp(-z1_3))\n"
   ]
  },
  {
   "cell_type": "code",
   "execution_count": 39,
   "id": "105e8c64-9da2-4339-bea4-d07abc19f57d",
   "metadata": {},
   "outputs": [
    {
     "name": "stdout",
     "output_type": "stream",
     "text": [
      "The output of the NN is: [0.99330715]\n"
     ]
    }
   ],
   "source": [
    "#Layer 2 is output layer with one unit\n",
    "# a1 with three values is input to this layer so lets first convert it into a vector\n",
    "\n",
    "a1 = np.array([a1_1 , a1_2, a1_3])\n",
    "\n",
    "#NOw lets model the unit of the final output layer\n",
    "w2_1 = np.array([-7,8,9])\n",
    "b2_1 = np.array([3])\n",
    "z2_1 = np.dot(w2_1,a1)+b2_1\n",
    "a2_1 = 1/(1+np.exp(-z2_1))\n",
    "#Now lets print the out put of the final layer\n",
    "print(f'The output of the NN is: {a2_1}')\n"
   ]
  },
  {
   "cell_type": "markdown",
   "id": "551ee7b5-ea7e-4a46-b7dc-705196bceb6e",
   "metadata": {},
   "source": [
    "**Now lets implement the given forward propagtion network with Numpy**"
   ]
  },
  {
   "cell_type": "code",
   "execution_count": null,
   "id": "4d59c1cf-0457-4887-9ba1-4ad804ae5b61",
   "metadata": {},
   "outputs": [],
   "source": []
  }
 ],
 "metadata": {
  "kernelspec": {
   "display_name": "Python 3 (ipykernel)",
   "language": "python",
   "name": "python3"
  },
  "language_info": {
   "codemirror_mode": {
    "name": "ipython",
    "version": 3
   },
   "file_extension": ".py",
   "mimetype": "text/x-python",
   "name": "python",
   "nbconvert_exporter": "python",
   "pygments_lexer": "ipython3",
   "version": "3.10.12"
  }
 },
 "nbformat": 4,
 "nbformat_minor": 5
}
